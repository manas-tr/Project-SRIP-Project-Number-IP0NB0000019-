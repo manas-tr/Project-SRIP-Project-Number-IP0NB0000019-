{
 "cells": [
  {
   "cell_type": "markdown",
   "id": "c420887a-ece1-4ef5-881d-e78eccfe51c6",
   "metadata": {},
   "source": [
    "**DATA EXPLORATION AND UNDERSTANDING**"
   ]
  },
  {
   "cell_type": "code",
   "execution_count": 1,
   "id": "5a1cfe5c-d86a-45ba-ba5a-08c27b503858",
   "metadata": {},
   "outputs": [],
   "source": [
    "#Floating my boat"
   ]
  },
  {
   "cell_type": "code",
   "execution_count": 2,
   "id": "3a8d2ecd-ef27-4930-8ea7-888e6b6d6962",
   "metadata": {},
   "outputs": [],
   "source": [
    "#imports"
   ]
  },
  {
   "cell_type": "code",
   "execution_count": 3,
   "id": "63056c35-e2fb-4c70-879f-3a501a06da53",
   "metadata": {},
   "outputs": [],
   "source": [
    "import os\n",
    "import numpy as np\n",
    "from collections import Counter\n",
    "import matplotlib.pyplot as plt"
   ]
  },
  {
   "cell_type": "code",
   "execution_count": 4,
   "id": "5cf61e8a-a86d-444d-a4e1-79449c06a383",
   "metadata": {},
   "outputs": [],
   "source": [
    "#dataset_building"
   ]
  },
  {
   "cell_type": "code",
   "execution_count": 5,
   "id": "5c922e93-6293-4139-97f2-29dbf1d943f3",
   "metadata": {},
   "outputs": [],
   "source": [
    "path = r\"C:\\\\Users\\\\manas\\\\Downloads\\\\_sripproj\\\\_proj0\\\\dataset\"\n",
    "imghd_path = os.path.join(path, \"image_chips/image_chips_hd\")\n",
    "imgnat_path = os.path.join(path, \"image_chips/image_chips_native\")\n",
    "labhd_path = os.path.join(path, \"labels/labels_hd\")\n",
    "labnat_path = os.path.join(path, \"labels/labels_native\")"
   ]
  },
  {
   "cell_type": "code",
   "execution_count": 16,
   "id": "b7f46bf8-19bd-4029-a48a-ff3758097d00",
   "metadata": {},
   "outputs": [
    {
     "name": "stdout",
     "output_type": "stream",
     "text": [
      "HD Images: 2542\n",
      "Native Images: 2542\n",
      "HD Labels: 2552\n",
      "Native Labels: 2542\n"
     ]
    }
   ],
   "source": [
    "print(f\"HD Images: {len(os.listdir(imghd_path))}\")\n",
    "print(f\"Native Images: {len(os.listdir(imgnat_path))}\")\n",
    "print(f\"HD Labels: {len(os.listdir(labhd_path))}\")\n",
    "print(f\"Native Labels: {len(os.listdir(labnat_path))}\")"
   ]
  },
  {
   "cell_type": "code",
   "execution_count": 17,
   "id": "1af5015c-e161-4b00-bbdb-d4d81b065457",
   "metadata": {},
   "outputs": [],
   "source": [
    "def check_match(img_pth, lbl_pth, suf):\n",
    "    img_set = {f.replace(\".tif\", \"\") for f in os.listdir(img_pth) if f.endswith(\".tif\")}\n",
    "    lbl_set = {f.replace(\".txt\", \"\") for f in os.listdir(lbl_pth) if f.endswith(\".txt\")}\n",
    "    \n",
    "    miss_lbl = img_set - lbl_set\n",
    "    miss_img = lbl_set - img_set\n",
    "\n",
    "    if not miss_lbl and not miss_img:\n",
    "        print(f\"{suf}: All images have matching labels.\")\n",
    "    else:\n",
    "        print(f\"{suf}: Missing {len(miss_lbl)} labels, {len(miss_img)} images.\")"
   ]
  },
  {
   "cell_type": "code",
   "execution_count": 18,
   "id": "8e22d0c4-e1f0-49de-9d7c-468960b9fa57",
   "metadata": {},
   "outputs": [
    {
     "name": "stdout",
     "output_type": "stream",
     "text": [
      "HD: Missing 0 labels, 10 images.\n",
      "Native: All images have matching labels.\n"
     ]
    }
   ],
   "source": [
    "check_match(imghd_path, labhd_path, \"HD\")\n",
    "check_match(imgnat_path, labnat_path, \"Native\")"
   ]
  },
  {
   "cell_type": "code",
   "execution_count": 19,
   "id": "a4307249-8121-490f-87f0-c58805967ecd",
   "metadata": {},
   "outputs": [],
   "source": [
    "img_hd = {f.replace(\".tif\", \"\") for f in os.listdir(imghd_path) if f.endswith(\".tif\")}\n",
    "lbl_hd = {f.replace(\".txt\", \"\") for f in os.listdir(labhd_path) if f.endswith(\".txt\")}\n",
    "\n",
    "extra_lbl = lbl_hd - img_hd"
   ]
  },
  {
   "cell_type": "code",
   "execution_count": 20,
   "id": "d27c982d-a567-4600-95e4-dffb435c7dc3",
   "metadata": {},
   "outputs": [
    {
     "name": "stdout",
     "output_type": "stream",
     "text": [
      "Extra HD Labels:\n",
      "solarpanels_hd_1__x0_8971_y0_13024_dxdy_832(1).txt\n",
      "solarpanels_hd_1__x0_8985_y0_23459_dxdy_832(1).txt\n",
      "solarpanels_hd_1__x0_9018_y0_25843_dxdy_832(1).txt\n",
      "solarpanels_hd_1__x0_9056_y0_21439_dxdy_832(1).txt\n",
      "solarpanels_hd_1__x0_9076_y0_26335_dxdy_832(1).txt\n",
      "solarpanels_hd_1__x0_9107_y0_23305_dxdy_832(1).txt\n",
      "solarpanels_hd_1__x0_914_y0_14724_dxdy_832(1).txt\n",
      "solarpanels_hd_1__x0_9182_y0_23369_dxdy_832(1).txt\n",
      "solarpanels_hd_1__x0_9203_y0_23322_dxdy_832(1).txt\n",
      "solarpanels_hd_1__x0_9203_y0_23477_dxdy_832(1).txt\n"
     ]
    }
   ],
   "source": [
    "print(\"Extra HD Labels:\")\n",
    "for lbl in sorted(extra_lbl):\n",
    "    print(lbl + \".txt\")"
   ]
  },
  {
   "cell_type": "markdown",
   "id": "8133ac32-e4b3-4caa-91cd-15de234825e1",
   "metadata": {},
   "source": [
    "**DATASET STATISTICS**"
   ]
  },
  {
   "cell_type": "code",
   "execution_count": 7,
   "id": "01877192-d838-4ae5-ad96-8bcd926b0ffb",
   "metadata": {},
   "outputs": [],
   "source": [
    "#Part 'a'"
   ]
  },
  {
   "cell_type": "code",
   "execution_count": 8,
   "id": "db92f384-4643-4806-8ece-ab39b33a4396",
   "metadata": {},
   "outputs": [],
   "source": [
    "def count_panels(lab_path):\n",
    "    count = 0\n",
    "    for f in os.listdir(lab_path):\n",
    "        if f.endswith(\".txt\"):\n",
    "            with open(os.path.join(lab_path, f), \"r\") as file:\n",
    "                count += sum(1 for _ in file)\n",
    "    return count"
   ]
  },
  {
   "cell_type": "code",
   "execution_count": 23,
   "id": "c8d95411-f73f-4cb8-abcb-7f2ad8977ff1",
   "metadata": {},
   "outputs": [
    {
     "name": "stdout",
     "output_type": "stream",
     "text": [
      "Total solar panel instances in Native dataset: 29625\n",
      "Total solar panel instances in HD dataset: 29880\n",
      "Grand Total (Native + HD): 59505\n"
     ]
    }
   ],
   "source": [
    "cnt_nat = count_panels(labnat_path)\n",
    "cnt_hd = count_panels(labhd_path)\n",
    "\n",
    "print(f\"Total solar panel instances in Native dataset: {cnt_nat}\")\n",
    "print(f\"Total solar panel instances in HD dataset: {cnt_hd}\")\n",
    "print(f\"Grand Total (Native + HD): {cnt_nat + cnt_hd}\")"
   ]
  },
  {
   "cell_type": "code",
   "execution_count": 24,
   "id": "7b3d64ba-ebcc-49d9-8077-6d7ca1c23f7b",
   "metadata": {},
   "outputs": [],
   "source": [
    "#Part 'b'"
   ]
  },
  {
   "cell_type": "code",
   "execution_count": 25,
   "id": "15e9dbd4-cfbb-4438-9a6e-1bac6e0705ca",
   "metadata": {},
   "outputs": [],
   "source": [
    "def count_labels(lab_path):\n",
    "    counts = {}\n",
    "    for f in os.listdir(lab_path):\n",
    "        if f.endswith(\".txt\"):\n",
    "            with open(os.path.join(lab_path, f), \"r\") as file:\n",
    "                counts[f] = len(file.readlines())\n",
    "    return counts\n",
    "\n",
    "cnt_hd = count_labels(labhd_path)\n",
    "cnt_nat = count_labels(labnat_path)\n",
    "\n",
    "all_cnt = list(cnt_hd.values()) + list(cnt_nat.values())\n",
    "dist = Counter(all_cnt)"
   ]
  },
  {
   "cell_type": "code",
   "execution_count": 26,
   "id": "2c9dfeaf-f986-4839-bb0b-5de1bea57c39",
   "metadata": {
    "scrolled": true
   },
   "outputs": [
    {
     "name": "stdout",
     "output_type": "stream",
     "text": [
      "Number of Images with X Labels:\n",
      "Images with 1 labels: 163\n",
      "Images with 2 labels: 337\n",
      "Images with 3 labels: 423\n",
      "Images with 4 labels: 447\n",
      "Images with 5 labels: 436\n",
      "Images with 6 labels: 391\n",
      "Images with 7 labels: 341\n",
      "Images with 8 labels: 348\n",
      "Images with 9 labels: 344\n",
      "Images with 10 labels: 253\n",
      "Images with 11 labels: 194\n",
      "Images with 12 labels: 161\n",
      "Images with 13 labels: 142\n",
      "Images with 14 labels: 102\n",
      "Images with 15 labels: 88\n",
      "Images with 16 labels: 78\n",
      "Images with 17 labels: 68\n",
      "Images with 18 labels: 55\n",
      "Images with 19 labels: 58\n",
      "Images with 20 labels: 27\n",
      "Images with 21 labels: 10\n",
      "Images with 22 labels: 5\n",
      "Images with 23 labels: 8\n",
      "Images with 24 labels: 6\n",
      "Images with 25 labels: 5\n",
      "Images with 26 labels: 10\n",
      "Images with 27 labels: 9\n",
      "Images with 28 labels: 9\n",
      "Images with 29 labels: 36\n",
      "Images with 30 labels: 29\n",
      "Images with 31 labels: 15\n",
      "Images with 32 labels: 13\n",
      "Images with 33 labels: 21\n",
      "Images with 34 labels: 39\n",
      "Images with 35 labels: 20\n",
      "Images with 36 labels: 20\n",
      "Images with 37 labels: 32\n",
      "Images with 38 labels: 32\n",
      "Images with 39 labels: 18\n",
      "Images with 40 labels: 19\n",
      "Images with 41 labels: 18\n",
      "Images with 42 labels: 21\n",
      "Images with 43 labels: 20\n",
      "Images with 44 labels: 9\n",
      "Images with 45 labels: 6\n",
      "Images with 46 labels: 12\n",
      "Images with 47 labels: 16\n",
      "Images with 48 labels: 6\n",
      "Images with 49 labels: 12\n",
      "Images with 50 labels: 19\n",
      "Images with 51 labels: 12\n",
      "Images with 52 labels: 28\n",
      "Images with 53 labels: 6\n",
      "Images with 54 labels: 10\n",
      "Images with 55 labels: 1\n",
      "Images with 56 labels: 4\n",
      "Images with 57 labels: 3\n",
      "Images with 58 labels: 4\n",
      "Images with 59 labels: 3\n",
      "Images with 60 labels: 4\n",
      "Images with 61 labels: 4\n",
      "Images with 62 labels: 8\n",
      "Images with 63 labels: 5\n",
      "Images with 64 labels: 2\n",
      "Images with 65 labels: 8\n",
      "Images with 66 labels: 5\n",
      "Images with 67 labels: 4\n",
      "Images with 68 labels: 1\n",
      "Images with 69 labels: 1\n",
      "Images with 70 labels: 4\n",
      "Images with 71 labels: 3\n",
      "Images with 72 labels: 2\n",
      "Images with 73 labels: 1\n",
      "Images with 74 labels: 6\n",
      "Images with 75 labels: 3\n",
      "Images with 76 labels: 3\n",
      "Images with 77 labels: 4\n",
      "Images with 78 labels: 2\n",
      "Images with 79 labels: 2\n"
     ]
    }
   ],
   "source": [
    "print(\"Number of Images with X Labels:\")\n",
    "for lbls, imgs in sorted(dist.items()):\n",
    "    print(f\"Images with {lbls} labels: {imgs}\")"
   ]
  },
  {
   "cell_type": "code",
   "execution_count": 27,
   "id": "2d27230f-0bec-4106-93f1-c8289247ca17",
   "metadata": {},
   "outputs": [],
   "source": [
    "#Part 'c'"
   ]
  },
  {
   "cell_type": "code",
   "execution_count": 28,
   "id": "9370b02a-330c-4446-95a1-5ceb17f1958b",
   "metadata": {},
   "outputs": [],
   "source": [
    "nat_size = 416\n",
    "hd_size = 832\n",
    "\n",
    "nat_res = 0.31\n",
    "hd_res = 0.155\n",
    "\n",
    "def calc_area(lab_path, img_size, res):\n",
    "    areas = []\n",
    "    for f in os.listdir(lab_path):\n",
    "        with open(os.path.join(lab_path, f), \"r\") as file:\n",
    "            for line in file:\n",
    "                _, _, _, w, h = map(float, line.strip().split())\n",
    "                w_px, h_px = w * img_size, h * img_size\n",
    "                areas.append((w_px * res) * (h_px * res))\n",
    "    return np.array(areas)"
   ]
  },
  {
   "cell_type": "code",
   "execution_count": 29,
   "id": "eba88a58-e001-436a-b865-388fd42a47b0",
   "metadata": {},
   "outputs": [],
   "source": [
    "nat_area = calc_area(labnat_path, nat_size, nat_res)\n",
    "hd_area = calc_area(labhd_path, hd_size, hd_res)\n",
    "\n",
    "mean_nat, std_nat = np.mean(nat_area), np.std(nat_area)\n",
    "mean_hd, std_hd = np.mean(hd_area), np.std(hd_area)"
   ]
  },
  {
   "cell_type": "code",
   "execution_count": 30,
   "id": "bbb7648e-f6a8-4467-abfa-8bb94d3b265a",
   "metadata": {},
   "outputs": [
    {
     "name": "stdout",
     "output_type": "stream",
     "text": [
      "Native Resolution Dataset:\n",
      "Mean Area: 191.52 m², Standard Deviation: 630.70 m²\n",
      "HD Resolution Dataset:\n",
      "Mean Area: 188.63 m², Standard Deviation: 607.53 m²\n"
     ]
    }
   ],
   "source": [
    "print(\"Native Resolution Dataset:\")\n",
    "print(f\"Mean Area: {mean_nat:.2f} m², Standard Deviation: {std_nat:.2f} m²\")\n",
    "print(\"HD Resolution Dataset:\")\n",
    "print(f\"Mean Area: {mean_hd:.2f} m², Standard Deviation: {std_hd:.2f} m²\")"
   ]
  },
  {
   "cell_type": "code",
   "execution_count": 31,
   "id": "49303a49-85c8-48e2-b0f6-992467e57bbe",
   "metadata": {},
   "outputs": [
    {
     "data": {
      "image/png": "[encoded data removed]",
      "text/plain": [
       "<Figure size 1500x500 with 3 Axes>"
      ]
     },
     "metadata": {},
     "output_type": "display_data"
    }
   ],
   "source": [
    "plt.figure(figsize=(15, 5))\n",
    "\n",
    "plt.subplot(1, 3, 1)\n",
    "plt.hist(nat_area, bins=50, alpha=0.7, color='blue')\n",
    "plt.xlabel(\"Area (m²)\")\n",
    "plt.ylabel(\"Frequency\")\n",
    "plt.title(\"Native (31 cm)\")\n",
    "\n",
    "plt.subplot(1, 3, 2)\n",
    "plt.hist(hd_area, bins=50, alpha=0.7, color='green')\n",
    "plt.xlabel(\"Area (m²)\")\n",
    "plt.ylabel(\"Frequency\")\n",
    "plt.title(\"HD (15.5 cm)\")\n",
    "\n",
    "plt.subplot(1, 3, 3)\n",
    "plt.hist(nat_area, bins=50, alpha=0.5, label=\"Native (31 cm)\", color='blue')\n",
    "plt.hist(hd_area, bins=50, alpha=0.5, label=\"HD (15.5 cm)\", color='green')\n",
    "plt.xlabel(\"Area (m²)\")\n",
    "plt.ylabel(\"Frequency\")\n",
    "plt.title(\"Combined Histogram\")\n",
    "plt.legend()\n",
    "\n",
    "plt.tight_layout()\n",
    "plt.show()"
   ]
  },
  {
   "cell_type": "code",
   "execution_count": 32,
   "id": "1ac36479-ded9-4201-bbcd-b10466249d8a",
   "metadata": {},
   "outputs": [],
   "source": [
    "#EOQuestion"
   ]
  },
  {
   "cell_type": "markdown",
   "id": "8817ba12-2536-4ce8-9b36-3e5c3732c023",
   "metadata": {},
   "source": [
    "**IMPLEMENTING THE FUNDAMENTAL FUNCTIONS**"
   ]
  },
  {
   "cell_type": "markdown",
   "id": "0e80994d-cacf-4fca-9c05-65040d87ddf0",
   "metadata": {},
   "source": [
    "**COMPUTING IOU**"
   ]
  },
  {
   "cell_type": "code",
   "execution_count": 33,
   "id": "bbc5a540-e119-408b-bed7-f5845eaf3a7e",
   "metadata": {},
   "outputs": [],
   "source": [
    "#imports"
   ]
  },
  {
   "cell_type": "code",
   "execution_count": 6,
   "id": "40ace1a6-83b2-42d5-a98a-e96a8f8ae0b2",
   "metadata": {},
   "outputs": [],
   "source": [
    "import glob\n",
    "from shapely.geometry import box\n",
    "import supervision as sv"
   ]
  },
  {
   "cell_type": "code",
   "execution_count": 35,
   "id": "1160cc75-bb70-4f12-81c6-6175dd953275",
   "metadata": {},
   "outputs": [],
   "source": [
    "#Working"
   ]
  },
  {
   "cell_type": "code",
   "execution_count": 52,
   "id": "b26cc585-046f-4149-85d3-c5180e711a1b",
   "metadata": {},
   "outputs": [],
   "source": [
    "def yolo_to_bbox(yolo_box, img_width, img_height):\n",
    "    x_center, y_center, width, height = yolo_box\n",
    "    x1 = (x_center - width / 2) * img_width\n",
    "    y1 = (y_center - height / 2) * img_height\n",
    "    x2 = (x_center + width / 2) * img_width\n",
    "    y2 = (y_center + height / 2) * img_height\n",
    "    return x1, y1, x2, y2"
   ]
  },
  {
   "cell_type": "code",
   "execution_count": 53,
   "id": "7d5697b8-7832-40b1-9640-4902bb55e9c1",
   "metadata": {},
   "outputs": [],
   "source": [
    "def compute_iou_shapely(box1, box2):\n",
    "    poly1 = box(*box1)\n",
    "    poly2 = box(*box2)\n",
    "    intersection_area = poly1.intersection(poly2).area\n",
    "    union_area = poly1.union(poly2).area\n",
    "    return intersection_area / union_area if union_area > 0 else 0.0"
   ]
  },
  {
   "cell_type": "code",
   "execution_count": 54,
   "id": "2ce602bb-b0a9-4c15-9c8a-d280c15ac0be",
   "metadata": {},
   "outputs": [],
   "source": [
    "def compute_iou_supervision(box1, box2):\n",
    "    box1 = np.array(box1).reshape(1, 4)\n",
    "    box2 = np.array(box2).reshape(1, 4)\n",
    "    return sv.box_iou_batch(box1, box2)[0, 0]"
   ]
  },
  {
   "cell_type": "code",
   "execution_count": 55,
   "id": "4321da06-5246-446e-9627-d6ee5dbee6c6",
   "metadata": {},
   "outputs": [],
   "source": [
    "def process_label_files(label_dir, img_size):\n",
    "    label_files = glob.glob(os.path.join(label_dir, \"*.txt\"))\n",
    "    iou_results = []\n",
    "    \n",
    "    for label_file in label_files:\n",
    "        with open(label_file, \"r\") as f:\n",
    "            lines = [list(map(float, line.strip().split()[1:])) for line in f.readlines()]\n",
    "        \n",
    "        # Convert YOLO boxes to absolute pixel coordinates\n",
    "        bboxes = [yolo_to_bbox(box, img_size, img_size) for box in lines]\n",
    "        \n",
    "        # Compute IoU for the first two bounding boxes if at least two exist\n",
    "        if len(bboxes) >= 2:\n",
    "            iou_shapely = compute_iou_shapely(bboxes[0], bboxes[1])\n",
    "            iou_supervision = compute_iou_supervision(bboxes[0], bboxes[1])\n",
    "            iou_results.append((label_file, iou_shapely, iou_supervision))\n",
    "            \n",
    "    return iou_results"
   ]
  },
  {
   "cell_type": "code",
   "execution_count": 56,
   "id": "16a11e70-bb2e-45d1-bcd0-465c15ba0ec9",
   "metadata": {},
   "outputs": [],
   "source": [
    "native_iou_results = process_label_files(labnat_path, 416)\n",
    "hd_iou_results = process_label_files(labhd_path, 832)"
   ]
  },
  {
   "cell_type": "code",
   "execution_count": 57,
   "id": "3ca44eb8-c321-4460-9626-7ec369f07c48",
   "metadata": {},
   "outputs": [
    {
     "name": "stdout",
     "output_type": "stream",
     "text": [
      "Native: Shapely IoU: 0.0000, Supervision IoU: 0.0000\n",
      "Native: Shapely IoU: 0.0000, Supervision IoU: 0.0000\n",
      "Native: Shapely IoU: 0.0361, Supervision IoU: 0.0361\n",
      "Native: Shapely IoU: 0.0000, Supervision IoU: 0.0000\n",
      "Native: Shapely IoU: 0.0000, Supervision IoU: 0.0000\n",
      "Native: Shapely IoU: 0.0000, Supervision IoU: 0.0000\n",
      "Native: Shapely IoU: 0.0000, Supervision IoU: 0.0000\n",
      "Native: Shapely IoU: 0.1458, Supervision IoU: 0.1458\n",
      "Native: Shapely IoU: 0.0000, Supervision IoU: 0.0000\n",
      "Native: Shapely IoU: 0.0000, Supervision IoU: 0.0000\n",
      "HD: Shapely IoU: 0.0345, Supervision IoU: 0.0345\n",
      "HD: Shapely IoU: 0.0437, Supervision IoU: 0.0437\n",
      "HD: Shapely IoU: 0.0345, Supervision IoU: 0.0345\n",
      "HD: Shapely IoU: 0.0468, Supervision IoU: 0.0468\n",
      "HD: Shapely IoU: 0.0387, Supervision IoU: 0.0387\n",
      "HD: Shapely IoU: 0.0403, Supervision IoU: 0.0403\n",
      "HD: Shapely IoU: 0.1299, Supervision IoU: 0.1299\n",
      "HD: Shapely IoU: 0.0403, Supervision IoU: 0.0403\n",
      "HD: Shapely IoU: 0.0000, Supervision IoU: 0.0000\n",
      "HD: Shapely IoU: 0.0595, Supervision IoU: 0.0595\n"
     ]
    }
   ],
   "source": [
    "for result in native_iou_results[17:27]:\n",
    "    print(f\"Native: Shapely IoU: {result[1]:.4f}, Supervision IoU: {result[2]:.4f}\")\n",
    "\n",
    "for result in hd_iou_results[17:27]:\n",
    "    print(f\"HD: Shapely IoU: {result[1]:.4f}, Supervision IoU: {result[2]:.4f}\")"
   ]
  },
  {
   "cell_type": "markdown",
   "id": "9e9f2a00-0ee5-4a18-86eb-bd8357c2a948",
   "metadata": {},
   "source": [
    "**COMPUTING AP**"
   ]
  },
  {
   "cell_type": "code",
   "execution_count": 58,
   "id": "69a17180-9c95-4f12-b60d-450f617f3925",
   "metadata": {},
   "outputs": [],
   "source": [
    "#imports"
   ]
  },
  {
   "cell_type": "code",
   "execution_count": 59,
   "id": "3966675c-7450-4a47-b79a-7151290cc5ce",
   "metadata": {},
   "outputs": [],
   "source": [
    "import random\n",
    "from shapely.geometry import box\n",
    "from sklearn.metrics import auc"
   ]
  },
  {
   "cell_type": "code",
   "execution_count": 60,
   "id": "d648d3fa-41ca-4565-91bd-120c9ff4668b",
   "metadata": {},
   "outputs": [],
   "source": [
    "#Working"
   ]
  },
  {
   "cell_type": "code",
   "execution_count": 61,
   "id": "ea392a97-4e8e-4220-8632-0be94b09f4de",
   "metadata": {},
   "outputs": [],
   "source": [
    "def generate_boxes(num_images=10, num_boxes=10, img_size=100, box_size=20):\n",
    "    ground_truth = []\n",
    "    predictions = []\n",
    "    \n",
    "    for _ in range(num_images):\n",
    "        gt_boxes = []\n",
    "        pred_boxes = []\n",
    "        \n",
    "        for _ in range(num_boxes):\n",
    "            x1, y1 = random.randint(0, img_size - box_size), random.randint(0, img_size - box_size)\n",
    "            gt_boxes.append((x1, y1, x1 + box_size, y1 + box_size))\n",
    "            \n",
    "            x1, y1 = random.randint(0, img_size - box_size), random.randint(0, img_size - box_size)\n",
    "            pred_boxes.append((x1, y1, x1 + box_size, y1 + box_size))\n",
    "            \n",
    "        ground_truth.append(gt_boxes)\n",
    "        predictions.append(pred_boxes)\n",
    "    \n",
    "    return ground_truth, predictions"
   ]
  },
  {
   "cell_type": "code",
   "execution_count": 62,
   "id": "10375e4e-e576-4d13-a18f-0f487bf89deb",
   "metadata": {},
   "outputs": [],
   "source": [
    "def compute_precision_recall(gt_boxes, pred_boxes, iou_threshold=0.5):\n",
    "    tp, fp, fn = 0, 0, len(gt_boxes)\n",
    "    for pred_box in pred_boxes:\n",
    "        for gt_box in gt_boxes:\n",
    "            if compute_iou_shapely(pred_box, gt_box) >= iou_threshold:\n",
    "                tp += 1\n",
    "                fn -= 1\n",
    "                break\n",
    "        else:\n",
    "            fp += 1\n",
    "    \n",
    "    precision = tp / (tp + fp) if (tp + fp) > 0 else 0\n",
    "    recall = tp / (tp + fn) if (tp + fn) > 0 else 0\n",
    "    return precision, recall"
   ]
  },
  {
   "cell_type": "code",
   "execution_count": 63,
   "id": "c2a5320c-1489-4c21-a340-ba7880a5e18c",
   "metadata": {},
   "outputs": [],
   "source": [
    "def pascal_voc_ap(precisions, recalls):\n",
    "    recall_levels = np.linspace(0, 1, 11)\n",
    "    ap = 0\n",
    "    for recall_level in recall_levels:\n",
    "        max_prec = max([p for p, r in zip(precisions, recalls) if r >= recall_level], default=0)\n",
    "        ap += max_prec / 11\n",
    "    return ap"
   ]
  },
  {
   "cell_type": "code",
   "execution_count": 64,
   "id": "6ef6b0f2-4e58-4ab7-a51c-548670bf171a",
   "metadata": {},
   "outputs": [],
   "source": [
    "def coco_ap(precisions, recalls):\n",
    "    recall_levels = np.linspace(0, 1, 101)\n",
    "    ap = np.mean([max([p for p, r in zip(precisions, recalls) if r >= level], default=0) for level in recall_levels])\n",
    "    return ap"
   ]
  },
  {
   "cell_type": "code",
   "execution_count": 65,
   "id": "56b95b12-923c-4dc9-8c81-fbc07f0b8de9",
   "metadata": {},
   "outputs": [],
   "source": [
    "def pr_auc_ap(precisions, recalls):\n",
    "    sorted_indices = np.argsort(recalls)\n",
    "    sorted_recalls = np.array(recalls)[sorted_indices]\n",
    "    sorted_precisions = np.array(precisions)[sorted_indices]\n",
    "    return auc(sorted_recalls, sorted_precisions)"
   ]
  },
  {
   "cell_type": "code",
   "execution_count": 70,
   "id": "7a4a4a4e-be70-42cf-81ae-7ae4a6d2dc69",
   "metadata": {},
   "outputs": [],
   "source": [
    "def compute_all_ap():\n",
    "    ground_truth, predictions = generate_boxes()\n",
    "    precisions, recalls = [], []\n",
    "    \n",
    "    for gt, pred in zip(ground_truth, predictions):\n",
    "        precision, recall = compute_precision_recall(gt, pred)\n",
    "        precisions.append(precision)\n",
    "        recalls.append(recall)\n",
    "    \n",
    "    pascal_ap_value = pascal_voc_ap(precisions, recalls)\n",
    "    coco_ap_value = coco_ap(precisions, recalls)\n",
    "    pr_auc_value = pr_auc_ap(precisions, recalls)\n",
    "    \n",
    "    return pascal_ap_value, coco_ap_value, pr_auc_value"
   ]
  },
  {
   "cell_type": "code",
   "execution_count": 69,
   "id": "e26679fb-49a6-4f0a-bf96-ba4e0fcf5fbb",
   "metadata": {},
   "outputs": [
    {
     "name": "stdout",
     "output_type": "stream",
     "text": [
      "Pascal VOC AP50: 0.0818\n",
      "COCO AP50: 0.0921\n",
      "PR AUC AP50: 0.0450\n"
     ]
    }
   ],
   "source": [
    "pascal_ap, coco_ap_value, pr_auc = compute_all_ap()\n",
    "\n",
    "print(f\"Pascal VOC AP50: {pascal_ap:.4f}\")\n",
    "print(f\"COCO AP50: {coco_ap_value:.4f}\")\n",
    "print(f\"PR AUC AP50: {pr_auc:.4f}\")"
   ]
  },
  {
   "cell_type": "markdown",
   "id": "ce55652c-ab16-49d7-be47-deeee84bbcf4",
   "metadata": {},
   "source": [
    "**MODEL BUILDING AND EVALUATION**"
   ]
  },
  {
   "cell_type": "code",
   "execution_count": 9,
   "id": "90cf38f6-4cdd-4805-b5a1-57dbce87cb2d",
   "metadata": {},
   "outputs": [],
   "source": [
    "#imports"
   ]
  },
  {
   "cell_type": "code",
   "execution_count": 31,
   "id": "13d4da1c-8851-4b80-afe5-2e2245315f4f",
   "metadata": {},
   "outputs": [],
   "source": [
    "import cv2\n",
    "import glob\n",
    "import torch\n",
    "import random\n",
    "import shutil\n",
    "from PIL import Image\n",
    "from tqdm import tqdm\n",
    "from ultralytics import YOLO\n",
    "from IPython.display import display\n",
    "from sklearn.model_selection import train_test_split"
   ]
  },
  {
   "cell_type": "code",
   "execution_count": 77,
   "id": "ee6ec640-611d-4f26-92d6-40a2d68a68c2",
   "metadata": {},
   "outputs": [],
   "source": [
    "#Removing the extra 10 hd labels"
   ]
  },
  {
   "cell_type": "code",
   "execution_count": 78,
   "id": "23963120-0160-41f1-926b-ef5236001a5e",
   "metadata": {},
   "outputs": [
    {
     "name": "stdout",
     "output_type": "stream",
     "text": [
      "Deleted: C:\\Users\\manas\\Downloads\\_sripproj\\_proj0\\dataset\\labels/labels_hd\\solarpanels_hd_1__x0_8971_y0_13024_dxdy_832(1).txt\n",
      "Deleted: C:\\Users\\manas\\Downloads\\_sripproj\\_proj0\\dataset\\labels/labels_hd\\solarpanels_hd_1__x0_8985_y0_23459_dxdy_832(1).txt\n",
      "Deleted: C:\\Users\\manas\\Downloads\\_sripproj\\_proj0\\dataset\\labels/labels_hd\\solarpanels_hd_1__x0_9018_y0_25843_dxdy_832(1).txt\n",
      "Deleted: C:\\Users\\manas\\Downloads\\_sripproj\\_proj0\\dataset\\labels/labels_hd\\solarpanels_hd_1__x0_9056_y0_21439_dxdy_832(1).txt\n",
      "Deleted: C:\\Users\\manas\\Downloads\\_sripproj\\_proj0\\dataset\\labels/labels_hd\\solarpanels_hd_1__x0_9076_y0_26335_dxdy_832(1).txt\n",
      "Deleted: C:\\Users\\manas\\Downloads\\_sripproj\\_proj0\\dataset\\labels/labels_hd\\solarpanels_hd_1__x0_9107_y0_23305_dxdy_832(1).txt\n",
      "Deleted: C:\\Users\\manas\\Downloads\\_sripproj\\_proj0\\dataset\\labels/labels_hd\\solarpanels_hd_1__x0_914_y0_14724_dxdy_832(1).txt\n",
      "Deleted: C:\\Users\\manas\\Downloads\\_sripproj\\_proj0\\dataset\\labels/labels_hd\\solarpanels_hd_1__x0_9182_y0_23369_dxdy_832(1).txt\n",
      "Deleted: C:\\Users\\manas\\Downloads\\_sripproj\\_proj0\\dataset\\labels/labels_hd\\solarpanels_hd_1__x0_9203_y0_23322_dxdy_832(1).txt\n",
      "Deleted: C:\\Users\\manas\\Downloads\\_sripproj\\_proj0\\dataset\\labels/labels_hd\\solarpanels_hd_1__x0_9203_y0_23477_dxdy_832(1).txt\n"
     ]
    }
   ],
   "source": [
    "for lbl in sorted(extra_lbl):\n",
    "    lbl_path = os.path.join(labhd_path, lbl + \".txt\")\n",
    "    if os.path.exists(lbl_path):\n",
    "        os.remove(lbl_path)\n",
    "        print(f\"Deleted: {lbl_path}\")\n",
    "    else:\n",
    "        print(f\"File not found: {lbl_path}\")"
   ]
  },
  {
   "cell_type": "code",
   "execution_count": 136,
   "id": "d6012e7b-9f7a-48cc-937d-7929fb321ed4",
   "metadata": {},
   "outputs": [],
   "source": [
    "#Part 'a'"
   ]
  },
  {
   "cell_type": "code",
   "execution_count": 10,
   "id": "d482eb78-a6da-4d82-bbf6-a75874c58f6b",
   "metadata": {},
   "outputs": [],
   "source": [
    "#Building"
   ]
  },
  {
   "cell_type": "code",
   "execution_count": 8,
   "id": "e01e854c-476a-4d20-8288-419eb18b2802",
   "metadata": {},
   "outputs": [],
   "source": [
    "dataset_path = \"C:\\\\Users\\\\manas\\\\Downloads\\\\_sripproj\\\\_proj0\\\\dataset\"\n",
    "imghd_path = os.path.join(dataset_path, \"image_chips/image_chips_hd\")\n",
    "labhd_path = os.path.join(dataset_path, \"labels/labels_hd\")"
   ]
  },
  {
   "cell_type": "code",
   "execution_count": 9,
   "id": "878fd047-6e6f-46cf-86b4-3817d9516601",
   "metadata": {},
   "outputs": [],
   "source": [
    "output_dir = os.path.join(dataset_path, \"split_data\")\n",
    "train_img_dir = os.path.join(output_dir, \"train/images\")\n",
    "train_lbl_dir = os.path.join(output_dir, \"train/labels\")\n",
    "val_img_dir = os.path.join(output_dir, \"val/images\")\n",
    "val_lbl_dir = os.path.join(output_dir, \"val/labels\")\n",
    "test_img_dir = os.path.join(output_dir, \"test/images\")\n",
    "test_lbl_dir = os.path.join(output_dir, \"test/labels\")\n",
    "\n",
    "for dir_path in [train_img_dir, train_lbl_dir, val_img_dir, val_lbl_dir, test_img_dir, test_lbl_dir]:\n",
    "    os.makedirs(dir_path, exist_ok=True)\n",
    "\n",
    "image_files = [f for f in os.listdir(imghd_path) if f.endswith('.tif')]\n",
    "\n",
    "train_files, test_files = train_test_split(image_files, test_size=0.2, random_state=42)\n",
    "\n",
    "train_files, val_files = train_test_split(train_files, test_size=0.1, random_state=42)"
   ]
  },
  {
   "cell_type": "code",
   "execution_count": 10,
   "id": "5e39afdc-3143-4973-8ee5-ff396460c0de",
   "metadata": {},
   "outputs": [],
   "source": [
    "def move_files(files, img_src, lbl_src, img_dst, lbl_dst):\n",
    "    for file in files:\n",
    "        base_name = file.replace('.tif', '')\n",
    "        img_file = os.path.join(img_src, file)\n",
    "        lbl_file = os.path.join(lbl_src, base_name + '.txt')\n",
    "        \n",
    "        if os.path.exists(lbl_file):\n",
    "            shutil.copy(img_file, img_dst)\n",
    "            shutil.copy(lbl_file, lbl_dst)"
   ]
  },
  {
   "cell_type": "code",
   "execution_count": 11,
   "id": "00279a2b-83c5-4128-af98-11fff724dc81",
   "metadata": {},
   "outputs": [
    {
     "name": "stdout",
     "output_type": "stream",
     "text": [
      "Data split complete: Train=1829, Val=204, Test=509\n"
     ]
    }
   ],
   "source": [
    "move_files(train_files, imghd_path, labhd_path, train_img_dir, train_lbl_dir)\n",
    "move_files(val_files, imghd_path, labhd_path, val_img_dir, val_lbl_dir)\n",
    "move_files(test_files, imghd_path, labhd_path, test_img_dir, test_lbl_dir)\n",
    "\n",
    "print(f\"Data split complete: Train={len(train_files)}, Val={len(val_files)}, Test={len(test_files)}\")"
   ]
  },
  {
   "cell_type": "code",
   "execution_count": 12,
   "id": "09dc6284-eed5-4fb4-861f-2e81abae5c94",
   "metadata": {},
   "outputs": [
    {
     "name": "stdout",
     "output_type": "stream",
     "text": [
      "Downloading https://github.com/ultralytics/assets/releases/download/v8.3.0/yolov8n.pt to 'yolov8n.pt'...\n"
     ]
    },
    {
     "name": "stderr",
     "output_type": "stream",
     "text": [
      "100%|██████████████████████████████████████████████████████████████████████████████| 6.25M/6.25M [00:06<00:00, 942kB/s]\n"
     ]
    }
   ],
   "source": [
    "model = YOLO(\"yolov8n.pt\")"
   ]
  },
  {
   "cell_type": "code",
   "execution_count": 13,
   "id": "a76c214d-89bf-446c-83ca-1fc1445bb2f4",
   "metadata": {},
   "outputs": [
    {
     "name": "stdout",
     "output_type": "stream",
     "text": [
      "YOLOv8n summary: 225 layers, 3,157,200 parameters, 0 gradients, 8.9 GFLOPs\n"
     ]
    },
    {
     "data": {
      "text/plain": [
       "(225, 3157200, 0, 8.8575488)"
      ]
     },
     "execution_count": 13,
     "metadata": {},
     "output_type": "execute_result"
    }
   ],
   "source": [
    "model.info()"
   ]
  },
  {
   "cell_type": "code",
   "execution_count": 18,
   "id": "01571ced-e228-477e-b421-55fcf79b1eb2",
   "metadata": {},
   "outputs": [],
   "source": [
    "data_path = \"C:/Users/manas/Downloads/_sripproj/_proj0/dataset/split_data/data.yaml\""
   ]
  },
  {
   "cell_type": "code",
   "execution_count": 19,
   "id": "23cc973a-8af8-4fa7-8e30-6609e276aa82",
   "metadata": {
    "scrolled": true
   },
   "outputs": [
    {
     "name": "stdout",
     "output_type": "stream",
     "text": [
      "layer                                    name  gradient  parameters               shape        mu     sigma\n",
      "    0                     model.0.conv.weight     False         432       [16, 3, 3, 3]  -0.00279     0.152  torch.float32\n",
      "    1                       model.0.bn.weight     False          16                [16]      2.97      1.86  torch.float32\n",
      "    2                         model.0.bn.bias     False          16                [16]     0.249      4.17  torch.float32\n",
      "    3                     model.1.conv.weight     False        4608      [32, 16, 3, 3]  -0.00012     0.063  torch.float32\n",
      "    4                       model.1.bn.weight     False          32                [32]      5.02      1.12  torch.float32\n",
      "    5                         model.1.bn.bias     False          32                [32]     0.942       1.5  torch.float32\n",
      "    6                 model.2.cv1.conv.weight     False        1024      [32, 32, 1, 1]    -0.011    0.0906  torch.float32\n",
      "    7                   model.2.cv1.bn.weight     False          32                [32]      2.22      1.39  torch.float32\n",
      "    8                     model.2.cv1.bn.bias     False          32                [32]     0.802      1.38  torch.float32\n",
      "    9                 model.2.cv2.conv.weight     False        1536      [32, 48, 1, 1]   -0.0045     0.082  torch.float32\n",
      "   10                   model.2.cv2.bn.weight     False          32                [32]      1.21     0.581  torch.float32\n",
      "   11                     model.2.cv2.bn.bias     False          32                [32]     0.544      1.12  torch.float32\n",
      "   12             model.2.m.0.cv1.conv.weight     False        2304      [16, 16, 3, 3]  -0.00119    0.0558  torch.float32\n",
      "   13               model.2.m.0.cv1.bn.weight     False          16                [16]      2.36     0.719  torch.float32\n",
      "   14                 model.2.m.0.cv1.bn.bias     False          16                [16]      1.03       1.7  torch.float32\n",
      "   15             model.2.m.0.cv2.conv.weight     False        2304      [16, 16, 3, 3] -0.000189    0.0477  torch.float32\n",
      "   16               model.2.m.0.cv2.bn.weight     False          16                [16]      2.11     0.513  torch.float32\n",
      "   17                 model.2.m.0.cv2.bn.bias     False          16                [16]     0.919      1.89  torch.float32\n",
      "   18                     model.3.conv.weight     False       18432      [64, 32, 3, 3]  -0.00152    0.0317  torch.float32\n",
      "   19                       model.3.bn.weight     False          64                [64]     0.817     0.207  torch.float32\n",
      "   20                         model.3.bn.bias     False          64                [64]     0.253      0.93  torch.float32\n",
      "   21                 model.4.cv1.conv.weight     False        4096      [64, 64, 1, 1]  -0.00269    0.0534  torch.float32\n",
      "   22                   model.4.cv1.bn.weight     False          64                [64]     0.819     0.361  torch.float32\n",
      "   23                     model.4.cv1.bn.bias     False          64                [64]     0.261      0.78  torch.float32\n",
      "   24                 model.4.cv2.conv.weight     False        8192     [64, 128, 1, 1]  -0.00208    0.0456  torch.float32\n",
      "   25                   model.4.cv2.bn.weight     False          64                [64]     0.712      0.21  torch.float32\n",
      "   26                     model.4.cv2.bn.bias     False          64                [64]   -0.0523     0.753  torch.float32\n",
      "   27             model.4.m.0.cv1.conv.weight     False        9216      [32, 32, 3, 3]  -0.00148    0.0341  torch.float32\n",
      "   28               model.4.m.0.cv1.bn.weight     False          32                [32]     0.748     0.155  torch.float32\n",
      "   29                 model.4.m.0.cv1.bn.bias     False          32                [32]    -0.257     0.629  torch.float32\n",
      "   30             model.4.m.0.cv2.conv.weight     False        9216      [32, 32, 3, 3]  -0.00153    0.0316  torch.float32\n",
      "   31               model.4.m.0.cv2.bn.weight     False          32                [32]     0.775       0.2  torch.float32\n",
      "   32                 model.4.m.0.cv2.bn.bias     False          32                [32]     0.195     0.696  torch.float32\n",
      "   33             model.4.m.1.cv1.conv.weight     False        9216      [32, 32, 3, 3]  -0.00224     0.031  torch.float32\n",
      "   34               model.4.m.1.cv1.bn.weight     False          32                [32]     0.682     0.106  torch.float32\n",
      "   35                 model.4.m.1.cv1.bn.bias     False          32                [32]    -0.816     0.473  torch.float32\n",
      "   36             model.4.m.1.cv2.conv.weight     False        9216      [32, 32, 3, 3]  -0.00179    0.0276  torch.float32\n",
      "   37               model.4.m.1.cv2.bn.weight     False          32                [32]      1.05     0.241  torch.float32\n",
      "   38                 model.4.m.1.cv2.bn.bias     False          32                [32]     0.527     0.863  torch.float32\n",
      "   39                     model.5.conv.weight     False       73728     [128, 64, 3, 3] -0.000401    0.0189  torch.float32\n",
      "   40                       model.5.bn.weight     False         128               [128]     0.822     0.231  torch.float32\n",
      "   41                         model.5.bn.bias     False         128               [128]    -0.233     0.677  torch.float32\n",
      "   42                 model.6.cv1.conv.weight     False       16384    [128, 128, 1, 1]  -0.00239    0.0326  torch.float32\n",
      "   43                   model.6.cv1.bn.weight     False         128               [128]     0.895       0.4  torch.float32\n",
      "   44                     model.6.cv1.bn.bias     False         128               [128]    -0.135     0.745  torch.float32\n",
      "   45                 model.6.cv2.conv.weight     False       32768    [128, 256, 1, 1]  -0.00184    0.0283  torch.float32\n",
      "   46                   model.6.cv2.bn.weight     False         128               [128]     0.769     0.206  torch.float32\n",
      "   47                     model.6.cv2.bn.bias     False         128               [128]    -0.588     0.754  torch.float32\n",
      "   48             model.6.m.0.cv1.conv.weight     False       36864      [64, 64, 3, 3]   -0.0015    0.0203  torch.float32\n",
      "   49               model.6.m.0.cv1.bn.weight     False          64                [64]      1.06     0.177  torch.float32\n",
      "   50                 model.6.m.0.cv1.bn.bias     False          64                [64]    -0.912       0.6  torch.float32\n",
      "   51             model.6.m.0.cv2.conv.weight     False       36864      [64, 64, 3, 3]  -0.00149    0.0188  torch.float32\n",
      "   52               model.6.m.0.cv2.bn.weight     False          64                [64]     0.835     0.248  torch.float32\n",
      "   53                 model.6.m.0.cv2.bn.bias     False          64                [64]   -0.0764     0.526  torch.float32\n",
      "   54             model.6.m.1.cv1.conv.weight     False       36864      [64, 64, 3, 3]  -0.00166    0.0192  torch.float32\n",
      "   55               model.6.m.1.cv1.bn.weight     False          64                [64]     0.918     0.175  torch.float32\n",
      "   56                 model.6.m.1.cv1.bn.bias     False          64                [64]     -1.13     0.734  torch.float32\n",
      "   57             model.6.m.1.cv2.conv.weight     False       36864      [64, 64, 3, 3] -0.000996     0.018  torch.float32\n",
      "   58               model.6.m.1.cv2.bn.weight     False          64                [64]      1.18     0.277  torch.float32\n",
      "   59                 model.6.m.1.cv2.bn.bias     False          64                [64]     0.208     0.765  torch.float32\n",
      "   60                     model.7.conv.weight     False      294912    [256, 128, 3, 3] -0.000505    0.0115  torch.float32\n",
      "   61                       model.7.bn.weight     False         256               [256]     0.961     0.196  torch.float32\n",
      "   62                         model.7.bn.bias     False         256               [256]    -0.718      0.45  torch.float32\n",
      "   63                 model.8.cv1.conv.weight     False       65536    [256, 256, 1, 1]  -0.00268    0.0204  torch.float32\n",
      "   64                   model.8.cv1.bn.weight     False         256               [256]      1.14      0.33  torch.float32\n",
      "   65                     model.8.cv1.bn.bias     False         256               [256]    -0.736     0.573  torch.float32\n",
      "   66                 model.8.cv2.conv.weight     False       98304    [256, 384, 1, 1]  -0.00162    0.0174  torch.float32\n",
      "   67                   model.8.cv2.bn.weight     False         256               [256]      1.19     0.223  torch.float32\n",
      "   68                     model.8.cv2.bn.bias     False         256               [256]    -0.689     0.484  torch.float32\n",
      "   69             model.8.m.0.cv1.conv.weight     False      147456    [128, 128, 3, 3] -0.000843    0.0128  torch.float32\n",
      "   70               model.8.m.0.cv1.bn.weight     False         128               [128]      1.14     0.205  torch.float32\n",
      "   71                 model.8.m.0.cv1.bn.bias     False         128               [128]    -0.822     0.719  torch.float32\n",
      "   72             model.8.m.0.cv2.conv.weight     False      147456    [128, 128, 3, 3]  -0.00101    0.0124  torch.float32\n",
      "   73               model.8.m.0.cv2.bn.weight     False         128               [128]      1.65     0.368  torch.float32\n",
      "   74                 model.8.m.0.cv2.bn.bias     False         128               [128]    -0.199     0.607  torch.float32\n",
      "   75                 model.9.cv1.conv.weight     False       32768    [128, 256, 1, 1]  -0.00378    0.0238  torch.float32\n",
      "   76                   model.9.cv1.bn.weight     False         128               [128]     0.926     0.248  torch.float32\n",
      "   77                     model.9.cv1.bn.bias     False         128               [128]      1.43     0.657  torch.float32\n",
      "   78                 model.9.cv2.conv.weight     False      131072    [256, 512, 1, 1]   6.2e-05     0.015  torch.float32\n",
      "   79                   model.9.cv2.bn.weight     False         256               [256]     0.942     0.255  torch.float32\n",
      "   80                     model.9.cv2.bn.bias     False         256               [256]     -1.26      0.83  torch.float32\n",
      "   81                model.12.cv1.conv.weight     False       49152    [128, 384, 1, 1]  -0.00209     0.023  torch.float32\n",
      "   82                  model.12.cv1.bn.weight     False         128               [128]     0.873     0.222  torch.float32\n",
      "   83                    model.12.cv1.bn.bias     False         128               [128]    -0.371     0.819  torch.float32\n",
      "   84                model.12.cv2.conv.weight     False       24576    [128, 192, 1, 1]  -0.00362    0.0259  torch.float32\n",
      "   85                  model.12.cv2.bn.weight     False         128               [128]     0.739     0.198  torch.float32\n",
      "   86                    model.12.cv2.bn.bias     False         128               [128]    -0.271     0.661  torch.float32\n",
      "   87            model.12.m.0.cv1.conv.weight     False       36864      [64, 64, 3, 3]  -0.00153    0.0193  torch.float32\n",
      "   88              model.12.m.0.cv1.bn.weight     False          64                [64]     0.833     0.138  torch.float32\n",
      "   89                model.12.m.0.cv1.bn.bias     False          64                [64]    -0.837      0.61  torch.float32\n",
      "   90            model.12.m.0.cv2.conv.weight     False       36864      [64, 64, 3, 3] -0.000776    0.0179  torch.float32\n",
      "   91              model.12.m.0.cv2.bn.weight     False          64                [64]     0.822     0.181  torch.float32\n",
      "   92                model.12.m.0.cv2.bn.bias     False          64                [64]    -0.106     0.635  torch.float32\n",
      "   93                model.15.cv1.conv.weight     False       12288     [64, 192, 1, 1]  -0.00152    0.0297  torch.float32\n",
      "   94                  model.15.cv1.bn.weight     False          64                [64]     0.541     0.214  torch.float32\n",
      "   95                    model.15.cv1.bn.bias     False          64                [64]     0.166     0.965  torch.float32\n",
      "   96                model.15.cv2.conv.weight     False        6144      [64, 96, 1, 1] -0.000505    0.0346  torch.float32\n",
      "   97                  model.15.cv2.bn.weight     False          64                [64]     0.567     0.264  torch.float32\n",
      "   98                    model.15.cv2.bn.bias     False          64                [64]     0.134     0.946  torch.float32\n",
      "   99            model.15.m.0.cv1.conv.weight     False        9216      [32, 32, 3, 3]  -0.00172    0.0279  torch.float32\n",
      "  100              model.15.m.0.cv1.bn.weight     False          32                [32]     0.663      0.14  torch.float32\n",
      "  101                model.15.m.0.cv1.bn.bias     False          32                [32]    -0.564     0.582  torch.float32\n",
      "  102            model.15.m.0.cv2.conv.weight     False        9216      [32, 32, 3, 3] -0.000878    0.0261  torch.float32\n",
      "  103              model.15.m.0.cv2.bn.weight     False          32                [32]     0.734     0.162  torch.float32\n",
      "  104                model.15.m.0.cv2.bn.bias     False          32                [32]     0.207     0.785  torch.float32\n",
      "  105                    model.16.conv.weight     False       36864      [64, 64, 3, 3] -0.000385    0.0134  torch.float32\n",
      "  106                      model.16.bn.weight     False          64                [64]     0.842     0.213  torch.float32\n",
      "  107                        model.16.bn.bias     False          64                [64]    -0.388      0.59  torch.float32\n",
      "  108                model.18.cv1.conv.weight     False       24576    [128, 192, 1, 1]  -0.00125    0.0212  torch.float32\n",
      "  109                  model.18.cv1.bn.weight     False         128               [128]     0.885     0.205  torch.float32\n",
      "  110                    model.18.cv1.bn.bias     False         128               [128]    -0.298     0.609  torch.float32\n",
      "  111                model.18.cv2.conv.weight     False       24576    [128, 192, 1, 1] -0.000884    0.0206  torch.float32\n",
      "  112                  model.18.cv2.bn.weight     False         128               [128]     0.734     0.292  torch.float32\n",
      "  113                    model.18.cv2.bn.bias     False         128               [128]    -0.427     0.761  torch.float32\n",
      "  114            model.18.m.0.cv1.conv.weight     False       36864      [64, 64, 3, 3]   -0.0014    0.0165  torch.float32\n",
      "  115              model.18.m.0.cv1.bn.weight     False          64                [64]       0.8     0.177  torch.float32\n",
      "  116                model.18.m.0.cv1.bn.bias     False          64                [64]    -0.772      0.49  torch.float32\n",
      "  117            model.18.m.0.cv2.conv.weight     False       36864      [64, 64, 3, 3] -0.000584    0.0152  torch.float32\n",
      "  118              model.18.m.0.cv2.bn.weight     False          64                [64]      1.19     0.286  torch.float32\n",
      "  119                model.18.m.0.cv2.bn.bias     False          64                [64]   -0.0701     0.665  torch.float32\n",
      "  120                    model.19.conv.weight     False      147456    [128, 128, 3, 3] -0.000376   0.00768  torch.float32\n",
      "  121                      model.19.bn.weight     False         128               [128]     0.877      0.21  torch.float32\n",
      "  122                        model.19.bn.bias     False         128               [128]    -0.507     0.364  torch.float32\n",
      "  123                model.21.cv1.conv.weight     False       98304    [256, 384, 1, 1]  -0.00112    0.0124  torch.float32\n",
      "  124                  model.21.cv1.bn.weight     False         256               [256]      1.06     0.228  torch.float32\n",
      "  125                    model.21.cv1.bn.bias     False         256               [256]     -0.59     0.577  torch.float32\n",
      "  126                model.21.cv2.conv.weight     False       98304    [256, 384, 1, 1]  -0.00096    0.0109  torch.float32\n",
      "  127                  model.21.cv2.bn.weight     False         256               [256]      1.04     0.317  torch.float32\n",
      "  128                    model.21.cv2.bn.bias     False         256               [256]     -0.89     0.489  torch.float32\n",
      "  129            model.21.m.0.cv1.conv.weight     False      147456    [128, 128, 3, 3] -0.000713   0.00903  torch.float32\n",
      "  130              model.21.m.0.cv1.bn.weight     False         128               [128]      1.03     0.223  torch.float32\n",
      "  131                model.21.m.0.cv1.bn.bias     False         128               [128]     -0.96     0.617  torch.float32\n",
      "  132            model.21.m.0.cv2.conv.weight     False      147456    [128, 128, 3, 3]  -0.00042    0.0083  torch.float32\n",
      "  133              model.21.m.0.cv2.bn.weight     False         128               [128]      1.36     0.252  torch.float32\n",
      "  134                model.21.m.0.cv2.bn.bias     False         128               [128]     -0.55     0.517  torch.float32\n",
      "  135            model.22.cv2.0.0.conv.weight     False       36864      [64, 64, 3, 3] -0.000871    0.0138  torch.float32\n",
      "  136              model.22.cv2.0.0.bn.weight     False          64                [64]     0.882     0.357  torch.float32\n",
      "  137                model.22.cv2.0.0.bn.bias     False          64                [64]    -0.501     0.702  torch.float32\n",
      "  138            model.22.cv2.0.1.conv.weight     False       36864      [64, 64, 3, 3] -0.000302    0.0121  torch.float32\n",
      "  139              model.22.cv2.0.1.bn.weight     False          64                [64]      2.41      1.04  torch.float32\n",
      "  140                model.22.cv2.0.1.bn.bias     False          64                [64]     0.923     0.752  torch.float32\n",
      "  141                 model.22.cv2.0.2.weight     False        4096      [64, 64, 1, 1]  5.55e-07    0.0503  torch.float32\n",
      "  142                   model.22.cv2.0.2.bias     False          64                [64]         1      1.39  torch.float32\n",
      "  143            model.22.cv2.1.0.conv.weight     False       73728     [64, 128, 3, 3] -0.000461   0.00909  torch.float32\n",
      "  144              model.22.cv2.1.0.bn.weight     False          64                [64]      1.29     0.492  torch.float32\n",
      "  145                model.22.cv2.1.0.bn.bias     False          64                [64]    -0.394     0.673  torch.float32\n",
      "  146            model.22.cv2.1.1.conv.weight     False       36864      [64, 64, 3, 3] -0.000135    0.0113  torch.float32\n",
      "  147              model.22.cv2.1.1.bn.weight     False          64                [64]      2.56         1  torch.float32\n",
      "  148                model.22.cv2.1.1.bn.bias     False          64                [64]     0.856     0.562  torch.float32\n",
      "  149                 model.22.cv2.1.2.weight     False        4096      [64, 64, 1, 1] -4.08e-07    0.0548  torch.float32\n",
      "  150                   model.22.cv2.1.2.bias     False          64                [64]     0.999      1.31  torch.float32\n",
      "  151            model.22.cv2.2.0.conv.weight     False      147456     [64, 256, 3, 3] -0.000226   0.00654  torch.float32\n",
      "  152              model.22.cv2.2.0.bn.weight     False          64                [64]      1.55     0.415  torch.float32\n",
      "  153                model.22.cv2.2.0.bn.bias     False          64                [64]    -0.257     0.617  torch.float32\n",
      "  154            model.22.cv2.2.1.conv.weight     False       36864      [64, 64, 3, 3] -0.000172    0.0105  torch.float32\n",
      "  155              model.22.cv2.2.1.bn.weight     False          64                [64]      2.95     0.853  torch.float32\n",
      "  156                model.22.cv2.2.1.bn.bias     False          64                [64]     0.826     0.555  torch.float32\n",
      "  157                 model.22.cv2.2.2.weight     False        4096      [64, 64, 1, 1]  5.78e-06    0.0593  torch.float32\n",
      "  158                   model.22.cv2.2.2.bias     False          64                [64]         1      1.32  torch.float32\n",
      "  159            model.22.cv3.0.0.conv.weight     False       46080      [80, 64, 3, 3] -0.000739    0.0119  torch.float32\n",
      "  160              model.22.cv3.0.0.bn.weight     False          80                [80]     0.697     0.247  torch.float32\n",
      "  161                model.22.cv3.0.0.bn.bias     False          80                [80]     -0.58     0.767  torch.float32\n",
      "  162            model.22.cv3.0.1.conv.weight     False       57600      [80, 80, 3, 3] -0.000899      0.01  torch.float32\n",
      "  163              model.22.cv3.0.1.bn.weight     False          80                [80]      2.75     0.655  torch.float32\n",
      "  164                model.22.cv3.0.1.bn.bias     False          80                [80]      1.34      1.83  torch.float32\n",
      "  165                 model.22.cv3.0.2.weight     False        6400      [80, 80, 1, 1]   -0.0123    0.0532  torch.float32\n",
      "  166                   model.22.cv3.0.2.bias     False          80                [80]     -11.4      1.11  torch.float32\n",
      "  167            model.22.cv3.1.0.conv.weight     False       92160     [80, 128, 3, 3] -0.000437   0.00858  torch.float32\n",
      "  168              model.22.cv3.1.0.bn.weight     False          80                [80]     0.872      0.28  torch.float32\n",
      "  169                model.22.cv3.1.0.bn.bias     False          80                [80]    -0.411     0.884  torch.float32\n",
      "  170            model.22.cv3.1.1.conv.weight     False       57600      [80, 80, 3, 3] -0.000971   0.00925  torch.float32\n",
      "  171              model.22.cv3.1.1.bn.weight     False          80                [80]      2.85      1.26  torch.float32\n",
      "  172                model.22.cv3.1.1.bn.bias     False          80                [80]      1.28      1.45  torch.float32\n",
      "  173                 model.22.cv3.1.2.weight     False        6400      [80, 80, 1, 1]   -0.0114    0.0527  torch.float32\n",
      "  174                   model.22.cv3.1.2.bias     False          80                [80]     -10.5     0.911  torch.float32\n",
      "  175            model.22.cv3.2.0.conv.weight     False      184320     [80, 256, 3, 3] -0.000242   0.00608  torch.float32\n",
      "  176              model.22.cv3.2.0.bn.weight     False          80                [80]      1.12     0.328  torch.float32\n",
      "  177                model.22.cv3.2.0.bn.bias     False          80                [80]    -0.289     0.942  torch.float32\n",
      "  178            model.22.cv3.2.1.conv.weight     False       57600      [80, 80, 3, 3]  -0.00099   0.00803  torch.float32\n",
      "  179              model.22.cv3.2.1.bn.weight     False          80                [80]      3.15      1.28  torch.float32\n",
      "  180                model.22.cv3.2.1.bn.bias     False          80                [80]      1.28      1.32  torch.float32\n",
      "  181                 model.22.cv3.2.2.weight     False        6400      [80, 80, 1, 1]   -0.0105    0.0502  torch.float32\n",
      "  182                   model.22.cv3.2.2.bias     False          80                [80]     -9.61     0.937  torch.float32\n",
      "  183                model.22.dfl.conv.weight     False          16       [1, 16, 1, 1]       7.5      4.76  torch.float32\n",
      "YOLOv8n summary: 225 layers, 3,157,200 parameters, 0 gradients, 8.9 GFLOPs\n"
     ]
    },
    {
     "data": {
      "text/plain": [
       "(225, 3157200, 0, 8.8575488)"
      ]
     },
     "execution_count": 19,
     "metadata": {},
     "output_type": "execute_result"
    }
   ],
   "source": [
    "model.info(data_path)"
   ]
  },
  {
   "cell_type": "code",
   "execution_count": 20,
   "id": "299135fc-bc14-4c71-8478-9343328b0cd8",
   "metadata": {
    "scrolled": true
   },
   "outputs": [
    {
     "name": "stdout",
     "output_type": "stream",
     "text": [
      "Ultralytics 8.3.75  Python-3.11.6 torch-2.4.1+cpu CPU (12th Gen Intel Core(TM) i7-1255U)\n",
      "\u001b[34m\u001b[1mengine\\trainer: \u001b[0mtask=detect, mode=train, model=yolov8n.pt, data=C:/Users/manas/Downloads/_sripproj/_proj0/dataset/split_data/data.yaml, epochs=11, time=None, patience=100, batch=16, imgsz=832, save=True, save_period=-1, cache=False, device=None, workers=4, project=None, name=train2, exist_ok=False, pretrained=True, optimizer=auto, verbose=True, seed=0, deterministic=True, single_cls=False, rect=False, cos_lr=False, close_mosaic=10, resume=False, amp=True, fraction=1.0, profile=False, freeze=None, multi_scale=False, overlap_mask=True, mask_ratio=4, dropout=0.0, val=True, split=val, save_json=False, save_hybrid=False, conf=None, iou=0.7, max_det=300, half=False, dnn=False, plots=True, source=None, vid_stride=1, stream_buffer=False, visualize=False, augment=False, agnostic_nms=False, classes=None, retina_masks=False, embed=None, show=False, save_frames=False, save_txt=False, save_conf=False, save_crop=False, show_labels=True, show_conf=True, show_boxes=True, line_width=None, format=torchscript, keras=False, optimize=False, int8=False, dynamic=False, simplify=True, opset=None, workspace=None, nms=False, lr0=0.01, lrf=0.01, momentum=0.937, weight_decay=0.0005, warmup_epochs=3.0, warmup_momentum=0.8, warmup_bias_lr=0.1, box=7.5, cls=0.5, dfl=1.5, pose=12.0, kobj=1.0, nbs=64, hsv_h=0.015, hsv_s=0.7, hsv_v=0.4, degrees=0.0, translate=0.1, scale=0.5, shear=0.0, perspective=0.0, flipud=0.0, fliplr=0.5, bgr=0.0, mosaic=1.0, mixup=0.0, copy_paste=0.0, copy_paste_mode=flip, auto_augment=randaugment, erasing=0.4, crop_fraction=1.0, cfg=None, tracker=botsort.yaml, save_dir=runs\\detect\\train2\n",
      "Overriding model.yaml nc=80 with nc=1\n",
      "\n",
      "                   from  n    params  module                                       arguments                     \n",
      "  0                  -1  1       464  ultralytics.nn.modules.conv.Conv             [3, 16, 3, 2]                 \n",
      "  1                  -1  1      4672  ultralytics.nn.modules.conv.Conv             [16, 32, 3, 2]                \n",
      "  2                  -1  1      7360  ultralytics.nn.modules.block.C2f             [32, 32, 1, True]             \n",
      "  3                  -1  1     18560  ultralytics.nn.modules.conv.Conv             [32, 64, 3, 2]                \n",
      "  4                  -1  2     49664  ultralytics.nn.modules.block.C2f             [64, 64, 2, True]             \n",
      "  5                  -1  1     73984  ultralytics.nn.modules.conv.Conv             [64, 128, 3, 2]               \n",
      "  6                  -1  2    197632  ultralytics.nn.modules.block.C2f             [128, 128, 2, True]           \n",
      "  7                  -1  1    295424  ultralytics.nn.modules.conv.Conv             [128, 256, 3, 2]              \n",
      "  8                  -1  1    460288  ultralytics.nn.modules.block.C2f             [256, 256, 1, True]           \n",
      "  9                  -1  1    164608  ultralytics.nn.modules.block.SPPF            [256, 256, 5]                 \n",
      " 10                  -1  1         0  torch.nn.modules.upsampling.Upsample         [None, 2, 'nearest']          \n",
      " 11             [-1, 6]  1         0  ultralytics.nn.modules.conv.Concat           [1]                           \n",
      " 12                  -1  1    148224  ultralytics.nn.modules.block.C2f             [384, 128, 1]                 \n",
      " 13                  -1  1         0  torch.nn.modules.upsampling.Upsample         [None, 2, 'nearest']          \n",
      " 14             [-1, 4]  1         0  ultralytics.nn.modules.conv.Concat           [1]                           \n",
      " 15                  -1  1     37248  ultralytics.nn.modules.block.C2f             [192, 64, 1]                  \n",
      " 16                  -1  1     36992  ultralytics.nn.modules.conv.Conv             [64, 64, 3, 2]                \n",
      " 17            [-1, 12]  1         0  ultralytics.nn.modules.conv.Concat           [1]                           \n",
      " 18                  -1  1    123648  ultralytics.nn.modules.block.C2f             [192, 128, 1]                 \n",
      " 19                  -1  1    147712  ultralytics.nn.modules.conv.Conv             [128, 128, 3, 2]              \n",
      " 20             [-1, 9]  1         0  ultralytics.nn.modules.conv.Concat           [1]                           \n",
      " 21                  -1  1    493056  ultralytics.nn.modules.block.C2f             [384, 256, 1]                 \n",
      " 22        [15, 18, 21]  1    751507  ultralytics.nn.modules.head.Detect           [1, [64, 128, 256]]           \n",
      "Model summary: 225 layers, 3,011,043 parameters, 3,011,027 gradients, 8.2 GFLOPs\n",
      "\n",
      "Transferred 319/355 items from pretrained weights\n",
      "\u001b[34m\u001b[1mTensorBoard: \u001b[0mStart with 'tensorboard --logdir runs\\detect\\train2', view at http://localhost:6006/\n",
      "Freezing layer 'model.22.dfl.conv.weight'\n"
     ]
    },
    {
     "name": "stderr",
     "output_type": "stream",
     "text": [
      "\u001b[34m\u001b[1mtrain: \u001b[0mScanning C:\\Users\\manas\\Downloads\\_sripproj\\_proj0\\dataset\\split_data\\train\\labels... 1829 images, 0 backgrounds\u001b[0m"
     ]
    },
    {
     "name": "stdout",
     "output_type": "stream",
     "text": [
      "\u001b[34m\u001b[1mtrain: \u001b[0mWARNING  C:\\Users\\manas\\Downloads\\_sripproj\\_proj0\\dataset\\split_data\\train\\images\\solarpanels_hd_1__x0_0_y0_14041_dxdy_832.tif: ignoring corrupt image/label: Label class 2 exceeds dataset class count 1. Possible class labels are 0-0\n",
      "\u001b[34m\u001b[1mtrain: \u001b[0mWARNING  C:\\Users\\manas\\Downloads\\_sripproj\\_proj0\\dataset\\split_data\\train\\images\\solarpanels_hd_1__x0_0_y0_14446_dxdy_832.tif: ignoring corrupt image/label: Label class 2 exceeds dataset class count 1. Possible class labels are 0-0\n",
      "\u001b[34m\u001b[1mtrain: \u001b[0mWARNING  C:\\Users\\manas\\Downloads\\_sripproj\\_proj0\\dataset\\split_data\\train\\images\\solarpanels_hd_1__x0_1029_y0_14545_dxdy_832.tif: ignoring corrupt image/label: Label class 2 exceeds dataset class count 1. Possible class labels are 0-0\n",
      "\u001b[34m\u001b[1mtrain: \u001b[0mWARNING  C:\\Users\\manas\\Downloads\\_sripproj\\_proj0\\dataset\\split_data\\train\\images\\solarpanels_hd_1__x0_1093_y0_15060_dxdy_832.tif: ignoring corrupt image/label: Label class 2 exceeds dataset class count 1. Possible class labels are 0-0\n",
      "\u001b[34m\u001b[1mtrain: \u001b[0mWARNING  C:\\Users\\manas\\Downloads\\_sripproj\\_proj0\\dataset\\split_data\\train\\images\\solarpanels_hd_1__x0_14458_y0_19319_dxdy_832.tif: ignoring corrupt image/label: Label class 2 exceeds dataset class count 1. Possible class labels are 0-0\n",
      "\u001b[34m\u001b[1mtrain: \u001b[0mWARNING  C:\\Users\\manas\\Downloads\\_sripproj\\_proj0\\dataset\\split_data\\train\\images\\solarpanels_hd_1__x0_14933_y0_19689_dxdy_832.tif: ignoring corrupt image/label: Label class 2 exceeds dataset class count 1. Possible class labels are 0-0\n",
      "\u001b[34m\u001b[1mtrain: \u001b[0mWARNING  C:\\Users\\manas\\Downloads\\_sripproj\\_proj0\\dataset\\split_data\\train\\images\\solarpanels_hd_1__x0_14974_y0_19322_dxdy_832.tif: ignoring corrupt image/label: Label class 2 exceeds dataset class count 1. Possible class labels are 0-0\n",
      "\u001b[34m\u001b[1mtrain: \u001b[0mWARNING  C:\\Users\\manas\\Downloads\\_sripproj\\_proj0\\dataset\\split_data\\train\\images\\solarpanels_hd_1__x0_15103_y0_19586_dxdy_832.tif: ignoring corrupt image/label: Label class 2 exceeds dataset class count 1. Possible class labels are 0-0\n",
      "\u001b[34m\u001b[1mtrain: \u001b[0mWARNING  C:\\Users\\manas\\Downloads\\_sripproj\\_proj0\\dataset\\split_data\\train\\images\\solarpanels_hd_1__x0_15251_y0_19697_dxdy_832.tif: ignoring corrupt image/label: Label class 2 exceeds dataset class count 1. Possible class labels are 0-0\n",
      "\u001b[34m\u001b[1mtrain: \u001b[0mWARNING  C:\\Users\\manas\\Downloads\\_sripproj\\_proj0\\dataset\\split_data\\train\\images\\solarpanels_hd_1__x0_15831_y0_23233_dxdy_832.tif: ignoring corrupt image/label: Label class 2 exceeds dataset class count 1. Possible class labels are 0-0\n",
      "\u001b[34m\u001b[1mtrain: \u001b[0mWARNING  C:\\Users\\manas\\Downloads\\_sripproj\\_proj0\\dataset\\split_data\\train\\images\\solarpanels_hd_1__x0_15865_y0_23524_dxdy_832.tif: ignoring corrupt image/label: Label class 2 exceeds dataset class count 1. Possible class labels are 0-0\n",
      "\u001b[34m\u001b[1mtrain: \u001b[0mWARNING  C:\\Users\\manas\\Downloads\\_sripproj\\_proj0\\dataset\\split_data\\train\\images\\solarpanels_hd_1__x0_15872_y0_23329_dxdy_832.tif: ignoring corrupt image/label: Label class 2 exceeds dataset class count 1. Possible class labels are 0-0\n",
      "\u001b[34m\u001b[1mtrain: \u001b[0mWARNING  C:\\Users\\manas\\Downloads\\_sripproj\\_proj0\\dataset\\split_data\\train\\images\\solarpanels_hd_1__x0_16010_y0_20302_dxdy_832.tif: ignoring corrupt image/label: Label class 2 exceeds dataset class count 1. Possible class labels are 0-0\n",
      "\u001b[34m\u001b[1mtrain: \u001b[0mWARNING  C:\\Users\\manas\\Downloads\\_sripproj\\_proj0\\dataset\\split_data\\train\\images\\solarpanels_hd_1__x0_16105_y0_17563_dxdy_832.tif: ignoring corrupt image/label: Label class 2 exceeds dataset class count 1. Possible class labels are 0-0\n",
      "\u001b[34m\u001b[1mtrain: \u001b[0mWARNING  C:\\Users\\manas\\Downloads\\_sripproj\\_proj0\\dataset\\split_data\\train\\images\\solarpanels_hd_1__x0_16168_y0_17308_dxdy_832.tif: ignoring corrupt image/label: Label class 2 exceeds dataset class count 1. Possible class labels are 0-0\n",
      "\u001b[34m\u001b[1mtrain: \u001b[0mWARNING  C:\\Users\\manas\\Downloads\\_sripproj\\_proj0\\dataset\\split_data\\train\\images\\solarpanels_hd_1__x0_16249_y0_17480_dxdy_832.tif: ignoring corrupt image/label: Label class 2 exceeds dataset class count 1. Possible class labels are 0-0\n",
      "\u001b[34m\u001b[1mtrain: \u001b[0mWARNING  C:\\Users\\manas\\Downloads\\_sripproj\\_proj0\\dataset\\split_data\\train\\images\\solarpanels_hd_1__x0_16272_y0_15703_dxdy_832.tif: ignoring corrupt image/label: Label class 2 exceeds dataset class count 1. Possible class labels are 0-0\n",
      "\u001b[34m\u001b[1mtrain: \u001b[0mWARNING  C:\\Users\\manas\\Downloads\\_sripproj\\_proj0\\dataset\\split_data\\train\\images\\solarpanels_hd_1__x0_16286_y0_19766_dxdy_832.tif: ignoring corrupt image/label: Label class 2 exceeds dataset class count 1. Possible class labels are 0-0\n",
      "\u001b[34m\u001b[1mtrain: \u001b[0mWARNING  C:\\Users\\manas\\Downloads\\_sripproj\\_proj0\\dataset\\split_data\\train\\images\\solarpanels_hd_1__x0_16331_y0_20006_dxdy_832.tif: ignoring corrupt image/label: Label class 2 exceeds dataset class count 1. Possible class labels are 0-0\n",
      "\u001b[34m\u001b[1mtrain: \u001b[0mWARNING  C:\\Users\\manas\\Downloads\\_sripproj\\_proj0\\dataset\\split_data\\train\\images\\solarpanels_hd_1__x0_16359_y0_17523_dxdy_832.tif: ignoring corrupt image/label: Label class 2 exceeds dataset class count 1. Possible class labels are 0-0\n",
      "\u001b[34m\u001b[1mtrain: \u001b[0mWARNING  C:\\Users\\manas\\Downloads\\_sripproj\\_proj0\\dataset\\split_data\\train\\images\\solarpanels_hd_1__x0_16424_y0_17129_dxdy_832.tif: ignoring corrupt image/label: Label class 2 exceeds dataset class count 1. Possible class labels are 0-0\n",
      "\u001b[34m\u001b[1mtrain: \u001b[0mWARNING  C:\\Users\\manas\\Downloads\\_sripproj\\_proj0\\dataset\\split_data\\train\\images\\solarpanels_hd_1__x0_16426_y0_17289_dxdy_832.tif: ignoring corrupt image/label: Label class 2 exceeds dataset class count 1. Possible class labels are 0-0\n",
      "\u001b[34m\u001b[1mtrain: \u001b[0mWARNING  C:\\Users\\manas\\Downloads\\_sripproj\\_proj0\\dataset\\split_data\\train\\images\\solarpanels_hd_1__x0_16433_y0_15501_dxdy_832.tif: ignoring corrupt image/label: Label class 2 exceeds dataset class count 1. Possible class labels are 0-0\n",
      "\u001b[34m\u001b[1mtrain: \u001b[0mWARNING  C:\\Users\\manas\\Downloads\\_sripproj\\_proj0\\dataset\\split_data\\train\\images\\solarpanels_hd_1__x0_16458_y0_19863_dxdy_832.tif: ignoring corrupt image/label: Label class 2 exceeds dataset class count 1. Possible class labels are 0-0\n",
      "\u001b[34m\u001b[1mtrain: \u001b[0mWARNING  C:\\Users\\manas\\Downloads\\_sripproj\\_proj0\\dataset\\split_data\\train\\images\\solarpanels_hd_1__x0_16473_y0_15637_dxdy_832.tif: ignoring corrupt image/label: Label class 2 exceeds dataset class count 1. Possible class labels are 0-0\n",
      "\u001b[34m\u001b[1mtrain: \u001b[0mWARNING  C:\\Users\\manas\\Downloads\\_sripproj\\_proj0\\dataset\\split_data\\train\\images\\solarpanels_hd_1__x0_16505_y0_17223_dxdy_832.tif: ignoring corrupt image/label: Label class 2 exceeds dataset class count 1. Possible class labels are 0-0\n",
      "\u001b[34m\u001b[1mtrain: \u001b[0mWARNING  C:\\Users\\manas\\Downloads\\_sripproj\\_proj0\\dataset\\split_data\\train\\images\\solarpanels_hd_1__x0_16513_y0_15571_dxdy_832.tif: ignoring corrupt image/label: Label class 2 exceeds dataset class count 1. Possible class labels are 0-0\n",
      "\u001b[34m\u001b[1mtrain: \u001b[0mWARNING  C:\\Users\\manas\\Downloads\\_sripproj\\_proj0\\dataset\\split_data\\train\\images\\solarpanels_hd_1__x0_16591_y0_17239_dxdy_832.tif: ignoring corrupt image/label: Label class 2 exceeds dataset class count 1. Possible class labels are 0-0\n",
      "\u001b[34m\u001b[1mtrain: \u001b[0mWARNING  C:\\Users\\manas\\Downloads\\_sripproj\\_proj0\\dataset\\split_data\\train\\images\\solarpanels_hd_1__x0_16660_y0_20195_dxdy_832.tif: ignoring corrupt image/label: Label class 2 exceeds dataset class count 1. Possible class labels are 0-0\n",
      "\u001b[34m\u001b[1mtrain: \u001b[0mWARNING  C:\\Users\\manas\\Downloads\\_sripproj\\_proj0\\dataset\\split_data\\train\\images\\solarpanels_hd_1__x0_16687_y0_17080_dxdy_832.tif: ignoring corrupt image/label: Label class 2 exceeds dataset class count 1. Possible class labels are 0-0\n",
      "\u001b[34m\u001b[1mtrain: \u001b[0mWARNING  C:\\Users\\manas\\Downloads\\_sripproj\\_proj0\\dataset\\split_data\\train\\images\\solarpanels_hd_1__x0_16696_y0_15694_dxdy_832.tif: ignoring corrupt image/label: Label class 2 exceeds dataset class count 1. Possible class labels are 0-0\n",
      "\u001b[34m\u001b[1mtrain: \u001b[0mWARNING  C:\\Users\\manas\\Downloads\\_sripproj\\_proj0\\dataset\\split_data\\train\\images\\solarpanels_hd_1__x0_16736_y0_15646_dxdy_832.tif: ignoring corrupt image/label: Label class 2 exceeds dataset class count 1. Possible class labels are 0-0\n",
      "\u001b[34m\u001b[1mtrain: \u001b[0mWARNING  C:\\Users\\manas\\Downloads\\_sripproj\\_proj0\\dataset\\split_data\\train\\images\\solarpanels_hd_1__x0_16736_y0_19828_dxdy_832.tif: ignoring corrupt image/label: Label class 2 exceeds dataset class count 1. Possible class labels are 0-0\n",
      "\u001b[34m\u001b[1mtrain: \u001b[0mWARNING  C:\\Users\\manas\\Downloads\\_sripproj\\_proj0\\dataset\\split_data\\train\\images\\solarpanels_hd_1__x0_16774_y0_15389_dxdy_832.tif: ignoring corrupt image/label: Label class 2 exceeds dataset class count 1. Possible class labels are 0-0\n",
      "\u001b[34m\u001b[1mtrain: \u001b[0mWARNING  C:\\Users\\manas\\Downloads\\_sripproj\\_proj0\\dataset\\split_data\\train\\images\\solarpanels_hd_1__x0_16815_y0_17593_dxdy_832.tif: ignoring corrupt image/label: Label class 2 exceeds dataset class count 1. Possible class labels are 0-0\n",
      "\u001b[34m\u001b[1mtrain: \u001b[0mWARNING  C:\\Users\\manas\\Downloads\\_sripproj\\_proj0\\dataset\\split_data\\train\\images\\solarpanels_hd_1__x0_16937_y0_19623_dxdy_832.tif: ignoring corrupt image/label: Label class 1 exceeds dataset class count 1. Possible class labels are 0-0\n",
      "\u001b[34m\u001b[1mtrain: \u001b[0mWARNING  C:\\Users\\manas\\Downloads\\_sripproj\\_proj0\\dataset\\split_data\\train\\images\\solarpanels_hd_1__x0_16940_y0_19448_dxdy_832.tif: ignoring corrupt image/label: Label class 1 exceeds dataset class count 1. Possible class labels are 0-0\n",
      "\u001b[34m\u001b[1mtrain: \u001b[0mWARNING  C:\\Users\\manas\\Downloads\\_sripproj\\_proj0\\dataset\\split_data\\train\\images\\solarpanels_hd_1__x0_17101_y0_22165_dxdy_832.tif: ignoring corrupt image/label: Label class 2 exceeds dataset class count 1. Possible class labels are 0-0\n",
      "\u001b[34m\u001b[1mtrain: \u001b[0mWARNING  C:\\Users\\manas\\Downloads\\_sripproj\\_proj0\\dataset\\split_data\\train\\images\\solarpanels_hd_1__x0_17127_y0_21975_dxdy_832.tif: ignoring corrupt image/label: Label class 2 exceeds dataset class count 1. Possible class labels are 0-0\n",
      "\u001b[34m\u001b[1mtrain: \u001b[0mWARNING  C:\\Users\\manas\\Downloads\\_sripproj\\_proj0\\dataset\\split_data\\train\\images\\solarpanels_hd_1__x0_17137_y0_22148_dxdy_832.tif: ignoring corrupt image/label: Label class 2 exceeds dataset class count 1. Possible class labels are 0-0\n",
      "\u001b[34m\u001b[1mtrain: \u001b[0mWARNING  C:\\Users\\manas\\Downloads\\_sripproj\\_proj0\\dataset\\split_data\\train\\images\\solarpanels_hd_1__x0_17195_y0_22065_dxdy_832.tif: ignoring corrupt image/label: Label class 2 exceeds dataset class count 1. Possible class labels are 0-0\n",
      "\u001b[34m\u001b[1mtrain: \u001b[0mWARNING  C:\\Users\\manas\\Downloads\\_sripproj\\_proj0\\dataset\\split_data\\train\\images\\solarpanels_hd_1__x0_171_y0_14138_dxdy_832.tif: ignoring corrupt image/label: Label class 2 exceeds dataset class count 1. Possible class labels are 0-0\n",
      "\u001b[34m\u001b[1mtrain: \u001b[0mWARNING  C:\\Users\\manas\\Downloads\\_sripproj\\_proj0\\dataset\\split_data\\train\\images\\solarpanels_hd_1__x0_17233_y0_22200_dxdy_832.tif: ignoring corrupt image/label: Label class 2 exceeds dataset class count 1. Possible class labels are 0-0\n",
      "\u001b[34m\u001b[1mtrain: \u001b[0mWARNING  C:\\Users\\manas\\Downloads\\_sripproj\\_proj0\\dataset\\split_data\\train\\images\\solarpanels_hd_1__x0_17286_y0_21899_dxdy_832.tif: ignoring corrupt image/label: Label class 2 exceeds dataset class count 1. Possible class labels are 0-0\n",
      "\u001b[34m\u001b[1mtrain: \u001b[0mWARNING  C:\\Users\\manas\\Downloads\\_sripproj\\_proj0\\dataset\\split_data\\train\\images\\solarpanels_hd_1__x0_17344_y0_22094_dxdy_832.tif: ignoring corrupt image/label: Label class 2 exceeds dataset class count 1. Possible class labels are 0-0\n",
      "\u001b[34m\u001b[1mtrain: \u001b[0mWARNING  C:\\Users\\manas\\Downloads\\_sripproj\\_proj0\\dataset\\split_data\\train\\images\\solarpanels_hd_1__x0_17357_y0_22124_dxdy_832.tif: ignoring corrupt image/label: Label class 2 exceeds dataset class count 1. Possible class labels are 0-0\n",
      "\u001b[34m\u001b[1mtrain: \u001b[0mWARNING  C:\\Users\\manas\\Downloads\\_sripproj\\_proj0\\dataset\\split_data\\train\\images\\solarpanels_hd_1__x0_17409_y0_22135_dxdy_832.tif: ignoring corrupt image/label: Label class 2 exceeds dataset class count 1. Possible class labels are 0-0\n",
      "\u001b[34m\u001b[1mtrain: \u001b[0mWARNING  C:\\Users\\manas\\Downloads\\_sripproj\\_proj0\\dataset\\split_data\\train\\images\\solarpanels_hd_1__x0_18596_y0_22201_dxdy_832.tif: ignoring corrupt image/label: Label class 2 exceeds dataset class count 1. Possible class labels are 0-0\n",
      "\u001b[34m\u001b[1mtrain: \u001b[0mWARNING  C:\\Users\\manas\\Downloads\\_sripproj\\_proj0\\dataset\\split_data\\train\\images\\solarpanels_hd_1__x0_18698_y0_21896_dxdy_832.tif: ignoring corrupt image/label: Label class 2 exceeds dataset class count 1. Possible class labels are 0-0\n",
      "\u001b[34m\u001b[1mtrain: \u001b[0mWARNING  C:\\Users\\manas\\Downloads\\_sripproj\\_proj0\\dataset\\split_data\\train\\images\\solarpanels_hd_1__x0_18698_y0_22073_dxdy_832.tif: ignoring corrupt image/label: Label class 2 exceeds dataset class count 1. Possible class labels are 0-0\n",
      "\u001b[34m\u001b[1mtrain: \u001b[0mWARNING  C:\\Users\\manas\\Downloads\\_sripproj\\_proj0\\dataset\\split_data\\train\\images\\solarpanels_hd_1__x0_18782_y0_21877_dxdy_832.tif: ignoring corrupt image/label: Label class 2 exceeds dataset class count 1. Possible class labels are 0-0\n",
      "\u001b[34m\u001b[1mtrain: \u001b[0mWARNING  C:\\Users\\manas\\Downloads\\_sripproj\\_proj0\\dataset\\split_data\\train\\images\\solarpanels_hd_1__x0_18833_y0_21979_dxdy_832.tif: ignoring corrupt image/label: Label class 2 exceeds dataset class count 1. Possible class labels are 0-0\n",
      "\u001b[34m\u001b[1mtrain: \u001b[0mWARNING  C:\\Users\\manas\\Downloads\\_sripproj\\_proj0\\dataset\\split_data\\train\\images\\solarpanels_hd_1__x0_18866_y0_22101_dxdy_832.tif: ignoring corrupt image/label: Label class 2 exceeds dataset class count 1. Possible class labels are 0-0\n",
      "\u001b[34m\u001b[1mtrain: \u001b[0mWARNING  C:\\Users\\manas\\Downloads\\_sripproj\\_proj0\\dataset\\split_data\\train\\images\\solarpanels_hd_1__x0_18913_y0_21911_dxdy_832.tif: ignoring corrupt image/label: Label class 2 exceeds dataset class count 1. Possible class labels are 0-0\n",
      "\u001b[34m\u001b[1mtrain: \u001b[0mWARNING  C:\\Users\\manas\\Downloads\\_sripproj\\_proj0\\dataset\\split_data\\train\\images\\solarpanels_hd_1__x0_18915_y0_21907_dxdy_832.tif: ignoring corrupt image/label: Label class 2 exceeds dataset class count 1. Possible class labels are 0-0\n",
      "\u001b[34m\u001b[1mtrain: \u001b[0mWARNING  C:\\Users\\manas\\Downloads\\_sripproj\\_proj0\\dataset\\split_data\\train\\images\\solarpanels_hd_1__x0_19004_y0_21959_dxdy_832.tif: ignoring corrupt image/label: Label class 2 exceeds dataset class count 1. Possible class labels are 0-0\n",
      "\u001b[34m\u001b[1mtrain: \u001b[0mWARNING  C:\\Users\\manas\\Downloads\\_sripproj\\_proj0\\dataset\\split_data\\train\\images\\solarpanels_hd_1__x0_19082_y0_21930_dxdy_832.tif: ignoring corrupt image/label: Label class 2 exceeds dataset class count 1. Possible class labels are 0-0\n",
      "\u001b[34m\u001b[1mtrain: \u001b[0mWARNING  C:\\Users\\manas\\Downloads\\_sripproj\\_proj0\\dataset\\split_data\\train\\images\\solarpanels_hd_1__x0_19377_y0_22056_dxdy_832.tif: ignoring corrupt image/label: Label class 2 exceeds dataset class count 1. Possible class labels are 0-0\n",
      "\u001b[34m\u001b[1mtrain: \u001b[0mWARNING  C:\\Users\\manas\\Downloads\\_sripproj\\_proj0\\dataset\\split_data\\train\\images\\solarpanels_hd_1__x0_19389_y0_21908_dxdy_832.tif: ignoring corrupt image/label: Label class 2 exceeds dataset class count 1. Possible class labels are 0-0\n",
      "\u001b[34m\u001b[1mtrain: \u001b[0mWARNING  C:\\Users\\manas\\Downloads\\_sripproj\\_proj0\\dataset\\split_data\\train\\images\\solarpanels_hd_1__x0_19448_y0_21513_dxdy_832.tif: ignoring corrupt image/label: Label class 2 exceeds dataset class count 1. Possible class labels are 0-0\n",
      "\u001b[34m\u001b[1mtrain: \u001b[0mWARNING  C:\\Users\\manas\\Downloads\\_sripproj\\_proj0\\dataset\\split_data\\train\\images\\solarpanels_hd_1__x0_19463_y0_21487_dxdy_832.tif: ignoring corrupt image/label: Label class 2 exceeds dataset class count 1. Possible class labels are 0-0\n",
      "\u001b[34m\u001b[1mtrain: \u001b[0mWARNING  C:\\Users\\manas\\Downloads\\_sripproj\\_proj0\\dataset\\split_data\\train\\images\\solarpanels_hd_1__x0_19533_y0_21698_dxdy_832.tif: ignoring corrupt image/label: Label class 2 exceeds dataset class count 1. Possible class labels are 0-0\n",
      "\u001b[34m\u001b[1mtrain: \u001b[0mWARNING  C:\\Users\\manas\\Downloads\\_sripproj\\_proj0\\dataset\\split_data\\train\\images\\solarpanels_hd_1__x0_19732_y0_21234_dxdy_832.tif: ignoring corrupt image/label: Label class 2 exceeds dataset class count 1. Possible class labels are 0-0\n",
      "\u001b[34m\u001b[1mtrain: \u001b[0mWARNING  C:\\Users\\manas\\Downloads\\_sripproj\\_proj0\\dataset\\split_data\\train\\images\\solarpanels_hd_1__x0_203_y0_13968_dxdy_832.tif: ignoring corrupt image/label: Label class 2 exceeds dataset class count 1. Possible class labels are 0-0\n",
      "\u001b[34m\u001b[1mtrain: \u001b[0mWARNING  C:\\Users\\manas\\Downloads\\_sripproj\\_proj0\\dataset\\split_data\\train\\images\\solarpanels_hd_1__x0_258_y0_13825_dxdy_832.tif: ignoring corrupt image/label: Label class 2 exceeds dataset class count 1. Possible class labels are 0-0\n",
      "\u001b[34m\u001b[1mtrain: \u001b[0mWARNING  C:\\Users\\manas\\Downloads\\_sripproj\\_proj0\\dataset\\split_data\\train\\images\\solarpanels_hd_1__x0_2790_y0_20151_dxdy_832.tif: ignoring corrupt image/label: Label class 2 exceeds dataset class count 1. Possible class labels are 0-0\n",
      "\u001b[34m\u001b[1mtrain: \u001b[0mWARNING  C:\\Users\\manas\\Downloads\\_sripproj\\_proj0\\dataset\\split_data\\train\\images\\solarpanels_hd_1__x0_2798_y0_20679_dxdy_832.tif: ignoring corrupt image/label: Label class 2 exceeds dataset class count 1. Possible class labels are 0-0\n",
      "\u001b[34m\u001b[1mtrain: \u001b[0mWARNING  C:\\Users\\manas\\Downloads\\_sripproj\\_proj0\\dataset\\split_data\\train\\images\\solarpanels_hd_1__x0_2872_y0_20345_dxdy_832.tif: ignoring corrupt image/label: Label class 2 exceeds dataset class count 1. Possible class labels are 0-0\n",
      "\u001b[34m\u001b[1mtrain: \u001b[0mWARNING  C:\\Users\\manas\\Downloads\\_sripproj\\_proj0\\dataset\\split_data\\train\\images\\solarpanels_hd_1__x0_319_y0_14083_dxdy_832.tif: ignoring corrupt image/label: Label class 2 exceeds dataset class count 1. Possible class labels are 0-0\n",
      "\u001b[34m\u001b[1mtrain: \u001b[0mWARNING  C:\\Users\\manas\\Downloads\\_sripproj\\_proj0\\dataset\\split_data\\train\\images\\solarpanels_hd_1__x0_3648_y0_15145_dxdy_832.tif: ignoring corrupt image/label: Label class 2 exceeds dataset class count 1. Possible class labels are 0-0\n",
      "\u001b[34m\u001b[1mtrain: \u001b[0mWARNING  C:\\Users\\manas\\Downloads\\_sripproj\\_proj0\\dataset\\split_data\\train\\images\\solarpanels_hd_1__x0_3958_y0_15047_dxdy_832.tif: ignoring corrupt image/label: Label class 2 exceeds dataset class count 1. Possible class labels are 0-0\n",
      "\u001b[34m\u001b[1mtrain: \u001b[0mWARNING  C:\\Users\\manas\\Downloads\\_sripproj\\_proj0\\dataset\\split_data\\train\\images\\solarpanels_hd_1__x0_423_y0_14864_dxdy_832.tif: ignoring corrupt image/label: Label class 2 exceeds dataset class count 1. Possible class labels are 0-0\n",
      "\u001b[34m\u001b[1mtrain: \u001b[0mWARNING  C:\\Users\\manas\\Downloads\\_sripproj\\_proj0\\dataset\\split_data\\train\\images\\solarpanels_hd_1__x0_4375_y0_16083_dxdy_832.tif: ignoring corrupt image/label: Label class 2 exceeds dataset class count 1. Possible class labels are 0-0\n",
      "\u001b[34m\u001b[1mtrain: \u001b[0mWARNING  C:\\Users\\manas\\Downloads\\_sripproj\\_proj0\\dataset\\split_data\\train\\images\\solarpanels_hd_1__x0_4429_y0_16249_dxdy_832.tif: ignoring corrupt image/label: Label class 2 exceeds dataset class count 1. Possible class labels are 0-0\n",
      "\u001b[34m\u001b[1mtrain: \u001b[0mWARNING  C:\\Users\\manas\\Downloads\\_sripproj\\_proj0\\dataset\\split_data\\train\\images\\solarpanels_hd_1__x0_4548_y0_16371_dxdy_832.tif: ignoring corrupt image/label: Label class 2 exceeds dataset class count 1. Possible class labels are 0-0\n",
      "\u001b[34m\u001b[1mtrain: \u001b[0mWARNING  C:\\Users\\manas\\Downloads\\_sripproj\\_proj0\\dataset\\split_data\\train\\images\\solarpanels_hd_1__x0_4616_y0_16226_dxdy_832.tif: ignoring corrupt image/label: Label class 2 exceeds dataset class count 1. Possible class labels are 0-0\n",
      "\u001b[34m\u001b[1mtrain: \u001b[0mWARNING  C:\\Users\\manas\\Downloads\\_sripproj\\_proj0\\dataset\\split_data\\train\\images\\solarpanels_hd_1__x0_4755_y0_16419_dxdy_832.tif: ignoring corrupt image/label: Label class 2 exceeds dataset class count 1. Possible class labels are 0-0\n",
      "\u001b[34m\u001b[1mtrain: \u001b[0mWARNING  C:\\Users\\manas\\Downloads\\_sripproj\\_proj0\\dataset\\split_data\\train\\images\\solarpanels_hd_1__x0_584_y0_14891_dxdy_832.tif: ignoring corrupt image/label: Label class 2 exceeds dataset class count 1. Possible class labels are 0-0\n",
      "\u001b[34m\u001b[1mtrain: \u001b[0mWARNING  C:\\Users\\manas\\Downloads\\_sripproj\\_proj0\\dataset\\split_data\\train\\images\\solarpanels_hd_1__x0_6018_y0_9406_dxdy_832.tif: ignoring corrupt image/label: Label class 2 exceeds dataset class count 1. Possible class labels are 0-0\n",
      "\u001b[34m\u001b[1mtrain: \u001b[0mWARNING  C:\\Users\\manas\\Downloads\\_sripproj\\_proj0\\dataset\\split_data\\train\\images\\solarpanels_hd_1__x0_710_y0_14678_dxdy_832.tif: ignoring corrupt image/label: Label class 2 exceeds dataset class count 1. Possible class labels are 0-0\n",
      "\u001b[34m\u001b[1mtrain: \u001b[0mWARNING  C:\\Users\\manas\\Downloads\\_sripproj\\_proj0\\dataset\\split_data\\train\\images\\solarpanels_hd_1__x0_914_y0_14724_dxdy_832.tif: ignoring corrupt image/label: Label class 2 exceeds dataset class count 1. Possible class labels are 0-0\n",
      "\u001b[34m\u001b[1mtrain: \u001b[0mWARNING  C:\\Users\\manas\\Downloads\\_sripproj\\_proj0\\dataset\\split_data\\train\\images\\solarpanels_hd_2__x0_10060_y0_11413_dxdy_832.tif: ignoring corrupt image/label: Label class 2 exceeds dataset class count 1. Possible class labels are 0-0\n",
      "\u001b[34m\u001b[1mtrain: \u001b[0mWARNING  C:\\Users\\manas\\Downloads\\_sripproj\\_proj0\\dataset\\split_data\\train\\images\\solarpanels_hd_2__x0_10085_y0_11459_dxdy_832.tif: ignoring corrupt image/label: Label class 2 exceeds dataset class count 1. Possible class labels are 0-0\n",
      "\u001b[34m\u001b[1mtrain: \u001b[0mWARNING  C:\\Users\\manas\\Downloads\\_sripproj\\_proj0\\dataset\\split_data\\train\\images\\solarpanels_hd_2__x0_10261_y0_11540_dxdy_832.tif: ignoring corrupt image/label: Label class 2 exceeds dataset class count 1. Possible class labels are 0-0\n",
      "\u001b[34m\u001b[1mtrain: \u001b[0mWARNING  C:\\Users\\manas\\Downloads\\_sripproj\\_proj0\\dataset\\split_data\\train\\images\\solarpanels_hd_2__x0_10278_y0_11278_dxdy_832.tif: ignoring corrupt image/label: Label class 2 exceeds dataset class count 1. Possible class labels are 0-0\n",
      "\u001b[34m\u001b[1mtrain: \u001b[0mWARNING  C:\\Users\\manas\\Downloads\\_sripproj\\_proj0\\dataset\\split_data\\train\\images\\solarpanels_hd_2__x0_10348_y0_12001_dxdy_832.tif: ignoring corrupt image/label: Label class 1 exceeds dataset class count 1. Possible class labels are 0-0\n",
      "\u001b[34m\u001b[1mtrain: \u001b[0mWARNING  C:\\Users\\manas\\Downloads\\_sripproj\\_proj0\\dataset\\split_data\\train\\images\\solarpanels_hd_2__x0_10406_y0_11948_dxdy_832.tif: ignoring corrupt image/label: Label class 1 exceeds dataset class count 1. Possible class labels are 0-0\n",
      "\u001b[34m\u001b[1mtrain: \u001b[0mWARNING  C:\\Users\\manas\\Downloads\\_sripproj\\_proj0\\dataset\\split_data\\train\\images\\solarpanels_hd_2__x0_10470_y0_13595_dxdy_832.tif: ignoring corrupt image/label: Label class 1 exceeds dataset class count 1. Possible class labels are 0-0\n",
      "\u001b[34m\u001b[1mtrain: \u001b[0mWARNING  C:\\Users\\manas\\Downloads\\_sripproj\\_proj0\\dataset\\split_data\\train\\images\\solarpanels_hd_2__x0_10471_y0_13247_dxdy_832.tif: ignoring corrupt image/label: Label class 1 exceeds dataset class count 1. Possible class labels are 0-0\n",
      "\u001b[34m\u001b[1mtrain: \u001b[0mWARNING  C:\\Users\\manas\\Downloads\\_sripproj\\_proj0\\dataset\\split_data\\train\\images\\solarpanels_hd_2__x0_10688_y0_13167_dxdy_832.tif: ignoring corrupt image/label: Label class 1 exceeds dataset class count 1. Possible class labels are 0-0\n",
      "\u001b[34m\u001b[1mtrain: \u001b[0mWARNING  C:\\Users\\manas\\Downloads\\_sripproj\\_proj0\\dataset\\split_data\\train\\images\\solarpanels_hd_2__x0_10931_y0_12109_dxdy_832.tif: ignoring corrupt image/label: Label class 1 exceeds dataset class count 1. Possible class labels are 0-0\n",
      "\u001b[34m\u001b[1mtrain: \u001b[0mWARNING  C:\\Users\\manas\\Downloads\\_sripproj\\_proj0\\dataset\\split_data\\train\\images\\solarpanels_hd_2__x0_11200_y0_11826_dxdy_832.tif: ignoring corrupt image/label: Label class 1 exceeds dataset class count 1. Possible class labels are 0-0\n",
      "\u001b[34m\u001b[1mtrain: \u001b[0mWARNING  C:\\Users\\manas\\Downloads\\_sripproj\\_proj0\\dataset\\split_data\\train\\images\\solarpanels_hd_2__x0_11219_y0_11081_dxdy_832.tif: ignoring corrupt image/label: Label class 1 exceeds dataset class count 1. Possible class labels are 0-0\n",
      "\u001b[34m\u001b[1mtrain: \u001b[0mWARNING  C:\\Users\\manas\\Downloads\\_sripproj\\_proj0\\dataset\\split_data\\train\\images\\solarpanels_hd_2__x0_11250_y0_12639_dxdy_832.tif: ignoring corrupt image/label: Label class 1 exceeds dataset class count 1. Possible class labels are 0-0\n",
      "\u001b[34m\u001b[1mtrain: \u001b[0mWARNING  C:\\Users\\manas\\Downloads\\_sripproj\\_proj0\\dataset\\split_data\\train\\images\\solarpanels_hd_2__x0_11325_y0_10939_dxdy_832.tif: ignoring corrupt image/label: Label class 1 exceeds dataset class count 1. Possible class labels are 0-0\n",
      "\u001b[34m\u001b[1mtrain: \u001b[0mWARNING  C:\\Users\\manas\\Downloads\\_sripproj\\_proj0\\dataset\\split_data\\train\\images\\solarpanels_hd_2__x0_11351_y0_11188_dxdy_832.tif: ignoring corrupt image/label: Label class 1 exceeds dataset class count 1. Possible class labels are 0-0\n",
      "\u001b[34m\u001b[1mtrain: \u001b[0mWARNING  C:\\Users\\manas\\Downloads\\_sripproj\\_proj0\\dataset\\split_data\\train\\images\\solarpanels_hd_2__x0_11421_y0_10965_dxdy_832.tif: ignoring corrupt image/label: Label class 1 exceeds dataset class count 1. Possible class labels are 0-0\n",
      "\u001b[34m\u001b[1mtrain: \u001b[0mWARNING  C:\\Users\\manas\\Downloads\\_sripproj\\_proj0\\dataset\\split_data\\train\\images\\solarpanels_hd_2__x0_11424_y0_11138_dxdy_832.tif: ignoring corrupt image/label: Label class 1 exceeds dataset class count 1. Possible class labels are 0-0\n",
      "\u001b[34m\u001b[1mtrain: \u001b[0mWARNING  C:\\Users\\manas\\Downloads\\_sripproj\\_proj0\\dataset\\split_data\\train\\images\\solarpanels_hd_2__x0_11437_y0_10614_dxdy_832.tif: ignoring corrupt image/label: Label class 1 exceeds dataset class count 1. Possible class labels are 0-0\n",
      "\u001b[34m\u001b[1mtrain: \u001b[0mWARNING  C:\\Users\\manas\\Downloads\\_sripproj\\_proj0\\dataset\\split_data\\train\\images\\solarpanels_hd_2__x0_11459_y0_11065_dxdy_832.tif: ignoring corrupt image/label: Label class 1 exceeds dataset class count 1. Possible class labels are 0-0\n",
      "\u001b[34m\u001b[1mtrain: \u001b[0mWARNING  C:\\Users\\manas\\Downloads\\_sripproj\\_proj0\\dataset\\split_data\\train\\images\\solarpanels_hd_2__x0_11481_y0_11017_dxdy_832.tif: ignoring corrupt image/label: Label class 1 exceeds dataset class count 1. Possible class labels are 0-0\n",
      "\u001b[34m\u001b[1mtrain: \u001b[0mWARNING  C:\\Users\\manas\\Downloads\\_sripproj\\_proj0\\dataset\\split_data\\train\\images\\solarpanels_hd_2__x0_11512_y0_11054_dxdy_832.tif: ignoring corrupt image/label: Label class 1 exceeds dataset class count 1. Possible class labels are 0-0\n",
      "\u001b[34m\u001b[1mtrain: \u001b[0mWARNING  C:\\Users\\manas\\Downloads\\_sripproj\\_proj0\\dataset\\split_data\\train\\images\\solarpanels_hd_2__x0_11545_y0_11080_dxdy_832.tif: ignoring corrupt image/label: Label class 1 exceeds dataset class count 1. Possible class labels are 0-0\n",
      "\u001b[34m\u001b[1mtrain: \u001b[0mWARNING  C:\\Users\\manas\\Downloads\\_sripproj\\_proj0\\dataset\\split_data\\train\\images\\solarpanels_hd_2__x0_11640_y0_10834_dxdy_832.tif: ignoring corrupt image/label: Label class 1 exceeds dataset class count 1. Possible class labels are 0-0\n",
      "\u001b[34m\u001b[1mtrain: \u001b[0mWARNING  C:\\Users\\manas\\Downloads\\_sripproj\\_proj0\\dataset\\split_data\\train\\images\\solarpanels_hd_2__x0_11717_y0_10969_dxdy_832.tif: ignoring corrupt image/label: Label class 1 exceeds dataset class count 1. Possible class labels are 0-0\n",
      "\u001b[34m\u001b[1mtrain: \u001b[0mWARNING  C:\\Users\\manas\\Downloads\\_sripproj\\_proj0\\dataset\\split_data\\train\\images\\solarpanels_hd_2__x0_11828_y0_11486_dxdy_832.tif: ignoring corrupt image/label: Label class 1 exceeds dataset class count 1. Possible class labels are 0-0\n",
      "\u001b[34m\u001b[1mtrain: \u001b[0mWARNING  C:\\Users\\manas\\Downloads\\_sripproj\\_proj0\\dataset\\split_data\\train\\images\\solarpanels_hd_2__x0_1348_y0_17019_dxdy_832.tif: ignoring corrupt image/label: Label class 1 exceeds dataset class count 1. Possible class labels are 0-0\n",
      "\u001b[34m\u001b[1mtrain: \u001b[0mWARNING  C:\\Users\\manas\\Downloads\\_sripproj\\_proj0\\dataset\\split_data\\train\\images\\solarpanels_hd_2__x0_13771_y0_19571_dxdy_832.tif: ignoring corrupt image/label: Label class 1 exceeds dataset class count 1. Possible class labels are 0-0\n",
      "\u001b[34m\u001b[1mtrain: \u001b[0mWARNING  C:\\Users\\manas\\Downloads\\_sripproj\\_proj0\\dataset\\split_data\\train\\images\\solarpanels_hd_2__x0_13884_y0_20080_dxdy_832.tif: ignoring corrupt image/label: Label class 1 exceeds dataset class count 1. Possible class labels are 0-0\n",
      "\u001b[34m\u001b[1mtrain: \u001b[0mWARNING  C:\\Users\\manas\\Downloads\\_sripproj\\_proj0\\dataset\\split_data\\train\\images\\solarpanels_hd_2__x0_13906_y0_19962_dxdy_832.tif: ignoring corrupt image/label: Label class 1 exceeds dataset class count 1. Possible class labels are 0-0\n",
      "\u001b[34m\u001b[1mtrain: \u001b[0mWARNING  C:\\Users\\manas\\Downloads\\_sripproj\\_proj0\\dataset\\split_data\\train\\images\\solarpanels_hd_2__x0_1397_y0_17047_dxdy_832.tif: ignoring corrupt image/label: Label class 1 exceeds dataset class count 1. Possible class labels are 0-0\n",
      "\u001b[34m\u001b[1mtrain: \u001b[0mWARNING  C:\\Users\\manas\\Downloads\\_sripproj\\_proj0\\dataset\\split_data\\train\\images\\solarpanels_hd_2__x0_14119_y0_19736_dxdy_832.tif: ignoring corrupt image/label: Label class 1 exceeds dataset class count 1. Possible class labels are 0-0\n",
      "\u001b[34m\u001b[1mtrain: \u001b[0mWARNING  C:\\Users\\manas\\Downloads\\_sripproj\\_proj0\\dataset\\split_data\\train\\images\\solarpanels_hd_2__x0_14151_y0_19476_dxdy_832.tif: ignoring corrupt image/label: Label class 1 exceeds dataset class count 1. Possible class labels are 0-0\n",
      "\u001b[34m\u001b[1mtrain: \u001b[0mWARNING  C:\\Users\\manas\\Downloads\\_sripproj\\_proj0\\dataset\\split_data\\train\\images\\solarpanels_hd_2__x0_14444_y0_20632_dxdy_832.tif: ignoring corrupt image/label: Label class 1 exceeds dataset class count 1. Possible class labels are 0-0\n",
      "\u001b[34m\u001b[1mtrain: \u001b[0mWARNING  C:\\Users\\manas\\Downloads\\_sripproj\\_proj0\\dataset\\split_data\\train\\images\\solarpanels_hd_2__x0_1606_y0_17176_dxdy_832.tif: ignoring corrupt image/label: Label class 1 exceeds dataset class count 1. Possible class labels are 0-0\n",
      "\u001b[34m\u001b[1mtrain: \u001b[0mWARNING  C:\\Users\\manas\\Downloads\\_sripproj\\_proj0\\dataset\\split_data\\train\\images\\solarpanels_hd_2__x0_16639_y0_6076_dxdy_832.tif: ignoring corrupt image/label: Label class 1 exceeds dataset class count 1. Possible class labels are 0-0\n",
      "\u001b[34m\u001b[1mtrain: \u001b[0mWARNING  C:\\Users\\manas\\Downloads\\_sripproj\\_proj0\\dataset\\split_data\\train\\images\\solarpanels_hd_2__x0_16658_y0_6281_dxdy_832.tif: ignoring corrupt image/label: Label class 1 exceeds dataset class count 1. Possible class labels are 0-0\n",
      "\u001b[34m\u001b[1mtrain: \u001b[0mWARNING  C:\\Users\\manas\\Downloads\\_sripproj\\_proj0\\dataset\\split_data\\train\\images\\solarpanels_hd_2__x0_16853_y0_6092_dxdy_832.tif: ignoring corrupt image/label: Label class 1 exceeds dataset class count 1. Possible class labels are 0-0\n",
      "\u001b[34m\u001b[1mtrain: \u001b[0mWARNING  C:\\Users\\manas\\Downloads\\_sripproj\\_proj0\\dataset\\split_data\\train\\images\\solarpanels_hd_2__x0_16937_y0_6181_dxdy_832.tif: ignoring corrupt image/label: Label class 1 exceeds dataset class count 1. Possible class labels are 0-0\n",
      "\u001b[34m\u001b[1mtrain: \u001b[0mWARNING  C:\\Users\\manas\\Downloads\\_sripproj\\_proj0\\dataset\\split_data\\train\\images\\solarpanels_hd_2__x0_18379_y0_5727_dxdy_832.tif: ignoring corrupt image/label: Label class 1 exceeds dataset class count 1. Possible class labels are 0-0\n",
      "\u001b[34m\u001b[1mtrain: \u001b[0mWARNING  C:\\Users\\manas\\Downloads\\_sripproj\\_proj0\\dataset\\split_data\\train\\images\\solarpanels_hd_2__x0_18464_y0_5691_dxdy_832.tif: ignoring corrupt image/label: Label class 1 exceeds dataset class count 1. Possible class labels are 0-0\n",
      "\u001b[34m\u001b[1mtrain: \u001b[0mWARNING  C:\\Users\\manas\\Downloads\\_sripproj\\_proj0\\dataset\\split_data\\train\\images\\solarpanels_hd_2__x0_18818_y0_7312_dxdy_832.tif: ignoring corrupt image/label: Label class 1 exceeds dataset class count 1. Possible class labels are 0-0\n",
      "\u001b[34m\u001b[1mtrain: \u001b[0mWARNING  C:\\Users\\manas\\Downloads\\_sripproj\\_proj0\\dataset\\split_data\\train\\images\\solarpanels_hd_2__x0_18819_y0_6923_dxdy_832.tif: ignoring corrupt image/label: Label class 1 exceeds dataset class count 1. Possible class labels are 0-0\n",
      "\u001b[34m\u001b[1mtrain: \u001b[0mWARNING  C:\\Users\\manas\\Downloads\\_sripproj\\_proj0\\dataset\\split_data\\train\\images\\solarpanels_hd_2__x0_18870_y0_7389_dxdy_832.tif: ignoring corrupt image/label: Label class 1 exceeds dataset class count 1. Possible class labels are 0-0\n",
      "\u001b[34m\u001b[1mtrain: \u001b[0mWARNING  C:\\Users\\manas\\Downloads\\_sripproj\\_proj0\\dataset\\split_data\\train\\images\\solarpanels_hd_2__x0_18950_y0_7585_dxdy_832.tif: ignoring corrupt image/label: Label class 1 exceeds dataset class count 1. Possible class labels are 0-0\n",
      "\u001b[34m\u001b[1mtrain: \u001b[0mWARNING  C:\\Users\\manas\\Downloads\\_sripproj\\_proj0\\dataset\\split_data\\train\\images\\solarpanels_hd_2__x0_18976_y0_7491_dxdy_832.tif: ignoring corrupt image/label: Label class 1 exceeds dataset class count 1. Possible class labels are 0-0\n",
      "\u001b[34m\u001b[1mtrain: \u001b[0mWARNING  C:\\Users\\manas\\Downloads\\_sripproj\\_proj0\\dataset\\split_data\\train\\images\\solarpanels_hd_2__x0_19026_y0_7188_dxdy_832.tif: ignoring corrupt image/label: Label class 1 exceeds dataset class count 1. Possible class labels are 0-0\n",
      "\u001b[34m\u001b[1mtrain: \u001b[0mWARNING  C:\\Users\\manas\\Downloads\\_sripproj\\_proj0\\dataset\\split_data\\train\\images\\solarpanels_hd_2__x0_19064_y0_5023_dxdy_832.tif: ignoring corrupt image/label: Label class 1 exceeds dataset class count 1. Possible class labels are 0-0\n",
      "\u001b[34m\u001b[1mtrain: \u001b[0mWARNING  C:\\Users\\manas\\Downloads\\_sripproj\\_proj0\\dataset\\split_data\\train\\images\\solarpanels_hd_2__x0_19068_y0_7058_dxdy_832.tif: ignoring corrupt image/label: Label class 1 exceeds dataset class count 1. Possible class labels are 0-0\n",
      "\u001b[34m\u001b[1mtrain: \u001b[0mWARNING  C:\\Users\\manas\\Downloads\\_sripproj\\_proj0\\dataset\\split_data\\train\\images\\solarpanels_hd_2__x0_19101_y0_7126_dxdy_832.tif: ignoring corrupt image/label: Label class 1 exceeds dataset class count 1. Possible class labels are 0-0\n",
      "\u001b[34m\u001b[1mtrain: \u001b[0mWARNING  C:\\Users\\manas\\Downloads\\_sripproj\\_proj0\\dataset\\split_data\\train\\images\\solarpanels_hd_2__x0_19142_y0_5938_dxdy_832.tif: ignoring corrupt image/label: Label class 1 exceeds dataset class count 1. Possible class labels are 0-0\n",
      "\u001b[34m\u001b[1mtrain: \u001b[0mWARNING  C:\\Users\\manas\\Downloads\\_sripproj\\_proj0\\dataset\\split_data\\train\\images\\solarpanels_hd_2__x0_19260_y0_5035_dxdy_832.tif: ignoring corrupt image/label: Label class 1 exceeds dataset class count 1. Possible class labels are 0-0\n",
      "\u001b[34m\u001b[1mtrain: \u001b[0mWARNING  C:\\Users\\manas\\Downloads\\_sripproj\\_proj0\\dataset\\split_data\\train\\images\\solarpanels_hd_2__x0_21287_y0_11166_dxdy_832.tif: ignoring corrupt image/label: Label class 1 exceeds dataset class count 1. Possible class labels are 0-0\n",
      "\u001b[34m\u001b[1mtrain: \u001b[0mWARNING  C:\\Users\\manas\\Downloads\\_sripproj\\_proj0\\dataset\\split_data\\train\\images\\solarpanels_hd_2__x0_21327_y0_11483_dxdy_832.tif: ignoring corrupt image/label: Label class 1 exceeds dataset class count 1. Possible class labels are 0-0\n",
      "\u001b[34m\u001b[1mtrain: \u001b[0mWARNING  C:\\Users\\manas\\Downloads\\_sripproj\\_proj0\\dataset\\split_data\\train\\images\\solarpanels_hd_2__x0_21534_y0_11629_dxdy_832.tif: ignoring corrupt image/label: Label class 1 exceeds dataset class count 1. Possible class labels are 0-0\n",
      "\u001b[34m\u001b[1mtrain: \u001b[0mWARNING  C:\\Users\\manas\\Downloads\\_sripproj\\_proj0\\dataset\\split_data\\train\\images\\solarpanels_hd_2__x0_29466_y0_28514_dxdy_832.tif: ignoring corrupt image/label: Label class 1 exceeds dataset class count 1. Possible class labels are 0-0\n",
      "\u001b[34m\u001b[1mtrain: \u001b[0mWARNING  C:\\Users\\manas\\Downloads\\_sripproj\\_proj0\\dataset\\split_data\\train\\images\\solarpanels_hd_2__x0_29514_y0_28503_dxdy_832.tif: ignoring corrupt image/label: Label class 1 exceeds dataset class count 1. Possible class labels are 0-0\n",
      "\u001b[34m\u001b[1mtrain: \u001b[0mWARNING  C:\\Users\\manas\\Downloads\\_sripproj\\_proj0\\dataset\\split_data\\train\\images\\solarpanels_hd_2__x0_30038_y0_28050_dxdy_832.tif: ignoring corrupt image/label: Label class 1 exceeds dataset class count 1. Possible class labels are 0-0\n",
      "\u001b[34m\u001b[1mtrain: \u001b[0mWARNING  C:\\Users\\manas\\Downloads\\_sripproj\\_proj0\\dataset\\split_data\\train\\images\\solarpanels_hd_2__x0_3316_y0_19185_dxdy_832.tif: ignoring corrupt image/label: Label class 1 exceeds dataset class count 1. Possible class labels are 0-0\n",
      "\u001b[34m\u001b[1mtrain: \u001b[0mWARNING  C:\\Users\\manas\\Downloads\\_sripproj\\_proj0\\dataset\\split_data\\train\\images\\solarpanels_hd_2__x0_3346_y0_19040_dxdy_832.tif: ignoring corrupt image/label: Label class 1 exceeds dataset class count 1. Possible class labels are 0-0\n",
      "\u001b[34m\u001b[1mtrain: \u001b[0mWARNING  C:\\Users\\manas\\Downloads\\_sripproj\\_proj0\\dataset\\split_data\\train\\images\\solarpanels_hd_2__x0_3355_y0_19350_dxdy_832.tif: ignoring corrupt image/label: Label class 1 exceeds dataset class count 1. Possible class labels are 0-0\n",
      "\u001b[34m\u001b[1mtrain: \u001b[0mWARNING  C:\\Users\\manas\\Downloads\\_sripproj\\_proj0\\dataset\\split_data\\train\\images\\solarpanels_hd_2__x0_3501_y0_19825_dxdy_832.tif: ignoring corrupt image/label: Label class 1 exceeds dataset class count 1. Possible class labels are 0-0\n",
      "\u001b[34m\u001b[1mtrain: \u001b[0mWARNING  C:\\Users\\manas\\Downloads\\_sripproj\\_proj0\\dataset\\split_data\\train\\images\\solarpanels_hd_2__x0_3548_y0_19097_dxdy_832.tif: ignoring corrupt image/label: Label class 1 exceeds dataset class count 1. Possible class labels are 0-0\n",
      "\u001b[34m\u001b[1mtrain: \u001b[0mWARNING  C:\\Users\\manas\\Downloads\\_sripproj\\_proj0\\dataset\\split_data\\train\\images\\solarpanels_hd_2__x0_9754_y0_11367_dxdy_832.tif: ignoring corrupt image/label: Label class 2 exceeds dataset class count 1. Possible class labels are 0-0\n",
      "\u001b[34m\u001b[1mtrain: \u001b[0mWARNING  C:\\Users\\manas\\Downloads\\_sripproj\\_proj0\\dataset\\split_data\\train\\images\\solarpanels_hd_2__x0_9829_y0_24804_dxdy_832.tif: ignoring corrupt image/label: Label class 2 exceeds dataset class count 1. Possible class labels are 0-0\n",
      "\u001b[34m\u001b[1mtrain: \u001b[0mWARNING  C:\\Users\\manas\\Downloads\\_sripproj\\_proj0\\dataset\\split_data\\train\\images\\solarpanels_hd_2__x0_9964_y0_24747_dxdy_832.tif: ignoring corrupt image/label: Label class 2 exceeds dataset class count 1. Possible class labels are 0-0\n",
      "\u001b[34m\u001b[1mtrain: \u001b[0mWARNING  C:\\Users\\manas\\Downloads\\_sripproj\\_proj0\\dataset\\split_data\\train\\images\\solarpanels_hd_2__x0_9980_y0_11361_dxdy_832.tif: ignoring corrupt image/label: Label class 2 exceeds dataset class count 1. Possible class labels are 0-0\n",
      "\u001b[34m\u001b[1mtrain: \u001b[0mWARNING  C:\\Users\\manas\\Downloads\\_sripproj\\_proj0\\dataset\\split_data\\train\\images\\solarpanels_hd_3__x0_11852_y0_17832_dxdy_832.tif: ignoring corrupt image/label: Label class 2 exceeds dataset class count 1. Possible class labels are 0-0\n",
      "\u001b[34m\u001b[1mtrain: \u001b[0mWARNING  C:\\Users\\manas\\Downloads\\_sripproj\\_proj0\\dataset\\split_data\\train\\images\\solarpanels_hd_3__x0_12040_y0_26635_dxdy_832.tif: ignoring corrupt image/label: Label class 1 exceeds dataset class count 1. Possible class labels are 0-0\n",
      "\u001b[34m\u001b[1mtrain: \u001b[0mWARNING  C:\\Users\\manas\\Downloads\\_sripproj\\_proj0\\dataset\\split_data\\train\\images\\solarpanels_hd_3__x0_12044_y0_17847_dxdy_832.tif: ignoring corrupt image/label: Label class 2 exceeds dataset class count 1. Possible class labels are 0-0\n",
      "\u001b[34m\u001b[1mtrain: \u001b[0mWARNING  C:\\Users\\manas\\Downloads\\_sripproj\\_proj0\\dataset\\split_data\\train\\images\\solarpanels_hd_3__x0_12170_y0_17802_dxdy_832.tif: ignoring corrupt image/label: Label class 2 exceeds dataset class count 1. Possible class labels are 0-0\n",
      "\u001b[34m\u001b[1mtrain: \u001b[0mWARNING  C:\\Users\\manas\\Downloads\\_sripproj\\_proj0\\dataset\\split_data\\train\\images\\solarpanels_hd_3__x0_12289_y0_26937_dxdy_832.tif: ignoring corrupt image/label: Label class 1 exceeds dataset class count 1. Possible class labels are 0-0\n",
      "\u001b[34m\u001b[1mtrain: \u001b[0mWARNING  C:\\Users\\manas\\Downloads\\_sripproj\\_proj0\\dataset\\split_data\\train\\images\\solarpanels_hd_3__x0_12493_y0_26375_dxdy_832.tif: ignoring corrupt image/label: Label class 1 exceeds dataset class count 1. Possible class labels are 0-0\n",
      "\u001b[34m\u001b[1mtrain: \u001b[0mWARNING  C:\\Users\\manas\\Downloads\\_sripproj\\_proj0\\dataset\\split_data\\train\\images\\solarpanels_hd_3__x0_12723_y0_26416_dxdy_832.tif: ignoring corrupt image/label: Label class 1 exceeds dataset class count 1. Possible class labels are 0-0\n",
      "\u001b[34m\u001b[1mtrain: \u001b[0mWARNING  C:\\Users\\manas\\Downloads\\_sripproj\\_proj0\\dataset\\split_data\\train\\images\\solarpanels_hd_3__x0_13238_y0_27630_dxdy_832.tif: ignoring corrupt image/label: Label class 2 exceeds dataset class count 1. Possible class labels are 0-0\n",
      "\u001b[34m\u001b[1mtrain: \u001b[0mWARNING  C:\\Users\\manas\\Downloads\\_sripproj\\_proj0\\dataset\\split_data\\train\\images\\solarpanels_hd_3__x0_15930_y0_12848_dxdy_832.tif: ignoring corrupt image/label: Label class 2 exceeds dataset class count 1. Possible class labels are 0-0\n",
      "\u001b[34m\u001b[1mtrain: \u001b[0mWARNING  C:\\Users\\manas\\Downloads\\_sripproj\\_proj0\\dataset\\split_data\\train\\images\\solarpanels_hd_3__x0_17169_y0_25915_dxdy_832.tif: ignoring corrupt image/label: Label class 2 exceeds dataset class count 1. Possible class labels are 0-0\n",
      "\u001b[34m\u001b[1mtrain: \u001b[0mWARNING  C:\\Users\\manas\\Downloads\\_sripproj\\_proj0\\dataset\\split_data\\train\\images\\solarpanels_hd_3__x0_17191_y0_26057_dxdy_832.tif: ignoring corrupt image/label: Label class 2 exceeds dataset class count 1. Possible class labels are 0-0\n",
      "\u001b[34m\u001b[1mtrain: \u001b[0mWARNING  C:\\Users\\manas\\Downloads\\_sripproj\\_proj0\\dataset\\split_data\\train\\images\\solarpanels_hd_3__x0_17214_y0_25930_dxdy_832.tif: ignoring corrupt image/label: Label class 2 exceeds dataset class count 1. Possible class labels are 0-0\n",
      "\u001b[34m\u001b[1mtrain: \u001b[0mWARNING  C:\\Users\\manas\\Downloads\\_sripproj\\_proj0\\dataset\\split_data\\train\\images\\solarpanels_hd_3__x0_17269_y0_25871_dxdy_832.tif: ignoring corrupt image/label: Label class 2 exceeds dataset class count 1. Possible class labels are 0-0\n",
      "\u001b[34m\u001b[1mtrain: \u001b[0mWARNING  C:\\Users\\manas\\Downloads\\_sripproj\\_proj0\\dataset\\split_data\\train\\images\\solarpanels_hd_3__x0_17642_y0_26199_dxdy_832.tif: ignoring corrupt image/label: Label class 2 exceeds dataset class count 1. Possible class labels are 0-0\n",
      "\u001b[34m\u001b[1mtrain: \u001b[0mWARNING  C:\\Users\\manas\\Downloads\\_sripproj\\_proj0\\dataset\\split_data\\train\\images\\solarpanels_hd_3__x0_18110_y0_29113_dxdy_832.tif: ignoring corrupt image/label: Label class 2 exceeds dataset class count 1. Possible class labels are 0-0\n",
      "\u001b[34m\u001b[1mtrain: \u001b[0mWARNING  C:\\Users\\manas\\Downloads\\_sripproj\\_proj0\\dataset\\split_data\\train\\images\\solarpanels_hd_3__x0_18211_y0_29590_dxdy_832.tif: ignoring corrupt image/label: Label class 2 exceeds dataset class count 1. Possible class labels are 0-0\n",
      "\u001b[34m\u001b[1mtrain: \u001b[0mWARNING  C:\\Users\\manas\\Downloads\\_sripproj\\_proj0\\dataset\\split_data\\train\\images\\solarpanels_hd_3__x0_18322_y0_29630_dxdy_832.tif: ignoring corrupt image/label: Label class 2 exceeds dataset class count 1. Possible class labels are 0-0\n",
      "\u001b[34m\u001b[1mtrain: \u001b[0mWARNING  C:\\Users\\manas\\Downloads\\_sripproj\\_proj0\\dataset\\split_data\\train\\images\\solarpanels_hd_3__x0_18350_y0_25976_dxdy_832.tif: ignoring corrupt image/label: Label class 2 exceeds dataset class count 1. Possible class labels are 0-0\n",
      "\u001b[34m\u001b[1mtrain: \u001b[0mWARNING  C:\\Users\\manas\\Downloads\\_sripproj\\_proj0\\dataset\\split_data\\train\\images\\solarpanels_hd_3__x0_18566_y0_29232_dxdy_832.tif: ignoring corrupt image/label: Label class 2 exceeds dataset class count 1. Possible class labels are 0-0\n",
      "\u001b[34m\u001b[1mtrain: \u001b[0mWARNING  C:\\Users\\manas\\Downloads\\_sripproj\\_proj0\\dataset\\split_data\\train\\images\\solarpanels_hd_3__x0_18613_y0_19748_dxdy_832.tif: ignoring corrupt image/label: Label class 2 exceeds dataset class count 1. Possible class labels are 0-0\n",
      "\u001b[34m\u001b[1mtrain: \u001b[0mWARNING  C:\\Users\\manas\\Downloads\\_sripproj\\_proj0\\dataset\\split_data\\train\\images\\solarpanels_hd_3__x0_18616_y0_25863_dxdy_832.tif: ignoring corrupt image/label: Label class 2 exceeds dataset class count 1. Possible class labels are 0-0\n",
      "\u001b[34m\u001b[1mtrain: \u001b[0mWARNING  C:\\Users\\manas\\Downloads\\_sripproj\\_proj0\\dataset\\split_data\\train\\images\\solarpanels_hd_3__x0_18728_y0_29640_dxdy_832.tif: ignoring corrupt image/label: Label class 2 exceeds dataset class count 1. Possible class labels are 0-0\n",
      "\u001b[34m\u001b[1mtrain: \u001b[0mWARNING  C:\\Users\\manas\\Downloads\\_sripproj\\_proj0\\dataset\\split_data\\train\\images\\solarpanels_hd_3__x0_18830_y0_29745_dxdy_832.tif: ignoring corrupt image/label: Label class 2 exceeds dataset class count 1. Possible class labels are 0-0\n",
      "\u001b[34m\u001b[1mtrain: \u001b[0mWARNING  C:\\Users\\manas\\Downloads\\_sripproj\\_proj0\\dataset\\split_data\\train\\images\\solarpanels_hd_3__x0_21977_y0_25851_dxdy_832.tif: ignoring corrupt image/label: Label class 2 exceeds dataset class count 1. Possible class labels are 0-0\n",
      "\u001b[34m\u001b[1mtrain: \u001b[0mWARNING  C:\\Users\\manas\\Downloads\\_sripproj\\_proj0\\dataset\\split_data\\train\\images\\solarpanels_hd_3__x0_22143_y0_25526_dxdy_832.tif: ignoring corrupt image/label: Label class 2 exceeds dataset class count 1. Possible class labels are 0-0\n",
      "\u001b[34m\u001b[1mtrain: \u001b[0mWARNING  C:\\Users\\manas\\Downloads\\_sripproj\\_proj0\\dataset\\split_data\\train\\images\\solarpanels_hd_3__x0_22160_y0_25534_dxdy_832.tif: ignoring corrupt image/label: Label class 2 exceeds dataset class count 1. Possible class labels are 0-0\n",
      "\u001b[34m\u001b[1mtrain: \u001b[0mWARNING  C:\\Users\\manas\\Downloads\\_sripproj\\_proj0\\dataset\\split_data\\train\\images\\solarpanels_hd_3__x0_22179_y0_25796_dxdy_832.tif: ignoring corrupt image/label: Label class 2 exceeds dataset class count 1. Possible class labels are 0-0\n",
      "\u001b[34m\u001b[1mtrain: \u001b[0mWARNING  C:\\Users\\manas\\Downloads\\_sripproj\\_proj0\\dataset\\split_data\\train\\images\\solarpanels_hd_3__x0_22185_y0_25663_dxdy_832.tif: ignoring corrupt image/label: Label class 2 exceeds dataset class count 1. Possible class labels are 0-0\n",
      "\u001b[34m\u001b[1mtrain: \u001b[0mWARNING  C:\\Users\\manas\\Downloads\\_sripproj\\_proj0\\dataset\\split_data\\train\\images\\solarpanels_hd_3__x0_22287_y0_25840_dxdy_832.tif: ignoring corrupt image/label: Label class 2 exceeds dataset class count 1. Possible class labels are 0-0\n",
      "\u001b[34m\u001b[1mtrain: \u001b[0mWARNING  C:\\Users\\manas\\Downloads\\_sripproj\\_proj0\\dataset\\split_data\\train\\images\\solarpanels_hd_3__x0_22393_y0_25381_dxdy_832.tif: ignoring corrupt image/label: Label class 2 exceeds dataset class count 1. Possible class labels are 0-0\n",
      "\u001b[34m\u001b[1mtrain: \u001b[0mWARNING  C:\\Users\\manas\\Downloads\\_sripproj\\_proj0\\dataset\\split_data\\train\\images\\solarpanels_hd_3__x0_22407_y0_25088_dxdy_832.tif: ignoring corrupt image/label: Label class 2 exceeds dataset class count 1. Possible class labels are 0-0\n",
      "\u001b[34m\u001b[1mtrain: \u001b[0mWARNING  C:\\Users\\manas\\Downloads\\_sripproj\\_proj0\\dataset\\split_data\\train\\images\\solarpanels_hd_3__x0_9692_y0_20295_dxdy_832.tif: ignoring corrupt image/label: Label class 2 exceeds dataset class count 1. Possible class labels are 0-0\n"
     ]
    },
    {
     "name": "stderr",
     "output_type": "stream",
     "text": [
      "\n"
     ]
    },
    {
     "name": "stdout",
     "output_type": "stream",
     "text": [
      "\u001b[34m\u001b[1mtrain: \u001b[0mNew cache created: C:\\Users\\manas\\Downloads\\_sripproj\\_proj0\\dataset\\split_data\\train\\labels.cache\n",
      "\u001b[34m\u001b[1malbumentations: \u001b[0mBlur(p=0.01, blur_limit=(3, 7)), MedianBlur(p=0.01, blur_limit=(3, 7)), ToGray(p=0.01, num_output_channels=3, method='weighted_average'), CLAHE(p=0.01, clip_limit=(1, 4.0), tile_grid_size=(8, 8))\n"
     ]
    },
    {
     "name": "stderr",
     "output_type": "stream",
     "text": [
      "UserWarning: A new version of Albumentations is available: 2.0.4 (you have 1.4.15). Upgrade using: pip install -U albumentations. To disable automatic update checks, set the environment variable NO_ALBUMENTATIONS_UPDATE to 1.\n",
      "\u001b[34m\u001b[1mval: \u001b[0mScanning C:\\Users\\manas\\Downloads\\_sripproj\\_proj0\\dataset\\split_data\\val\\labels... 204 images, 0 backgrounds, 14 \u001b[0m"
     ]
    },
    {
     "name": "stdout",
     "output_type": "stream",
     "text": [
      "\u001b[34m\u001b[1mval: \u001b[0mWARNING  C:\\Users\\manas\\Downloads\\_sripproj\\_proj0\\dataset\\split_data\\val\\images\\solarpanels_hd_1__x0_0_y0_14020_dxdy_832.tif: ignoring corrupt image/label: Label class 2 exceeds dataset class count 1. Possible class labels are 0-0\n",
      "\u001b[34m\u001b[1mval: \u001b[0mWARNING  C:\\Users\\manas\\Downloads\\_sripproj\\_proj0\\dataset\\split_data\\val\\images\\solarpanels_hd_1__x0_0_y0_14228_dxdy_832.tif: ignoring corrupt image/label: Label class 2 exceeds dataset class count 1. Possible class labels are 0-0\n",
      "\u001b[34m\u001b[1mval: \u001b[0mWARNING  C:\\Users\\manas\\Downloads\\_sripproj\\_proj0\\dataset\\split_data\\val\\images\\solarpanels_hd_1__x0_122_y0_14455_dxdy_832.tif: ignoring corrupt image/label: Label class 2 exceeds dataset class count 1. Possible class labels are 0-0\n",
      "\u001b[34m\u001b[1mval: \u001b[0mWARNING  C:\\Users\\manas\\Downloads\\_sripproj\\_proj0\\dataset\\split_data\\val\\images\\solarpanels_hd_1__x0_16433_y0_17271_dxdy_832.tif: ignoring corrupt image/label: Label class 2 exceeds dataset class count 1. Possible class labels are 0-0\n",
      "\u001b[34m\u001b[1mval: \u001b[0mWARNING  C:\\Users\\manas\\Downloads\\_sripproj\\_proj0\\dataset\\split_data\\val\\images\\solarpanels_hd_1__x0_16489_y0_15532_dxdy_832.tif: ignoring corrupt image/label: Label class 2 exceeds dataset class count 1. Possible class labels are 0-0\n",
      "\u001b[34m\u001b[1mval: \u001b[0mWARNING  C:\\Users\\manas\\Downloads\\_sripproj\\_proj0\\dataset\\split_data\\val\\images\\solarpanels_hd_1__x0_18829_y0_21933_dxdy_832.tif: ignoring corrupt image/label: Label class 2 exceeds dataset class count 1. Possible class labels are 0-0\n",
      "\u001b[34m\u001b[1mval: \u001b[0mWARNING  C:\\Users\\manas\\Downloads\\_sripproj\\_proj0\\dataset\\split_data\\val\\images\\solarpanels_hd_1__x0_298_y0_13958_dxdy_832.tif: ignoring corrupt image/label: Label class 2 exceeds dataset class count 1. Possible class labels are 0-0\n",
      "\u001b[34m\u001b[1mval: \u001b[0mWARNING  C:\\Users\\manas\\Downloads\\_sripproj\\_proj0\\dataset\\split_data\\val\\images\\solarpanels_hd_1__x0_4187_y0_15273_dxdy_832.tif: ignoring corrupt image/label: Label class 2 exceeds dataset class count 1. Possible class labels are 0-0\n",
      "\u001b[34m\u001b[1mval: \u001b[0mWARNING  C:\\Users\\manas\\Downloads\\_sripproj\\_proj0\\dataset\\split_data\\val\\images\\solarpanels_hd_1__x0_598_y0_15169_dxdy_832.tif: ignoring corrupt image/label: Label class 2 exceeds dataset class count 1. Possible class labels are 0-0\n",
      "\u001b[34m\u001b[1mval: \u001b[0mWARNING  C:\\Users\\manas\\Downloads\\_sripproj\\_proj0\\dataset\\split_data\\val\\images\\solarpanels_hd_2__x0_10179_y0_13259_dxdy_832.tif: ignoring corrupt image/label: Label class 1 exceeds dataset class count 1. Possible class labels are 0-0\n",
      "\u001b[34m\u001b[1mval: \u001b[0mWARNING  C:\\Users\\manas\\Downloads\\_sripproj\\_proj0\\dataset\\split_data\\val\\images\\solarpanels_hd_2__x0_14599_y0_20704_dxdy_832.tif: ignoring corrupt image/label: Label class 1 exceeds dataset class count 1. Possible class labels are 0-0\n",
      "\u001b[34m\u001b[1mval: \u001b[0mWARNING  C:\\Users\\manas\\Downloads\\_sripproj\\_proj0\\dataset\\split_data\\val\\images\\solarpanels_hd_2__x0_19450_y0_5084_dxdy_832.tif: ignoring corrupt image/label: Label class 1 exceeds dataset class count 1. Possible class labels are 0-0\n",
      "\u001b[34m\u001b[1mval: \u001b[0mWARNING  C:\\Users\\manas\\Downloads\\_sripproj\\_proj0\\dataset\\split_data\\val\\images\\solarpanels_hd_2__x0_21608_y0_11184_dxdy_832.tif: ignoring corrupt image/label: Label class 1 exceeds dataset class count 1. Possible class labels are 0-0\n",
      "\u001b[34m\u001b[1mval: \u001b[0mWARNING  C:\\Users\\manas\\Downloads\\_sripproj\\_proj0\\dataset\\split_data\\val\\images\\solarpanels_hd_3__x0_12352_y0_26738_dxdy_832.tif: ignoring corrupt image/label: Label class 1 exceeds dataset class count 1. Possible class labels are 0-0\n"
     ]
    },
    {
     "name": "stderr",
     "output_type": "stream",
     "text": [
      "\n"
     ]
    },
    {
     "name": "stdout",
     "output_type": "stream",
     "text": [
      "\u001b[34m\u001b[1mval: \u001b[0mNew cache created: C:\\Users\\manas\\Downloads\\_sripproj\\_proj0\\dataset\\split_data\\val\\labels.cache\n",
      "Plotting labels to runs\\detect\\train2\\labels.jpg... \n",
      "\u001b[34m\u001b[1moptimizer:\u001b[0m 'optimizer=auto' found, ignoring 'lr0=0.01' and 'momentum=0.937' and determining best 'optimizer', 'lr0' and 'momentum' automatically... \n",
      "\u001b[34m\u001b[1moptimizer:\u001b[0m AdamW(lr=0.002, momentum=0.9) with parameter groups 57 weight(decay=0.0), 64 weight(decay=0.0005), 63 bias(decay=0.0)\n",
      "\u001b[34m\u001b[1mTensorBoard: \u001b[0mmodel graph visualization added \n",
      "Image sizes 832 train, 832 val\n",
      "Using 0 dataloader workers\n",
      "Logging results to \u001b[1mruns\\detect\\train2\u001b[0m\n",
      "Starting training for 11 epochs...\n",
      "\n",
      "      Epoch    GPU_mem   box_loss   cls_loss   dfl_loss  Instances       Size\n"
     ]
    },
    {
     "name": "stderr",
     "output_type": "stream",
     "text": [
      "       1/11         0G      1.483      1.856      1.311         41        832: 100%|██████████| 104/104 [25:19<00:00, 1\n",
      "                 Class     Images  Instances      Box(P          R      mAP50  mAP50-95): 100%|██████████| 6/6 [00:56<0"
     ]
    },
    {
     "name": "stdout",
     "output_type": "stream",
     "text": [
      "                   all        190       2550      0.684      0.549      0.654      0.377\n"
     ]
    },
    {
     "name": "stderr",
     "output_type": "stream",
     "text": [
      "\n"
     ]
    },
    {
     "name": "stdout",
     "output_type": "stream",
     "text": [
      "Closing dataloader mosaic\n",
      "\u001b[34m\u001b[1malbumentations: \u001b[0mBlur(p=0.01, blur_limit=(3, 7)), MedianBlur(p=0.01, blur_limit=(3, 7)), ToGray(p=0.01, num_output_channels=3, method='weighted_average'), CLAHE(p=0.01, clip_limit=(1, 4.0), tile_grid_size=(8, 8))\n",
      "\n",
      "      Epoch    GPU_mem   box_loss   cls_loss   dfl_loss  Instances       Size\n"
     ]
    },
    {
     "name": "stderr",
     "output_type": "stream",
     "text": [
      "       2/11         0G      1.306      1.254      1.191          8        832: 100%|██████████| 104/104 [19:00<00:00, 1\n",
      "                 Class     Images  Instances      Box(P          R      mAP50  mAP50-95): 100%|██████████| 6/6 [00:58<0"
     ]
    },
    {
     "name": "stdout",
     "output_type": "stream",
     "text": [
      "                   all        190       2550      0.756      0.652      0.768      0.488\n"
     ]
    },
    {
     "name": "stderr",
     "output_type": "stream",
     "text": [
      "\n"
     ]
    },
    {
     "name": "stdout",
     "output_type": "stream",
     "text": [
      "\n",
      "      Epoch    GPU_mem   box_loss   cls_loss   dfl_loss  Instances       Size\n"
     ]
    },
    {
     "name": "stderr",
     "output_type": "stream",
     "text": [
      "       3/11         0G       1.25      1.066      1.175          8        832: 100%|██████████| 104/104 [18:59<00:00, 1\n",
      "                 Class     Images  Instances      Box(P          R      mAP50  mAP50-95): 100%|██████████| 6/6 [00:52<0"
     ]
    },
    {
     "name": "stdout",
     "output_type": "stream",
     "text": [
      "                   all        190       2550      0.796      0.809       0.85      0.577\n"
     ]
    },
    {
     "name": "stderr",
     "output_type": "stream",
     "text": [
      "\n"
     ]
    },
    {
     "name": "stdout",
     "output_type": "stream",
     "text": [
      "\n",
      "      Epoch    GPU_mem   box_loss   cls_loss   dfl_loss  Instances       Size\n"
     ]
    },
    {
     "name": "stderr",
     "output_type": "stream",
     "text": [
      "       4/11         0G      1.211     0.9181       1.15         24        832: 100%|██████████| 104/104 [18:53<00:00, 1\n",
      "                 Class     Images  Instances      Box(P          R      mAP50  mAP50-95): 100%|██████████| 6/6 [00:54<0"
     ]
    },
    {
     "name": "stdout",
     "output_type": "stream",
     "text": [
      "                   all        190       2550      0.807      0.819      0.854      0.558\n"
     ]
    },
    {
     "name": "stderr",
     "output_type": "stream",
     "text": [
      "\n"
     ]
    },
    {
     "name": "stdout",
     "output_type": "stream",
     "text": [
      "\n",
      "      Epoch    GPU_mem   box_loss   cls_loss   dfl_loss  Instances       Size\n"
     ]
    },
    {
     "name": "stderr",
     "output_type": "stream",
     "text": [
      "       5/11         0G      1.154     0.8398      1.119         16        832: 100%|██████████| 104/104 [19:06<00:00, 1\n",
      "                 Class     Images  Instances      Box(P          R      mAP50  mAP50-95): 100%|██████████| 6/6 [00:52<0"
     ]
    },
    {
     "name": "stdout",
     "output_type": "stream",
     "text": [
      "                   all        190       2550      0.903      0.867      0.934      0.664\n"
     ]
    },
    {
     "name": "stderr",
     "output_type": "stream",
     "text": [
      "\n"
     ]
    },
    {
     "name": "stdout",
     "output_type": "stream",
     "text": [
      "\n",
      "      Epoch    GPU_mem   box_loss   cls_loss   dfl_loss  Instances       Size\n"
     ]
    },
    {
     "name": "stderr",
     "output_type": "stream",
     "text": [
      "       6/11         0G      1.108     0.7609      1.087         17        832: 100%|██████████| 104/104 [30:37<00:00, 1\n",
      "                 Class     Images  Instances      Box(P          R      mAP50  mAP50-95): 100%|██████████| 6/6 [01:24<0"
     ]
    },
    {
     "name": "stdout",
     "output_type": "stream",
     "text": [
      "                   all        190       2550      0.912      0.869      0.943       0.66\n"
     ]
    },
    {
     "name": "stderr",
     "output_type": "stream",
     "text": [
      "\n"
     ]
    },
    {
     "name": "stdout",
     "output_type": "stream",
     "text": [
      "\n",
      "      Epoch    GPU_mem   box_loss   cls_loss   dfl_loss  Instances       Size\n"
     ]
    },
    {
     "name": "stderr",
     "output_type": "stream",
     "text": [
      "       7/11         0G      1.061     0.7017      1.065         15        832: 100%|██████████| 104/104 [33:17<00:00, 1\n",
      "                 Class     Images  Instances      Box(P          R      mAP50  mAP50-95): 100%|██████████| 6/6 [01:29<0"
     ]
    },
    {
     "name": "stdout",
     "output_type": "stream",
     "text": [
      "                   all        190       2550      0.907      0.864      0.937      0.687\n"
     ]
    },
    {
     "name": "stderr",
     "output_type": "stream",
     "text": [
      "\n"
     ]
    },
    {
     "name": "stdout",
     "output_type": "stream",
     "text": [
      "\n",
      "      Epoch    GPU_mem   box_loss   cls_loss   dfl_loss  Instances       Size\n"
     ]
    },
    {
     "name": "stderr",
     "output_type": "stream",
     "text": [
      "       8/11         0G      1.035     0.6711       1.05         13        832: 100%|██████████| 104/104 [33:51<00:00, 1\n",
      "                 Class     Images  Instances      Box(P          R      mAP50  mAP50-95): 100%|██████████| 6/6 [01:30<0"
     ]
    },
    {
     "name": "stdout",
     "output_type": "stream",
     "text": [
      "                   all        190       2550      0.927      0.899      0.957      0.703\n"
     ]
    },
    {
     "name": "stderr",
     "output_type": "stream",
     "text": [
      "\n"
     ]
    },
    {
     "name": "stdout",
     "output_type": "stream",
     "text": [
      "\n",
      "      Epoch    GPU_mem   box_loss   cls_loss   dfl_loss  Instances       Size\n"
     ]
    },
    {
     "name": "stderr",
     "output_type": "stream",
     "text": [
      "       9/11         0G     0.9897     0.6264      1.033         31        832: 100%|██████████| 104/104 [33:55<00:00, 1\n",
      "                 Class     Images  Instances      Box(P          R      mAP50  mAP50-95): 100%|██████████| 6/6 [01:30<0"
     ]
    },
    {
     "name": "stdout",
     "output_type": "stream",
     "text": [
      "                   all        190       2550      0.932      0.916      0.965      0.739\n"
     ]
    },
    {
     "name": "stderr",
     "output_type": "stream",
     "text": [
      "\n"
     ]
    },
    {
     "name": "stdout",
     "output_type": "stream",
     "text": [
      "\n",
      "      Epoch    GPU_mem   box_loss   cls_loss   dfl_loss  Instances       Size\n"
     ]
    },
    {
     "name": "stderr",
     "output_type": "stream",
     "text": [
      "      10/11         0G     0.9466     0.5837      1.011          6        832: 100%|██████████| 104/104 [24:08<00:00, 1\n",
      "                 Class     Images  Instances      Box(P          R      mAP50  mAP50-95): 100%|██████████| 6/6 [00:52<0"
     ]
    },
    {
     "name": "stdout",
     "output_type": "stream",
     "text": [
      "                   all        190       2550      0.946      0.936      0.975      0.752\n"
     ]
    },
    {
     "name": "stderr",
     "output_type": "stream",
     "text": [
      "\n"
     ]
    },
    {
     "name": "stdout",
     "output_type": "stream",
     "text": [
      "\n",
      "      Epoch    GPU_mem   box_loss   cls_loss   dfl_loss  Instances       Size\n"
     ]
    },
    {
     "name": "stderr",
     "output_type": "stream",
     "text": [
      "      11/11         0G     0.9069     0.5512     0.9969          8        832: 100%|██████████| 104/104 [19:14<00:00, 1\n",
      "                 Class     Images  Instances      Box(P          R      mAP50  mAP50-95): 100%|██████████| 6/6 [00:55<0"
     ]
    },
    {
     "name": "stdout",
     "output_type": "stream",
     "text": [
      "                   all        190       2550      0.933      0.938      0.973      0.761\n"
     ]
    },
    {
     "name": "stderr",
     "output_type": "stream",
     "text": [
      "\n"
     ]
    },
    {
     "name": "stdout",
     "output_type": "stream",
     "text": [
      "\n",
      "11 epochs completed in 4.819 hours.\n",
      "Optimizer stripped from runs\\detect\\train2\\weights\\last.pt, 6.3MB\n",
      "Optimizer stripped from runs\\detect\\train2\\weights\\best.pt, 6.3MB\n",
      "\n",
      "Validating runs\\detect\\train2\\weights\\best.pt...\n",
      "Ultralytics 8.3.75  Python-3.11.6 torch-2.4.1+cpu CPU (12th Gen Intel Core(TM) i7-1255U)\n",
      "Model summary (fused): 168 layers, 3,005,843 parameters, 0 gradients, 8.1 GFLOPs\n"
     ]
    },
    {
     "name": "stderr",
     "output_type": "stream",
     "text": [
      "                 Class     Images  Instances      Box(P          R      mAP50  mAP50-95): 100%|██████████| 6/6 [00:53<0\n"
     ]
    },
    {
     "name": "stdout",
     "output_type": "stream",
     "text": [
      "                   all        190       2550      0.933      0.938      0.973      0.761\n",
      "Speed: 4.8ms preprocess, 253.8ms inference, 0.0ms loss, 1.5ms postprocess per image\n",
      "Results saved to \u001b[1mruns\\detect\\train2\u001b[0m\n"
     ]
    }
   ],
   "source": [
    "results = model.train(\n",
    "    data=data_path,\n",
    "    epochs=11,\n",
    "    imgsz=832,\n",
    "    batch=16,\n",
    "    workers=4\n",
    ")"
   ]
  },
  {
   "cell_type": "code",
   "execution_count": 22,
   "id": "73930af7-06c3-4212-814a-5b85384fa823",
   "metadata": {},
   "outputs": [
    {
     "data": {
      "image/png": "[encoded data removed]",
      "text/plain": [
       "<PIL.PngImagePlugin.PngImageFile image mode=RGBA size=2400x1200>"
      ]
     },
     "metadata": {},
     "output_type": "display_data"
    }
   ],
   "source": [
    "results_img = \"runs/detect/train2/results.png\"\n",
    "img = Image.open(results_img)\n",
    "display(img)"
   ]
  },
  {
   "cell_type": "code",
   "execution_count": 137,
   "id": "2d8331a8-7e33-4be9-9177-7092ebb8610c",
   "metadata": {},
   "outputs": [],
   "source": [
    "#Part 'b'"
   ]
  },
  {
   "cell_type": "code",
   "execution_count": 24,
   "id": "35836620-a844-4aa5-b1af-c1af4998b537",
   "metadata": {},
   "outputs": [],
   "source": [
    "model_path = \"runs/detect/train2/weights/best.pt\"\n",
    "model = YOLO(model_path)"
   ]
  },
  {
   "cell_type": "code",
   "execution_count": 27,
   "id": "87f06302-4eb2-4437-a532-3daf9bc2fe44",
   "metadata": {},
   "outputs": [
    {
     "name": "stdout",
     "output_type": "stream",
     "text": [
      "Selected Test Images: ['C:\\\\Users\\\\manas\\\\Downloads\\\\_sripproj\\\\_proj0\\\\dataset\\\\split_data\\\\test/images\\\\solarpanels_hd_3__x0_18248_y0_24787_dxdy_832.tif', 'C:\\\\Users\\\\manas\\\\Downloads\\\\_sripproj\\\\_proj0\\\\dataset\\\\split_data\\\\test/images\\\\solarpanels_hd_1__x0_884_y0_15820_dxdy_832.tif', 'C:\\\\Users\\\\manas\\\\Downloads\\\\_sripproj\\\\_proj0\\\\dataset\\\\split_data\\\\test/images\\\\solarpanels_hd_1__x0_24457_y0_28105_dxdy_832.tif', 'C:\\\\Users\\\\manas\\\\Downloads\\\\_sripproj\\\\_proj0\\\\dataset\\\\split_data\\\\test/images\\\\solarpanels_hd_1__x0_17028_y0_27834_dxdy_832.tif']\n"
     ]
    }
   ],
   "source": [
    "test_images = glob.glob(os.path.join(test_img_dir, \"*.tif\"))\n",
    "random_images = random.sample(test_images, 4)\n",
    "print(\"Selected Test Images:\", random_images)"
   ]
  },
  {
   "cell_type": "code",
   "execution_count": 28,
   "id": "e60a8009-015c-41ad-a8a5-884cba2267c7",
   "metadata": {},
   "outputs": [],
   "source": [
    "def read_yolo_labels(img_path, label_folder):\n",
    "    img_filename = os.path.basename(img_path).replace(\".tif\", \".txt\")\n",
    "    label_path = os.path.join(label_folder, img_filename)\n",
    "    \n",
    "    if not os.path.exists(label_path):\n",
    "        print(f\"Warning: No label found for {img_path}\")\n",
    "        return []\n",
    "\n",
    "    boxes = []\n",
    "    with open(label_path, \"r\") as file:\n",
    "        for line in file.readlines():\n",
    "            values = line.strip().split()\n",
    "            class_id = int(values[0])\n",
    "            x_center, y_center, width, height = map(float, values[1:])\n",
    "            \n",
    "            img = cv2.imread(img_path)\n",
    "            img_h, img_w, _ = img.shape\n",
    "\n",
    "            x1 = int((x_center - width / 2) * img_w)\n",
    "            y1 = int((y_center - height / 2) * img_h)\n",
    "            x2 = int((x_center + width / 2) * img_w)\n",
    "            y2 = int((y_center + height / 2) * img_h)\n",
    "            \n",
    "            boxes.append((class_id, x1, y1, x2, y2))\n",
    "    return boxes"
   ]
  },
  {
   "cell_type": "code",
   "execution_count": 29,
   "id": "3afda33d-7a7e-4474-93ac-c17d2ad15592",
   "metadata": {},
   "outputs": [],
   "source": [
    "results=r\"C:\\Users\\manas\\Downloads\\_sripproj\\_proj0\\results\"\n",
    "\n",
    "def visualize_predictions(image_paths, model, label_folder, save_folder=results):\n",
    "    os.makedirs(save_folder, exist_ok=True)\n",
    "\n",
    "    for i, img_path in enumerate(image_paths):\n",
    "        img = cv2.imread(img_path)\n",
    "        img = cv2.cvtColor(img, cv2.COLOR_BGR2RGB)\n",
    "        \n",
    "        gt_boxes = read_yolo_labels(img_path, label_folder)\n",
    "        \n",
    "        results = model(img)\n",
    "        pred_boxes = results[0].boxes.xyxy.cpu().numpy()\n",
    "        \n",
    "        plt.figure(figsize=(8, 8))\n",
    "        plt.imshow(img)\n",
    "\n",
    "        #Ground truth boxes(Green)\n",
    "        for _, x1, y1, x2, y2 in gt_boxes:\n",
    "            plt.gca().add_patch(plt.Rectangle((x1, y1), x2 - x1, y2 - y1,\n",
    "                                              edgecolor='green', linewidth=2, label=\"Ground Truth\"))\n",
    "\n",
    "        #Predicted boxes(Blue)\n",
    "        for x1, y1, x2, y2 in pred_boxes:\n",
    "            plt.gca().add_patch(plt.Rectangle((x1, y1), x2 - x1, y2 - y1,\n",
    "                                              edgecolor='blue', linewidth=1, linestyle=\"dashed\", label=\"Prediction\"))\n",
    "            \n",
    "        plt.axis(\"off\")\n",
    "\n",
    "        save_path = os.path.join(save_folder, f\"prediction_{i}.png\")\n",
    "        plt.savefig(save_path, bbox_inches=\"tight\", dpi=300)\n",
    "        plt.close()\n",
    "\n",
    "    print(f\"Predictions saved in: {save_folder}\")"
   ]
  },
  {
   "cell_type": "code",
   "execution_count": 30,
   "id": "0c0ceb3a-9326-426c-a98d-c0b0a5976ca4",
   "metadata": {},
   "outputs": [
    {
     "name": "stdout",
     "output_type": "stream",
     "text": [
      "\n",
      "0: 832x832 13 solar_panels, 207.6ms\n",
      "Speed: 12.0ms preprocess, 207.6ms inference, 1.4ms postprocess per image at shape (1, 3, 832, 832)\n",
      "\n",
      "0: 832x832 6 solar_panels, 217.1ms\n",
      "Speed: 6.2ms preprocess, 217.1ms inference, 3.2ms postprocess per image at shape (1, 3, 832, 832)\n",
      "\n",
      "0: 832x832 2 solar_panels, 211.0ms\n",
      "Speed: 7.6ms preprocess, 211.0ms inference, 1.6ms postprocess per image at shape (1, 3, 832, 832)\n",
      "\n",
      "0: 832x832 4 solar_panels, 233.2ms\n",
      "Speed: 8.9ms preprocess, 233.2ms inference, 2.7ms postprocess per image at shape (1, 3, 832, 832)\n",
      "Predictions saved in: C:\\Users\\manas\\Downloads\\_sripproj\\_proj0\\results\n"
     ]
    }
   ],
   "source": [
    "visualize_predictions(random_images, model, test_lbl_dir)"
   ]
  },
  {
   "cell_type": "code",
   "execution_count": 140,
   "id": "4a09f27b-6f2b-46c5-86a1-958cfddcae20",
   "metadata": {},
   "outputs": [],
   "source": [
    "#Part 'c -> i'"
   ]
  },
  {
   "cell_type": "code",
   "execution_count": 32,
   "id": "96703908-f9a3-4f37-aca1-48b20f881be7",
   "metadata": {},
   "outputs": [],
   "source": [
    "def read_yolo_labels(img_path, label_folder):\n",
    "    label_path = os.path.join(label_folder, os.path.basename(img_path).replace(\".tif\", \".txt\"))\n",
    "    if not os.path.exists(label_path):\n",
    "        return np.array([])\n",
    "    \n",
    "    boxes = []\n",
    "    with open(label_path, \"r\") as f:\n",
    "        for line in f:\n",
    "            vals = list(map(float, line.strip().split()))\n",
    "            class_id, cx, cy, w, h = vals\n",
    "            x1, y1 = cx - w / 2, cy - h / 2\n",
    "            x2, y2 = cx + w / 2, cy + h / 2\n",
    "            boxes.append([class_id, x1, y1, x2, y2])\n",
    "    \n",
    "    return np.array(boxes)"
   ]
  },
  {
   "cell_type": "code",
   "execution_count": 127,
   "id": "b7a20d02-0d5c-4b8d-b9c1-3b674b944fb5",
   "metadata": {
    "scrolled": true
   },
   "outputs": [
    {
     "name": "stderr",
     "output_type": "stream",
     "text": [
      "Processing images:   0%|                                                                       | 0/509 [00:00<?, ?it/s]"
     ]
    },
    {
     "name": "stdout",
     "output_type": "stream",
     "text": [
      "\n",
      "0: 832x832 6 solar_panels, 536.1ms\n",
      "Speed: 13.9ms preprocess, 536.1ms inference, 3.7ms postprocess per image at shape (1, 3, 832, 832)\n"
     ]
    },
    {
     "name": "stderr",
     "output_type": "stream",
     "text": [
      "Processing images:   0%|                                                               | 1/509 [00:00<04:46,  1.77it/s]"
     ]
    },
    {
     "name": "stdout",
     "output_type": "stream",
     "text": [
      "\n",
      "0: 832x832 9 solar_panels, 652.0ms\n",
      "Speed: 13.4ms preprocess, 652.0ms inference, 2.8ms postprocess per image at shape (1, 3, 832, 832)\n"
     ]
    },
    {
     "name": "stderr",
     "output_type": "stream",
     "text": [
      "Processing images:   0%|▏                                                              | 2/509 [00:01<05:26,  1.55it/s]"
     ]
    },
    {
     "name": "stdout",
     "output_type": "stream",
     "text": [
      "\n",
      "0: 832x832 7 solar_panels, 766.9ms\n",
      "Speed: 14.9ms preprocess, 766.9ms inference, 2.6ms postprocess per image at shape (1, 3, 832, 832)\n"
     ]
    },
    {
     "name": "stderr",
     "output_type": "stream",
     "text": [
      "Processing images:   1%|▎                                                              | 3/509 [00:02<06:04,  1.39it/s]"
     ]
    },
    {
     "name": "stdout",
     "output_type": "stream",
     "text": [
      "\n",
      "0: 832x832 11 solar_panels, 642.5ms\n",
      "Speed: 15.7ms preprocess, 642.5ms inference, 2.6ms postprocess per image at shape (1, 3, 832, 832)\n"
     ]
    },
    {
     "name": "stderr",
     "output_type": "stream",
     "text": [
      "Processing images:   1%|▍                                                              | 4/509 [00:02<05:57,  1.41it/s]"
     ]
    },
    {
     "name": "stdout",
     "output_type": "stream",
     "text": [
      "\n",
      "0: 832x832 11 solar_panels, 478.4ms\n",
      "Speed: 12.9ms preprocess, 478.4ms inference, 2.4ms postprocess per image at shape (1, 3, 832, 832)\n"
     ]
    },
    {
     "name": "stderr",
     "output_type": "stream",
     "text": [
      "Processing images:   1%|▌                                                              | 5/509 [00:03<05:22,  1.56it/s]"
     ]
    },
    {
     "name": "stdout",
     "output_type": "stream",
     "text": [
      "\n",
      "0: 832x832 14 solar_panels, 584.9ms\n",
      "Speed: 13.3ms preprocess, 584.9ms inference, 2.5ms postprocess per image at shape (1, 3, 832, 832)\n"
     ]
    },
    {
     "name": "stderr",
     "output_type": "stream",
     "text": [
      "Processing images:   1%|▋                                                              | 6/509 [00:03<05:19,  1.57it/s]"
     ]
    },
    {
     "name": "stdout",
     "output_type": "stream",
     "text": [
      "\n",
      "0: 832x832 4 solar_panels, 722.8ms\n",
      "Speed: 11.6ms preprocess, 722.8ms inference, 3.0ms postprocess per image at shape (1, 3, 832, 832)\n"
     ]
    },
    {
     "name": "stderr",
     "output_type": "stream",
     "text": [
      "Processing images:   1%|▊                                                              | 7/509 [00:04<05:38,  1.48it/s]"
     ]
    },
    {
     "name": "stdout",
     "output_type": "stream",
     "text": [
      "\n",
      "0: 832x832 (no detections), 516.3ms\n",
      "Speed: 12.9ms preprocess, 516.3ms inference, 1.8ms postprocess per image at shape (1, 3, 832, 832)\n"
     ]
    },
    {
     "name": "stderr",
     "output_type": "stream",
     "text": [
      "Processing images:   2%|▉                                                              | 8/509 [00:05<05:20,  1.56it/s]"
     ]
    },
    {
     "name": "stdout",
     "output_type": "stream",
     "text": [
      "\n",
      "0: 832x832 10 solar_panels, 574.3ms\n",
      "Speed: 10.8ms preprocess, 574.3ms inference, 3.1ms postprocess per image at shape (1, 3, 832, 832)\n"
     ]
    },
    {
     "name": "stderr",
     "output_type": "stream",
     "text": [
      "Processing images:   2%|█                                                              | 9/509 [00:05<05:15,  1.58it/s]"
     ]
    },
    {
     "name": "stdout",
     "output_type": "stream",
     "text": [
      "\n",
      "0: 832x832 10 solar_panels, 599.4ms\n",
      "Speed: 11.5ms preprocess, 599.4ms inference, 3.4ms postprocess per image at shape (1, 3, 832, 832)\n"
     ]
    },
    {
     "name": "stderr",
     "output_type": "stream",
     "text": [
      "Processing images:   2%|█▏                                                            | 10/509 [00:06<05:15,  1.58it/s]"
     ]
    },
    {
     "name": "stdout",
     "output_type": "stream",
     "text": [
      "\n",
      "0: 832x832 4 solar_panels, 668.2ms\n",
      "Speed: 10.4ms preprocess, 668.2ms inference, 2.5ms postprocess per image at shape (1, 3, 832, 832)\n"
     ]
    },
    {
     "name": "stderr",
     "output_type": "stream",
     "text": [
      "Processing images:   2%|█▎                                                            | 11/509 [00:07<05:25,  1.53it/s]"
     ]
    },
    {
     "name": "stdout",
     "output_type": "stream",
     "text": [
      "\n",
      "0: 832x832 4 solar_panels, 534.7ms\n",
      "Speed: 13.3ms preprocess, 534.7ms inference, 2.5ms postprocess per image at shape (1, 3, 832, 832)\n"
     ]
    },
    {
     "name": "stderr",
     "output_type": "stream",
     "text": [
      "Processing images:   2%|█▍                                                            | 12/509 [00:07<05:14,  1.58it/s]"
     ]
    },
    {
     "name": "stdout",
     "output_type": "stream",
     "text": [
      "\n",
      "0: 832x832 8 solar_panels, 521.3ms\n",
      "Speed: 14.0ms preprocess, 521.3ms inference, 3.1ms postprocess per image at shape (1, 3, 832, 832)\n"
     ]
    },
    {
     "name": "stderr",
     "output_type": "stream",
     "text": [
      "Processing images:   3%|█▌                                                            | 13/509 [00:08<05:03,  1.63it/s]"
     ]
    },
    {
     "name": "stdout",
     "output_type": "stream",
     "text": [
      "\n",
      "0: 832x832 3 solar_panels, 659.8ms\n",
      "Speed: 9.9ms preprocess, 659.8ms inference, 2.8ms postprocess per image at shape (1, 3, 832, 832)\n"
     ]
    },
    {
     "name": "stderr",
     "output_type": "stream",
     "text": [
      "Processing images:   3%|█▋                                                            | 14/509 [00:09<05:16,  1.56it/s]"
     ]
    },
    {
     "name": "stdout",
     "output_type": "stream",
     "text": [
      "\n",
      "0: 832x832 8 solar_panels, 606.6ms\n",
      "Speed: 14.1ms preprocess, 606.6ms inference, 2.6ms postprocess per image at shape (1, 3, 832, 832)\n"
     ]
    },
    {
     "name": "stderr",
     "output_type": "stream",
     "text": [
      "Processing images:   3%|█▊                                                            | 15/509 [00:09<05:17,  1.56it/s]"
     ]
    },
    {
     "name": "stdout",
     "output_type": "stream",
     "text": [
      "\n",
      "0: 832x832 8 solar_panels, 741.6ms\n",
      "Speed: 14.9ms preprocess, 741.6ms inference, 2.6ms postprocess per image at shape (1, 3, 832, 832)\n"
     ]
    },
    {
     "name": "stderr",
     "output_type": "stream",
     "text": [
      "Processing images:   3%|█▉                                                            | 16/509 [00:10<05:37,  1.46it/s]"
     ]
    },
    {
     "name": "stdout",
     "output_type": "stream",
     "text": [
      "\n",
      "0: 832x832 30 solar_panels, 559.4ms\n",
      "Speed: 10.7ms preprocess, 559.4ms inference, 2.9ms postprocess per image at shape (1, 3, 832, 832)\n"
     ]
    },
    {
     "name": "stderr",
     "output_type": "stream",
     "text": [
      "Processing images:   3%|██                                                            | 17/509 [00:11<05:24,  1.51it/s]"
     ]
    },
    {
     "name": "stdout",
     "output_type": "stream",
     "text": [
      "\n",
      "0: 832x832 36 solar_panels, 526.8ms\n",
      "Speed: 15.1ms preprocess, 526.8ms inference, 2.8ms postprocess per image at shape (1, 3, 832, 832)\n"
     ]
    },
    {
     "name": "stderr",
     "output_type": "stream",
     "text": [
      "Processing images:   4%|██▏                                                           | 18/509 [00:11<05:10,  1.58it/s]"
     ]
    },
    {
     "name": "stdout",
     "output_type": "stream",
     "text": [
      "\n",
      "0: 832x832 13 solar_panels, 553.9ms\n",
      "Speed: 12.9ms preprocess, 553.9ms inference, 2.5ms postprocess per image at shape (1, 3, 832, 832)\n"
     ]
    },
    {
     "name": "stderr",
     "output_type": "stream",
     "text": [
      "Processing images:   4%|██▎                                                           | 19/509 [00:12<05:03,  1.61it/s]"
     ]
    },
    {
     "name": "stdout",
     "output_type": "stream",
     "text": [
      "\n",
      "0: 832x832 11 solar_panels, 680.3ms\n",
      "Speed: 13.3ms preprocess, 680.3ms inference, 2.7ms postprocess per image at shape (1, 3, 832, 832)\n"
     ]
    },
    {
     "name": "stderr",
     "output_type": "stream",
     "text": [
      "Processing images:   4%|██▍                                                           | 20/509 [00:12<05:18,  1.53it/s]"
     ]
    },
    {
     "name": "stdout",
     "output_type": "stream",
     "text": [
      "\n",
      "0: 832x832 41 solar_panels, 727.7ms\n",
      "Speed: 13.4ms preprocess, 727.7ms inference, 2.9ms postprocess per image at shape (1, 3, 832, 832)\n"
     ]
    },
    {
     "name": "stderr",
     "output_type": "stream",
     "text": [
      "Processing images:   4%|██▌                                                           | 21/509 [00:13<05:35,  1.45it/s]"
     ]
    },
    {
     "name": "stdout",
     "output_type": "stream",
     "text": [
      "\n",
      "0: 832x832 39 solar_panels, 535.9ms\n",
      "Speed: 13.6ms preprocess, 535.9ms inference, 2.9ms postprocess per image at shape (1, 3, 832, 832)\n"
     ]
    },
    {
     "name": "stderr",
     "output_type": "stream",
     "text": [
      "Processing images:   4%|██▋                                                           | 22/509 [00:14<05:18,  1.53it/s]"
     ]
    },
    {
     "name": "stdout",
     "output_type": "stream",
     "text": [
      "\n",
      "0: 832x832 13 solar_panels, 532.5ms\n",
      "Speed: 13.3ms preprocess, 532.5ms inference, 2.8ms postprocess per image at shape (1, 3, 832, 832)\n"
     ]
    },
    {
     "name": "stderr",
     "output_type": "stream",
     "text": [
      "Processing images:   5%|██▊                                                           | 23/509 [00:14<05:06,  1.59it/s]"
     ]
    },
    {
     "name": "stdout",
     "output_type": "stream",
     "text": [
      "\n",
      "0: 832x832 8 solar_panels, 376.8ms\n",
      "Speed: 11.5ms preprocess, 376.8ms inference, 2.5ms postprocess per image at shape (1, 3, 832, 832)\n"
     ]
    },
    {
     "name": "stderr",
     "output_type": "stream",
     "text": [
      "Processing images:   5%|██▉                                                           | 24/509 [00:15<04:34,  1.76it/s]"
     ]
    },
    {
     "name": "stdout",
     "output_type": "stream",
     "text": [
      "\n",
      "0: 832x832 29 solar_panels, 708.4ms\n",
      "Speed: 13.6ms preprocess, 708.4ms inference, 2.8ms postprocess per image at shape (1, 3, 832, 832)\n"
     ]
    },
    {
     "name": "stderr",
     "output_type": "stream",
     "text": [
      "Processing images:   5%|███                                                           | 25/509 [00:16<05:01,  1.61it/s]"
     ]
    },
    {
     "name": "stdout",
     "output_type": "stream",
     "text": [
      "\n",
      "0: 832x832 11 solar_panels, 745.2ms\n",
      "Speed: 11.8ms preprocess, 745.2ms inference, 2.0ms postprocess per image at shape (1, 3, 832, 832)\n"
     ]
    },
    {
     "name": "stderr",
     "output_type": "stream",
     "text": [
      "Processing images:   5%|███▏                                                          | 26/509 [00:16<05:23,  1.49it/s]"
     ]
    },
    {
     "name": "stdout",
     "output_type": "stream",
     "text": [
      "\n",
      "0: 832x832 28 solar_panels, 765.3ms\n",
      "Speed: 12.3ms preprocess, 765.3ms inference, 2.8ms postprocess per image at shape (1, 3, 832, 832)\n"
     ]
    },
    {
     "name": "stderr",
     "output_type": "stream",
     "text": [
      "Processing images:   5%|███▎                                                          | 27/509 [00:17<05:43,  1.40it/s]"
     ]
    },
    {
     "name": "stdout",
     "output_type": "stream",
     "text": [
      "\n",
      "0: 832x832 3 solar_panels, 655.5ms\n",
      "Speed: 10.6ms preprocess, 655.5ms inference, 2.5ms postprocess per image at shape (1, 3, 832, 832)\n"
     ]
    },
    {
     "name": "stderr",
     "output_type": "stream",
     "text": [
      "Processing images:   6%|███▍                                                          | 28/509 [00:18<05:40,  1.41it/s]"
     ]
    },
    {
     "name": "stdout",
     "output_type": "stream",
     "text": [
      "\n",
      "0: 832x832 24 solar_panels, 598.8ms\n",
      "Speed: 9.9ms preprocess, 598.8ms inference, 2.7ms postprocess per image at shape (1, 3, 832, 832)\n"
     ]
    },
    {
     "name": "stderr",
     "output_type": "stream",
     "text": [
      "Processing images:   6%|███▌                                                          | 29/509 [00:18<05:29,  1.46it/s]"
     ]
    },
    {
     "name": "stdout",
     "output_type": "stream",
     "text": [
      "\n",
      "0: 832x832 10 solar_panels, 764.3ms\n",
      "Speed: 14.0ms preprocess, 764.3ms inference, 2.6ms postprocess per image at shape (1, 3, 832, 832)\n"
     ]
    },
    {
     "name": "stderr",
     "output_type": "stream",
     "text": [
      "Processing images:   6%|███▋                                                          | 30/509 [00:19<05:45,  1.38it/s]"
     ]
    },
    {
     "name": "stdout",
     "output_type": "stream",
     "text": [
      "\n",
      "0: 832x832 4 solar_panels, 695.3ms\n",
      "Speed: 11.7ms preprocess, 695.3ms inference, 2.6ms postprocess per image at shape (1, 3, 832, 832)\n"
     ]
    },
    {
     "name": "stderr",
     "output_type": "stream",
     "text": [
      "Processing images:   6%|███▊                                                          | 31/509 [00:20<05:46,  1.38it/s]"
     ]
    },
    {
     "name": "stdout",
     "output_type": "stream",
     "text": [
      "\n",
      "0: 832x832 10 solar_panels, 715.7ms\n",
      "Speed: 13.8ms preprocess, 715.7ms inference, 2.6ms postprocess per image at shape (1, 3, 832, 832)\n"
     ]
    },
    {
     "name": "stderr",
     "output_type": "stream",
     "text": [
      "Processing images:   6%|███▉                                                          | 32/509 [00:21<05:51,  1.36it/s]"
     ]
    },
    {
     "name": "stdout",
     "output_type": "stream",
     "text": [
      "\n",
      "0: 832x832 10 solar_panels, 728.6ms\n",
      "Speed: 12.8ms preprocess, 728.6ms inference, 2.5ms postprocess per image at shape (1, 3, 832, 832)\n"
     ]
    },
    {
     "name": "stderr",
     "output_type": "stream",
     "text": [
      "Processing images:   6%|████                                                          | 33/509 [00:22<05:55,  1.34it/s]"
     ]
    },
    {
     "name": "stdout",
     "output_type": "stream",
     "text": [
      "\n",
      "0: 832x832 16 solar_panels, 773.9ms\n",
      "Speed: 15.6ms preprocess, 773.9ms inference, 2.7ms postprocess per image at shape (1, 3, 832, 832)\n"
     ]
    },
    {
     "name": "stderr",
     "output_type": "stream",
     "text": [
      "Processing images:   7%|████▏                                                         | 34/509 [00:22<06:03,  1.31it/s]"
     ]
    },
    {
     "name": "stdout",
     "output_type": "stream",
     "text": [
      "\n",
      "0: 832x832 1 solar_panel, 781.3ms\n",
      "Speed: 13.5ms preprocess, 781.3ms inference, 2.4ms postprocess per image at shape (1, 3, 832, 832)\n"
     ]
    },
    {
     "name": "stderr",
     "output_type": "stream",
     "text": [
      "Processing images:   7%|████▎                                                         | 35/509 [00:23<06:12,  1.27it/s]"
     ]
    },
    {
     "name": "stdout",
     "output_type": "stream",
     "text": [
      "\n",
      "0: 832x832 13 solar_panels, 785.7ms\n",
      "Speed: 13.7ms preprocess, 785.7ms inference, 2.7ms postprocess per image at shape (1, 3, 832, 832)\n"
     ]
    },
    {
     "name": "stderr",
     "output_type": "stream",
     "text": [
      "Processing images:   7%|████▍                                                         | 36/509 [00:24<06:16,  1.26it/s]"
     ]
    },
    {
     "name": "stdout",
     "output_type": "stream",
     "text": [
      "\n",
      "0: 832x832 2 solar_panels, 620.8ms\n",
      "Speed: 12.9ms preprocess, 620.8ms inference, 2.5ms postprocess per image at shape (1, 3, 832, 832)\n"
     ]
    },
    {
     "name": "stderr",
     "output_type": "stream",
     "text": [
      "Processing images:   7%|████▌                                                         | 37/509 [00:25<05:57,  1.32it/s]"
     ]
    },
    {
     "name": "stdout",
     "output_type": "stream",
     "text": [
      "\n",
      "0: 832x832 2 solar_panels, 740.0ms\n",
      "Speed: 11.1ms preprocess, 740.0ms inference, 2.5ms postprocess per image at shape (1, 3, 832, 832)\n"
     ]
    },
    {
     "name": "stderr",
     "output_type": "stream",
     "text": [
      "Processing images:   7%|████▋                                                         | 38/509 [00:25<05:59,  1.31it/s]"
     ]
    },
    {
     "name": "stdout",
     "output_type": "stream",
     "text": [
      "\n",
      "0: 832x832 9 solar_panels, 491.4ms\n",
      "Speed: 11.9ms preprocess, 491.4ms inference, 2.6ms postprocess per image at shape (1, 3, 832, 832)\n"
     ]
    },
    {
     "name": "stderr",
     "output_type": "stream",
     "text": [
      "Processing images:   8%|████▊                                                         | 39/509 [00:26<05:26,  1.44it/s]"
     ]
    },
    {
     "name": "stdout",
     "output_type": "stream",
     "text": [
      "\n",
      "0: 832x832 6 solar_panels, 680.4ms\n",
      "Speed: 11.3ms preprocess, 680.4ms inference, 2.5ms postprocess per image at shape (1, 3, 832, 832)\n"
     ]
    },
    {
     "name": "stderr",
     "output_type": "stream",
     "text": [
      "Processing images:   8%|████▊                                                         | 40/509 [00:27<05:29,  1.42it/s]"
     ]
    },
    {
     "name": "stdout",
     "output_type": "stream",
     "text": [
      "\n",
      "0: 832x832 3 solar_panels, 467.5ms\n",
      "Speed: 13.6ms preprocess, 467.5ms inference, 2.6ms postprocess per image at shape (1, 3, 832, 832)\n"
     ]
    },
    {
     "name": "stderr",
     "output_type": "stream",
     "text": [
      "Processing images:   8%|████▉                                                         | 41/509 [00:27<05:01,  1.55it/s]"
     ]
    },
    {
     "name": "stdout",
     "output_type": "stream",
     "text": [
      "\n",
      "0: 832x832 15 solar_panels, 729.2ms\n",
      "Speed: 11.4ms preprocess, 729.2ms inference, 2.6ms postprocess per image at shape (1, 3, 832, 832)\n"
     ]
    },
    {
     "name": "stderr",
     "output_type": "stream",
     "text": [
      "Processing images:   8%|█████                                                         | 42/509 [00:28<05:18,  1.47it/s]"
     ]
    },
    {
     "name": "stdout",
     "output_type": "stream",
     "text": [
      "\n",
      "0: 832x832 5 solar_panels, 757.1ms\n",
      "Speed: 12.7ms preprocess, 757.1ms inference, 2.5ms postprocess per image at shape (1, 3, 832, 832)\n"
     ]
    },
    {
     "name": "stderr",
     "output_type": "stream",
     "text": [
      "Processing images:   8%|█████▏                                                        | 43/509 [00:29<05:33,  1.40it/s]"
     ]
    },
    {
     "name": "stdout",
     "output_type": "stream",
     "text": [
      "\n",
      "0: 832x832 7 solar_panels, 651.0ms\n",
      "Speed: 14.1ms preprocess, 651.0ms inference, 2.4ms postprocess per image at shape (1, 3, 832, 832)\n"
     ]
    },
    {
     "name": "stderr",
     "output_type": "stream",
     "text": [
      "Processing images:   9%|█████▎                                                        | 44/509 [00:29<05:29,  1.41it/s]"
     ]
    },
    {
     "name": "stdout",
     "output_type": "stream",
     "text": [
      "\n",
      "0: 832x832 4 solar_panels, 714.4ms\n",
      "Speed: 11.6ms preprocess, 714.4ms inference, 2.6ms postprocess per image at shape (1, 3, 832, 832)\n"
     ]
    },
    {
     "name": "stderr",
     "output_type": "stream",
     "text": [
      "Processing images:   9%|█████▍                                                        | 45/509 [00:30<05:36,  1.38it/s]"
     ]
    },
    {
     "name": "stdout",
     "output_type": "stream",
     "text": [
      "\n",
      "0: 832x832 6 solar_panels, 760.6ms\n",
      "Speed: 12.7ms preprocess, 760.6ms inference, 2.7ms postprocess per image at shape (1, 3, 832, 832)\n"
     ]
    },
    {
     "name": "stderr",
     "output_type": "stream",
     "text": [
      "Processing images:   9%|█████▌                                                        | 46/509 [00:31<05:45,  1.34it/s]"
     ]
    },
    {
     "name": "stdout",
     "output_type": "stream",
     "text": [
      "\n",
      "0: 832x832 17 solar_panels, 748.1ms\n",
      "Speed: 13.6ms preprocess, 748.1ms inference, 2.5ms postprocess per image at shape (1, 3, 832, 832)\n"
     ]
    },
    {
     "name": "stderr",
     "output_type": "stream",
     "text": [
      "Processing images:   9%|█████▋                                                        | 47/509 [00:32<05:50,  1.32it/s]"
     ]
    },
    {
     "name": "stdout",
     "output_type": "stream",
     "text": [
      "\n",
      "0: 832x832 7 solar_panels, 759.4ms\n",
      "Speed: 13.8ms preprocess, 759.4ms inference, 2.5ms postprocess per image at shape (1, 3, 832, 832)\n"
     ]
    },
    {
     "name": "stderr",
     "output_type": "stream",
     "text": [
      "Processing images:   9%|█████▊                                                        | 48/509 [00:33<05:56,  1.29it/s]"
     ]
    },
    {
     "name": "stdout",
     "output_type": "stream",
     "text": [
      "\n",
      "0: 832x832 8 solar_panels, 692.1ms\n",
      "Speed: 13.6ms preprocess, 692.1ms inference, 2.5ms postprocess per image at shape (1, 3, 832, 832)\n"
     ]
    },
    {
     "name": "stderr",
     "output_type": "stream",
     "text": [
      "Processing images:  10%|█████▉                                                        | 49/509 [00:33<05:50,  1.31it/s]"
     ]
    },
    {
     "name": "stdout",
     "output_type": "stream",
     "text": [
      "\n",
      "0: 832x832 10 solar_panels, 678.5ms\n",
      "Speed: 12.2ms preprocess, 678.5ms inference, 2.5ms postprocess per image at shape (1, 3, 832, 832)\n"
     ]
    },
    {
     "name": "stderr",
     "output_type": "stream",
     "text": [
      "Processing images:  10%|██████                                                        | 50/509 [00:34<05:44,  1.33it/s]"
     ]
    },
    {
     "name": "stdout",
     "output_type": "stream",
     "text": [
      "\n",
      "0: 832x832 24 solar_panels, 776.9ms\n",
      "Speed: 13.6ms preprocess, 776.9ms inference, 1.9ms postprocess per image at shape (1, 3, 832, 832)\n"
     ]
    },
    {
     "name": "stderr",
     "output_type": "stream",
     "text": [
      "Processing images:  10%|██████▏                                                       | 51/509 [00:35<05:52,  1.30it/s]"
     ]
    },
    {
     "name": "stdout",
     "output_type": "stream",
     "text": [
      "\n",
      "0: 832x832 7 solar_panels, 744.2ms\n",
      "Speed: 12.8ms preprocess, 744.2ms inference, 2.5ms postprocess per image at shape (1, 3, 832, 832)\n"
     ]
    },
    {
     "name": "stderr",
     "output_type": "stream",
     "text": [
      "Processing images:  10%|██████▎                                                       | 52/509 [00:36<05:54,  1.29it/s]"
     ]
    },
    {
     "name": "stdout",
     "output_type": "stream",
     "text": [
      "\n",
      "0: 832x832 27 solar_panels, 606.9ms\n",
      "Speed: 13.9ms preprocess, 606.9ms inference, 2.6ms postprocess per image at shape (1, 3, 832, 832)\n"
     ]
    },
    {
     "name": "stderr",
     "output_type": "stream",
     "text": [
      "Processing images:  10%|██████▍                                                       | 53/509 [00:36<05:35,  1.36it/s]"
     ]
    },
    {
     "name": "stdout",
     "output_type": "stream",
     "text": [
      "\n",
      "0: 832x832 14 solar_panels, 687.6ms\n",
      "Speed: 13.8ms preprocess, 687.6ms inference, 2.6ms postprocess per image at shape (1, 3, 832, 832)\n"
     ]
    },
    {
     "name": "stderr",
     "output_type": "stream",
     "text": [
      "Processing images:  11%|██████▌                                                       | 54/509 [00:37<05:34,  1.36it/s]"
     ]
    },
    {
     "name": "stdout",
     "output_type": "stream",
     "text": [
      "\n",
      "0: 832x832 7 solar_panels, 680.0ms\n",
      "Speed: 11.6ms preprocess, 680.0ms inference, 2.5ms postprocess per image at shape (1, 3, 832, 832)\n"
     ]
    },
    {
     "name": "stderr",
     "output_type": "stream",
     "text": [
      "Processing images:  11%|██████▋                                                       | 55/509 [00:38<05:32,  1.37it/s]"
     ]
    },
    {
     "name": "stdout",
     "output_type": "stream",
     "text": [
      "\n",
      "0: 832x832 10 solar_panels, 711.4ms\n",
      "Speed: 11.9ms preprocess, 711.4ms inference, 2.6ms postprocess per image at shape (1, 3, 832, 832)\n"
     ]
    },
    {
     "name": "stderr",
     "output_type": "stream",
     "text": [
      "Processing images:  11%|██████▊                                                       | 56/509 [00:39<05:34,  1.35it/s]"
     ]
    },
    {
     "name": "stdout",
     "output_type": "stream",
     "text": [
      "\n",
      "0: 832x832 8 solar_panels, 732.0ms\n",
      "Speed: 11.5ms preprocess, 732.0ms inference, 2.5ms postprocess per image at shape (1, 3, 832, 832)\n"
     ]
    },
    {
     "name": "stderr",
     "output_type": "stream",
     "text": [
      "Processing images:  11%|██████▉                                                       | 57/509 [00:39<05:38,  1.34it/s]"
     ]
    },
    {
     "name": "stdout",
     "output_type": "stream",
     "text": [
      "\n",
      "0: 832x832 22 solar_panels, 712.3ms\n",
      "Speed: 13.4ms preprocess, 712.3ms inference, 3.6ms postprocess per image at shape (1, 3, 832, 832)\n"
     ]
    },
    {
     "name": "stderr",
     "output_type": "stream",
     "text": [
      "Processing images:  11%|███████                                                       | 58/509 [00:40<05:38,  1.33it/s]"
     ]
    },
    {
     "name": "stdout",
     "output_type": "stream",
     "text": [
      "\n",
      "0: 832x832 4 solar_panels, 705.7ms\n",
      "Speed: 11.1ms preprocess, 705.7ms inference, 2.4ms postprocess per image at shape (1, 3, 832, 832)\n"
     ]
    },
    {
     "name": "stderr",
     "output_type": "stream",
     "text": [
      "Processing images:  12%|███████▏                                                      | 59/509 [00:41<05:36,  1.34it/s]"
     ]
    },
    {
     "name": "stdout",
     "output_type": "stream",
     "text": [
      "\n",
      "0: 832x832 19 solar_panels, 741.5ms\n",
      "Speed: 13.8ms preprocess, 741.5ms inference, 2.6ms postprocess per image at shape (1, 3, 832, 832)\n"
     ]
    },
    {
     "name": "stderr",
     "output_type": "stream",
     "text": [
      "Processing images:  12%|███████▎                                                      | 60/509 [00:42<05:40,  1.32it/s]"
     ]
    },
    {
     "name": "stdout",
     "output_type": "stream",
     "text": [
      "\n",
      "0: 832x832 18 solar_panels, 676.4ms\n",
      "Speed: 14.2ms preprocess, 676.4ms inference, 2.9ms postprocess per image at shape (1, 3, 832, 832)\n"
     ]
    },
    {
     "name": "stderr",
     "output_type": "stream",
     "text": [
      "Processing images:  12%|███████▍                                                      | 61/509 [00:42<05:35,  1.34it/s]"
     ]
    },
    {
     "name": "stdout",
     "output_type": "stream",
     "text": [
      "\n",
      "0: 832x832 22 solar_panels, 735.9ms\n",
      "Speed: 14.1ms preprocess, 735.9ms inference, 2.8ms postprocess per image at shape (1, 3, 832, 832)\n"
     ]
    },
    {
     "name": "stderr",
     "output_type": "stream",
     "text": [
      "Processing images:  12%|███████▌                                                      | 62/509 [00:43<05:38,  1.32it/s]"
     ]
    },
    {
     "name": "stdout",
     "output_type": "stream",
     "text": [
      "\n",
      "0: 832x832 9 solar_panels, 708.2ms\n",
      "Speed: 12.1ms preprocess, 708.2ms inference, 3.0ms postprocess per image at shape (1, 3, 832, 832)\n"
     ]
    },
    {
     "name": "stderr",
     "output_type": "stream",
     "text": [
      "Processing images:  12%|███████▋                                                      | 63/509 [00:44<05:37,  1.32it/s]"
     ]
    },
    {
     "name": "stdout",
     "output_type": "stream",
     "text": [
      "\n",
      "0: 832x832 17 solar_panels, 449.2ms\n",
      "Speed: 12.4ms preprocess, 449.2ms inference, 2.9ms postprocess per image at shape (1, 3, 832, 832)\n"
     ]
    },
    {
     "name": "stderr",
     "output_type": "stream",
     "text": [
      "Processing images:  13%|███████▊                                                      | 64/509 [00:44<05:00,  1.48it/s]"
     ]
    },
    {
     "name": "stdout",
     "output_type": "stream",
     "text": [
      "\n",
      "0: 832x832 17 solar_panels, 361.7ms\n",
      "Speed: 11.2ms preprocess, 361.7ms inference, 3.3ms postprocess per image at shape (1, 3, 832, 832)\n"
     ]
    },
    {
     "name": "stderr",
     "output_type": "stream",
     "text": [
      "Processing images:  13%|███████▉                                                      | 65/509 [00:45<04:22,  1.69it/s]"
     ]
    },
    {
     "name": "stdout",
     "output_type": "stream",
     "text": [
      "\n",
      "0: 832x832 17 solar_panels, 341.6ms\n",
      "Speed: 8.5ms preprocess, 341.6ms inference, 2.1ms postprocess per image at shape (1, 3, 832, 832)\n"
     ]
    },
    {
     "name": "stderr",
     "output_type": "stream",
     "text": [
      "Processing images:  13%|████████                                                      | 66/509 [00:45<03:54,  1.89it/s]"
     ]
    },
    {
     "name": "stdout",
     "output_type": "stream",
     "text": [
      "\n",
      "0: 832x832 12 solar_panels, 377.5ms\n",
      "Speed: 9.6ms preprocess, 377.5ms inference, 2.9ms postprocess per image at shape (1, 3, 832, 832)\n"
     ]
    },
    {
     "name": "stderr",
     "output_type": "stream",
     "text": [
      "Processing images:  13%|████████▏                                                     | 67/509 [00:46<03:38,  2.02it/s]"
     ]
    },
    {
     "name": "stdout",
     "output_type": "stream",
     "text": [
      "\n",
      "0: 832x832 6 solar_panels, 385.2ms\n",
      "Speed: 10.3ms preprocess, 385.2ms inference, 3.0ms postprocess per image at shape (1, 3, 832, 832)\n"
     ]
    },
    {
     "name": "stderr",
     "output_type": "stream",
     "text": [
      "Processing images:  13%|████████▎                                                     | 68/509 [00:46<03:28,  2.12it/s]"
     ]
    },
    {
     "name": "stdout",
     "output_type": "stream",
     "text": [
      "\n",
      "0: 832x832 3 solar_panels, 475.3ms\n",
      "Speed: 11.4ms preprocess, 475.3ms inference, 1.6ms postprocess per image at shape (1, 3, 832, 832)\n"
     ]
    },
    {
     "name": "stderr",
     "output_type": "stream",
     "text": [
      "Processing images:  14%|████████▍                                                     | 69/509 [00:46<03:33,  2.06it/s]"
     ]
    },
    {
     "name": "stdout",
     "output_type": "stream",
     "text": [
      "\n",
      "0: 832x832 15 solar_panels, 495.8ms\n",
      "Speed: 11.4ms preprocess, 495.8ms inference, 2.0ms postprocess per image at shape (1, 3, 832, 832)\n"
     ]
    },
    {
     "name": "stderr",
     "output_type": "stream",
     "text": [
      "Processing images:  14%|████████▌                                                     | 70/509 [00:47<03:39,  2.00it/s]"
     ]
    },
    {
     "name": "stdout",
     "output_type": "stream",
     "text": [
      "\n",
      "0: 832x832 7 solar_panels, 421.3ms\n",
      "Speed: 11.8ms preprocess, 421.3ms inference, 2.6ms postprocess per image at shape (1, 3, 832, 832)\n"
     ]
    },
    {
     "name": "stderr",
     "output_type": "stream",
     "text": [
      "Processing images:  14%|████████▋                                                     | 71/509 [00:47<03:34,  2.04it/s]"
     ]
    },
    {
     "name": "stdout",
     "output_type": "stream",
     "text": [
      "\n",
      "0: 832x832 1 solar_panel, 546.1ms\n",
      "Speed: 11.8ms preprocess, 546.1ms inference, 2.8ms postprocess per image at shape (1, 3, 832, 832)\n"
     ]
    },
    {
     "name": "stderr",
     "output_type": "stream",
     "text": [
      "Processing images:  14%|████████▊                                                     | 72/509 [00:48<03:46,  1.93it/s]"
     ]
    },
    {
     "name": "stdout",
     "output_type": "stream",
     "text": [
      "\n",
      "0: 832x832 13 solar_panels, 329.4ms\n",
      "Speed: 7.8ms preprocess, 329.4ms inference, 3.4ms postprocess per image at shape (1, 3, 832, 832)\n"
     ]
    },
    {
     "name": "stderr",
     "output_type": "stream",
     "text": [
      "Processing images:  14%|████████▉                                                     | 73/509 [00:48<03:25,  2.12it/s]"
     ]
    },
    {
     "name": "stdout",
     "output_type": "stream",
     "text": [
      "\n",
      "0: 832x832 4 solar_panels, 371.9ms\n",
      "Speed: 11.5ms preprocess, 371.9ms inference, 2.3ms postprocess per image at shape (1, 3, 832, 832)\n"
     ]
    },
    {
     "name": "stderr",
     "output_type": "stream",
     "text": [
      "Processing images:  15%|█████████                                                     | 74/509 [00:49<03:16,  2.21it/s]"
     ]
    },
    {
     "name": "stdout",
     "output_type": "stream",
     "text": [
      "\n",
      "0: 832x832 6 solar_panels, 337.0ms\n",
      "Speed: 10.0ms preprocess, 337.0ms inference, 3.3ms postprocess per image at shape (1, 3, 832, 832)\n"
     ]
    },
    {
     "name": "stderr",
     "output_type": "stream",
     "text": [
      "Processing images:  15%|█████████▏                                                    | 75/509 [00:49<03:06,  2.33it/s]"
     ]
    },
    {
     "name": "stdout",
     "output_type": "stream",
     "text": [
      "\n",
      "0: 832x832 1 solar_panel, 338.2ms\n",
      "Speed: 10.3ms preprocess, 338.2ms inference, 3.0ms postprocess per image at shape (1, 3, 832, 832)\n"
     ]
    },
    {
     "name": "stderr",
     "output_type": "stream",
     "text": [
      "Processing images:  15%|█████████▎                                                    | 76/509 [00:50<02:59,  2.42it/s]"
     ]
    },
    {
     "name": "stdout",
     "output_type": "stream",
     "text": [
      "\n",
      "0: 832x832 2 solar_panels, 405.8ms\n",
      "Speed: 10.6ms preprocess, 405.8ms inference, 3.5ms postprocess per image at shape (1, 3, 832, 832)\n"
     ]
    },
    {
     "name": "stderr",
     "output_type": "stream",
     "text": [
      "Processing images:  15%|█████████▍                                                    | 77/509 [00:50<03:02,  2.37it/s]"
     ]
    },
    {
     "name": "stdout",
     "output_type": "stream",
     "text": [
      "\n",
      "0: 832x832 8 solar_panels, 408.9ms\n",
      "Speed: 9.6ms preprocess, 408.9ms inference, 2.7ms postprocess per image at shape (1, 3, 832, 832)\n"
     ]
    },
    {
     "name": "stderr",
     "output_type": "stream",
     "text": [
      "Processing images:  15%|█████████▌                                                    | 78/509 [00:50<03:04,  2.33it/s]"
     ]
    },
    {
     "name": "stdout",
     "output_type": "stream",
     "text": [
      "\n",
      "0: 832x832 5 solar_panels, 354.6ms\n",
      "Speed: 10.7ms preprocess, 354.6ms inference, 1.9ms postprocess per image at shape (1, 3, 832, 832)\n"
     ]
    },
    {
     "name": "stderr",
     "output_type": "stream",
     "text": [
      "Processing images:  16%|█████████▌                                                    | 79/509 [00:51<02:58,  2.41it/s]"
     ]
    },
    {
     "name": "stdout",
     "output_type": "stream",
     "text": [
      "\n",
      "0: 832x832 1 solar_panel, 354.6ms\n",
      "Speed: 8.5ms preprocess, 354.6ms inference, 3.2ms postprocess per image at shape (1, 3, 832, 832)\n"
     ]
    },
    {
     "name": "stderr",
     "output_type": "stream",
     "text": [
      "Processing images:  16%|█████████▋                                                    | 80/509 [00:51<02:55,  2.45it/s]"
     ]
    },
    {
     "name": "stdout",
     "output_type": "stream",
     "text": [
      "\n",
      "0: 832x832 20 solar_panels, 368.3ms\n",
      "Speed: 9.5ms preprocess, 368.3ms inference, 3.2ms postprocess per image at shape (1, 3, 832, 832)\n"
     ]
    },
    {
     "name": "stderr",
     "output_type": "stream",
     "text": [
      "Processing images:  16%|█████████▊                                                    | 81/509 [00:52<02:54,  2.45it/s]"
     ]
    },
    {
     "name": "stdout",
     "output_type": "stream",
     "text": [
      "\n",
      "0: 832x832 15 solar_panels, 384.2ms\n",
      "Speed: 9.5ms preprocess, 384.2ms inference, 3.4ms postprocess per image at shape (1, 3, 832, 832)\n"
     ]
    },
    {
     "name": "stderr",
     "output_type": "stream",
     "text": [
      "Processing images:  16%|█████████▉                                                    | 82/509 [00:52<02:56,  2.42it/s]"
     ]
    },
    {
     "name": "stdout",
     "output_type": "stream",
     "text": [
      "\n",
      "0: 832x832 13 solar_panels, 359.1ms\n",
      "Speed: 10.5ms preprocess, 359.1ms inference, 3.1ms postprocess per image at shape (1, 3, 832, 832)\n"
     ]
    },
    {
     "name": "stderr",
     "output_type": "stream",
     "text": [
      "Processing images:  16%|██████████                                                    | 83/509 [00:52<02:53,  2.46it/s]"
     ]
    },
    {
     "name": "stdout",
     "output_type": "stream",
     "text": [
      "\n",
      "0: 832x832 13 solar_panels, 345.8ms\n",
      "Speed: 9.6ms preprocess, 345.8ms inference, 2.9ms postprocess per image at shape (1, 3, 832, 832)\n"
     ]
    },
    {
     "name": "stderr",
     "output_type": "stream",
     "text": [
      "Processing images:  17%|██████████▏                                                   | 84/509 [00:53<02:49,  2.51it/s]"
     ]
    },
    {
     "name": "stdout",
     "output_type": "stream",
     "text": [
      "\n",
      "0: 832x832 13 solar_panels, 375.4ms\n",
      "Speed: 10.8ms preprocess, 375.4ms inference, 2.8ms postprocess per image at shape (1, 3, 832, 832)\n"
     ]
    },
    {
     "name": "stderr",
     "output_type": "stream",
     "text": [
      "Processing images:  17%|██████████▎                                                   | 85/509 [00:53<02:51,  2.47it/s]"
     ]
    },
    {
     "name": "stdout",
     "output_type": "stream",
     "text": [
      "\n",
      "0: 832x832 4 solar_panels, 370.5ms\n",
      "Speed: 9.9ms preprocess, 370.5ms inference, 2.6ms postprocess per image at shape (1, 3, 832, 832)\n"
     ]
    },
    {
     "name": "stderr",
     "output_type": "stream",
     "text": [
      "Processing images:  17%|██████████▍                                                   | 86/509 [00:54<02:51,  2.47it/s]"
     ]
    },
    {
     "name": "stdout",
     "output_type": "stream",
     "text": [
      "\n",
      "0: 832x832 16 solar_panels, 347.7ms\n",
      "Speed: 10.0ms preprocess, 347.7ms inference, 3.3ms postprocess per image at shape (1, 3, 832, 832)\n"
     ]
    },
    {
     "name": "stderr",
     "output_type": "stream",
     "text": [
      "Processing images:  17%|██████████▌                                                   | 87/509 [00:54<02:47,  2.51it/s]"
     ]
    },
    {
     "name": "stdout",
     "output_type": "stream",
     "text": [
      "\n",
      "0: 832x832 3 solar_panels, 361.7ms\n",
      "Speed: 10.6ms preprocess, 361.7ms inference, 3.0ms postprocess per image at shape (1, 3, 832, 832)\n"
     ]
    },
    {
     "name": "stderr",
     "output_type": "stream",
     "text": [
      "Processing images:  17%|██████████▋                                                   | 88/509 [00:54<02:47,  2.51it/s]"
     ]
    },
    {
     "name": "stdout",
     "output_type": "stream",
     "text": [
      "\n",
      "0: 832x832 9 solar_panels, 368.8ms\n",
      "Speed: 10.0ms preprocess, 368.8ms inference, 2.6ms postprocess per image at shape (1, 3, 832, 832)\n"
     ]
    },
    {
     "name": "stderr",
     "output_type": "stream",
     "text": [
      "Processing images:  17%|██████████▊                                                   | 89/509 [00:55<02:47,  2.50it/s]"
     ]
    },
    {
     "name": "stdout",
     "output_type": "stream",
     "text": [
      "\n",
      "0: 832x832 10 solar_panels, 389.4ms\n",
      "Speed: 12.0ms preprocess, 389.4ms inference, 3.0ms postprocess per image at shape (1, 3, 832, 832)\n"
     ]
    },
    {
     "name": "stderr",
     "output_type": "stream",
     "text": [
      "Processing images:  18%|██████████▉                                                   | 90/509 [00:55<02:51,  2.45it/s]"
     ]
    },
    {
     "name": "stdout",
     "output_type": "stream",
     "text": [
      "\n",
      "0: 832x832 5 solar_panels, 371.7ms\n",
      "Speed: 9.9ms preprocess, 371.7ms inference, 3.0ms postprocess per image at shape (1, 3, 832, 832)\n"
     ]
    },
    {
     "name": "stderr",
     "output_type": "stream",
     "text": [
      "Processing images:  18%|███████████                                                   | 91/509 [00:56<02:50,  2.44it/s]"
     ]
    },
    {
     "name": "stdout",
     "output_type": "stream",
     "text": [
      "\n",
      "0: 832x832 9 solar_panels, 357.8ms\n",
      "Speed: 10.3ms preprocess, 357.8ms inference, 2.4ms postprocess per image at shape (1, 3, 832, 832)\n"
     ]
    },
    {
     "name": "stderr",
     "output_type": "stream",
     "text": [
      "Processing images:  18%|███████████▏                                                  | 92/509 [00:56<02:48,  2.47it/s]"
     ]
    },
    {
     "name": "stdout",
     "output_type": "stream",
     "text": [
      "\n",
      "0: 832x832 6 solar_panels, 309.1ms\n",
      "Speed: 9.6ms preprocess, 309.1ms inference, 2.7ms postprocess per image at shape (1, 3, 832, 832)\n"
     ]
    },
    {
     "name": "stderr",
     "output_type": "stream",
     "text": [
      "Processing images:  18%|███████████▎                                                  | 93/509 [00:56<02:40,  2.59it/s]"
     ]
    },
    {
     "name": "stdout",
     "output_type": "stream",
     "text": [
      "\n",
      "0: 832x832 13 solar_panels, 294.3ms\n",
      "Speed: 8.7ms preprocess, 294.3ms inference, 3.1ms postprocess per image at shape (1, 3, 832, 832)\n"
     ]
    },
    {
     "name": "stderr",
     "output_type": "stream",
     "text": [
      "Processing images:  18%|███████████▍                                                  | 94/509 [00:57<02:33,  2.70it/s]"
     ]
    },
    {
     "name": "stdout",
     "output_type": "stream",
     "text": [
      "\n",
      "0: 832x832 1 solar_panel, 337.4ms\n",
      "Speed: 8.3ms preprocess, 337.4ms inference, 2.3ms postprocess per image at shape (1, 3, 832, 832)\n"
     ]
    },
    {
     "name": "stderr",
     "output_type": "stream",
     "text": [
      "Processing images:  19%|███████████▌                                                  | 95/509 [00:57<02:32,  2.71it/s]"
     ]
    },
    {
     "name": "stdout",
     "output_type": "stream",
     "text": [
      "\n",
      "0: 832x832 23 solar_panels, 417.5ms\n",
      "Speed: 10.4ms preprocess, 417.5ms inference, 3.4ms postprocess per image at shape (1, 3, 832, 832)\n"
     ]
    },
    {
     "name": "stderr",
     "output_type": "stream",
     "text": [
      "Processing images:  19%|███████████▋                                                  | 96/509 [00:58<02:42,  2.54it/s]"
     ]
    },
    {
     "name": "stdout",
     "output_type": "stream",
     "text": [
      "\n",
      "0: 832x832 3 solar_panels, 349.3ms\n",
      "Speed: 9.6ms preprocess, 349.3ms inference, 2.5ms postprocess per image at shape (1, 3, 832, 832)\n"
     ]
    },
    {
     "name": "stderr",
     "output_type": "stream",
     "text": [
      "Processing images:  19%|███████████▊                                                  | 97/509 [00:58<02:41,  2.55it/s]"
     ]
    },
    {
     "name": "stdout",
     "output_type": "stream",
     "text": [
      "\n",
      "0: 832x832 8 solar_panels, 381.1ms\n",
      "Speed: 11.1ms preprocess, 381.1ms inference, 3.5ms postprocess per image at shape (1, 3, 832, 832)\n"
     ]
    },
    {
     "name": "stderr",
     "output_type": "stream",
     "text": [
      "Processing images:  19%|███████████▉                                                  | 98/509 [00:58<02:43,  2.51it/s]"
     ]
    },
    {
     "name": "stdout",
     "output_type": "stream",
     "text": [
      "\n",
      "0: 832x832 25 solar_panels, 354.1ms\n",
      "Speed: 10.0ms preprocess, 354.1ms inference, 3.1ms postprocess per image at shape (1, 3, 832, 832)\n"
     ]
    },
    {
     "name": "stderr",
     "output_type": "stream",
     "text": [
      "Processing images:  19%|████████████                                                  | 99/509 [00:59<02:42,  2.52it/s]"
     ]
    },
    {
     "name": "stdout",
     "output_type": "stream",
     "text": [
      "\n",
      "0: 832x832 24 solar_panels, 452.4ms\n",
      "Speed: 9.5ms preprocess, 452.4ms inference, 10.6ms postprocess per image at shape (1, 3, 832, 832)\n"
     ]
    },
    {
     "name": "stderr",
     "output_type": "stream",
     "text": [
      "Processing images:  20%|███████████▉                                                 | 100/509 [00:59<02:56,  2.32it/s]"
     ]
    },
    {
     "name": "stdout",
     "output_type": "stream",
     "text": [
      "\n",
      "0: 832x832 2 solar_panels, 358.4ms\n",
      "Speed: 9.9ms preprocess, 358.4ms inference, 3.3ms postprocess per image at shape (1, 3, 832, 832)\n"
     ]
    },
    {
     "name": "stderr",
     "output_type": "stream",
     "text": [
      "Processing images:  20%|████████████                                                 | 101/509 [01:00<02:57,  2.30it/s]"
     ]
    },
    {
     "name": "stdout",
     "output_type": "stream",
     "text": [
      "\n",
      "0: 832x832 2 solar_panels, 330.0ms\n",
      "Speed: 9.9ms preprocess, 330.0ms inference, 2.1ms postprocess per image at shape (1, 3, 832, 832)\n"
     ]
    },
    {
     "name": "stderr",
     "output_type": "stream",
     "text": [
      "Processing images:  20%|████████████▏                                                | 102/509 [01:00<02:48,  2.42it/s]"
     ]
    },
    {
     "name": "stdout",
     "output_type": "stream",
     "text": [
      "\n",
      "0: 832x832 3 solar_panels, 342.8ms\n",
      "Speed: 10.4ms preprocess, 342.8ms inference, 3.0ms postprocess per image at shape (1, 3, 832, 832)\n"
     ]
    },
    {
     "name": "stderr",
     "output_type": "stream",
     "text": [
      "Processing images:  20%|████████████▎                                                | 103/509 [01:00<02:43,  2.48it/s]"
     ]
    },
    {
     "name": "stdout",
     "output_type": "stream",
     "text": [
      "\n",
      "0: 832x832 3 solar_panels, 357.5ms\n",
      "Speed: 10.7ms preprocess, 357.5ms inference, 2.6ms postprocess per image at shape (1, 3, 832, 832)\n"
     ]
    },
    {
     "name": "stderr",
     "output_type": "stream",
     "text": [
      "Processing images:  20%|████████████▍                                                | 104/509 [01:01<02:42,  2.50it/s]"
     ]
    },
    {
     "name": "stdout",
     "output_type": "stream",
     "text": [
      "\n",
      "0: 832x832 14 solar_panels, 391.5ms\n",
      "Speed: 10.5ms preprocess, 391.5ms inference, 3.0ms postprocess per image at shape (1, 3, 832, 832)\n"
     ]
    },
    {
     "name": "stderr",
     "output_type": "stream",
     "text": [
      "Processing images:  21%|████████████▌                                                | 105/509 [01:01<02:44,  2.45it/s]"
     ]
    },
    {
     "name": "stdout",
     "output_type": "stream",
     "text": [
      "\n",
      "0: 832x832 1 solar_panel, 329.7ms\n",
      "Speed: 10.4ms preprocess, 329.7ms inference, 2.1ms postprocess per image at shape (1, 3, 832, 832)\n"
     ]
    },
    {
     "name": "stderr",
     "output_type": "stream",
     "text": [
      "Processing images:  21%|████████████▋                                                | 106/509 [01:02<02:39,  2.53it/s]"
     ]
    },
    {
     "name": "stdout",
     "output_type": "stream",
     "text": [
      "\n",
      "0: 832x832 3 solar_panels, 390.8ms\n",
      "Speed: 9.4ms preprocess, 390.8ms inference, 3.1ms postprocess per image at shape (1, 3, 832, 832)\n"
     ]
    },
    {
     "name": "stderr",
     "output_type": "stream",
     "text": [
      "Processing images:  21%|████████████▊                                                | 107/509 [01:02<02:42,  2.47it/s]"
     ]
    },
    {
     "name": "stdout",
     "output_type": "stream",
     "text": [
      "\n",
      "0: 832x832 9 solar_panels, 396.3ms\n",
      "Speed: 10.9ms preprocess, 396.3ms inference, 3.3ms postprocess per image at shape (1, 3, 832, 832)\n"
     ]
    },
    {
     "name": "stderr",
     "output_type": "stream",
     "text": [
      "Processing images:  21%|████████████▉                                                | 108/509 [01:03<02:46,  2.41it/s]"
     ]
    },
    {
     "name": "stdout",
     "output_type": "stream",
     "text": [
      "\n",
      "0: 832x832 11 solar_panels, 316.0ms\n",
      "Speed: 9.1ms preprocess, 316.0ms inference, 2.5ms postprocess per image at shape (1, 3, 832, 832)\n"
     ]
    },
    {
     "name": "stderr",
     "output_type": "stream",
     "text": [
      "Processing images:  21%|█████████████                                                | 109/509 [01:03<02:38,  2.52it/s]"
     ]
    },
    {
     "name": "stdout",
     "output_type": "stream",
     "text": [
      "\n",
      "0: 832x832 10 solar_panels, 351.6ms\n",
      "Speed: 9.4ms preprocess, 351.6ms inference, 3.2ms postprocess per image at shape (1, 3, 832, 832)\n"
     ]
    },
    {
     "name": "stderr",
     "output_type": "stream",
     "text": [
      "Processing images:  22%|█████████████▏                                               | 110/509 [01:03<02:36,  2.54it/s]"
     ]
    },
    {
     "name": "stdout",
     "output_type": "stream",
     "text": [
      "\n",
      "0: 832x832 12 solar_panels, 337.0ms\n",
      "Speed: 9.5ms preprocess, 337.0ms inference, 2.9ms postprocess per image at shape (1, 3, 832, 832)\n"
     ]
    },
    {
     "name": "stderr",
     "output_type": "stream",
     "text": [
      "Processing images:  22%|█████████████▎                                               | 111/509 [01:04<02:34,  2.58it/s]"
     ]
    },
    {
     "name": "stdout",
     "output_type": "stream",
     "text": [
      "\n",
      "0: 832x832 7 solar_panels, 388.0ms\n",
      "Speed: 10.1ms preprocess, 388.0ms inference, 3.4ms postprocess per image at shape (1, 3, 832, 832)\n"
     ]
    },
    {
     "name": "stderr",
     "output_type": "stream",
     "text": [
      "Processing images:  22%|█████████████▍                                               | 112/509 [01:04<02:37,  2.52it/s]"
     ]
    },
    {
     "name": "stdout",
     "output_type": "stream",
     "text": [
      "\n",
      "0: 832x832 8 solar_panels, 360.1ms\n",
      "Speed: 10.0ms preprocess, 360.1ms inference, 3.5ms postprocess per image at shape (1, 3, 832, 832)\n"
     ]
    },
    {
     "name": "stderr",
     "output_type": "stream",
     "text": [
      "Processing images:  22%|█████████████▌                                               | 113/509 [01:04<02:37,  2.51it/s]"
     ]
    },
    {
     "name": "stdout",
     "output_type": "stream",
     "text": [
      "\n",
      "0: 832x832 3 solar_panels, 351.2ms\n",
      "Speed: 11.3ms preprocess, 351.2ms inference, 3.3ms postprocess per image at shape (1, 3, 832, 832)\n"
     ]
    },
    {
     "name": "stderr",
     "output_type": "stream",
     "text": [
      "Processing images:  22%|█████████████▋                                               | 114/509 [01:05<02:36,  2.53it/s]"
     ]
    },
    {
     "name": "stdout",
     "output_type": "stream",
     "text": [
      "\n",
      "0: 832x832 9 solar_panels, 310.6ms\n",
      "Speed: 10.3ms preprocess, 310.6ms inference, 2.9ms postprocess per image at shape (1, 3, 832, 832)\n"
     ]
    },
    {
     "name": "stderr",
     "output_type": "stream",
     "text": [
      "Processing images:  23%|█████████████▊                                               | 115/509 [01:05<02:30,  2.61it/s]"
     ]
    },
    {
     "name": "stdout",
     "output_type": "stream",
     "text": [
      "\n",
      "0: 832x832 4 solar_panels, 290.4ms\n",
      "Speed: 9.8ms preprocess, 290.4ms inference, 2.6ms postprocess per image at shape (1, 3, 832, 832)\n"
     ]
    },
    {
     "name": "stderr",
     "output_type": "stream",
     "text": [
      "Processing images:  23%|█████████████▉                                               | 116/509 [01:06<02:24,  2.73it/s]"
     ]
    },
    {
     "name": "stdout",
     "output_type": "stream",
     "text": [
      "\n",
      "0: 832x832 4 solar_panels, 350.0ms\n",
      "Speed: 11.0ms preprocess, 350.0ms inference, 2.8ms postprocess per image at shape (1, 3, 832, 832)\n"
     ]
    },
    {
     "name": "stderr",
     "output_type": "stream",
     "text": [
      "Processing images:  23%|██████████████                                               | 117/509 [01:06<02:25,  2.70it/s]"
     ]
    },
    {
     "name": "stdout",
     "output_type": "stream",
     "text": [
      "\n",
      "0: 832x832 9 solar_panels, 363.1ms\n",
      "Speed: 10.0ms preprocess, 363.1ms inference, 2.8ms postprocess per image at shape (1, 3, 832, 832)\n"
     ]
    },
    {
     "name": "stderr",
     "output_type": "stream",
     "text": [
      "Processing images:  23%|██████████████▏                                              | 118/509 [01:06<02:28,  2.63it/s]"
     ]
    },
    {
     "name": "stdout",
     "output_type": "stream",
     "text": [
      "\n",
      "0: 832x832 17 solar_panels, 315.4ms\n",
      "Speed: 9.8ms preprocess, 315.4ms inference, 2.8ms postprocess per image at shape (1, 3, 832, 832)\n"
     ]
    },
    {
     "name": "stderr",
     "output_type": "stream",
     "text": [
      "Processing images:  23%|██████████████▎                                              | 119/509 [01:07<02:25,  2.69it/s]"
     ]
    },
    {
     "name": "stdout",
     "output_type": "stream",
     "text": [
      "\n",
      "0: 832x832 9 solar_panels, 367.9ms\n",
      "Speed: 9.8ms preprocess, 367.9ms inference, 3.8ms postprocess per image at shape (1, 3, 832, 832)\n"
     ]
    },
    {
     "name": "stderr",
     "output_type": "stream",
     "text": [
      "Processing images:  24%|██████████████▍                                              | 120/509 [01:07<02:28,  2.62it/s]"
     ]
    },
    {
     "name": "stdout",
     "output_type": "stream",
     "text": [
      "\n",
      "0: 832x832 7 solar_panels, 369.7ms\n",
      "Speed: 10.9ms preprocess, 369.7ms inference, 3.3ms postprocess per image at shape (1, 3, 832, 832)\n"
     ]
    },
    {
     "name": "stderr",
     "output_type": "stream",
     "text": [
      "Processing images:  24%|██████████████▌                                              | 121/509 [01:07<02:30,  2.57it/s]"
     ]
    },
    {
     "name": "stdout",
     "output_type": "stream",
     "text": [
      "\n",
      "0: 832x832 2 solar_panels, 361.6ms\n",
      "Speed: 10.1ms preprocess, 361.6ms inference, 2.8ms postprocess per image at shape (1, 3, 832, 832)\n"
     ]
    },
    {
     "name": "stderr",
     "output_type": "stream",
     "text": [
      "Processing images:  24%|██████████████▌                                              | 122/509 [01:08<02:31,  2.56it/s]"
     ]
    },
    {
     "name": "stdout",
     "output_type": "stream",
     "text": [
      "\n",
      "0: 832x832 4 solar_panels, 339.0ms\n",
      "Speed: 10.8ms preprocess, 339.0ms inference, 2.7ms postprocess per image at shape (1, 3, 832, 832)\n"
     ]
    },
    {
     "name": "stderr",
     "output_type": "stream",
     "text": [
      "Processing images:  24%|██████████████▋                                              | 123/509 [01:08<02:29,  2.59it/s]"
     ]
    },
    {
     "name": "stdout",
     "output_type": "stream",
     "text": [
      "\n",
      "0: 832x832 5 solar_panels, 384.3ms\n",
      "Speed: 10.1ms preprocess, 384.3ms inference, 3.4ms postprocess per image at shape (1, 3, 832, 832)\n"
     ]
    },
    {
     "name": "stderr",
     "output_type": "stream",
     "text": [
      "Processing images:  24%|██████████████▊                                              | 124/509 [01:09<02:32,  2.52it/s]"
     ]
    },
    {
     "name": "stdout",
     "output_type": "stream",
     "text": [
      "\n",
      "0: 832x832 9 solar_panels, 381.6ms\n",
      "Speed: 11.1ms preprocess, 381.6ms inference, 3.4ms postprocess per image at shape (1, 3, 832, 832)\n"
     ]
    },
    {
     "name": "stderr",
     "output_type": "stream",
     "text": [
      "Processing images:  25%|██████████████▉                                              | 125/509 [01:09<02:35,  2.47it/s]"
     ]
    },
    {
     "name": "stdout",
     "output_type": "stream",
     "text": [
      "\n",
      "0: 832x832 4 solar_panels, 354.7ms\n",
      "Speed: 8.9ms preprocess, 354.7ms inference, 3.6ms postprocess per image at shape (1, 3, 832, 832)\n"
     ]
    },
    {
     "name": "stderr",
     "output_type": "stream",
     "text": [
      "Processing images:  25%|███████████████                                              | 126/509 [01:09<02:33,  2.50it/s]"
     ]
    },
    {
     "name": "stdout",
     "output_type": "stream",
     "text": [
      "\n",
      "0: 832x832 2 solar_panels, 371.8ms\n",
      "Speed: 10.2ms preprocess, 371.8ms inference, 2.8ms postprocess per image at shape (1, 3, 832, 832)\n"
     ]
    },
    {
     "name": "stderr",
     "output_type": "stream",
     "text": [
      "Processing images:  25%|███████████████▏                                             | 127/509 [01:10<02:34,  2.48it/s]"
     ]
    },
    {
     "name": "stdout",
     "output_type": "stream",
     "text": [
      "\n",
      "0: 832x832 7 solar_panels, 336.8ms\n",
      "Speed: 9.5ms preprocess, 336.8ms inference, 2.4ms postprocess per image at shape (1, 3, 832, 832)\n"
     ]
    },
    {
     "name": "stderr",
     "output_type": "stream",
     "text": [
      "Processing images:  25%|███████████████▎                                             | 128/509 [01:10<02:30,  2.53it/s]"
     ]
    },
    {
     "name": "stdout",
     "output_type": "stream",
     "text": [
      "\n",
      "0: 832x832 6 solar_panels, 365.6ms\n",
      "Speed: 10.3ms preprocess, 365.6ms inference, 3.3ms postprocess per image at shape (1, 3, 832, 832)\n"
     ]
    },
    {
     "name": "stderr",
     "output_type": "stream",
     "text": [
      "Processing images:  25%|███████████████▍                                             | 129/509 [01:11<02:30,  2.53it/s]"
     ]
    },
    {
     "name": "stdout",
     "output_type": "stream",
     "text": [
      "\n",
      "0: 832x832 4 solar_panels, 359.8ms\n",
      "Speed: 10.2ms preprocess, 359.8ms inference, 2.5ms postprocess per image at shape (1, 3, 832, 832)\n"
     ]
    },
    {
     "name": "stderr",
     "output_type": "stream",
     "text": [
      "Processing images:  26%|███████████████▌                                             | 130/509 [01:11<02:30,  2.52it/s]"
     ]
    },
    {
     "name": "stdout",
     "output_type": "stream",
     "text": [
      "\n",
      "0: 832x832 4 solar_panels, 602.7ms\n",
      "Speed: 9.7ms preprocess, 602.7ms inference, 2.6ms postprocess per image at shape (1, 3, 832, 832)\n"
     ]
    },
    {
     "name": "stderr",
     "output_type": "stream",
     "text": [
      "Processing images:  26%|███████████████▋                                             | 131/509 [01:12<02:57,  2.13it/s]"
     ]
    },
    {
     "name": "stdout",
     "output_type": "stream",
     "text": [
      "\n",
      "0: 832x832 12 solar_panels, 419.1ms\n",
      "Speed: 12.9ms preprocess, 419.1ms inference, 2.7ms postprocess per image at shape (1, 3, 832, 832)\n"
     ]
    },
    {
     "name": "stderr",
     "output_type": "stream",
     "text": [
      "Processing images:  26%|███████████████▊                                             | 132/509 [01:12<02:56,  2.14it/s]"
     ]
    },
    {
     "name": "stdout",
     "output_type": "stream",
     "text": [
      "\n",
      "0: 832x832 5 solar_panels, 640.9ms\n",
      "Speed: 12.7ms preprocess, 640.9ms inference, 2.7ms postprocess per image at shape (1, 3, 832, 832)\n"
     ]
    },
    {
     "name": "stderr",
     "output_type": "stream",
     "text": [
      "Processing images:  26%|███████████████▉                                             | 133/509 [01:13<03:20,  1.88it/s]"
     ]
    },
    {
     "name": "stdout",
     "output_type": "stream",
     "text": [
      "\n",
      "0: 832x832 4 solar_panels, 695.5ms\n",
      "Speed: 13.8ms preprocess, 695.5ms inference, 2.6ms postprocess per image at shape (1, 3, 832, 832)\n"
     ]
    },
    {
     "name": "stderr",
     "output_type": "stream",
     "text": [
      "Processing images:  26%|████████████████                                             | 134/509 [01:14<03:42,  1.68it/s]"
     ]
    },
    {
     "name": "stdout",
     "output_type": "stream",
     "text": [
      "\n",
      "0: 832x832 3 solar_panels, 719.7ms\n",
      "Speed: 15.0ms preprocess, 719.7ms inference, 2.5ms postprocess per image at shape (1, 3, 832, 832)\n"
     ]
    },
    {
     "name": "stderr",
     "output_type": "stream",
     "text": [
      "Processing images:  27%|████████████████▏                                            | 135/509 [01:14<04:00,  1.55it/s]"
     ]
    },
    {
     "name": "stdout",
     "output_type": "stream",
     "text": [
      "\n",
      "0: 832x832 7 solar_panels, 699.4ms\n",
      "Speed: 13.4ms preprocess, 699.4ms inference, 2.6ms postprocess per image at shape (1, 3, 832, 832)\n"
     ]
    },
    {
     "name": "stderr",
     "output_type": "stream",
     "text": [
      "Processing images:  27%|████████████████▎                                            | 136/509 [01:15<04:10,  1.49it/s]"
     ]
    },
    {
     "name": "stdout",
     "output_type": "stream",
     "text": [
      "\n",
      "0: 832x832 6 solar_panels, 711.9ms\n",
      "Speed: 13.6ms preprocess, 711.9ms inference, 2.6ms postprocess per image at shape (1, 3, 832, 832)\n"
     ]
    },
    {
     "name": "stderr",
     "output_type": "stream",
     "text": [
      "Processing images:  27%|████████████████▍                                            | 137/509 [01:16<04:19,  1.43it/s]"
     ]
    },
    {
     "name": "stdout",
     "output_type": "stream",
     "text": [
      "\n",
      "0: 832x832 7 solar_panels, 689.7ms\n",
      "Speed: 13.8ms preprocess, 689.7ms inference, 2.5ms postprocess per image at shape (1, 3, 832, 832)\n"
     ]
    },
    {
     "name": "stderr",
     "output_type": "stream",
     "text": [
      "Processing images:  27%|████████████████▌                                            | 138/509 [01:17<04:23,  1.41it/s]"
     ]
    },
    {
     "name": "stdout",
     "output_type": "stream",
     "text": [
      "\n",
      "0: 832x832 10 solar_panels, 682.3ms\n",
      "Speed: 13.7ms preprocess, 682.3ms inference, 2.6ms postprocess per image at shape (1, 3, 832, 832)\n"
     ]
    },
    {
     "name": "stderr",
     "output_type": "stream",
     "text": [
      "Processing images:  27%|████████████████▋                                            | 139/509 [01:17<04:23,  1.40it/s]"
     ]
    },
    {
     "name": "stdout",
     "output_type": "stream",
     "text": [
      "\n",
      "0: 832x832 8 solar_panels, 640.4ms\n",
      "Speed: 13.1ms preprocess, 640.4ms inference, 2.4ms postprocess per image at shape (1, 3, 832, 832)\n"
     ]
    },
    {
     "name": "stderr",
     "output_type": "stream",
     "text": [
      "Processing images:  28%|████████████████▊                                            | 140/509 [01:18<04:20,  1.42it/s]"
     ]
    },
    {
     "name": "stdout",
     "output_type": "stream",
     "text": [
      "\n",
      "0: 832x832 3 solar_panels, 446.2ms\n",
      "Speed: 8.2ms preprocess, 446.2ms inference, 2.7ms postprocess per image at shape (1, 3, 832, 832)\n"
     ]
    },
    {
     "name": "stderr",
     "output_type": "stream",
     "text": [
      "Processing images:  28%|████████████████▉                                            | 141/509 [01:18<03:54,  1.57it/s]"
     ]
    },
    {
     "name": "stdout",
     "output_type": "stream",
     "text": [
      "\n",
      "0: 832x832 9 solar_panels, 475.1ms\n",
      "Speed: 11.4ms preprocess, 475.1ms inference, 2.6ms postprocess per image at shape (1, 3, 832, 832)\n"
     ]
    },
    {
     "name": "stderr",
     "output_type": "stream",
     "text": [
      "Processing images:  28%|█████████████████                                            | 142/509 [01:19<03:39,  1.67it/s]"
     ]
    },
    {
     "name": "stdout",
     "output_type": "stream",
     "text": [
      "\n",
      "0: 832x832 12 solar_panels, 514.8ms\n",
      "Speed: 12.7ms preprocess, 514.8ms inference, 2.6ms postprocess per image at shape (1, 3, 832, 832)\n"
     ]
    },
    {
     "name": "stderr",
     "output_type": "stream",
     "text": [
      "Processing images:  28%|█████████████████▏                                           | 143/509 [01:20<03:34,  1.70it/s]"
     ]
    },
    {
     "name": "stdout",
     "output_type": "stream",
     "text": [
      "\n",
      "0: 832x832 1 solar_panel, 365.2ms\n",
      "Speed: 9.9ms preprocess, 365.2ms inference, 2.8ms postprocess per image at shape (1, 3, 832, 832)\n"
     ]
    },
    {
     "name": "stderr",
     "output_type": "stream",
     "text": [
      "Processing images:  28%|█████████████████▎                                           | 144/509 [01:20<03:13,  1.88it/s]"
     ]
    },
    {
     "name": "stdout",
     "output_type": "stream",
     "text": [
      "\n",
      "0: 832x832 10 solar_panels, 330.3ms\n",
      "Speed: 10.5ms preprocess, 330.3ms inference, 3.0ms postprocess per image at shape (1, 3, 832, 832)\n"
     ]
    },
    {
     "name": "stderr",
     "output_type": "stream",
     "text": [
      "Processing images:  28%|█████████████████▍                                           | 145/509 [01:20<02:56,  2.06it/s]"
     ]
    },
    {
     "name": "stdout",
     "output_type": "stream",
     "text": [
      "\n",
      "0: 832x832 16 solar_panels, 387.2ms\n",
      "Speed: 12.4ms preprocess, 387.2ms inference, 3.5ms postprocess per image at shape (1, 3, 832, 832)\n"
     ]
    },
    {
     "name": "stderr",
     "output_type": "stream",
     "text": [
      "Processing images:  29%|█████████████████▍                                           | 146/509 [01:21<02:49,  2.14it/s]"
     ]
    },
    {
     "name": "stdout",
     "output_type": "stream",
     "text": [
      "\n",
      "0: 832x832 2 solar_panels, 373.9ms\n",
      "Speed: 10.8ms preprocess, 373.9ms inference, 3.5ms postprocess per image at shape (1, 3, 832, 832)\n"
     ]
    },
    {
     "name": "stderr",
     "output_type": "stream",
     "text": [
      "Processing images:  29%|█████████████████▌                                           | 147/509 [01:21<02:44,  2.20it/s]"
     ]
    },
    {
     "name": "stdout",
     "output_type": "stream",
     "text": [
      "\n",
      "0: 832x832 6 solar_panels, 365.9ms\n",
      "Speed: 10.9ms preprocess, 365.9ms inference, 3.5ms postprocess per image at shape (1, 3, 832, 832)\n"
     ]
    },
    {
     "name": "stderr",
     "output_type": "stream",
     "text": [
      "Processing images:  29%|█████████████████▋                                           | 148/509 [01:22<02:39,  2.27it/s]"
     ]
    },
    {
     "name": "stdout",
     "output_type": "stream",
     "text": [
      "\n",
      "0: 832x832 9 solar_panels, 389.3ms\n",
      "Speed: 12.8ms preprocess, 389.3ms inference, 2.6ms postprocess per image at shape (1, 3, 832, 832)\n"
     ]
    },
    {
     "name": "stderr",
     "output_type": "stream",
     "text": [
      "Processing images:  29%|█████████████████▊                                           | 149/509 [01:22<02:37,  2.28it/s]"
     ]
    },
    {
     "name": "stdout",
     "output_type": "stream",
     "text": [
      "\n",
      "0: 832x832 9 solar_panels, 348.6ms\n",
      "Speed: 10.5ms preprocess, 348.6ms inference, 2.8ms postprocess per image at shape (1, 3, 832, 832)\n"
     ]
    },
    {
     "name": "stderr",
     "output_type": "stream",
     "text": [
      "Processing images:  29%|█████████████████▉                                           | 150/509 [01:22<02:31,  2.37it/s]"
     ]
    },
    {
     "name": "stdout",
     "output_type": "stream",
     "text": [
      "\n",
      "0: 832x832 9 solar_panels, 724.9ms\n",
      "Speed: 12.8ms preprocess, 724.9ms inference, 2.7ms postprocess per image at shape (1, 3, 832, 832)\n"
     ]
    },
    {
     "name": "stderr",
     "output_type": "stream",
     "text": [
      "Processing images:  30%|██████████████████                                           | 151/509 [01:23<03:07,  1.90it/s]"
     ]
    },
    {
     "name": "stdout",
     "output_type": "stream",
     "text": [
      "\n",
      "0: 832x832 3 solar_panels, 461.7ms\n",
      "Speed: 11.6ms preprocess, 461.7ms inference, 2.7ms postprocess per image at shape (1, 3, 832, 832)\n"
     ]
    },
    {
     "name": "stderr",
     "output_type": "stream",
     "text": [
      "Processing images:  30%|██████████████████▏                                          | 152/509 [01:24<03:04,  1.94it/s]"
     ]
    },
    {
     "name": "stdout",
     "output_type": "stream",
     "text": [
      "\n",
      "0: 832x832 7 solar_panels, 294.5ms\n",
      "Speed: 12.0ms preprocess, 294.5ms inference, 2.3ms postprocess per image at shape (1, 3, 832, 832)\n"
     ]
    },
    {
     "name": "stderr",
     "output_type": "stream",
     "text": [
      "Processing images:  30%|██████████████████▎                                          | 153/509 [01:24<02:44,  2.16it/s]"
     ]
    },
    {
     "name": "stdout",
     "output_type": "stream",
     "text": [
      "\n",
      "0: 832x832 7 solar_panels, 338.5ms\n",
      "Speed: 8.7ms preprocess, 338.5ms inference, 2.8ms postprocess per image at shape (1, 3, 832, 832)\n"
     ]
    },
    {
     "name": "stderr",
     "output_type": "stream",
     "text": [
      "Processing images:  30%|██████████████████▍                                          | 154/509 [01:24<02:35,  2.29it/s]"
     ]
    },
    {
     "name": "stdout",
     "output_type": "stream",
     "text": [
      "\n",
      "0: 832x832 9 solar_panels, 337.5ms\n",
      "Speed: 9.9ms preprocess, 337.5ms inference, 2.9ms postprocess per image at shape (1, 3, 832, 832)\n"
     ]
    },
    {
     "name": "stderr",
     "output_type": "stream",
     "text": [
      "Processing images:  30%|██████████████████▌                                          | 155/509 [01:25<02:27,  2.40it/s]"
     ]
    },
    {
     "name": "stdout",
     "output_type": "stream",
     "text": [
      "\n",
      "0: 832x832 6 solar_panels, 613.4ms\n",
      "Speed: 11.4ms preprocess, 613.4ms inference, 2.6ms postprocess per image at shape (1, 3, 832, 832)\n"
     ]
    },
    {
     "name": "stderr",
     "output_type": "stream",
     "text": [
      "Processing images:  31%|██████████████████▋                                          | 156/509 [01:25<02:53,  2.04it/s]"
     ]
    },
    {
     "name": "stdout",
     "output_type": "stream",
     "text": [
      "\n",
      "0: 832x832 15 solar_panels, 545.9ms\n",
      "Speed: 13.1ms preprocess, 545.9ms inference, 2.6ms postprocess per image at shape (1, 3, 832, 832)\n"
     ]
    },
    {
     "name": "stderr",
     "output_type": "stream",
     "text": [
      "Processing images:  31%|██████████████████▊                                          | 157/509 [01:26<03:02,  1.92it/s]"
     ]
    },
    {
     "name": "stdout",
     "output_type": "stream",
     "text": [
      "\n",
      "0: 832x832 8 solar_panels, 466.2ms\n",
      "Speed: 14.6ms preprocess, 466.2ms inference, 2.5ms postprocess per image at shape (1, 3, 832, 832)\n"
     ]
    },
    {
     "name": "stderr",
     "output_type": "stream",
     "text": [
      "Processing images:  31%|██████████████████▉                                          | 158/509 [01:26<03:01,  1.93it/s]"
     ]
    },
    {
     "name": "stdout",
     "output_type": "stream",
     "text": [
      "\n",
      "0: 832x832 3 solar_panels, 691.7ms\n",
      "Speed: 13.4ms preprocess, 691.7ms inference, 2.5ms postprocess per image at shape (1, 3, 832, 832)\n"
     ]
    },
    {
     "name": "stderr",
     "output_type": "stream",
     "text": [
      "Processing images:  31%|███████████████████                                          | 159/509 [01:27<03:23,  1.72it/s]"
     ]
    },
    {
     "name": "stdout",
     "output_type": "stream",
     "text": [
      "\n",
      "0: 832x832 7 solar_panels, 621.9ms\n",
      "Speed: 14.1ms preprocess, 621.9ms inference, 2.7ms postprocess per image at shape (1, 3, 832, 832)\n"
     ]
    },
    {
     "name": "stderr",
     "output_type": "stream",
     "text": [
      "Processing images:  31%|███████████████████▏                                         | 160/509 [01:28<03:31,  1.65it/s]"
     ]
    },
    {
     "name": "stdout",
     "output_type": "stream",
     "text": [
      "\n",
      "0: 832x832 4 solar_panels, 619.5ms\n",
      "Speed: 13.8ms preprocess, 619.5ms inference, 2.5ms postprocess per image at shape (1, 3, 832, 832)\n"
     ]
    },
    {
     "name": "stderr",
     "output_type": "stream",
     "text": [
      "Processing images:  32%|███████████████████▎                                         | 161/509 [01:29<03:36,  1.60it/s]"
     ]
    },
    {
     "name": "stdout",
     "output_type": "stream",
     "text": [
      "\n",
      "0: 832x832 10 solar_panels, 693.0ms\n",
      "Speed: 11.5ms preprocess, 693.0ms inference, 2.6ms postprocess per image at shape (1, 3, 832, 832)\n"
     ]
    },
    {
     "name": "stderr",
     "output_type": "stream",
     "text": [
      "Processing images:  32%|███████████████████▍                                         | 162/509 [01:29<03:47,  1.52it/s]"
     ]
    },
    {
     "name": "stdout",
     "output_type": "stream",
     "text": [
      "\n",
      "0: 832x832 3 solar_panels, 707.2ms\n",
      "Speed: 14.2ms preprocess, 707.2ms inference, 2.5ms postprocess per image at shape (1, 3, 832, 832)\n"
     ]
    },
    {
     "name": "stderr",
     "output_type": "stream",
     "text": [
      "Processing images:  32%|███████████████████▌                                         | 163/509 [01:30<03:57,  1.46it/s]"
     ]
    },
    {
     "name": "stdout",
     "output_type": "stream",
     "text": [
      "\n",
      "0: 832x832 9 solar_panels, 625.1ms\n",
      "Speed: 12.1ms preprocess, 625.1ms inference, 2.6ms postprocess per image at shape (1, 3, 832, 832)\n"
     ]
    },
    {
     "name": "stderr",
     "output_type": "stream",
     "text": [
      "Processing images:  32%|███████████████████▋                                         | 164/509 [01:31<03:54,  1.47it/s]"
     ]
    },
    {
     "name": "stdout",
     "output_type": "stream",
     "text": [
      "\n",
      "0: 832x832 3 solar_panels, 709.2ms\n",
      "Speed: 13.8ms preprocess, 709.2ms inference, 2.6ms postprocess per image at shape (1, 3, 832, 832)\n"
     ]
    },
    {
     "name": "stderr",
     "output_type": "stream",
     "text": [
      "Processing images:  32%|███████████████████▊                                         | 165/509 [01:31<04:01,  1.42it/s]"
     ]
    },
    {
     "name": "stdout",
     "output_type": "stream",
     "text": [
      "\n",
      "0: 832x832 4 solar_panels, 714.3ms\n",
      "Speed: 14.1ms preprocess, 714.3ms inference, 2.6ms postprocess per image at shape (1, 3, 832, 832)\n"
     ]
    },
    {
     "name": "stderr",
     "output_type": "stream",
     "text": [
      "Processing images:  33%|███████████████████▉                                         | 166/509 [01:32<04:05,  1.40it/s]"
     ]
    },
    {
     "name": "stdout",
     "output_type": "stream",
     "text": [
      "\n",
      "0: 832x832 4 solar_panels, 647.2ms\n",
      "Speed: 11.3ms preprocess, 647.2ms inference, 2.5ms postprocess per image at shape (1, 3, 832, 832)\n"
     ]
    },
    {
     "name": "stderr",
     "output_type": "stream",
     "text": [
      "Processing images:  33%|████████████████████                                         | 167/509 [01:33<04:01,  1.42it/s]"
     ]
    },
    {
     "name": "stdout",
     "output_type": "stream",
     "text": [
      "\n",
      "0: 832x832 4 solar_panels, 684.6ms\n",
      "Speed: 14.5ms preprocess, 684.6ms inference, 2.7ms postprocess per image at shape (1, 3, 832, 832)\n"
     ]
    },
    {
     "name": "stderr",
     "output_type": "stream",
     "text": [
      "Processing images:  33%|████████████████████▏                                        | 168/509 [01:34<04:03,  1.40it/s]"
     ]
    },
    {
     "name": "stdout",
     "output_type": "stream",
     "text": [
      "\n",
      "0: 832x832 3 solar_panels, 527.4ms\n",
      "Speed: 14.2ms preprocess, 527.4ms inference, 2.8ms postprocess per image at shape (1, 3, 832, 832)\n"
     ]
    },
    {
     "name": "stderr",
     "output_type": "stream",
     "text": [
      "Processing images:  33%|████████████████████▎                                        | 169/509 [01:34<03:47,  1.50it/s]"
     ]
    },
    {
     "name": "stdout",
     "output_type": "stream",
     "text": [
      "\n",
      "0: 832x832 11 solar_panels, 708.6ms\n",
      "Speed: 9.9ms preprocess, 708.6ms inference, 2.6ms postprocess per image at shape (1, 3, 832, 832)\n"
     ]
    },
    {
     "name": "stderr",
     "output_type": "stream",
     "text": [
      "Processing images:  33%|████████████████████▎                                        | 170/509 [01:35<03:55,  1.44it/s]"
     ]
    },
    {
     "name": "stdout",
     "output_type": "stream",
     "text": [
      "\n",
      "0: 832x832 2 solar_panels, 677.6ms\n",
      "Speed: 13.4ms preprocess, 677.6ms inference, 2.5ms postprocess per image at shape (1, 3, 832, 832)\n"
     ]
    },
    {
     "name": "stderr",
     "output_type": "stream",
     "text": [
      "Processing images:  34%|████████████████████▍                                        | 171/509 [01:36<03:56,  1.43it/s]"
     ]
    },
    {
     "name": "stdout",
     "output_type": "stream",
     "text": [
      "\n",
      "0: 832x832 16 solar_panels, 688.6ms\n",
      "Speed: 15.2ms preprocess, 688.6ms inference, 2.7ms postprocess per image at shape (1, 3, 832, 832)\n"
     ]
    },
    {
     "name": "stderr",
     "output_type": "stream",
     "text": [
      "Processing images:  34%|████████████████████▌                                        | 172/509 [01:36<03:59,  1.41it/s]"
     ]
    },
    {
     "name": "stdout",
     "output_type": "stream",
     "text": [
      "\n",
      "0: 832x832 7 solar_panels, 687.0ms\n",
      "Speed: 12.5ms preprocess, 687.0ms inference, 2.6ms postprocess per image at shape (1, 3, 832, 832)\n"
     ]
    },
    {
     "name": "stderr",
     "output_type": "stream",
     "text": [
      "Processing images:  34%|████████████████████▋                                        | 173/509 [01:37<04:00,  1.40it/s]"
     ]
    },
    {
     "name": "stdout",
     "output_type": "stream",
     "text": [
      "\n",
      "0: 832x832 10 solar_panels, 712.7ms\n",
      "Speed: 12.1ms preprocess, 712.7ms inference, 4.4ms postprocess per image at shape (1, 3, 832, 832)\n"
     ]
    },
    {
     "name": "stderr",
     "output_type": "stream",
     "text": [
      "Processing images:  34%|████████████████████▊                                        | 174/509 [01:38<04:03,  1.37it/s]"
     ]
    },
    {
     "name": "stdout",
     "output_type": "stream",
     "text": [
      "\n",
      "0: 832x832 7 solar_panels, 587.5ms\n",
      "Speed: 11.5ms preprocess, 587.5ms inference, 2.6ms postprocess per image at shape (1, 3, 832, 832)\n"
     ]
    },
    {
     "name": "stderr",
     "output_type": "stream",
     "text": [
      "Processing images:  34%|████████████████████▉                                        | 175/509 [01:38<03:53,  1.43it/s]"
     ]
    },
    {
     "name": "stdout",
     "output_type": "stream",
     "text": [
      "\n",
      "0: 832x832 23 solar_panels, 724.5ms\n",
      "Speed: 12.8ms preprocess, 724.5ms inference, 2.7ms postprocess per image at shape (1, 3, 832, 832)\n"
     ]
    },
    {
     "name": "stderr",
     "output_type": "stream",
     "text": [
      "Processing images:  35%|█████████████████████                                        | 176/509 [01:39<03:59,  1.39it/s]"
     ]
    },
    {
     "name": "stdout",
     "output_type": "stream",
     "text": [
      "\n",
      "0: 832x832 8 solar_panels, 609.6ms\n",
      "Speed: 6.1ms preprocess, 609.6ms inference, 2.5ms postprocess per image at shape (1, 3, 832, 832)\n"
     ]
    },
    {
     "name": "stderr",
     "output_type": "stream",
     "text": [
      "Processing images:  35%|█████████████████████▏                                       | 177/509 [01:40<03:50,  1.44it/s]"
     ]
    },
    {
     "name": "stdout",
     "output_type": "stream",
     "text": [
      "\n",
      "0: 832x832 19 solar_panels, 733.9ms\n",
      "Speed: 11.5ms preprocess, 733.9ms inference, 2.7ms postprocess per image at shape (1, 3, 832, 832)\n"
     ]
    },
    {
     "name": "stderr",
     "output_type": "stream",
     "text": [
      "Processing images:  35%|█████████████████████▎                                       | 178/509 [01:41<03:57,  1.39it/s]"
     ]
    },
    {
     "name": "stdout",
     "output_type": "stream",
     "text": [
      "\n",
      "0: 832x832 9 solar_panels, 688.9ms\n",
      "Speed: 13.7ms preprocess, 688.9ms inference, 2.6ms postprocess per image at shape (1, 3, 832, 832)\n"
     ]
    },
    {
     "name": "stderr",
     "output_type": "stream",
     "text": [
      "Processing images:  35%|█████████████████████▍                                       | 179/509 [01:41<03:58,  1.38it/s]"
     ]
    },
    {
     "name": "stdout",
     "output_type": "stream",
     "text": [
      "\n",
      "0: 832x832 12 solar_panels, 624.9ms\n",
      "Speed: 12.9ms preprocess, 624.9ms inference, 2.6ms postprocess per image at shape (1, 3, 832, 832)\n"
     ]
    },
    {
     "name": "stderr",
     "output_type": "stream",
     "text": [
      "Processing images:  35%|█████████████████████▌                                       | 180/509 [01:42<03:52,  1.42it/s]"
     ]
    },
    {
     "name": "stdout",
     "output_type": "stream",
     "text": [
      "\n",
      "0: 832x832 29 solar_panels, 680.0ms\n",
      "Speed: 13.5ms preprocess, 680.0ms inference, 2.7ms postprocess per image at shape (1, 3, 832, 832)\n"
     ]
    },
    {
     "name": "stderr",
     "output_type": "stream",
     "text": [
      "Processing images:  36%|█████████████████████▋                                       | 181/509 [01:43<03:52,  1.41it/s]"
     ]
    },
    {
     "name": "stdout",
     "output_type": "stream",
     "text": [
      "\n",
      "0: 832x832 22 solar_panels, 578.5ms\n",
      "Speed: 9.3ms preprocess, 578.5ms inference, 2.7ms postprocess per image at shape (1, 3, 832, 832)\n"
     ]
    },
    {
     "name": "stderr",
     "output_type": "stream",
     "text": [
      "Processing images:  36%|█████████████████████▊                                       | 182/509 [01:43<03:43,  1.47it/s]"
     ]
    },
    {
     "name": "stdout",
     "output_type": "stream",
     "text": [
      "\n",
      "0: 832x832 23 solar_panels, 693.3ms\n",
      "Speed: 12.9ms preprocess, 693.3ms inference, 2.8ms postprocess per image at shape (1, 3, 832, 832)\n"
     ]
    },
    {
     "name": "stderr",
     "output_type": "stream",
     "text": [
      "Processing images:  36%|█████████████████████▉                                       | 183/509 [01:44<03:47,  1.43it/s]"
     ]
    },
    {
     "name": "stdout",
     "output_type": "stream",
     "text": [
      "\n",
      "0: 832x832 3 solar_panels, 682.7ms\n",
      "Speed: 11.9ms preprocess, 682.7ms inference, 2.6ms postprocess per image at shape (1, 3, 832, 832)\n"
     ]
    },
    {
     "name": "stderr",
     "output_type": "stream",
     "text": [
      "Processing images:  36%|██████████████████████                                       | 184/509 [01:45<03:49,  1.42it/s]"
     ]
    },
    {
     "name": "stdout",
     "output_type": "stream",
     "text": [
      "\n",
      "0: 832x832 39 solar_panels, 692.4ms\n",
      "Speed: 12.6ms preprocess, 692.4ms inference, 2.7ms postprocess per image at shape (1, 3, 832, 832)\n"
     ]
    },
    {
     "name": "stderr",
     "output_type": "stream",
     "text": [
      "Processing images:  36%|██████████████████████▏                                      | 185/509 [01:46<03:51,  1.40it/s]"
     ]
    },
    {
     "name": "stdout",
     "output_type": "stream",
     "text": [
      "\n",
      "0: 832x832 1 solar_panel, 736.1ms\n",
      "Speed: 13.6ms preprocess, 736.1ms inference, 2.5ms postprocess per image at shape (1, 3, 832, 832)\n"
     ]
    },
    {
     "name": "stderr",
     "output_type": "stream",
     "text": [
      "Processing images:  37%|██████████████████████▎                                      | 186/509 [01:46<03:56,  1.37it/s]"
     ]
    },
    {
     "name": "stdout",
     "output_type": "stream",
     "text": [
      "\n",
      "0: 832x832 7 solar_panels, 705.3ms\n",
      "Speed: 13.4ms preprocess, 705.3ms inference, 2.6ms postprocess per image at shape (1, 3, 832, 832)\n"
     ]
    },
    {
     "name": "stderr",
     "output_type": "stream",
     "text": [
      "Processing images:  37%|██████████████████████▍                                      | 187/509 [01:47<03:57,  1.36it/s]"
     ]
    },
    {
     "name": "stdout",
     "output_type": "stream",
     "text": [
      "\n",
      "0: 832x832 12 solar_panels, 693.7ms\n",
      "Speed: 11.4ms preprocess, 693.7ms inference, 1.8ms postprocess per image at shape (1, 3, 832, 832)\n"
     ]
    },
    {
     "name": "stderr",
     "output_type": "stream",
     "text": [
      "Processing images:  37%|██████████████████████▌                                      | 188/509 [01:48<03:55,  1.36it/s]"
     ]
    },
    {
     "name": "stdout",
     "output_type": "stream",
     "text": [
      "\n",
      "0: 832x832 11 solar_panels, 760.8ms\n",
      "Speed: 13.1ms preprocess, 760.8ms inference, 2.7ms postprocess per image at shape (1, 3, 832, 832)\n"
     ]
    },
    {
     "name": "stderr",
     "output_type": "stream",
     "text": [
      "Processing images:  37%|██████████████████████▋                                      | 189/509 [01:49<04:02,  1.32it/s]"
     ]
    },
    {
     "name": "stdout",
     "output_type": "stream",
     "text": [
      "\n",
      "0: 832x832 3 solar_panels, 741.1ms\n",
      "Speed: 11.4ms preprocess, 741.1ms inference, 2.5ms postprocess per image at shape (1, 3, 832, 832)\n"
     ]
    },
    {
     "name": "stderr",
     "output_type": "stream",
     "text": [
      "Processing images:  37%|██████████████████████▊                                      | 190/509 [01:49<04:03,  1.31it/s]"
     ]
    },
    {
     "name": "stdout",
     "output_type": "stream",
     "text": [
      "\n",
      "0: 832x832 3 solar_panels, 588.7ms\n",
      "Speed: 12.7ms preprocess, 588.7ms inference, 2.6ms postprocess per image at shape (1, 3, 832, 832)\n"
     ]
    },
    {
     "name": "stderr",
     "output_type": "stream",
     "text": [
      "Processing images:  38%|██████████████████████▉                                      | 191/509 [01:50<03:50,  1.38it/s]"
     ]
    },
    {
     "name": "stdout",
     "output_type": "stream",
     "text": [
      "\n",
      "0: 832x832 4 solar_panels, 581.3ms\n",
      "Speed: 13.6ms preprocess, 581.3ms inference, 2.6ms postprocess per image at shape (1, 3, 832, 832)\n"
     ]
    },
    {
     "name": "stderr",
     "output_type": "stream",
     "text": [
      "Processing images:  38%|███████████████████████                                      | 192/509 [01:51<03:39,  1.44it/s]"
     ]
    },
    {
     "name": "stdout",
     "output_type": "stream",
     "text": [
      "\n",
      "0: 832x832 5 solar_panels, 714.5ms\n",
      "Speed: 14.1ms preprocess, 714.5ms inference, 2.5ms postprocess per image at shape (1, 3, 832, 832)\n"
     ]
    },
    {
     "name": "stderr",
     "output_type": "stream",
     "text": [
      "Processing images:  38%|███████████████████████▏                                     | 193/509 [01:51<03:45,  1.40it/s]"
     ]
    },
    {
     "name": "stdout",
     "output_type": "stream",
     "text": [
      "\n",
      "0: 832x832 6 solar_panels, 745.2ms\n",
      "Speed: 14.5ms preprocess, 745.2ms inference, 2.6ms postprocess per image at shape (1, 3, 832, 832)\n"
     ]
    },
    {
     "name": "stderr",
     "output_type": "stream",
     "text": [
      "Processing images:  38%|███████████████████████▏                                     | 194/509 [01:52<03:51,  1.36it/s]"
     ]
    },
    {
     "name": "stdout",
     "output_type": "stream",
     "text": [
      "\n",
      "0: 832x832 1 solar_panel, 676.5ms\n",
      "Speed: 10.9ms preprocess, 676.5ms inference, 2.4ms postprocess per image at shape (1, 3, 832, 832)\n"
     ]
    },
    {
     "name": "stderr",
     "output_type": "stream",
     "text": [
      "Processing images:  38%|███████████████████████▎                                     | 195/509 [01:53<03:48,  1.37it/s]"
     ]
    },
    {
     "name": "stdout",
     "output_type": "stream",
     "text": [
      "\n",
      "0: 832x832 15 solar_panels, 697.0ms\n",
      "Speed: 11.6ms preprocess, 697.0ms inference, 3.1ms postprocess per image at shape (1, 3, 832, 832)\n"
     ]
    },
    {
     "name": "stderr",
     "output_type": "stream",
     "text": [
      "Processing images:  39%|███████████████████████▍                                     | 196/509 [01:54<03:48,  1.37it/s]"
     ]
    },
    {
     "name": "stdout",
     "output_type": "stream",
     "text": [
      "\n",
      "0: 832x832 5 solar_panels, 658.6ms\n",
      "Speed: 13.6ms preprocess, 658.6ms inference, 2.7ms postprocess per image at shape (1, 3, 832, 832)\n"
     ]
    },
    {
     "name": "stderr",
     "output_type": "stream",
     "text": [
      "Processing images:  39%|███████████████████████▌                                     | 197/509 [01:54<03:45,  1.38it/s]"
     ]
    },
    {
     "name": "stdout",
     "output_type": "stream",
     "text": [
      "\n",
      "0: 832x832 8 solar_panels, 502.0ms\n",
      "Speed: 11.5ms preprocess, 502.0ms inference, 2.7ms postprocess per image at shape (1, 3, 832, 832)\n"
     ]
    },
    {
     "name": "stderr",
     "output_type": "stream",
     "text": [
      "Processing images:  39%|███████████████████████▋                                     | 198/509 [01:55<03:28,  1.49it/s]"
     ]
    },
    {
     "name": "stdout",
     "output_type": "stream",
     "text": [
      "\n",
      "0: 832x832 9 solar_panels, 451.4ms\n",
      "Speed: 9.7ms preprocess, 451.4ms inference, 1.8ms postprocess per image at shape (1, 3, 832, 832)\n"
     ]
    },
    {
     "name": "stderr",
     "output_type": "stream",
     "text": [
      "Processing images:  39%|███████████████████████▊                                     | 199/509 [01:55<03:10,  1.63it/s]"
     ]
    },
    {
     "name": "stdout",
     "output_type": "stream",
     "text": [
      "\n",
      "0: 832x832 9 solar_panels, 533.4ms\n",
      "Speed: 13.2ms preprocess, 533.4ms inference, 2.7ms postprocess per image at shape (1, 3, 832, 832)\n"
     ]
    },
    {
     "name": "stderr",
     "output_type": "stream",
     "text": [
      "Processing images:  39%|███████████████████████▉                                     | 200/509 [01:56<03:06,  1.66it/s]"
     ]
    },
    {
     "name": "stdout",
     "output_type": "stream",
     "text": [
      "\n",
      "0: 832x832 11 solar_panels, 620.6ms\n",
      "Speed: 14.2ms preprocess, 620.6ms inference, 2.6ms postprocess per image at shape (1, 3, 832, 832)\n"
     ]
    },
    {
     "name": "stderr",
     "output_type": "stream",
     "text": [
      "Processing images:  39%|████████████████████████                                     | 201/509 [01:57<03:11,  1.61it/s]"
     ]
    },
    {
     "name": "stdout",
     "output_type": "stream",
     "text": [
      "\n",
      "0: 832x832 8 solar_panels, 656.1ms\n",
      "Speed: 11.4ms preprocess, 656.1ms inference, 2.5ms postprocess per image at shape (1, 3, 832, 832)\n"
     ]
    },
    {
     "name": "stderr",
     "output_type": "stream",
     "text": [
      "Processing images:  40%|████████████████████████▏                                    | 202/509 [01:57<03:17,  1.55it/s]"
     ]
    },
    {
     "name": "stdout",
     "output_type": "stream",
     "text": [
      "\n",
      "0: 832x832 4 solar_panels, 434.0ms\n",
      "Speed: 10.3ms preprocess, 434.0ms inference, 2.4ms postprocess per image at shape (1, 3, 832, 832)\n"
     ]
    },
    {
     "name": "stderr",
     "output_type": "stream",
     "text": [
      "Processing images:  40%|████████████████████████▎                                    | 203/509 [01:58<03:01,  1.69it/s]"
     ]
    },
    {
     "name": "stdout",
     "output_type": "stream",
     "text": [
      "\n",
      "0: 832x832 31 solar_panels, 364.6ms\n",
      "Speed: 10.1ms preprocess, 364.6ms inference, 2.4ms postprocess per image at shape (1, 3, 832, 832)\n"
     ]
    },
    {
     "name": "stderr",
     "output_type": "stream",
     "text": [
      "Processing images:  40%|████████████████████████▍                                    | 204/509 [01:58<02:42,  1.87it/s]"
     ]
    },
    {
     "name": "stdout",
     "output_type": "stream",
     "text": [
      "\n",
      "0: 832x832 30 solar_panels, 650.3ms\n",
      "Speed: 15.3ms preprocess, 650.3ms inference, 2.9ms postprocess per image at shape (1, 3, 832, 832)\n"
     ]
    },
    {
     "name": "stderr",
     "output_type": "stream",
     "text": [
      "Processing images:  40%|████████████████████████▌                                    | 205/509 [01:59<02:57,  1.71it/s]"
     ]
    },
    {
     "name": "stdout",
     "output_type": "stream",
     "text": [
      "\n",
      "0: 832x832 29 solar_panels, 635.0ms\n",
      "Speed: 11.0ms preprocess, 635.0ms inference, 2.9ms postprocess per image at shape (1, 3, 832, 832)\n"
     ]
    },
    {
     "name": "stderr",
     "output_type": "stream",
     "text": [
      "Processing images:  40%|████████████████████████▋                                    | 206/509 [02:00<03:04,  1.64it/s]"
     ]
    },
    {
     "name": "stdout",
     "output_type": "stream",
     "text": [
      "\n",
      "0: 832x832 13 solar_panels, 676.5ms\n",
      "Speed: 13.2ms preprocess, 676.5ms inference, 2.7ms postprocess per image at shape (1, 3, 832, 832)\n"
     ]
    },
    {
     "name": "stderr",
     "output_type": "stream",
     "text": [
      "Processing images:  41%|████████████████████████▊                                    | 207/509 [02:00<03:13,  1.56it/s]"
     ]
    },
    {
     "name": "stdout",
     "output_type": "stream",
     "text": [
      "\n",
      "0: 832x832 10 solar_panels, 595.0ms\n",
      "Speed: 13.5ms preprocess, 595.0ms inference, 2.8ms postprocess per image at shape (1, 3, 832, 832)\n"
     ]
    },
    {
     "name": "stderr",
     "output_type": "stream",
     "text": [
      "Processing images:  41%|████████████████████████▉                                    | 208/509 [02:01<03:13,  1.55it/s]"
     ]
    },
    {
     "name": "stdout",
     "output_type": "stream",
     "text": [
      "\n",
      "0: 832x832 11 solar_panels, 723.2ms\n",
      "Speed: 14.1ms preprocess, 723.2ms inference, 2.9ms postprocess per image at shape (1, 3, 832, 832)\n"
     ]
    },
    {
     "name": "stderr",
     "output_type": "stream",
     "text": [
      "Processing images:  41%|█████████████████████████                                    | 209/509 [02:02<03:24,  1.47it/s]"
     ]
    },
    {
     "name": "stdout",
     "output_type": "stream",
     "text": [
      "\n",
      "0: 832x832 9 solar_panels, 585.4ms\n",
      "Speed: 14.0ms preprocess, 585.4ms inference, 2.6ms postprocess per image at shape (1, 3, 832, 832)\n"
     ]
    },
    {
     "name": "stderr",
     "output_type": "stream",
     "text": [
      "Processing images:  41%|█████████████████████████▏                                   | 210/509 [02:02<03:18,  1.50it/s]"
     ]
    },
    {
     "name": "stdout",
     "output_type": "stream",
     "text": [
      "\n",
      "0: 832x832 13 solar_panels, 622.7ms\n",
      "Speed: 14.2ms preprocess, 622.7ms inference, 2.7ms postprocess per image at shape (1, 3, 832, 832)\n"
     ]
    },
    {
     "name": "stderr",
     "output_type": "stream",
     "text": [
      "Processing images:  41%|█████████████████████████▎                                   | 211/509 [02:03<03:18,  1.50it/s]"
     ]
    },
    {
     "name": "stdout",
     "output_type": "stream",
     "text": [
      "\n",
      "0: 832x832 14 solar_panels, 734.9ms\n",
      "Speed: 14.3ms preprocess, 734.9ms inference, 2.8ms postprocess per image at shape (1, 3, 832, 832)\n"
     ]
    },
    {
     "name": "stderr",
     "output_type": "stream",
     "text": [
      "Processing images:  42%|█████████████████████████▍                                   | 212/509 [02:04<03:27,  1.43it/s]"
     ]
    },
    {
     "name": "stdout",
     "output_type": "stream",
     "text": [
      "\n",
      "0: 832x832 11 solar_panels, 591.4ms\n",
      "Speed: 11.8ms preprocess, 591.4ms inference, 2.6ms postprocess per image at shape (1, 3, 832, 832)\n"
     ]
    },
    {
     "name": "stderr",
     "output_type": "stream",
     "text": [
      "Processing images:  42%|█████████████████████████▌                                   | 213/509 [02:04<03:21,  1.47it/s]"
     ]
    },
    {
     "name": "stdout",
     "output_type": "stream",
     "text": [
      "\n",
      "0: 832x832 14 solar_panels, 560.8ms\n",
      "Speed: 12.1ms preprocess, 560.8ms inference, 2.7ms postprocess per image at shape (1, 3, 832, 832)\n"
     ]
    },
    {
     "name": "stderr",
     "output_type": "stream",
     "text": [
      "Processing images:  42%|█████████████████████████▋                                   | 214/509 [02:05<03:13,  1.52it/s]"
     ]
    },
    {
     "name": "stdout",
     "output_type": "stream",
     "text": [
      "\n",
      "0: 832x832 17 solar_panels, 587.4ms\n",
      "Speed: 11.1ms preprocess, 587.4ms inference, 3.1ms postprocess per image at shape (1, 3, 832, 832)\n"
     ]
    },
    {
     "name": "stderr",
     "output_type": "stream",
     "text": [
      "Processing images:  42%|█████████████████████████▊                                   | 215/509 [02:06<03:09,  1.55it/s]"
     ]
    },
    {
     "name": "stdout",
     "output_type": "stream",
     "text": [
      "\n",
      "0: 832x832 10 solar_panels, 516.4ms\n",
      "Speed: 10.7ms preprocess, 516.4ms inference, 2.6ms postprocess per image at shape (1, 3, 832, 832)\n"
     ]
    },
    {
     "name": "stderr",
     "output_type": "stream",
     "text": [
      "Processing images:  42%|█████████████████████████▉                                   | 216/509 [02:06<03:01,  1.61it/s]"
     ]
    },
    {
     "name": "stdout",
     "output_type": "stream",
     "text": [
      "\n",
      "0: 832x832 14 solar_panels, 497.0ms\n",
      "Speed: 13.6ms preprocess, 497.0ms inference, 2.7ms postprocess per image at shape (1, 3, 832, 832)\n"
     ]
    },
    {
     "name": "stderr",
     "output_type": "stream",
     "text": [
      "Processing images:  43%|██████████████████████████                                   | 217/509 [02:07<02:53,  1.68it/s]"
     ]
    },
    {
     "name": "stdout",
     "output_type": "stream",
     "text": [
      "\n",
      "0: 832x832 11 solar_panels, 559.2ms\n",
      "Speed: 12.6ms preprocess, 559.2ms inference, 2.6ms postprocess per image at shape (1, 3, 832, 832)\n"
     ]
    },
    {
     "name": "stderr",
     "output_type": "stream",
     "text": [
      "Processing images:  43%|██████████████████████████▏                                  | 218/509 [02:07<02:53,  1.68it/s]"
     ]
    },
    {
     "name": "stdout",
     "output_type": "stream",
     "text": [
      "\n",
      "0: 832x832 7 solar_panels, 643.9ms\n",
      "Speed: 10.3ms preprocess, 643.9ms inference, 2.7ms postprocess per image at shape (1, 3, 832, 832)\n"
     ]
    },
    {
     "name": "stderr",
     "output_type": "stream",
     "text": [
      "Processing images:  43%|██████████████████████████▏                                  | 219/509 [02:08<03:00,  1.61it/s]"
     ]
    },
    {
     "name": "stdout",
     "output_type": "stream",
     "text": [
      "\n",
      "0: 832x832 51 solar_panels, 518.7ms\n",
      "Speed: 13.8ms preprocess, 518.7ms inference, 3.8ms postprocess per image at shape (1, 3, 832, 832)\n"
     ]
    },
    {
     "name": "stderr",
     "output_type": "stream",
     "text": [
      "Processing images:  43%|██████████████████████████▎                                  | 220/509 [02:09<02:53,  1.66it/s]"
     ]
    },
    {
     "name": "stdout",
     "output_type": "stream",
     "text": [
      "\n",
      "0: 832x832 1 solar_panel, 424.9ms\n",
      "Speed: 11.4ms preprocess, 424.9ms inference, 2.6ms postprocess per image at shape (1, 3, 832, 832)\n"
     ]
    },
    {
     "name": "stderr",
     "output_type": "stream",
     "text": [
      "Processing images:  43%|██████████████████████████▍                                  | 221/509 [02:09<02:42,  1.78it/s]"
     ]
    },
    {
     "name": "stdout",
     "output_type": "stream",
     "text": [
      "\n",
      "0: 832x832 5 solar_panels, 562.3ms\n",
      "Speed: 11.0ms preprocess, 562.3ms inference, 2.7ms postprocess per image at shape (1, 3, 832, 832)\n"
     ]
    },
    {
     "name": "stderr",
     "output_type": "stream",
     "text": [
      "Processing images:  44%|██████████████████████████▌                                  | 222/509 [02:10<02:43,  1.75it/s]"
     ]
    },
    {
     "name": "stdout",
     "output_type": "stream",
     "text": [
      "\n",
      "0: 832x832 43 solar_panels, 429.8ms\n",
      "Speed: 11.9ms preprocess, 429.8ms inference, 2.9ms postprocess per image at shape (1, 3, 832, 832)\n"
     ]
    },
    {
     "name": "stderr",
     "output_type": "stream",
     "text": [
      "Processing images:  44%|██████████████████████████▋                                  | 223/509 [02:10<02:35,  1.84it/s]"
     ]
    },
    {
     "name": "stdout",
     "output_type": "stream",
     "text": [
      "\n",
      "0: 832x832 3 solar_panels, 609.7ms\n",
      "Speed: 12.3ms preprocess, 609.7ms inference, 2.6ms postprocess per image at shape (1, 3, 832, 832)\n"
     ]
    },
    {
     "name": "stderr",
     "output_type": "stream",
     "text": [
      "Processing images:  44%|██████████████████████████▊                                  | 224/509 [02:11<02:43,  1.74it/s]"
     ]
    },
    {
     "name": "stdout",
     "output_type": "stream",
     "text": [
      "\n",
      "0: 832x832 7 solar_panels, 481.9ms\n",
      "Speed: 10.9ms preprocess, 481.9ms inference, 2.7ms postprocess per image at shape (1, 3, 832, 832)\n"
     ]
    },
    {
     "name": "stderr",
     "output_type": "stream",
     "text": [
      "Processing images:  44%|██████████████████████████▉                                  | 225/509 [02:11<02:38,  1.79it/s]"
     ]
    },
    {
     "name": "stdout",
     "output_type": "stream",
     "text": [
      "\n",
      "0: 832x832 6 solar_panels, 382.2ms\n",
      "Speed: 10.6ms preprocess, 382.2ms inference, 3.0ms postprocess per image at shape (1, 3, 832, 832)\n"
     ]
    },
    {
     "name": "stderr",
     "output_type": "stream",
     "text": [
      "Processing images:  44%|███████████████████████████                                  | 226/509 [02:12<02:25,  1.94it/s]"
     ]
    },
    {
     "name": "stdout",
     "output_type": "stream",
     "text": [
      "\n",
      "0: 832x832 47 solar_panels, 487.8ms\n",
      "Speed: 10.5ms preprocess, 487.8ms inference, 2.8ms postprocess per image at shape (1, 3, 832, 832)\n"
     ]
    },
    {
     "name": "stderr",
     "output_type": "stream",
     "text": [
      "Processing images:  45%|███████████████████████████▏                                 | 227/509 [02:12<02:25,  1.94it/s]"
     ]
    },
    {
     "name": "stdout",
     "output_type": "stream",
     "text": [
      "\n",
      "0: 832x832 12 solar_panels, 498.1ms\n",
      "Speed: 10.4ms preprocess, 498.1ms inference, 2.5ms postprocess per image at shape (1, 3, 832, 832)\n"
     ]
    },
    {
     "name": "stderr",
     "output_type": "stream",
     "text": [
      "Processing images:  45%|███████████████████████████▎                                 | 228/509 [02:13<02:27,  1.90it/s]"
     ]
    },
    {
     "name": "stdout",
     "output_type": "stream",
     "text": [
      "\n",
      "0: 832x832 11 solar_panels, 652.7ms\n",
      "Speed: 12.0ms preprocess, 652.7ms inference, 2.5ms postprocess per image at shape (1, 3, 832, 832)\n"
     ]
    },
    {
     "name": "stderr",
     "output_type": "stream",
     "text": [
      "Processing images:  45%|███████████████████████████▍                                 | 229/509 [02:13<02:40,  1.74it/s]"
     ]
    },
    {
     "name": "stdout",
     "output_type": "stream",
     "text": [
      "\n",
      "0: 832x832 9 solar_panels, 545.4ms\n",
      "Speed: 10.6ms preprocess, 545.4ms inference, 2.5ms postprocess per image at shape (1, 3, 832, 832)\n"
     ]
    },
    {
     "name": "stderr",
     "output_type": "stream",
     "text": [
      "Processing images:  45%|███████████████████████████▌                                 | 230/509 [02:14<02:41,  1.73it/s]"
     ]
    },
    {
     "name": "stdout",
     "output_type": "stream",
     "text": [
      "\n",
      "0: 832x832 54 solar_panels, 663.8ms\n",
      "Speed: 13.5ms preprocess, 663.8ms inference, 3.1ms postprocess per image at shape (1, 3, 832, 832)\n"
     ]
    },
    {
     "name": "stderr",
     "output_type": "stream",
     "text": [
      "Processing images:  45%|███████████████████████████▋                                 | 231/509 [02:15<02:51,  1.62it/s]"
     ]
    },
    {
     "name": "stdout",
     "output_type": "stream",
     "text": [
      "\n",
      "0: 832x832 43 solar_panels, 409.6ms\n",
      "Speed: 10.1ms preprocess, 409.6ms inference, 3.0ms postprocess per image at shape (1, 3, 832, 832)\n"
     ]
    },
    {
     "name": "stderr",
     "output_type": "stream",
     "text": [
      "Processing images:  46%|███████████████████████████▊                                 | 232/509 [02:15<02:36,  1.77it/s]"
     ]
    },
    {
     "name": "stdout",
     "output_type": "stream",
     "text": [
      "\n",
      "0: 832x832 4 solar_panels, 561.7ms\n",
      "Speed: 12.1ms preprocess, 561.7ms inference, 3.0ms postprocess per image at shape (1, 3, 832, 832)\n"
     ]
    },
    {
     "name": "stderr",
     "output_type": "stream",
     "text": [
      "Processing images:  46%|███████████████████████████▉                                 | 233/509 [02:16<02:39,  1.74it/s]"
     ]
    },
    {
     "name": "stdout",
     "output_type": "stream",
     "text": [
      "\n",
      "0: 832x832 3 solar_panels, 502.8ms\n",
      "Speed: 10.2ms preprocess, 502.8ms inference, 2.6ms postprocess per image at shape (1, 3, 832, 832)\n"
     ]
    },
    {
     "name": "stderr",
     "output_type": "stream",
     "text": [
      "Processing images:  46%|████████████████████████████                                 | 234/509 [02:16<02:35,  1.76it/s]"
     ]
    },
    {
     "name": "stdout",
     "output_type": "stream",
     "text": [
      "\n",
      "0: 832x832 10 solar_panels, 511.7ms\n",
      "Speed: 10.5ms preprocess, 511.7ms inference, 2.6ms postprocess per image at shape (1, 3, 832, 832)\n"
     ]
    },
    {
     "name": "stderr",
     "output_type": "stream",
     "text": [
      "Processing images:  46%|████████████████████████████▏                                | 235/509 [02:17<02:33,  1.79it/s]"
     ]
    },
    {
     "name": "stdout",
     "output_type": "stream",
     "text": [
      "\n",
      "0: 832x832 22 solar_panels, 553.1ms\n",
      "Speed: 11.7ms preprocess, 553.1ms inference, 2.9ms postprocess per image at shape (1, 3, 832, 832)\n"
     ]
    },
    {
     "name": "stderr",
     "output_type": "stream",
     "text": [
      "Processing images:  46%|████████████████████████████▎                                | 236/509 [02:17<02:35,  1.75it/s]"
     ]
    },
    {
     "name": "stdout",
     "output_type": "stream",
     "text": [
      "\n",
      "0: 832x832 61 solar_panels, 632.4ms\n",
      "Speed: 11.0ms preprocess, 632.4ms inference, 3.5ms postprocess per image at shape (1, 3, 832, 832)\n"
     ]
    },
    {
     "name": "stderr",
     "output_type": "stream",
     "text": [
      "Processing images:  47%|████████████████████████████▍                                | 237/509 [02:18<02:43,  1.66it/s]"
     ]
    },
    {
     "name": "stdout",
     "output_type": "stream",
     "text": [
      "\n",
      "0: 832x832 56 solar_panels, 575.2ms\n",
      "Speed: 13.4ms preprocess, 575.2ms inference, 3.4ms postprocess per image at shape (1, 3, 832, 832)\n"
     ]
    },
    {
     "name": "stderr",
     "output_type": "stream",
     "text": [
      "Processing images:  47%|████████████████████████████▌                                | 238/509 [02:19<02:43,  1.65it/s]"
     ]
    },
    {
     "name": "stdout",
     "output_type": "stream",
     "text": [
      "\n",
      "0: 832x832 6 solar_panels, 537.9ms\n",
      "Speed: 10.4ms preprocess, 537.9ms inference, 2.7ms postprocess per image at shape (1, 3, 832, 832)\n"
     ]
    },
    {
     "name": "stderr",
     "output_type": "stream",
     "text": [
      "Processing images:  47%|████████████████████████████▋                                | 239/509 [02:19<02:41,  1.67it/s]"
     ]
    },
    {
     "name": "stdout",
     "output_type": "stream",
     "text": [
      "\n",
      "0: 832x832 5 solar_panels, 719.2ms\n",
      "Speed: 15.3ms preprocess, 719.2ms inference, 2.5ms postprocess per image at shape (1, 3, 832, 832)\n"
     ]
    },
    {
     "name": "stderr",
     "output_type": "stream",
     "text": [
      "Processing images:  47%|████████████████████████████▊                                | 240/509 [02:20<02:53,  1.55it/s]"
     ]
    },
    {
     "name": "stdout",
     "output_type": "stream",
     "text": [
      "\n",
      "0: 832x832 6 solar_panels, 434.7ms\n",
      "Speed: 14.0ms preprocess, 434.7ms inference, 2.7ms postprocess per image at shape (1, 3, 832, 832)\n"
     ]
    },
    {
     "name": "stderr",
     "output_type": "stream",
     "text": [
      "Processing images:  47%|████████████████████████████▉                                | 241/509 [02:21<02:39,  1.68it/s]"
     ]
    },
    {
     "name": "stdout",
     "output_type": "stream",
     "text": [
      "\n",
      "0: 832x832 78 solar_panels, 391.7ms\n",
      "Speed: 11.3ms preprocess, 391.7ms inference, 3.5ms postprocess per image at shape (1, 3, 832, 832)\n"
     ]
    },
    {
     "name": "stderr",
     "output_type": "stream",
     "text": [
      "Processing images:  48%|█████████████████████████████                                | 242/509 [02:21<02:25,  1.83it/s]"
     ]
    },
    {
     "name": "stdout",
     "output_type": "stream",
     "text": [
      "\n",
      "0: 832x832 50 solar_panels, 568.2ms\n",
      "Speed: 10.4ms preprocess, 568.2ms inference, 3.3ms postprocess per image at shape (1, 3, 832, 832)\n"
     ]
    },
    {
     "name": "stderr",
     "output_type": "stream",
     "text": [
      "Processing images:  48%|█████████████████████████████                                | 243/509 [02:22<02:29,  1.78it/s]"
     ]
    },
    {
     "name": "stdout",
     "output_type": "stream",
     "text": [
      "\n",
      "0: 832x832 30 solar_panels, 519.2ms\n",
      "Speed: 10.5ms preprocess, 519.2ms inference, 2.9ms postprocess per image at shape (1, 3, 832, 832)\n"
     ]
    },
    {
     "name": "stderr",
     "output_type": "stream",
     "text": [
      "Processing images:  48%|█████████████████████████████▏                               | 244/509 [02:22<02:28,  1.78it/s]"
     ]
    },
    {
     "name": "stdout",
     "output_type": "stream",
     "text": [
      "\n",
      "0: 832x832 76 solar_panels, 629.8ms\n",
      "Speed: 13.5ms preprocess, 629.8ms inference, 3.6ms postprocess per image at shape (1, 3, 832, 832)\n"
     ]
    },
    {
     "name": "stderr",
     "output_type": "stream",
     "text": [
      "Processing images:  48%|█████████████████████████████▎                               | 245/509 [02:23<02:37,  1.68it/s]"
     ]
    },
    {
     "name": "stdout",
     "output_type": "stream",
     "text": [
      "\n",
      "0: 832x832 14 solar_panels, 550.0ms\n",
      "Speed: 13.6ms preprocess, 550.0ms inference, 2.8ms postprocess per image at shape (1, 3, 832, 832)\n"
     ]
    },
    {
     "name": "stderr",
     "output_type": "stream",
     "text": [
      "Processing images:  48%|█████████████████████████████▍                               | 246/509 [02:23<02:36,  1.68it/s]"
     ]
    },
    {
     "name": "stdout",
     "output_type": "stream",
     "text": [
      "\n",
      "0: 832x832 64 solar_panels, 491.2ms\n",
      "Speed: 10.2ms preprocess, 491.2ms inference, 3.6ms postprocess per image at shape (1, 3, 832, 832)\n"
     ]
    },
    {
     "name": "stderr",
     "output_type": "stream",
     "text": [
      "Processing images:  49%|█████████████████████████████▌                               | 247/509 [02:24<02:30,  1.74it/s]"
     ]
    },
    {
     "name": "stdout",
     "output_type": "stream",
     "text": [
      "\n",
      "0: 832x832 52 solar_panels, 439.3ms\n",
      "Speed: 12.1ms preprocess, 439.3ms inference, 3.3ms postprocess per image at shape (1, 3, 832, 832)\n"
     ]
    },
    {
     "name": "stderr",
     "output_type": "stream",
     "text": [
      "Processing images:  49%|█████████████████████████████▋                               | 248/509 [02:24<02:22,  1.83it/s]"
     ]
    },
    {
     "name": "stdout",
     "output_type": "stream",
     "text": [
      "\n",
      "0: 832x832 72 solar_panels, 544.4ms\n",
      "Speed: 13.6ms preprocess, 544.4ms inference, 3.7ms postprocess per image at shape (1, 3, 832, 832)\n"
     ]
    },
    {
     "name": "stderr",
     "output_type": "stream",
     "text": [
      "Processing images:  49%|█████████████████████████████▊                               | 249/509 [02:25<02:25,  1.79it/s]"
     ]
    },
    {
     "name": "stdout",
     "output_type": "stream",
     "text": [
      "\n",
      "0: 832x832 65 solar_panels, 505.7ms\n",
      "Speed: 17.0ms preprocess, 505.7ms inference, 3.5ms postprocess per image at shape (1, 3, 832, 832)\n"
     ]
    },
    {
     "name": "stderr",
     "output_type": "stream",
     "text": [
      "Processing images:  49%|█████████████████████████████▉                               | 250/509 [02:26<02:23,  1.80it/s]"
     ]
    },
    {
     "name": "stdout",
     "output_type": "stream",
     "text": [
      "\n",
      "0: 832x832 14 solar_panels, 607.3ms\n",
      "Speed: 13.6ms preprocess, 607.3ms inference, 2.7ms postprocess per image at shape (1, 3, 832, 832)\n"
     ]
    },
    {
     "name": "stderr",
     "output_type": "stream",
     "text": [
      "Processing images:  49%|██████████████████████████████                               | 251/509 [02:26<02:30,  1.72it/s]"
     ]
    },
    {
     "name": "stdout",
     "output_type": "stream",
     "text": [
      "\n",
      "0: 832x832 69 solar_panels, 707.6ms\n",
      "Speed: 10.4ms preprocess, 707.6ms inference, 4.0ms postprocess per image at shape (1, 3, 832, 832)\n"
     ]
    },
    {
     "name": "stderr",
     "output_type": "stream",
     "text": [
      "Processing images:  50%|██████████████████████████████▏                              | 252/509 [02:27<02:42,  1.58it/s]"
     ]
    },
    {
     "name": "stdout",
     "output_type": "stream",
     "text": [
      "\n",
      "0: 832x832 3 solar_panels, 602.0ms\n",
      "Speed: 12.6ms preprocess, 602.0ms inference, 1.7ms postprocess per image at shape (1, 3, 832, 832)\n"
     ]
    },
    {
     "name": "stderr",
     "output_type": "stream",
     "text": [
      "Processing images:  50%|██████████████████████████████▎                              | 253/509 [02:28<02:42,  1.58it/s]"
     ]
    },
    {
     "name": "stdout",
     "output_type": "stream",
     "text": [
      "\n",
      "0: 832x832 10 solar_panels, 597.5ms\n",
      "Speed: 11.3ms preprocess, 597.5ms inference, 2.6ms postprocess per image at shape (1, 3, 832, 832)\n"
     ]
    },
    {
     "name": "stderr",
     "output_type": "stream",
     "text": [
      "Processing images:  50%|██████████████████████████████▍                              | 254/509 [02:28<02:42,  1.57it/s]"
     ]
    },
    {
     "name": "stdout",
     "output_type": "stream",
     "text": [
      "\n",
      "0: 832x832 1 solar_panel, 606.5ms\n",
      "Speed: 14.2ms preprocess, 606.5ms inference, 2.5ms postprocess per image at shape (1, 3, 832, 832)\n"
     ]
    },
    {
     "name": "stderr",
     "output_type": "stream",
     "text": [
      "Processing images:  50%|██████████████████████████████▌                              | 255/509 [02:29<02:42,  1.56it/s]"
     ]
    },
    {
     "name": "stdout",
     "output_type": "stream",
     "text": [
      "\n",
      "0: 832x832 9 solar_panels, 550.6ms\n",
      "Speed: 14.5ms preprocess, 550.6ms inference, 2.7ms postprocess per image at shape (1, 3, 832, 832)\n"
     ]
    },
    {
     "name": "stderr",
     "output_type": "stream",
     "text": [
      "Processing images:  50%|██████████████████████████████▋                              | 256/509 [02:30<02:38,  1.59it/s]"
     ]
    },
    {
     "name": "stdout",
     "output_type": "stream",
     "text": [
      "\n",
      "0: 832x832 12 solar_panels, 627.6ms\n",
      "Speed: 14.6ms preprocess, 627.6ms inference, 2.6ms postprocess per image at shape (1, 3, 832, 832)\n"
     ]
    },
    {
     "name": "stderr",
     "output_type": "stream",
     "text": [
      "Processing images:  50%|██████████████████████████████▊                              | 257/509 [02:30<02:41,  1.56it/s]"
     ]
    },
    {
     "name": "stdout",
     "output_type": "stream",
     "text": [
      "\n",
      "0: 832x832 5 solar_panels, 655.3ms\n",
      "Speed: 14.8ms preprocess, 655.3ms inference, 2.5ms postprocess per image at shape (1, 3, 832, 832)\n"
     ]
    },
    {
     "name": "stderr",
     "output_type": "stream",
     "text": [
      "Processing images:  51%|██████████████████████████████▉                              | 258/509 [02:31<02:45,  1.52it/s]"
     ]
    },
    {
     "name": "stdout",
     "output_type": "stream",
     "text": [
      "\n",
      "0: 832x832 5 solar_panels, 617.7ms\n",
      "Speed: 14.7ms preprocess, 617.7ms inference, 4.4ms postprocess per image at shape (1, 3, 832, 832)\n"
     ]
    },
    {
     "name": "stderr",
     "output_type": "stream",
     "text": [
      "Processing images:  51%|███████████████████████████████                              | 259/509 [02:32<02:44,  1.52it/s]"
     ]
    },
    {
     "name": "stdout",
     "output_type": "stream",
     "text": [
      "\n",
      "0: 832x832 2 solar_panels, 622.8ms\n",
      "Speed: 12.4ms preprocess, 622.8ms inference, 7.4ms postprocess per image at shape (1, 3, 832, 832)\n"
     ]
    },
    {
     "name": "stderr",
     "output_type": "stream",
     "text": [
      "Processing images:  51%|███████████████████████████████▏                             | 260/509 [02:32<02:44,  1.52it/s]"
     ]
    },
    {
     "name": "stdout",
     "output_type": "stream",
     "text": [
      "\n",
      "0: 832x832 15 solar_panels, 600.2ms\n",
      "Speed: 13.2ms preprocess, 600.2ms inference, 2.7ms postprocess per image at shape (1, 3, 832, 832)\n"
     ]
    },
    {
     "name": "stderr",
     "output_type": "stream",
     "text": [
      "Processing images:  51%|███████████████████████████████▎                             | 261/509 [02:33<02:42,  1.53it/s]"
     ]
    },
    {
     "name": "stdout",
     "output_type": "stream",
     "text": [
      "\n",
      "0: 832x832 4 solar_panels, 638.7ms\n",
      "Speed: 6.8ms preprocess, 638.7ms inference, 2.6ms postprocess per image at shape (1, 3, 832, 832)\n"
     ]
    },
    {
     "name": "stderr",
     "output_type": "stream",
     "text": [
      "Processing images:  51%|███████████████████████████████▍                             | 262/509 [02:34<02:43,  1.51it/s]"
     ]
    },
    {
     "name": "stdout",
     "output_type": "stream",
     "text": [
      "\n",
      "0: 832x832 4 solar_panels, 505.2ms\n",
      "Speed: 12.2ms preprocess, 505.2ms inference, 2.5ms postprocess per image at shape (1, 3, 832, 832)\n"
     ]
    },
    {
     "name": "stderr",
     "output_type": "stream",
     "text": [
      "Processing images:  52%|███████████████████████████████▌                             | 263/509 [02:34<02:33,  1.60it/s]"
     ]
    },
    {
     "name": "stdout",
     "output_type": "stream",
     "text": [
      "\n",
      "0: 832x832 10 solar_panels, 689.2ms\n",
      "Speed: 9.9ms preprocess, 689.2ms inference, 2.5ms postprocess per image at shape (1, 3, 832, 832)\n"
     ]
    },
    {
     "name": "stderr",
     "output_type": "stream",
     "text": [
      "Processing images:  52%|███████████████████████████████▋                             | 264/509 [02:35<02:40,  1.53it/s]"
     ]
    },
    {
     "name": "stdout",
     "output_type": "stream",
     "text": [
      "\n",
      "0: 832x832 6 solar_panels, 481.1ms\n",
      "Speed: 12.9ms preprocess, 481.1ms inference, 2.6ms postprocess per image at shape (1, 3, 832, 832)\n"
     ]
    },
    {
     "name": "stderr",
     "output_type": "stream",
     "text": [
      "Processing images:  52%|███████████████████████████████▊                             | 265/509 [02:35<02:30,  1.62it/s]"
     ]
    },
    {
     "name": "stdout",
     "output_type": "stream",
     "text": [
      "\n",
      "0: 832x832 8 solar_panels, 481.3ms\n",
      "Speed: 11.8ms preprocess, 481.3ms inference, 2.5ms postprocess per image at shape (1, 3, 832, 832)\n"
     ]
    },
    {
     "name": "stderr",
     "output_type": "stream",
     "text": [
      "Processing images:  52%|███████████████████████████████▉                             | 266/509 [02:36<02:22,  1.70it/s]"
     ]
    },
    {
     "name": "stdout",
     "output_type": "stream",
     "text": [
      "\n",
      "0: 832x832 6 solar_panels, 625.8ms\n",
      "Speed: 14.2ms preprocess, 625.8ms inference, 2.9ms postprocess per image at shape (1, 3, 832, 832)\n"
     ]
    },
    {
     "name": "stderr",
     "output_type": "stream",
     "text": [
      "Processing images:  52%|███████████████████████████████▉                             | 267/509 [02:37<02:27,  1.64it/s]"
     ]
    },
    {
     "name": "stdout",
     "output_type": "stream",
     "text": [
      "\n",
      "0: 832x832 3 solar_panels, 649.4ms\n",
      "Speed: 11.6ms preprocess, 649.4ms inference, 2.6ms postprocess per image at shape (1, 3, 832, 832)\n"
     ]
    },
    {
     "name": "stderr",
     "output_type": "stream",
     "text": [
      "Processing images:  53%|████████████████████████████████                             | 268/509 [02:37<02:33,  1.57it/s]"
     ]
    },
    {
     "name": "stdout",
     "output_type": "stream",
     "text": [
      "\n",
      "0: 832x832 6 solar_panels, 603.9ms\n",
      "Speed: 14.4ms preprocess, 603.9ms inference, 2.6ms postprocess per image at shape (1, 3, 832, 832)\n"
     ]
    },
    {
     "name": "stderr",
     "output_type": "stream",
     "text": [
      "Processing images:  53%|████████████████████████████████▏                            | 269/509 [02:38<02:33,  1.56it/s]"
     ]
    },
    {
     "name": "stdout",
     "output_type": "stream",
     "text": [
      "\n",
      "0: 832x832 4 solar_panels, 469.1ms\n",
      "Speed: 12.8ms preprocess, 469.1ms inference, 2.6ms postprocess per image at shape (1, 3, 832, 832)\n"
     ]
    },
    {
     "name": "stderr",
     "output_type": "stream",
     "text": [
      "Processing images:  53%|████████████████████████████████▎                            | 270/509 [02:38<02:23,  1.67it/s]"
     ]
    },
    {
     "name": "stdout",
     "output_type": "stream",
     "text": [
      "\n",
      "0: 832x832 10 solar_panels, 638.9ms\n",
      "Speed: 12.7ms preprocess, 638.9ms inference, 2.6ms postprocess per image at shape (1, 3, 832, 832)\n"
     ]
    },
    {
     "name": "stderr",
     "output_type": "stream",
     "text": [
      "Processing images:  53%|████████████████████████████████▍                            | 271/509 [02:39<02:28,  1.60it/s]"
     ]
    },
    {
     "name": "stdout",
     "output_type": "stream",
     "text": [
      "\n",
      "0: 832x832 9 solar_panels, 679.8ms\n",
      "Speed: 13.6ms preprocess, 679.8ms inference, 2.6ms postprocess per image at shape (1, 3, 832, 832)\n"
     ]
    },
    {
     "name": "stderr",
     "output_type": "stream",
     "text": [
      "Processing images:  53%|████████████████████████████████▌                            | 272/509 [02:40<02:35,  1.53it/s]"
     ]
    },
    {
     "name": "stdout",
     "output_type": "stream",
     "text": [
      "\n",
      "0: 832x832 8 solar_panels, 545.5ms\n",
      "Speed: 13.7ms preprocess, 545.5ms inference, 2.5ms postprocess per image at shape (1, 3, 832, 832)\n"
     ]
    },
    {
     "name": "stderr",
     "output_type": "stream",
     "text": [
      "Processing images:  54%|████████████████████████████████▋                            | 273/509 [02:40<02:29,  1.58it/s]"
     ]
    },
    {
     "name": "stdout",
     "output_type": "stream",
     "text": [
      "\n",
      "0: 832x832 4 solar_panels, 513.1ms\n",
      "Speed: 12.3ms preprocess, 513.1ms inference, 2.6ms postprocess per image at shape (1, 3, 832, 832)\n"
     ]
    },
    {
     "name": "stderr",
     "output_type": "stream",
     "text": [
      "Processing images:  54%|████████████████████████████████▊                            | 274/509 [02:41<02:22,  1.65it/s]"
     ]
    },
    {
     "name": "stdout",
     "output_type": "stream",
     "text": [
      "\n",
      "0: 832x832 9 solar_panels, 683.2ms\n",
      "Speed: 15.7ms preprocess, 683.2ms inference, 2.6ms postprocess per image at shape (1, 3, 832, 832)\n"
     ]
    },
    {
     "name": "stderr",
     "output_type": "stream",
     "text": [
      "Processing images:  54%|████████████████████████████████▉                            | 275/509 [02:42<02:30,  1.55it/s]"
     ]
    },
    {
     "name": "stdout",
     "output_type": "stream",
     "text": [
      "\n",
      "0: 832x832 10 solar_panels, 622.5ms\n",
      "Speed: 13.4ms preprocess, 622.5ms inference, 2.7ms postprocess per image at shape (1, 3, 832, 832)\n"
     ]
    },
    {
     "name": "stderr",
     "output_type": "stream",
     "text": [
      "Processing images:  54%|█████████████████████████████████                            | 276/509 [02:42<02:31,  1.54it/s]"
     ]
    },
    {
     "name": "stdout",
     "output_type": "stream",
     "text": [
      "\n",
      "0: 832x832 5 solar_panels, 604.6ms\n",
      "Speed: 13.6ms preprocess, 604.6ms inference, 2.2ms postprocess per image at shape (1, 3, 832, 832)\n"
     ]
    },
    {
     "name": "stderr",
     "output_type": "stream",
     "text": [
      "Processing images:  54%|█████████████████████████████████▏                           | 277/509 [02:43<02:30,  1.54it/s]"
     ]
    },
    {
     "name": "stdout",
     "output_type": "stream",
     "text": [
      "\n",
      "0: 832x832 6 solar_panels, 670.6ms\n",
      "Speed: 11.4ms preprocess, 670.6ms inference, 2.7ms postprocess per image at shape (1, 3, 832, 832)\n"
     ]
    },
    {
     "name": "stderr",
     "output_type": "stream",
     "text": [
      "Processing images:  55%|█████████████████████████████████▎                           | 278/509 [02:44<02:34,  1.50it/s]"
     ]
    },
    {
     "name": "stdout",
     "output_type": "stream",
     "text": [
      "\n",
      "0: 832x832 6 solar_panels, 682.2ms\n",
      "Speed: 12.0ms preprocess, 682.2ms inference, 2.8ms postprocess per image at shape (1, 3, 832, 832)\n"
     ]
    },
    {
     "name": "stderr",
     "output_type": "stream",
     "text": [
      "Processing images:  55%|█████████████████████████████████▍                           | 279/509 [02:44<02:37,  1.46it/s]"
     ]
    },
    {
     "name": "stdout",
     "output_type": "stream",
     "text": [
      "\n",
      "0: 832x832 4 solar_panels, 649.3ms\n",
      "Speed: 11.8ms preprocess, 649.3ms inference, 2.5ms postprocess per image at shape (1, 3, 832, 832)\n"
     ]
    },
    {
     "name": "stderr",
     "output_type": "stream",
     "text": [
      "Processing images:  55%|█████████████████████████████████▌                           | 280/509 [02:45<02:37,  1.46it/s]"
     ]
    },
    {
     "name": "stdout",
     "output_type": "stream",
     "text": [
      "\n",
      "0: 832x832 5 solar_panels, 580.8ms\n",
      "Speed: 13.2ms preprocess, 580.8ms inference, 2.7ms postprocess per image at shape (1, 3, 832, 832)\n"
     ]
    },
    {
     "name": "stderr",
     "output_type": "stream",
     "text": [
      "Processing images:  55%|█████████████████████████████████▋                           | 281/509 [02:46<02:31,  1.50it/s]"
     ]
    },
    {
     "name": "stdout",
     "output_type": "stream",
     "text": [
      "\n",
      "0: 832x832 4 solar_panels, 589.3ms\n",
      "Speed: 10.0ms preprocess, 589.3ms inference, 2.5ms postprocess per image at shape (1, 3, 832, 832)\n"
     ]
    },
    {
     "name": "stderr",
     "output_type": "stream",
     "text": [
      "Processing images:  55%|█████████████████████████████████▊                           | 282/509 [02:46<02:28,  1.53it/s]"
     ]
    },
    {
     "name": "stdout",
     "output_type": "stream",
     "text": [
      "\n",
      "0: 832x832 5 solar_panels, 572.5ms\n",
      "Speed: 14.1ms preprocess, 572.5ms inference, 2.5ms postprocess per image at shape (1, 3, 832, 832)\n"
     ]
    },
    {
     "name": "stderr",
     "output_type": "stream",
     "text": [
      "Processing images:  56%|█████████████████████████████████▉                           | 283/509 [02:47<02:25,  1.55it/s]"
     ]
    },
    {
     "name": "stdout",
     "output_type": "stream",
     "text": [
      "\n",
      "0: 832x832 4 solar_panels, 450.8ms\n",
      "Speed: 9.7ms preprocess, 450.8ms inference, 2.6ms postprocess per image at shape (1, 3, 832, 832)\n"
     ]
    },
    {
     "name": "stderr",
     "output_type": "stream",
     "text": [
      "Processing images:  56%|██████████████████████████████████                           | 284/509 [02:47<02:14,  1.67it/s]"
     ]
    },
    {
     "name": "stdout",
     "output_type": "stream",
     "text": [
      "\n",
      "0: 832x832 3 solar_panels, 498.5ms\n",
      "Speed: 14.3ms preprocess, 498.5ms inference, 2.5ms postprocess per image at shape (1, 3, 832, 832)\n"
     ]
    },
    {
     "name": "stderr",
     "output_type": "stream",
     "text": [
      "Processing images:  56%|██████████████████████████████████▏                          | 285/509 [02:48<02:09,  1.73it/s]"
     ]
    },
    {
     "name": "stdout",
     "output_type": "stream",
     "text": [
      "\n",
      "0: 832x832 6 solar_panels, 662.1ms\n",
      "Speed: 13.3ms preprocess, 662.1ms inference, 2.5ms postprocess per image at shape (1, 3, 832, 832)\n"
     ]
    },
    {
     "name": "stderr",
     "output_type": "stream",
     "text": [
      "Processing images:  56%|██████████████████████████████████▎                          | 286/509 [02:49<02:17,  1.62it/s]"
     ]
    },
    {
     "name": "stdout",
     "output_type": "stream",
     "text": [
      "\n",
      "0: 832x832 5 solar_panels, 601.8ms\n",
      "Speed: 11.6ms preprocess, 601.8ms inference, 2.2ms postprocess per image at shape (1, 3, 832, 832)\n"
     ]
    },
    {
     "name": "stderr",
     "output_type": "stream",
     "text": [
      "Processing images:  56%|██████████████████████████████████▍                          | 287/509 [02:49<02:18,  1.61it/s]"
     ]
    },
    {
     "name": "stdout",
     "output_type": "stream",
     "text": [
      "\n",
      "0: 832x832 11 solar_panels, 663.6ms\n",
      "Speed: 7.4ms preprocess, 663.6ms inference, 2.6ms postprocess per image at shape (1, 3, 832, 832)\n"
     ]
    },
    {
     "name": "stderr",
     "output_type": "stream",
     "text": [
      "Processing images:  57%|██████████████████████████████████▌                          | 288/509 [02:50<02:22,  1.55it/s]"
     ]
    },
    {
     "name": "stdout",
     "output_type": "stream",
     "text": [
      "\n",
      "0: 832x832 7 solar_panels, 667.7ms\n",
      "Speed: 13.3ms preprocess, 667.7ms inference, 2.5ms postprocess per image at shape (1, 3, 832, 832)\n"
     ]
    },
    {
     "name": "stderr",
     "output_type": "stream",
     "text": [
      "Processing images:  57%|██████████████████████████████████▋                          | 289/509 [02:51<02:26,  1.50it/s]"
     ]
    },
    {
     "name": "stdout",
     "output_type": "stream",
     "text": [
      "\n",
      "0: 832x832 11 solar_panels, 637.3ms\n",
      "Speed: 11.5ms preprocess, 637.3ms inference, 2.7ms postprocess per image at shape (1, 3, 832, 832)\n"
     ]
    },
    {
     "name": "stderr",
     "output_type": "stream",
     "text": [
      "Processing images:  57%|██████████████████████████████████▊                          | 290/509 [02:51<02:26,  1.50it/s]"
     ]
    },
    {
     "name": "stdout",
     "output_type": "stream",
     "text": [
      "\n",
      "0: 832x832 4 solar_panels, 650.6ms\n",
      "Speed: 12.9ms preprocess, 650.6ms inference, 2.5ms postprocess per image at shape (1, 3, 832, 832)\n"
     ]
    },
    {
     "name": "stderr",
     "output_type": "stream",
     "text": [
      "Processing images:  57%|██████████████████████████████████▊                          | 291/509 [02:52<02:26,  1.49it/s]"
     ]
    },
    {
     "name": "stdout",
     "output_type": "stream",
     "text": [
      "\n",
      "0: 832x832 10 solar_panels, 669.3ms\n",
      "Speed: 13.2ms preprocess, 669.3ms inference, 2.6ms postprocess per image at shape (1, 3, 832, 832)\n"
     ]
    },
    {
     "name": "stderr",
     "output_type": "stream",
     "text": [
      "Processing images:  57%|██████████████████████████████████▉                          | 292/509 [02:53<02:28,  1.46it/s]"
     ]
    },
    {
     "name": "stdout",
     "output_type": "stream",
     "text": [
      "\n",
      "0: 832x832 4 solar_panels, 673.6ms\n",
      "Speed: 11.8ms preprocess, 673.6ms inference, 2.5ms postprocess per image at shape (1, 3, 832, 832)\n"
     ]
    },
    {
     "name": "stderr",
     "output_type": "stream",
     "text": [
      "Processing images:  58%|███████████████████████████████████                          | 293/509 [02:53<02:30,  1.44it/s]"
     ]
    },
    {
     "name": "stdout",
     "output_type": "stream",
     "text": [
      "\n",
      "0: 832x832 1 solar_panel, 611.7ms\n",
      "Speed: 12.2ms preprocess, 611.7ms inference, 2.5ms postprocess per image at shape (1, 3, 832, 832)\n"
     ]
    },
    {
     "name": "stderr",
     "output_type": "stream",
     "text": [
      "Processing images:  58%|███████████████████████████████████▏                         | 294/509 [02:54<02:26,  1.47it/s]"
     ]
    },
    {
     "name": "stdout",
     "output_type": "stream",
     "text": [
      "\n",
      "0: 832x832 12 solar_panels, 619.2ms\n",
      "Speed: 10.6ms preprocess, 619.2ms inference, 2.5ms postprocess per image at shape (1, 3, 832, 832)\n"
     ]
    },
    {
     "name": "stderr",
     "output_type": "stream",
     "text": [
      "Processing images:  58%|███████████████████████████████████▎                         | 295/509 [02:55<02:24,  1.48it/s]"
     ]
    },
    {
     "name": "stdout",
     "output_type": "stream",
     "text": [
      "\n",
      "0: 832x832 15 solar_panels, 563.2ms\n",
      "Speed: 12.7ms preprocess, 563.2ms inference, 2.9ms postprocess per image at shape (1, 3, 832, 832)\n"
     ]
    },
    {
     "name": "stderr",
     "output_type": "stream",
     "text": [
      "Processing images:  58%|███████████████████████████████████▍                         | 296/509 [02:55<02:19,  1.53it/s]"
     ]
    },
    {
     "name": "stdout",
     "output_type": "stream",
     "text": [
      "\n",
      "0: 832x832 14 solar_panels, 556.0ms\n",
      "Speed: 12.1ms preprocess, 556.0ms inference, 2.7ms postprocess per image at shape (1, 3, 832, 832)\n"
     ]
    },
    {
     "name": "stderr",
     "output_type": "stream",
     "text": [
      "Processing images:  58%|███████████████████████████████████▌                         | 297/509 [02:56<02:14,  1.57it/s]"
     ]
    },
    {
     "name": "stdout",
     "output_type": "stream",
     "text": [
      "\n",
      "0: 832x832 12 solar_panels, 653.0ms\n",
      "Speed: 14.4ms preprocess, 653.0ms inference, 3.3ms postprocess per image at shape (1, 3, 832, 832)\n"
     ]
    },
    {
     "name": "stderr",
     "output_type": "stream",
     "text": [
      "Processing images:  59%|███████████████████████████████████▋                         | 298/509 [02:57<02:17,  1.53it/s]"
     ]
    },
    {
     "name": "stdout",
     "output_type": "stream",
     "text": [
      "\n",
      "0: 832x832 14 solar_panels, 595.8ms\n",
      "Speed: 10.8ms preprocess, 595.8ms inference, 2.6ms postprocess per image at shape (1, 3, 832, 832)\n"
     ]
    },
    {
     "name": "stderr",
     "output_type": "stream",
     "text": [
      "Processing images:  59%|███████████████████████████████████▊                         | 299/509 [02:57<02:16,  1.54it/s]"
     ]
    },
    {
     "name": "stdout",
     "output_type": "stream",
     "text": [
      "\n",
      "0: 832x832 8 solar_panels, 782.5ms\n",
      "Speed: 13.4ms preprocess, 782.5ms inference, 2.7ms postprocess per image at shape (1, 3, 832, 832)\n"
     ]
    },
    {
     "name": "stderr",
     "output_type": "stream",
     "text": [
      "Processing images:  59%|███████████████████████████████████▉                         | 300/509 [02:58<02:26,  1.42it/s]"
     ]
    },
    {
     "name": "stdout",
     "output_type": "stream",
     "text": [
      "\n",
      "0: 832x832 14 solar_panels, 782.9ms\n",
      "Speed: 13.4ms preprocess, 782.9ms inference, 2.6ms postprocess per image at shape (1, 3, 832, 832)\n"
     ]
    },
    {
     "name": "stderr",
     "output_type": "stream",
     "text": [
      "Processing images:  59%|████████████████████████████████████                         | 301/509 [02:59<02:33,  1.35it/s]"
     ]
    },
    {
     "name": "stdout",
     "output_type": "stream",
     "text": [
      "\n",
      "0: 832x832 24 solar_panels, 687.4ms\n",
      "Speed: 11.7ms preprocess, 687.4ms inference, 2.9ms postprocess per image at shape (1, 3, 832, 832)\n"
     ]
    },
    {
     "name": "stderr",
     "output_type": "stream",
     "text": [
      "Processing images:  59%|████████████████████████████████████▏                        | 302/509 [03:00<02:32,  1.36it/s]"
     ]
    },
    {
     "name": "stdout",
     "output_type": "stream",
     "text": [
      "\n",
      "0: 832x832 9 solar_panels, 656.2ms\n",
      "Speed: 12.7ms preprocess, 656.2ms inference, 2.6ms postprocess per image at shape (1, 3, 832, 832)\n"
     ]
    },
    {
     "name": "stderr",
     "output_type": "stream",
     "text": [
      "Processing images:  60%|████████████████████████████████████▎                        | 303/509 [03:00<02:29,  1.38it/s]"
     ]
    },
    {
     "name": "stdout",
     "output_type": "stream",
     "text": [
      "\n",
      "0: 832x832 31 solar_panels, 788.8ms\n",
      "Speed: 13.2ms preprocess, 788.8ms inference, 2.7ms postprocess per image at shape (1, 3, 832, 832)\n"
     ]
    },
    {
     "name": "stderr",
     "output_type": "stream",
     "text": [
      "Processing images:  60%|████████████████████████████████████▍                        | 304/509 [03:01<02:35,  1.32it/s]"
     ]
    },
    {
     "name": "stdout",
     "output_type": "stream",
     "text": [
      "\n",
      "0: 832x832 46 solar_panels, 799.3ms\n",
      "Speed: 11.8ms preprocess, 799.3ms inference, 3.0ms postprocess per image at shape (1, 3, 832, 832)\n"
     ]
    },
    {
     "name": "stderr",
     "output_type": "stream",
     "text": [
      "Processing images:  60%|████████████████████████████████████▌                        | 305/509 [03:02<02:39,  1.28it/s]"
     ]
    },
    {
     "name": "stdout",
     "output_type": "stream",
     "text": [
      "\n",
      "0: 832x832 9 solar_panels, 771.5ms\n",
      "Speed: 12.9ms preprocess, 771.5ms inference, 2.7ms postprocess per image at shape (1, 3, 832, 832)\n"
     ]
    },
    {
     "name": "stderr",
     "output_type": "stream",
     "text": [
      "Processing images:  60%|████████████████████████████████████▋                        | 306/509 [03:03<02:40,  1.26it/s]"
     ]
    },
    {
     "name": "stdout",
     "output_type": "stream",
     "text": [
      "\n",
      "0: 832x832 39 solar_panels, 755.6ms\n",
      "Speed: 10.0ms preprocess, 755.6ms inference, 2.9ms postprocess per image at shape (1, 3, 832, 832)\n"
     ]
    },
    {
     "name": "stderr",
     "output_type": "stream",
     "text": [
      "Processing images:  60%|████████████████████████████████████▊                        | 307/509 [03:04<02:40,  1.26it/s]"
     ]
    },
    {
     "name": "stdout",
     "output_type": "stream",
     "text": [
      "\n",
      "0: 832x832 7 solar_panels, 719.8ms\n",
      "Speed: 12.2ms preprocess, 719.8ms inference, 2.5ms postprocess per image at shape (1, 3, 832, 832)\n"
     ]
    },
    {
     "name": "stderr",
     "output_type": "stream",
     "text": [
      "Processing images:  61%|████████████████████████████████████▉                        | 308/509 [03:04<02:37,  1.28it/s]"
     ]
    },
    {
     "name": "stdout",
     "output_type": "stream",
     "text": [
      "\n",
      "0: 832x832 36 solar_panels, 619.7ms\n",
      "Speed: 14.2ms preprocess, 619.7ms inference, 2.9ms postprocess per image at shape (1, 3, 832, 832)\n"
     ]
    },
    {
     "name": "stderr",
     "output_type": "stream",
     "text": [
      "Processing images:  61%|█████████████████████████████████████                        | 309/509 [03:05<02:29,  1.34it/s]"
     ]
    },
    {
     "name": "stdout",
     "output_type": "stream",
     "text": [
      "\n",
      "0: 832x832 30 solar_panels, 544.1ms\n",
      "Speed: 13.7ms preprocess, 544.1ms inference, 3.1ms postprocess per image at shape (1, 3, 832, 832)\n"
     ]
    },
    {
     "name": "stderr",
     "output_type": "stream",
     "text": [
      "Processing images:  61%|█████████████████████████████████████▏                       | 310/509 [03:06<02:18,  1.43it/s]"
     ]
    },
    {
     "name": "stdout",
     "output_type": "stream",
     "text": [
      "\n",
      "0: 832x832 29 solar_panels, 677.3ms\n",
      "Speed: 11.7ms preprocess, 677.3ms inference, 2.8ms postprocess per image at shape (1, 3, 832, 832)\n"
     ]
    },
    {
     "name": "stderr",
     "output_type": "stream",
     "text": [
      "Processing images:  61%|█████████████████████████████████████▎                       | 311/509 [03:06<02:19,  1.42it/s]"
     ]
    },
    {
     "name": "stdout",
     "output_type": "stream",
     "text": [
      "\n",
      "0: 832x832 30 solar_panels, 720.8ms\n",
      "Speed: 14.0ms preprocess, 720.8ms inference, 2.9ms postprocess per image at shape (1, 3, 832, 832)\n"
     ]
    },
    {
     "name": "stderr",
     "output_type": "stream",
     "text": [
      "Processing images:  61%|█████████████████████████████████████▍                       | 312/509 [03:07<02:22,  1.38it/s]"
     ]
    },
    {
     "name": "stdout",
     "output_type": "stream",
     "text": [
      "\n",
      "0: 832x832 3 solar_panels, 549.8ms\n",
      "Speed: 14.0ms preprocess, 549.8ms inference, 2.8ms postprocess per image at shape (1, 3, 832, 832)\n"
     ]
    },
    {
     "name": "stderr",
     "output_type": "stream",
     "text": [
      "Processing images:  61%|█████████████████████████████████████▌                       | 313/509 [03:08<02:13,  1.46it/s]"
     ]
    },
    {
     "name": "stdout",
     "output_type": "stream",
     "text": [
      "\n",
      "0: 832x832 2 solar_panels, 430.4ms\n",
      "Speed: 18.1ms preprocess, 430.4ms inference, 2.5ms postprocess per image at shape (1, 3, 832, 832)\n"
     ]
    },
    {
     "name": "stderr",
     "output_type": "stream",
     "text": [
      "Processing images:  62%|█████████████████████████████████████▋                       | 314/509 [03:08<02:01,  1.61it/s]"
     ]
    },
    {
     "name": "stdout",
     "output_type": "stream",
     "text": [
      "\n",
      "0: 832x832 10 solar_panels, 772.7ms\n",
      "Speed: 12.8ms preprocess, 772.7ms inference, 2.6ms postprocess per image at shape (1, 3, 832, 832)\n"
     ]
    },
    {
     "name": "stderr",
     "output_type": "stream",
     "text": [
      "Processing images:  62%|█████████████████████████████████████▊                       | 315/509 [03:09<02:11,  1.47it/s]"
     ]
    },
    {
     "name": "stdout",
     "output_type": "stream",
     "text": [
      "\n",
      "0: 832x832 2 solar_panels, 734.1ms\n",
      "Speed: 10.8ms preprocess, 734.1ms inference, 2.5ms postprocess per image at shape (1, 3, 832, 832)\n"
     ]
    },
    {
     "name": "stderr",
     "output_type": "stream",
     "text": [
      "Processing images:  62%|█████████████████████████████████████▊                       | 316/509 [03:10<02:16,  1.41it/s]"
     ]
    },
    {
     "name": "stdout",
     "output_type": "stream",
     "text": [
      "\n",
      "0: 832x832 5 solar_panels, 764.2ms\n",
      "Speed: 13.3ms preprocess, 764.2ms inference, 2.5ms postprocess per image at shape (1, 3, 832, 832)\n"
     ]
    },
    {
     "name": "stderr",
     "output_type": "stream",
     "text": [
      "Processing images:  62%|█████████████████████████████████████▉                       | 317/509 [03:11<02:21,  1.36it/s]"
     ]
    },
    {
     "name": "stdout",
     "output_type": "stream",
     "text": [
      "\n",
      "0: 832x832 3 solar_panels, 794.6ms\n",
      "Speed: 11.5ms preprocess, 794.6ms inference, 2.6ms postprocess per image at shape (1, 3, 832, 832)\n"
     ]
    },
    {
     "name": "stderr",
     "output_type": "stream",
     "text": [
      "Processing images:  62%|██████████████████████████████████████                       | 318/509 [03:11<02:26,  1.30it/s]"
     ]
    },
    {
     "name": "stdout",
     "output_type": "stream",
     "text": [
      "\n",
      "0: 832x832 10 solar_panels, 769.5ms\n",
      "Speed: 11.7ms preprocess, 769.5ms inference, 2.7ms postprocess per image at shape (1, 3, 832, 832)\n"
     ]
    },
    {
     "name": "stderr",
     "output_type": "stream",
     "text": [
      "Processing images:  63%|██████████████████████████████████████▏                      | 319/509 [03:12<02:28,  1.28it/s]"
     ]
    },
    {
     "name": "stdout",
     "output_type": "stream",
     "text": [
      "\n",
      "0: 832x832 (no detections), 806.3ms\n",
      "Speed: 13.4ms preprocess, 806.3ms inference, 1.8ms postprocess per image at shape (1, 3, 832, 832)\n"
     ]
    },
    {
     "name": "stderr",
     "output_type": "stream",
     "text": [
      "Processing images:  63%|██████████████████████████████████████▎                      | 320/509 [03:13<02:31,  1.25it/s]"
     ]
    },
    {
     "name": "stdout",
     "output_type": "stream",
     "text": [
      "\n",
      "0: 832x832 8 solar_panels, 726.7ms\n",
      "Speed: 13.2ms preprocess, 726.7ms inference, 2.6ms postprocess per image at shape (1, 3, 832, 832)\n"
     ]
    },
    {
     "name": "stderr",
     "output_type": "stream",
     "text": [
      "Processing images:  63%|██████████████████████████████████████▍                      | 321/509 [03:14<02:28,  1.26it/s]"
     ]
    },
    {
     "name": "stdout",
     "output_type": "stream",
     "text": [
      "\n",
      "0: 832x832 38 solar_panels, 538.6ms\n",
      "Speed: 12.7ms preprocess, 538.6ms inference, 2.8ms postprocess per image at shape (1, 3, 832, 832)\n"
     ]
    },
    {
     "name": "stderr",
     "output_type": "stream",
     "text": [
      "Processing images:  63%|██████████████████████████████████████▌                      | 322/509 [03:15<02:16,  1.37it/s]"
     ]
    },
    {
     "name": "stdout",
     "output_type": "stream",
     "text": [
      "\n",
      "0: 832x832 5 solar_panels, 782.7ms\n",
      "Speed: 13.4ms preprocess, 782.7ms inference, 2.6ms postprocess per image at shape (1, 3, 832, 832)\n"
     ]
    },
    {
     "name": "stderr",
     "output_type": "stream",
     "text": [
      "Processing images:  63%|██████████████████████████████████████▋                      | 323/509 [03:15<02:20,  1.32it/s]"
     ]
    },
    {
     "name": "stdout",
     "output_type": "stream",
     "text": [
      "\n",
      "0: 832x832 38 solar_panels, 797.7ms\n",
      "Speed: 12.5ms preprocess, 797.7ms inference, 2.8ms postprocess per image at shape (1, 3, 832, 832)\n"
     ]
    },
    {
     "name": "stderr",
     "output_type": "stream",
     "text": [
      "Processing images:  64%|██████████████████████████████████████▊                      | 324/509 [03:16<02:24,  1.28it/s]"
     ]
    },
    {
     "name": "stdout",
     "output_type": "stream",
     "text": [
      "\n",
      "0: 832x832 13 solar_panels, 676.0ms\n",
      "Speed: 11.9ms preprocess, 676.0ms inference, 2.5ms postprocess per image at shape (1, 3, 832, 832)\n"
     ]
    },
    {
     "name": "stderr",
     "output_type": "stream",
     "text": [
      "Processing images:  64%|██████████████████████████████████████▉                      | 325/509 [03:17<02:20,  1.31it/s]"
     ]
    },
    {
     "name": "stdout",
     "output_type": "stream",
     "text": [
      "\n",
      "0: 832x832 4 solar_panels, 604.8ms\n",
      "Speed: 12.2ms preprocess, 604.8ms inference, 2.5ms postprocess per image at shape (1, 3, 832, 832)\n"
     ]
    },
    {
     "name": "stderr",
     "output_type": "stream",
     "text": [
      "Processing images:  64%|███████████████████████████████████████                      | 326/509 [03:18<02:13,  1.37it/s]"
     ]
    },
    {
     "name": "stdout",
     "output_type": "stream",
     "text": [
      "\n",
      "0: 832x832 27 solar_panels, 651.6ms\n",
      "Speed: 13.8ms preprocess, 651.6ms inference, 2.8ms postprocess per image at shape (1, 3, 832, 832)\n"
     ]
    },
    {
     "name": "stderr",
     "output_type": "stream",
     "text": [
      "Processing images:  64%|███████████████████████████████████████▏                     | 327/509 [03:18<02:10,  1.39it/s]"
     ]
    },
    {
     "name": "stdout",
     "output_type": "stream",
     "text": [
      "\n",
      "0: 832x832 8 solar_panels, 725.3ms\n",
      "Speed: 13.9ms preprocess, 725.3ms inference, 2.7ms postprocess per image at shape (1, 3, 832, 832)\n"
     ]
    },
    {
     "name": "stderr",
     "output_type": "stream",
     "text": [
      "Processing images:  64%|███████████████████████████████████████▎                     | 328/509 [03:19<02:12,  1.36it/s]"
     ]
    },
    {
     "name": "stdout",
     "output_type": "stream",
     "text": [
      "\n",
      "0: 832x832 36 solar_panels, 727.1ms\n",
      "Speed: 15.1ms preprocess, 727.1ms inference, 2.8ms postprocess per image at shape (1, 3, 832, 832)\n"
     ]
    },
    {
     "name": "stderr",
     "output_type": "stream",
     "text": [
      "Processing images:  65%|███████████████████████████████████████▍                     | 329/509 [03:20<02:14,  1.34it/s]"
     ]
    },
    {
     "name": "stdout",
     "output_type": "stream",
     "text": [
      "\n",
      "0: 832x832 3 solar_panels, 797.7ms\n",
      "Speed: 11.9ms preprocess, 797.7ms inference, 2.5ms postprocess per image at shape (1, 3, 832, 832)\n"
     ]
    },
    {
     "name": "stderr",
     "output_type": "stream",
     "text": [
      "Processing images:  65%|███████████████████████████████████████▌                     | 330/509 [03:21<02:18,  1.29it/s]"
     ]
    },
    {
     "name": "stdout",
     "output_type": "stream",
     "text": [
      "\n",
      "0: 832x832 5 solar_panels, 570.0ms\n",
      "Speed: 13.9ms preprocess, 570.0ms inference, 2.6ms postprocess per image at shape (1, 3, 832, 832)\n"
     ]
    },
    {
     "name": "stderr",
     "output_type": "stream",
     "text": [
      "Processing images:  65%|███████████████████████████████████████▋                     | 331/509 [03:21<02:09,  1.38it/s]"
     ]
    },
    {
     "name": "stdout",
     "output_type": "stream",
     "text": [
      "\n",
      "0: 832x832 36 solar_panels, 783.7ms\n",
      "Speed: 14.8ms preprocess, 783.7ms inference, 2.8ms postprocess per image at shape (1, 3, 832, 832)\n"
     ]
    },
    {
     "name": "stderr",
     "output_type": "stream",
     "text": [
      "Processing images:  65%|███████████████████████████████████████▊                     | 332/509 [03:22<02:13,  1.32it/s]"
     ]
    },
    {
     "name": "stdout",
     "output_type": "stream",
     "text": [
      "\n",
      "0: 832x832 24 solar_panels, 784.2ms\n",
      "Speed: 13.4ms preprocess, 784.2ms inference, 2.7ms postprocess per image at shape (1, 3, 832, 832)\n"
     ]
    },
    {
     "name": "stderr",
     "output_type": "stream",
     "text": [
      "Processing images:  65%|███████████████████████████████████████▉                     | 333/509 [03:23<02:16,  1.29it/s]"
     ]
    },
    {
     "name": "stdout",
     "output_type": "stream",
     "text": [
      "\n",
      "0: 832x832 (no detections), 754.1ms\n",
      "Speed: 14.6ms preprocess, 754.1ms inference, 2.1ms postprocess per image at shape (1, 3, 832, 832)\n"
     ]
    },
    {
     "name": "stderr",
     "output_type": "stream",
     "text": [
      "Processing images:  66%|████████████████████████████████████████                     | 334/509 [03:24<02:17,  1.27it/s]"
     ]
    },
    {
     "name": "stdout",
     "output_type": "stream",
     "text": [
      "\n",
      "0: 832x832 12 solar_panels, 721.0ms\n",
      "Speed: 10.3ms preprocess, 721.0ms inference, 3.0ms postprocess per image at shape (1, 3, 832, 832)\n"
     ]
    },
    {
     "name": "stderr",
     "output_type": "stream",
     "text": [
      "Processing images:  66%|████████████████████████████████████████▏                    | 335/509 [03:24<02:14,  1.29it/s]"
     ]
    },
    {
     "name": "stdout",
     "output_type": "stream",
     "text": [
      "\n",
      "0: 832x832 11 solar_panels, 574.1ms\n",
      "Speed: 11.2ms preprocess, 574.1ms inference, 2.6ms postprocess per image at shape (1, 3, 832, 832)\n"
     ]
    },
    {
     "name": "stderr",
     "output_type": "stream",
     "text": [
      "Processing images:  66%|████████████████████████████████████████▎                    | 336/509 [03:25<02:05,  1.37it/s]"
     ]
    },
    {
     "name": "stdout",
     "output_type": "stream",
     "text": [
      "\n",
      "0: 832x832 12 solar_panels, 698.6ms\n",
      "Speed: 13.3ms preprocess, 698.6ms inference, 2.7ms postprocess per image at shape (1, 3, 832, 832)\n"
     ]
    },
    {
     "name": "stderr",
     "output_type": "stream",
     "text": [
      "Processing images:  66%|████████████████████████████████████████▍                    | 337/509 [03:26<02:05,  1.37it/s]"
     ]
    },
    {
     "name": "stdout",
     "output_type": "stream",
     "text": [
      "\n",
      "0: 832x832 4 solar_panels, 734.5ms\n",
      "Speed: 13.6ms preprocess, 734.5ms inference, 2.6ms postprocess per image at shape (1, 3, 832, 832)\n"
     ]
    },
    {
     "name": "stderr",
     "output_type": "stream",
     "text": [
      "Processing images:  66%|████████████████████████████████████████▌                    | 338/509 [03:27<02:07,  1.34it/s]"
     ]
    },
    {
     "name": "stdout",
     "output_type": "stream",
     "text": [
      "\n",
      "0: 832x832 10 solar_panels, 785.4ms\n",
      "Speed: 14.5ms preprocess, 785.4ms inference, 2.5ms postprocess per image at shape (1, 3, 832, 832)\n"
     ]
    },
    {
     "name": "stderr",
     "output_type": "stream",
     "text": [
      "Processing images:  67%|████████████████████████████████████████▋                    | 339/509 [03:27<02:10,  1.30it/s]"
     ]
    },
    {
     "name": "stdout",
     "output_type": "stream",
     "text": [
      "\n",
      "0: 832x832 6 solar_panels, 811.4ms\n",
      "Speed: 14.3ms preprocess, 811.4ms inference, 2.5ms postprocess per image at shape (1, 3, 832, 832)\n"
     ]
    },
    {
     "name": "stderr",
     "output_type": "stream",
     "text": [
      "Processing images:  67%|████████████████████████████████████████▋                    | 340/509 [03:28<02:14,  1.26it/s]"
     ]
    },
    {
     "name": "stdout",
     "output_type": "stream",
     "text": [
      "\n",
      "0: 832x832 21 solar_panels, 654.2ms\n",
      "Speed: 13.4ms preprocess, 654.2ms inference, 2.7ms postprocess per image at shape (1, 3, 832, 832)\n"
     ]
    },
    {
     "name": "stderr",
     "output_type": "stream",
     "text": [
      "Processing images:  67%|████████████████████████████████████████▊                    | 341/509 [03:29<02:08,  1.31it/s]"
     ]
    },
    {
     "name": "stdout",
     "output_type": "stream",
     "text": [
      "\n",
      "0: 832x832 12 solar_panels, 768.0ms\n",
      "Speed: 11.6ms preprocess, 768.0ms inference, 2.6ms postprocess per image at shape (1, 3, 832, 832)\n"
     ]
    },
    {
     "name": "stderr",
     "output_type": "stream",
     "text": [
      "Processing images:  67%|████████████████████████████████████████▉                    | 342/509 [03:30<02:09,  1.28it/s]"
     ]
    },
    {
     "name": "stdout",
     "output_type": "stream",
     "text": [
      "\n",
      "0: 832x832 23 solar_panels, 713.3ms\n",
      "Speed: 12.7ms preprocess, 713.3ms inference, 2.9ms postprocess per image at shape (1, 3, 832, 832)\n"
     ]
    },
    {
     "name": "stderr",
     "output_type": "stream",
     "text": [
      "Processing images:  67%|█████████████████████████████████████████                    | 343/509 [03:31<02:08,  1.30it/s]"
     ]
    },
    {
     "name": "stdout",
     "output_type": "stream",
     "text": [
      "\n",
      "0: 832x832 22 solar_panels, 760.9ms\n",
      "Speed: 11.4ms preprocess, 760.9ms inference, 2.7ms postprocess per image at shape (1, 3, 832, 832)\n"
     ]
    },
    {
     "name": "stderr",
     "output_type": "stream",
     "text": [
      "Processing images:  68%|█████████████████████████████████████████▏                   | 344/509 [03:31<02:08,  1.28it/s]"
     ]
    },
    {
     "name": "stdout",
     "output_type": "stream",
     "text": [
      "\n",
      "0: 832x832 17 solar_panels, 748.9ms\n",
      "Speed: 12.6ms preprocess, 748.9ms inference, 2.7ms postprocess per image at shape (1, 3, 832, 832)\n"
     ]
    },
    {
     "name": "stderr",
     "output_type": "stream",
     "text": [
      "Processing images:  68%|█████████████████████████████████████████▎                   | 345/509 [03:32<02:08,  1.28it/s]"
     ]
    },
    {
     "name": "stdout",
     "output_type": "stream",
     "text": [
      "\n",
      "0: 832x832 6 solar_panels, 717.3ms\n",
      "Speed: 14.5ms preprocess, 717.3ms inference, 2.5ms postprocess per image at shape (1, 3, 832, 832)\n"
     ]
    },
    {
     "name": "stderr",
     "output_type": "stream",
     "text": [
      "Processing images:  68%|█████████████████████████████████████████▍                   | 346/509 [03:33<02:06,  1.29it/s]"
     ]
    },
    {
     "name": "stdout",
     "output_type": "stream",
     "text": [
      "\n",
      "0: 832x832 1 solar_panel, 717.7ms\n",
      "Speed: 14.1ms preprocess, 717.7ms inference, 2.6ms postprocess per image at shape (1, 3, 832, 832)\n"
     ]
    },
    {
     "name": "stderr",
     "output_type": "stream",
     "text": [
      "Processing images:  68%|█████████████████████████████████████████▌                   | 347/509 [03:34<02:05,  1.29it/s]"
     ]
    },
    {
     "name": "stdout",
     "output_type": "stream",
     "text": [
      "\n",
      "0: 832x832 4 solar_panels, 773.4ms\n",
      "Speed: 14.5ms preprocess, 773.4ms inference, 2.6ms postprocess per image at shape (1, 3, 832, 832)\n"
     ]
    },
    {
     "name": "stderr",
     "output_type": "stream",
     "text": [
      "Processing images:  68%|█████████████████████████████████████████▋                   | 348/509 [03:34<02:06,  1.27it/s]"
     ]
    },
    {
     "name": "stdout",
     "output_type": "stream",
     "text": [
      "\n",
      "0: 832x832 4 solar_panels, 812.5ms\n",
      "Speed: 14.0ms preprocess, 812.5ms inference, 2.5ms postprocess per image at shape (1, 3, 832, 832)\n"
     ]
    },
    {
     "name": "stderr",
     "output_type": "stream",
     "text": [
      "Processing images:  69%|█████████████████████████████████████████▊                   | 349/509 [03:35<02:09,  1.24it/s]"
     ]
    },
    {
     "name": "stdout",
     "output_type": "stream",
     "text": [
      "\n",
      "0: 832x832 11 solar_panels, 716.3ms\n",
      "Speed: 13.6ms preprocess, 716.3ms inference, 2.7ms postprocess per image at shape (1, 3, 832, 832)\n"
     ]
    },
    {
     "name": "stderr",
     "output_type": "stream",
     "text": [
      "Processing images:  69%|█████████████████████████████████████████▉                   | 350/509 [03:36<02:06,  1.26it/s]"
     ]
    },
    {
     "name": "stdout",
     "output_type": "stream",
     "text": [
      "\n",
      "0: 832x832 6 solar_panels, 451.7ms\n",
      "Speed: 13.1ms preprocess, 451.7ms inference, 2.8ms postprocess per image at shape (1, 3, 832, 832)\n"
     ]
    },
    {
     "name": "stderr",
     "output_type": "stream",
     "text": [
      "Processing images:  69%|██████████████████████████████████████████                   | 351/509 [03:37<01:51,  1.42it/s]"
     ]
    },
    {
     "name": "stdout",
     "output_type": "stream",
     "text": [
      "\n",
      "0: 832x832 (no detections), 755.2ms\n",
      "Speed: 13.6ms preprocess, 755.2ms inference, 1.8ms postprocess per image at shape (1, 3, 832, 832)\n"
     ]
    },
    {
     "name": "stderr",
     "output_type": "stream",
     "text": [
      "Processing images:  69%|██████████████████████████████████████████▏                  | 352/509 [03:37<01:54,  1.37it/s]"
     ]
    },
    {
     "name": "stdout",
     "output_type": "stream",
     "text": [
      "\n",
      "0: 832x832 4 solar_panels, 760.8ms\n",
      "Speed: 13.6ms preprocess, 760.8ms inference, 2.5ms postprocess per image at shape (1, 3, 832, 832)\n"
     ]
    },
    {
     "name": "stderr",
     "output_type": "stream",
     "text": [
      "Processing images:  69%|██████████████████████████████████████████▎                  | 353/509 [03:38<01:57,  1.33it/s]"
     ]
    },
    {
     "name": "stdout",
     "output_type": "stream",
     "text": [
      "\n",
      "0: 832x832 6 solar_panels, 735.1ms\n",
      "Speed: 11.8ms preprocess, 735.1ms inference, 2.5ms postprocess per image at shape (1, 3, 832, 832)\n"
     ]
    },
    {
     "name": "stderr",
     "output_type": "stream",
     "text": [
      "Processing images:  70%|██████████████████████████████████████████▍                  | 354/509 [03:39<01:57,  1.32it/s]"
     ]
    },
    {
     "name": "stdout",
     "output_type": "stream",
     "text": [
      "\n",
      "0: 832x832 3 solar_panels, 778.4ms\n",
      "Speed: 11.0ms preprocess, 778.4ms inference, 2.5ms postprocess per image at shape (1, 3, 832, 832)\n"
     ]
    },
    {
     "name": "stderr",
     "output_type": "stream",
     "text": [
      "Processing images:  70%|██████████████████████████████████████████▌                  | 355/509 [03:40<01:59,  1.28it/s]"
     ]
    },
    {
     "name": "stdout",
     "output_type": "stream",
     "text": [
      "\n",
      "0: 832x832 4 solar_panels, 695.0ms\n",
      "Speed: 13.2ms preprocess, 695.0ms inference, 2.6ms postprocess per image at shape (1, 3, 832, 832)\n"
     ]
    },
    {
     "name": "stderr",
     "output_type": "stream",
     "text": [
      "Processing images:  70%|██████████████████████████████████████████▋                  | 356/509 [03:40<01:57,  1.30it/s]"
     ]
    },
    {
     "name": "stdout",
     "output_type": "stream",
     "text": [
      "\n",
      "0: 832x832 3 solar_panels, 742.0ms\n",
      "Speed: 14.3ms preprocess, 742.0ms inference, 2.5ms postprocess per image at shape (1, 3, 832, 832)\n"
     ]
    },
    {
     "name": "stderr",
     "output_type": "stream",
     "text": [
      "Processing images:  70%|██████████████████████████████████████████▊                  | 357/509 [03:41<01:57,  1.30it/s]"
     ]
    },
    {
     "name": "stdout",
     "output_type": "stream",
     "text": [
      "\n",
      "0: 832x832 4 solar_panels, 678.1ms\n",
      "Speed: 12.5ms preprocess, 678.1ms inference, 2.5ms postprocess per image at shape (1, 3, 832, 832)\n"
     ]
    },
    {
     "name": "stderr",
     "output_type": "stream",
     "text": [
      "Processing images:  70%|██████████████████████████████████████████▉                  | 358/509 [03:42<01:54,  1.32it/s]"
     ]
    },
    {
     "name": "stdout",
     "output_type": "stream",
     "text": [
      "\n",
      "0: 832x832 7 solar_panels, 803.7ms\n",
      "Speed: 15.4ms preprocess, 803.7ms inference, 2.5ms postprocess per image at shape (1, 3, 832, 832)\n"
     ]
    },
    {
     "name": "stderr",
     "output_type": "stream",
     "text": [
      "Processing images:  71%|███████████████████████████████████████████                  | 359/509 [03:43<01:57,  1.28it/s]"
     ]
    },
    {
     "name": "stdout",
     "output_type": "stream",
     "text": [
      "\n",
      "0: 832x832 5 solar_panels, 764.1ms\n",
      "Speed: 13.7ms preprocess, 764.1ms inference, 2.5ms postprocess per image at shape (1, 3, 832, 832)\n"
     ]
    },
    {
     "name": "stderr",
     "output_type": "stream",
     "text": [
      "Processing images:  71%|███████████████████████████████████████████▏                 | 360/509 [03:44<01:57,  1.27it/s]"
     ]
    },
    {
     "name": "stdout",
     "output_type": "stream",
     "text": [
      "\n",
      "0: 832x832 4 solar_panels, 811.8ms\n",
      "Speed: 12.0ms preprocess, 811.8ms inference, 3.2ms postprocess per image at shape (1, 3, 832, 832)\n"
     ]
    },
    {
     "name": "stderr",
     "output_type": "stream",
     "text": [
      "Processing images:  71%|███████████████████████████████████████████▎                 | 361/509 [03:45<01:59,  1.23it/s]"
     ]
    },
    {
     "name": "stdout",
     "output_type": "stream",
     "text": [
      "\n",
      "0: 832x832 8 solar_panels, 755.7ms\n",
      "Speed: 13.7ms preprocess, 755.7ms inference, 2.5ms postprocess per image at shape (1, 3, 832, 832)\n"
     ]
    },
    {
     "name": "stderr",
     "output_type": "stream",
     "text": [
      "Processing images:  71%|███████████████████████████████████████████▍                 | 362/509 [03:45<01:58,  1.24it/s]"
     ]
    },
    {
     "name": "stdout",
     "output_type": "stream",
     "text": [
      "\n",
      "0: 832x832 6 solar_panels, 743.9ms\n",
      "Speed: 12.1ms preprocess, 743.9ms inference, 2.6ms postprocess per image at shape (1, 3, 832, 832)\n"
     ]
    },
    {
     "name": "stderr",
     "output_type": "stream",
     "text": [
      "Processing images:  71%|███████████████████████████████████████████▌                 | 363/509 [03:46<01:56,  1.26it/s]"
     ]
    },
    {
     "name": "stdout",
     "output_type": "stream",
     "text": [
      "\n",
      "0: 832x832 7 solar_panels, 808.1ms\n",
      "Speed: 12.0ms preprocess, 808.1ms inference, 2.6ms postprocess per image at shape (1, 3, 832, 832)\n"
     ]
    },
    {
     "name": "stderr",
     "output_type": "stream",
     "text": [
      "Processing images:  72%|███████████████████████████████████████████▌                 | 364/509 [03:47<01:58,  1.23it/s]"
     ]
    },
    {
     "name": "stdout",
     "output_type": "stream",
     "text": [
      "\n",
      "0: 832x832 1 solar_panel, 813.8ms\n",
      "Speed: 14.4ms preprocess, 813.8ms inference, 2.7ms postprocess per image at shape (1, 3, 832, 832)\n"
     ]
    },
    {
     "name": "stderr",
     "output_type": "stream",
     "text": [
      "Processing images:  72%|███████████████████████████████████████████▋                 | 365/509 [03:48<01:59,  1.21it/s]"
     ]
    },
    {
     "name": "stdout",
     "output_type": "stream",
     "text": [
      "\n",
      "0: 832x832 20 solar_panels, 741.1ms\n",
      "Speed: 11.0ms preprocess, 741.1ms inference, 2.7ms postprocess per image at shape (1, 3, 832, 832)\n"
     ]
    },
    {
     "name": "stderr",
     "output_type": "stream",
     "text": [
      "Processing images:  72%|███████████████████████████████████████████▊                 | 366/509 [03:49<01:56,  1.23it/s]"
     ]
    },
    {
     "name": "stdout",
     "output_type": "stream",
     "text": [
      "\n",
      "0: 832x832 5 solar_panels, 752.0ms\n",
      "Speed: 16.2ms preprocess, 752.0ms inference, 2.6ms postprocess per image at shape (1, 3, 832, 832)\n"
     ]
    },
    {
     "name": "stderr",
     "output_type": "stream",
     "text": [
      "Processing images:  72%|███████████████████████████████████████████▉                 | 367/509 [03:49<01:55,  1.23it/s]"
     ]
    },
    {
     "name": "stdout",
     "output_type": "stream",
     "text": [
      "\n",
      "0: 832x832 4 solar_panels, 739.6ms\n",
      "Speed: 13.8ms preprocess, 739.6ms inference, 2.6ms postprocess per image at shape (1, 3, 832, 832)\n"
     ]
    },
    {
     "name": "stderr",
     "output_type": "stream",
     "text": [
      "Processing images:  72%|████████████████████████████████████████████                 | 368/509 [03:50<01:53,  1.25it/s]"
     ]
    },
    {
     "name": "stdout",
     "output_type": "stream",
     "text": [
      "\n",
      "0: 832x832 6 solar_panels, 670.8ms\n",
      "Speed: 13.9ms preprocess, 670.8ms inference, 2.6ms postprocess per image at shape (1, 3, 832, 832)\n"
     ]
    },
    {
     "name": "stderr",
     "output_type": "stream",
     "text": [
      "Processing images:  72%|████████████████████████████████████████████▏                | 369/509 [03:51<01:48,  1.29it/s]"
     ]
    },
    {
     "name": "stdout",
     "output_type": "stream",
     "text": [
      "\n",
      "0: 832x832 3 solar_panels, 716.8ms\n",
      "Speed: 12.9ms preprocess, 716.8ms inference, 2.5ms postprocess per image at shape (1, 3, 832, 832)\n"
     ]
    },
    {
     "name": "stderr",
     "output_type": "stream",
     "text": [
      "Processing images:  73%|████████████████████████████████████████████▎                | 370/509 [03:52<01:47,  1.30it/s]"
     ]
    },
    {
     "name": "stdout",
     "output_type": "stream",
     "text": [
      "\n",
      "0: 832x832 3 solar_panels, 807.5ms\n",
      "Speed: 14.1ms preprocess, 807.5ms inference, 2.6ms postprocess per image at shape (1, 3, 832, 832)\n"
     ]
    },
    {
     "name": "stderr",
     "output_type": "stream",
     "text": [
      "Processing images:  73%|████████████████████████████████████████████▍                | 371/509 [03:52<01:49,  1.26it/s]"
     ]
    },
    {
     "name": "stdout",
     "output_type": "stream",
     "text": [
      "\n",
      "0: 832x832 11 solar_panels, 554.4ms\n",
      "Speed: 13.6ms preprocess, 554.4ms inference, 2.6ms postprocess per image at shape (1, 3, 832, 832)\n"
     ]
    },
    {
     "name": "stderr",
     "output_type": "stream",
     "text": [
      "Processing images:  73%|████████████████████████████████████████████▌                | 372/509 [03:53<01:40,  1.36it/s]"
     ]
    },
    {
     "name": "stdout",
     "output_type": "stream",
     "text": [
      "\n",
      "0: 832x832 7 solar_panels, 762.0ms\n",
      "Speed: 12.2ms preprocess, 762.0ms inference, 2.5ms postprocess per image at shape (1, 3, 832, 832)\n"
     ]
    },
    {
     "name": "stderr",
     "output_type": "stream",
     "text": [
      "Processing images:  73%|████████████████████████████████████████████▋                | 373/509 [03:54<01:42,  1.32it/s]"
     ]
    },
    {
     "name": "stdout",
     "output_type": "stream",
     "text": [
      "\n",
      "0: 832x832 11 solar_panels, 798.7ms\n",
      "Speed: 13.5ms preprocess, 798.7ms inference, 2.7ms postprocess per image at shape (1, 3, 832, 832)\n"
     ]
    },
    {
     "name": "stderr",
     "output_type": "stream",
     "text": [
      "Processing images:  73%|████████████████████████████████████████████▊                | 374/509 [03:55<01:45,  1.28it/s]"
     ]
    },
    {
     "name": "stdout",
     "output_type": "stream",
     "text": [
      "\n",
      "0: 832x832 3 solar_panels, 682.6ms\n",
      "Speed: 13.4ms preprocess, 682.6ms inference, 3.2ms postprocess per image at shape (1, 3, 832, 832)\n"
     ]
    },
    {
     "name": "stderr",
     "output_type": "stream",
     "text": [
      "Processing images:  74%|████████████████████████████████████████████▉                | 375/509 [03:55<01:41,  1.32it/s]"
     ]
    },
    {
     "name": "stdout",
     "output_type": "stream",
     "text": [
      "\n",
      "0: 832x832 4 solar_panels, 398.3ms\n",
      "Speed: 10.2ms preprocess, 398.3ms inference, 3.5ms postprocess per image at shape (1, 3, 832, 832)\n"
     ]
    },
    {
     "name": "stderr",
     "output_type": "stream",
     "text": [
      "Processing images:  74%|█████████████████████████████████████████████                | 376/509 [03:56<01:28,  1.50it/s]"
     ]
    },
    {
     "name": "stdout",
     "output_type": "stream",
     "text": [
      "\n",
      "0: 832x832 4 solar_panels, 352.3ms\n",
      "Speed: 14.0ms preprocess, 352.3ms inference, 3.0ms postprocess per image at shape (1, 3, 832, 832)\n"
     ]
    },
    {
     "name": "stderr",
     "output_type": "stream",
     "text": [
      "Processing images:  74%|█████████████████████████████████████████████▏               | 377/509 [03:56<01:17,  1.71it/s]"
     ]
    },
    {
     "name": "stdout",
     "output_type": "stream",
     "text": [
      "\n",
      "0: 832x832 4 solar_panels, 423.4ms\n",
      "Speed: 10.5ms preprocess, 423.4ms inference, 3.6ms postprocess per image at shape (1, 3, 832, 832)\n"
     ]
    },
    {
     "name": "stderr",
     "output_type": "stream",
     "text": [
      "Processing images:  74%|█████████████████████████████████████████████▎               | 378/509 [03:57<01:11,  1.83it/s]"
     ]
    },
    {
     "name": "stdout",
     "output_type": "stream",
     "text": [
      "\n",
      "0: 832x832 8 solar_panels, 385.1ms\n",
      "Speed: 10.3ms preprocess, 385.1ms inference, 2.8ms postprocess per image at shape (1, 3, 832, 832)\n"
     ]
    },
    {
     "name": "stderr",
     "output_type": "stream",
     "text": [
      "Processing images:  74%|█████████████████████████████████████████████▍               | 379/509 [03:57<01:06,  1.95it/s]"
     ]
    },
    {
     "name": "stdout",
     "output_type": "stream",
     "text": [
      "\n",
      "0: 832x832 3 solar_panels, 392.6ms\n",
      "Speed: 11.1ms preprocess, 392.6ms inference, 3.2ms postprocess per image at shape (1, 3, 832, 832)\n"
     ]
    },
    {
     "name": "stderr",
     "output_type": "stream",
     "text": [
      "Processing images:  75%|█████████████████████████████████████████████▌               | 380/509 [03:58<01:02,  2.05it/s]"
     ]
    },
    {
     "name": "stdout",
     "output_type": "stream",
     "text": [
      "\n",
      "0: 832x832 6 solar_panels, 392.9ms\n",
      "Speed: 11.3ms preprocess, 392.9ms inference, 3.3ms postprocess per image at shape (1, 3, 832, 832)\n"
     ]
    },
    {
     "name": "stderr",
     "output_type": "stream",
     "text": [
      "Processing images:  75%|█████████████████████████████████████████████▋               | 381/509 [03:58<00:59,  2.14it/s]"
     ]
    },
    {
     "name": "stdout",
     "output_type": "stream",
     "text": [
      "\n",
      "0: 832x832 2 solar_panels, 371.0ms\n",
      "Speed: 9.6ms preprocess, 371.0ms inference, 2.7ms postprocess per image at shape (1, 3, 832, 832)\n"
     ]
    },
    {
     "name": "stderr",
     "output_type": "stream",
     "text": [
      "Processing images:  75%|█████████████████████████████████████████████▊               | 382/509 [03:58<00:57,  2.21it/s]"
     ]
    },
    {
     "name": "stdout",
     "output_type": "stream",
     "text": [
      "\n",
      "0: 832x832 8 solar_panels, 604.6ms\n",
      "Speed: 11.6ms preprocess, 604.6ms inference, 2.6ms postprocess per image at shape (1, 3, 832, 832)\n"
     ]
    },
    {
     "name": "stderr",
     "output_type": "stream",
     "text": [
      "Processing images:  75%|█████████████████████████████████████████████▉               | 383/509 [03:59<01:04,  1.95it/s]"
     ]
    },
    {
     "name": "stdout",
     "output_type": "stream",
     "text": [
      "\n",
      "0: 832x832 9 solar_panels, 547.0ms\n",
      "Speed: 12.5ms preprocess, 547.0ms inference, 3.1ms postprocess per image at shape (1, 3, 832, 832)\n"
     ]
    },
    {
     "name": "stderr",
     "output_type": "stream",
     "text": [
      "Processing images:  75%|██████████████████████████████████████████████               | 384/509 [04:00<01:06,  1.87it/s]"
     ]
    },
    {
     "name": "stdout",
     "output_type": "stream",
     "text": [
      "\n",
      "0: 832x832 10 solar_panels, 368.5ms\n",
      "Speed: 15.4ms preprocess, 368.5ms inference, 2.5ms postprocess per image at shape (1, 3, 832, 832)\n"
     ]
    },
    {
     "name": "stderr",
     "output_type": "stream",
     "text": [
      "Processing images:  76%|██████████████████████████████████████████████▏              | 385/509 [04:00<01:01,  2.00it/s]"
     ]
    },
    {
     "name": "stdout",
     "output_type": "stream",
     "text": [
      "\n",
      "0: 832x832 9 solar_panels, 365.2ms\n",
      "Speed: 9.8ms preprocess, 365.2ms inference, 1.7ms postprocess per image at shape (1, 3, 832, 832)\n"
     ]
    },
    {
     "name": "stderr",
     "output_type": "stream",
     "text": [
      "Processing images:  76%|██████████████████████████████████████████████▎              | 386/509 [04:00<00:57,  2.14it/s]"
     ]
    },
    {
     "name": "stdout",
     "output_type": "stream",
     "text": [
      "\n",
      "0: 832x832 7 solar_panels, 453.4ms\n",
      "Speed: 14.6ms preprocess, 453.4ms inference, 2.5ms postprocess per image at shape (1, 3, 832, 832)\n"
     ]
    },
    {
     "name": "stderr",
     "output_type": "stream",
     "text": [
      "Processing images:  76%|██████████████████████████████████████████████▍              | 387/509 [04:01<00:58,  2.09it/s]"
     ]
    },
    {
     "name": "stdout",
     "output_type": "stream",
     "text": [
      "\n",
      "0: 832x832 4 solar_panels, 700.5ms\n",
      "Speed: 13.2ms preprocess, 700.5ms inference, 2.6ms postprocess per image at shape (1, 3, 832, 832)\n"
     ]
    },
    {
     "name": "stderr",
     "output_type": "stream",
     "text": [
      "Processing images:  76%|██████████████████████████████████████████████▍              | 388/509 [04:02<01:07,  1.79it/s]"
     ]
    },
    {
     "name": "stdout",
     "output_type": "stream",
     "text": [
      "\n",
      "0: 832x832 7 solar_panels, 607.4ms\n",
      "Speed: 11.8ms preprocess, 607.4ms inference, 2.6ms postprocess per image at shape (1, 3, 832, 832)\n"
     ]
    },
    {
     "name": "stderr",
     "output_type": "stream",
     "text": [
      "Processing images:  76%|██████████████████████████████████████████████▌              | 389/509 [04:02<01:10,  1.70it/s]"
     ]
    },
    {
     "name": "stdout",
     "output_type": "stream",
     "text": [
      "\n",
      "0: 832x832 6 solar_panels, 677.5ms\n",
      "Speed: 17.4ms preprocess, 677.5ms inference, 2.6ms postprocess per image at shape (1, 3, 832, 832)\n"
     ]
    },
    {
     "name": "stderr",
     "output_type": "stream",
     "text": [
      "Processing images:  77%|██████████████████████████████████████████████▋              | 390/509 [04:03<01:14,  1.59it/s]"
     ]
    },
    {
     "name": "stdout",
     "output_type": "stream",
     "text": [
      "\n",
      "0: 832x832 2 solar_panels, 747.3ms\n",
      "Speed: 14.4ms preprocess, 747.3ms inference, 2.6ms postprocess per image at shape (1, 3, 832, 832)\n"
     ]
    },
    {
     "name": "stderr",
     "output_type": "stream",
     "text": [
      "Processing images:  77%|██████████████████████████████████████████████▊              | 391/509 [04:04<01:20,  1.47it/s]"
     ]
    },
    {
     "name": "stdout",
     "output_type": "stream",
     "text": [
      "\n",
      "0: 832x832 7 solar_panels, 804.3ms\n",
      "Speed: 13.3ms preprocess, 804.3ms inference, 2.6ms postprocess per image at shape (1, 3, 832, 832)\n"
     ]
    },
    {
     "name": "stderr",
     "output_type": "stream",
     "text": [
      "Processing images:  77%|██████████████████████████████████████████████▉              | 392/509 [04:05<01:25,  1.37it/s]"
     ]
    },
    {
     "name": "stdout",
     "output_type": "stream",
     "text": [
      "\n",
      "0: 832x832 1 solar_panel, 782.8ms\n",
      "Speed: 15.6ms preprocess, 782.8ms inference, 5.8ms postprocess per image at shape (1, 3, 832, 832)\n"
     ]
    },
    {
     "name": "stderr",
     "output_type": "stream",
     "text": [
      "Processing images:  77%|███████████████████████████████████████████████              | 393/509 [04:06<01:27,  1.32it/s]"
     ]
    },
    {
     "name": "stdout",
     "output_type": "stream",
     "text": [
      "\n",
      "0: 832x832 16 solar_panels, 727.2ms\n",
      "Speed: 12.0ms preprocess, 727.2ms inference, 2.6ms postprocess per image at shape (1, 3, 832, 832)\n"
     ]
    },
    {
     "name": "stderr",
     "output_type": "stream",
     "text": [
      "Processing images:  77%|███████████████████████████████████████████████▏             | 394/509 [04:06<01:27,  1.31it/s]"
     ]
    },
    {
     "name": "stdout",
     "output_type": "stream",
     "text": [
      "\n",
      "0: 832x832 11 solar_panels, 629.2ms\n",
      "Speed: 12.5ms preprocess, 629.2ms inference, 2.6ms postprocess per image at shape (1, 3, 832, 832)\n"
     ]
    },
    {
     "name": "stderr",
     "output_type": "stream",
     "text": [
      "Processing images:  78%|███████████████████████████████████████████████▎             | 395/509 [04:07<01:23,  1.36it/s]"
     ]
    },
    {
     "name": "stdout",
     "output_type": "stream",
     "text": [
      "\n",
      "0: 832x832 5 solar_panels, 733.8ms\n",
      "Speed: 11.3ms preprocess, 733.8ms inference, 2.5ms postprocess per image at shape (1, 3, 832, 832)\n"
     ]
    },
    {
     "name": "stderr",
     "output_type": "stream",
     "text": [
      "Processing images:  78%|███████████████████████████████████████████████▍             | 396/509 [04:08<01:24,  1.34it/s]"
     ]
    },
    {
     "name": "stdout",
     "output_type": "stream",
     "text": [
      "\n",
      "0: 832x832 2 solar_panels, 697.4ms\n",
      "Speed: 10.7ms preprocess, 697.4ms inference, 2.5ms postprocess per image at shape (1, 3, 832, 832)\n"
     ]
    },
    {
     "name": "stderr",
     "output_type": "stream",
     "text": [
      "Processing images:  78%|███████████████████████████████████████████████▌             | 397/509 [04:09<01:23,  1.34it/s]"
     ]
    },
    {
     "name": "stdout",
     "output_type": "stream",
     "text": [
      "\n",
      "0: 832x832 4 solar_panels, 747.3ms\n",
      "Speed: 14.1ms preprocess, 747.3ms inference, 2.5ms postprocess per image at shape (1, 3, 832, 832)\n"
     ]
    },
    {
     "name": "stderr",
     "output_type": "stream",
     "text": [
      "Processing images:  78%|███████████████████████████████████████████████▋             | 398/509 [04:09<01:24,  1.32it/s]"
     ]
    },
    {
     "name": "stdout",
     "output_type": "stream",
     "text": [
      "\n",
      "0: 832x832 12 solar_panels, 741.2ms\n",
      "Speed: 14.3ms preprocess, 741.2ms inference, 2.5ms postprocess per image at shape (1, 3, 832, 832)\n"
     ]
    },
    {
     "name": "stderr",
     "output_type": "stream",
     "text": [
      "Processing images:  78%|███████████████████████████████████████████████▊             | 399/509 [04:10<01:24,  1.31it/s]"
     ]
    },
    {
     "name": "stdout",
     "output_type": "stream",
     "text": [
      "\n",
      "0: 832x832 5 solar_panels, 709.0ms\n",
      "Speed: 11.3ms preprocess, 709.0ms inference, 2.6ms postprocess per image at shape (1, 3, 832, 832)\n"
     ]
    },
    {
     "name": "stderr",
     "output_type": "stream",
     "text": [
      "Processing images:  79%|███████████████████████████████████████████████▉             | 400/509 [04:11<01:22,  1.31it/s]"
     ]
    },
    {
     "name": "stdout",
     "output_type": "stream",
     "text": [
      "\n",
      "0: 832x832 4 solar_panels, 734.7ms\n",
      "Speed: 13.0ms preprocess, 734.7ms inference, 2.6ms postprocess per image at shape (1, 3, 832, 832)\n"
     ]
    },
    {
     "name": "stderr",
     "output_type": "stream",
     "text": [
      "Processing images:  79%|████████████████████████████████████████████████             | 401/509 [04:12<01:22,  1.31it/s]"
     ]
    },
    {
     "name": "stdout",
     "output_type": "stream",
     "text": [
      "\n",
      "0: 832x832 6 solar_panels, 741.6ms\n",
      "Speed: 14.0ms preprocess, 741.6ms inference, 2.5ms postprocess per image at shape (1, 3, 832, 832)\n"
     ]
    },
    {
     "name": "stderr",
     "output_type": "stream",
     "text": [
      "Processing images:  79%|████████████████████████████████████████████████▏            | 402/509 [04:12<01:22,  1.30it/s]"
     ]
    },
    {
     "name": "stdout",
     "output_type": "stream",
     "text": [
      "\n",
      "0: 832x832 3 solar_panels, 740.3ms\n",
      "Speed: 14.2ms preprocess, 740.3ms inference, 2.6ms postprocess per image at shape (1, 3, 832, 832)\n"
     ]
    },
    {
     "name": "stderr",
     "output_type": "stream",
     "text": [
      "Processing images:  79%|████████████████████████████████████████████████▎            | 403/509 [04:13<01:22,  1.29it/s]"
     ]
    },
    {
     "name": "stdout",
     "output_type": "stream",
     "text": [
      "\n",
      "0: 832x832 11 solar_panels, 730.1ms\n",
      "Speed: 13.4ms preprocess, 730.1ms inference, 2.6ms postprocess per image at shape (1, 3, 832, 832)\n"
     ]
    },
    {
     "name": "stderr",
     "output_type": "stream",
     "text": [
      "Processing images:  79%|████████████████████████████████████████████████▍            | 404/509 [04:14<01:21,  1.29it/s]"
     ]
    },
    {
     "name": "stdout",
     "output_type": "stream",
     "text": [
      "\n",
      "0: 832x832 8 solar_panels, 587.9ms\n",
      "Speed: 13.9ms preprocess, 587.9ms inference, 2.5ms postprocess per image at shape (1, 3, 832, 832)\n"
     ]
    },
    {
     "name": "stderr",
     "output_type": "stream",
     "text": [
      "Processing images:  80%|████████████████████████████████████████████████▌            | 405/509 [04:15<01:16,  1.37it/s]"
     ]
    },
    {
     "name": "stdout",
     "output_type": "stream",
     "text": [
      "\n",
      "0: 832x832 2 solar_panels, 746.1ms\n",
      "Speed: 11.4ms preprocess, 746.1ms inference, 2.6ms postprocess per image at shape (1, 3, 832, 832)\n"
     ]
    },
    {
     "name": "stderr",
     "output_type": "stream",
     "text": [
      "Processing images:  80%|████████████████████████████████████████████████▋            | 406/509 [04:15<01:16,  1.34it/s]"
     ]
    },
    {
     "name": "stdout",
     "output_type": "stream",
     "text": [
      "\n",
      "0: 832x832 5 solar_panels, 709.4ms\n",
      "Speed: 14.1ms preprocess, 709.4ms inference, 2.5ms postprocess per image at shape (1, 3, 832, 832)\n"
     ]
    },
    {
     "name": "stderr",
     "output_type": "stream",
     "text": [
      "Processing images:  80%|████████████████████████████████████████████████▊            | 407/509 [04:16<01:16,  1.33it/s]"
     ]
    },
    {
     "name": "stdout",
     "output_type": "stream",
     "text": [
      "\n",
      "0: 832x832 13 solar_panels, 788.8ms\n",
      "Speed: 13.3ms preprocess, 788.8ms inference, 2.7ms postprocess per image at shape (1, 3, 832, 832)\n"
     ]
    },
    {
     "name": "stderr",
     "output_type": "stream",
     "text": [
      "Processing images:  80%|████████████████████████████████████████████████▉            | 408/509 [04:17<01:18,  1.29it/s]"
     ]
    },
    {
     "name": "stdout",
     "output_type": "stream",
     "text": [
      "\n",
      "0: 832x832 2 solar_panels, 801.9ms\n",
      "Speed: 16.2ms preprocess, 801.9ms inference, 2.6ms postprocess per image at shape (1, 3, 832, 832)\n"
     ]
    },
    {
     "name": "stderr",
     "output_type": "stream",
     "text": [
      "Processing images:  80%|█████████████████████████████████████████████████            | 409/509 [04:18<01:19,  1.26it/s]"
     ]
    },
    {
     "name": "stdout",
     "output_type": "stream",
     "text": [
      "\n",
      "0: 832x832 9 solar_panels, 736.9ms\n",
      "Speed: 12.0ms preprocess, 736.9ms inference, 2.6ms postprocess per image at shape (1, 3, 832, 832)\n"
     ]
    },
    {
     "name": "stderr",
     "output_type": "stream",
     "text": [
      "Processing images:  81%|█████████████████████████████████████████████████▏           | 410/509 [04:19<01:18,  1.26it/s]"
     ]
    },
    {
     "name": "stdout",
     "output_type": "stream",
     "text": [
      "\n",
      "0: 832x832 6 solar_panels, 801.3ms\n",
      "Speed: 12.1ms preprocess, 801.3ms inference, 2.8ms postprocess per image at shape (1, 3, 832, 832)\n"
     ]
    },
    {
     "name": "stderr",
     "output_type": "stream",
     "text": [
      "Processing images:  81%|█████████████████████████████████████████████████▎           | 411/509 [04:19<01:19,  1.24it/s]"
     ]
    },
    {
     "name": "stdout",
     "output_type": "stream",
     "text": [
      "\n",
      "0: 832x832 3 solar_panels, 587.7ms\n",
      "Speed: 13.9ms preprocess, 587.7ms inference, 3.5ms postprocess per image at shape (1, 3, 832, 832)\n"
     ]
    },
    {
     "name": "stderr",
     "output_type": "stream",
     "text": [
      "Processing images:  81%|█████████████████████████████████████████████████▍           | 412/509 [04:20<01:13,  1.32it/s]"
     ]
    },
    {
     "name": "stdout",
     "output_type": "stream",
     "text": [
      "\n",
      "0: 832x832 3 solar_panels, 422.6ms\n",
      "Speed: 9.8ms preprocess, 422.6ms inference, 2.5ms postprocess per image at shape (1, 3, 832, 832)\n"
     ]
    },
    {
     "name": "stderr",
     "output_type": "stream",
     "text": [
      "Processing images:  81%|█████████████████████████████████████████████████▍           | 413/509 [04:21<01:03,  1.50it/s]"
     ]
    },
    {
     "name": "stdout",
     "output_type": "stream",
     "text": [
      "\n",
      "0: 832x832 7 solar_panels, 543.9ms\n",
      "Speed: 10.6ms preprocess, 543.9ms inference, 2.5ms postprocess per image at shape (1, 3, 832, 832)\n"
     ]
    },
    {
     "name": "stderr",
     "output_type": "stream",
     "text": [
      "Processing images:  81%|█████████████████████████████████████████████████▌           | 414/509 [04:21<01:00,  1.56it/s]"
     ]
    },
    {
     "name": "stdout",
     "output_type": "stream",
     "text": [
      "\n",
      "0: 832x832 4 solar_panels, 777.6ms\n",
      "Speed: 12.6ms preprocess, 777.6ms inference, 2.6ms postprocess per image at shape (1, 3, 832, 832)\n"
     ]
    },
    {
     "name": "stderr",
     "output_type": "stream",
     "text": [
      "Processing images:  82%|█████████████████████████████████████████████████▋           | 415/509 [04:22<01:05,  1.44it/s]"
     ]
    },
    {
     "name": "stdout",
     "output_type": "stream",
     "text": [
      "\n",
      "0: 832x832 3 solar_panels, 671.0ms\n",
      "Speed: 13.7ms preprocess, 671.0ms inference, 2.7ms postprocess per image at shape (1, 3, 832, 832)\n"
     ]
    },
    {
     "name": "stderr",
     "output_type": "stream",
     "text": [
      "Processing images:  82%|█████████████████████████████████████████████████▊           | 416/509 [04:23<01:05,  1.43it/s]"
     ]
    },
    {
     "name": "stdout",
     "output_type": "stream",
     "text": [
      "\n",
      "0: 832x832 17 solar_panels, 713.4ms\n",
      "Speed: 12.3ms preprocess, 713.4ms inference, 2.6ms postprocess per image at shape (1, 3, 832, 832)\n"
     ]
    },
    {
     "name": "stderr",
     "output_type": "stream",
     "text": [
      "Processing images:  82%|█████████████████████████████████████████████████▉           | 417/509 [04:23<01:05,  1.40it/s]"
     ]
    },
    {
     "name": "stdout",
     "output_type": "stream",
     "text": [
      "\n",
      "0: 832x832 16 solar_panels, 775.9ms\n",
      "Speed: 13.6ms preprocess, 775.9ms inference, 2.7ms postprocess per image at shape (1, 3, 832, 832)\n"
     ]
    },
    {
     "name": "stderr",
     "output_type": "stream",
     "text": [
      "Processing images:  82%|██████████████████████████████████████████████████           | 418/509 [04:24<01:07,  1.34it/s]"
     ]
    },
    {
     "name": "stdout",
     "output_type": "stream",
     "text": [
      "\n",
      "0: 832x832 3 solar_panels, 584.5ms\n",
      "Speed: 11.7ms preprocess, 584.5ms inference, 2.5ms postprocess per image at shape (1, 3, 832, 832)\n"
     ]
    },
    {
     "name": "stderr",
     "output_type": "stream",
     "text": [
      "Processing images:  82%|██████████████████████████████████████████████████▏          | 419/509 [04:25<01:03,  1.41it/s]"
     ]
    },
    {
     "name": "stdout",
     "output_type": "stream",
     "text": [
      "\n",
      "0: 832x832 4 solar_panels, 541.7ms\n",
      "Speed: 13.6ms preprocess, 541.7ms inference, 2.7ms postprocess per image at shape (1, 3, 832, 832)\n"
     ]
    },
    {
     "name": "stderr",
     "output_type": "stream",
     "text": [
      "Processing images:  83%|██████████████████████████████████████████████████▎          | 420/509 [04:25<00:59,  1.49it/s]"
     ]
    },
    {
     "name": "stdout",
     "output_type": "stream",
     "text": [
      "\n",
      "0: 832x832 17 solar_panels, 633.6ms\n",
      "Speed: 13.0ms preprocess, 633.6ms inference, 2.8ms postprocess per image at shape (1, 3, 832, 832)\n"
     ]
    },
    {
     "name": "stderr",
     "output_type": "stream",
     "text": [
      "Processing images:  83%|██████████████████████████████████████████████████▍          | 421/509 [04:26<00:59,  1.49it/s]"
     ]
    },
    {
     "name": "stdout",
     "output_type": "stream",
     "text": [
      "\n",
      "0: 832x832 4 solar_panels, 534.8ms\n",
      "Speed: 10.7ms preprocess, 534.8ms inference, 2.8ms postprocess per image at shape (1, 3, 832, 832)\n"
     ]
    },
    {
     "name": "stderr",
     "output_type": "stream",
     "text": [
      "Processing images:  83%|██████████████████████████████████████████████████▌          | 422/509 [04:27<00:55,  1.56it/s]"
     ]
    },
    {
     "name": "stdout",
     "output_type": "stream",
     "text": [
      "\n",
      "0: 832x832 20 solar_panels, 713.8ms\n",
      "Speed: 8.2ms preprocess, 713.8ms inference, 2.9ms postprocess per image at shape (1, 3, 832, 832)\n"
     ]
    },
    {
     "name": "stderr",
     "output_type": "stream",
     "text": [
      "Processing images:  83%|██████████████████████████████████████████████████▋          | 423/509 [04:27<00:58,  1.48it/s]"
     ]
    },
    {
     "name": "stdout",
     "output_type": "stream",
     "text": [
      "\n",
      "0: 832x832 4 solar_panels, 737.0ms\n",
      "Speed: 12.2ms preprocess, 737.0ms inference, 2.6ms postprocess per image at shape (1, 3, 832, 832)\n"
     ]
    },
    {
     "name": "stderr",
     "output_type": "stream",
     "text": [
      "Processing images:  83%|██████████████████████████████████████████████████▊          | 424/509 [04:28<00:59,  1.42it/s]"
     ]
    },
    {
     "name": "stdout",
     "output_type": "stream",
     "text": [
      "\n",
      "0: 832x832 10 solar_panels, 716.4ms\n",
      "Speed: 14.4ms preprocess, 716.4ms inference, 2.6ms postprocess per image at shape (1, 3, 832, 832)\n"
     ]
    },
    {
     "name": "stderr",
     "output_type": "stream",
     "text": [
      "Processing images:  83%|██████████████████████████████████████████████████▉          | 425/509 [04:29<01:00,  1.38it/s]"
     ]
    },
    {
     "name": "stdout",
     "output_type": "stream",
     "text": [
      "\n",
      "0: 832x832 2 solar_panels, 720.1ms\n",
      "Speed: 13.7ms preprocess, 720.1ms inference, 2.6ms postprocess per image at shape (1, 3, 832, 832)\n"
     ]
    },
    {
     "name": "stderr",
     "output_type": "stream",
     "text": [
      "Processing images:  84%|███████████████████████████████████████████████████          | 426/509 [04:30<01:00,  1.36it/s]"
     ]
    },
    {
     "name": "stdout",
     "output_type": "stream",
     "text": [
      "\n",
      "0: 832x832 7 solar_panels, 756.9ms\n",
      "Speed: 11.0ms preprocess, 756.9ms inference, 2.6ms postprocess per image at shape (1, 3, 832, 832)\n"
     ]
    },
    {
     "name": "stderr",
     "output_type": "stream",
     "text": [
      "Processing images:  84%|███████████████████████████████████████████████████▏         | 427/509 [04:31<01:01,  1.33it/s]"
     ]
    },
    {
     "name": "stdout",
     "output_type": "stream",
     "text": [
      "\n",
      "0: 832x832 6 solar_panels, 798.0ms\n",
      "Speed: 14.3ms preprocess, 798.0ms inference, 2.5ms postprocess per image at shape (1, 3, 832, 832)\n"
     ]
    },
    {
     "name": "stderr",
     "output_type": "stream",
     "text": [
      "Processing images:  84%|███████████████████████████████████████████████████▎         | 428/509 [04:31<01:03,  1.28it/s]"
     ]
    },
    {
     "name": "stdout",
     "output_type": "stream",
     "text": [
      "\n",
      "0: 832x832 14 solar_panels, 755.4ms\n",
      "Speed: 14.7ms preprocess, 755.4ms inference, 2.8ms postprocess per image at shape (1, 3, 832, 832)\n"
     ]
    },
    {
     "name": "stderr",
     "output_type": "stream",
     "text": [
      "Processing images:  84%|███████████████████████████████████████████████████▍         | 429/509 [04:32<01:02,  1.27it/s]"
     ]
    },
    {
     "name": "stdout",
     "output_type": "stream",
     "text": [
      "\n",
      "0: 832x832 6 solar_panels, 703.2ms\n",
      "Speed: 12.7ms preprocess, 703.2ms inference, 2.6ms postprocess per image at shape (1, 3, 832, 832)\n"
     ]
    },
    {
     "name": "stderr",
     "output_type": "stream",
     "text": [
      "Processing images:  84%|███████████████████████████████████████████████████▌         | 430/509 [04:33<01:01,  1.29it/s]"
     ]
    },
    {
     "name": "stdout",
     "output_type": "stream",
     "text": [
      "\n",
      "0: 832x832 11 solar_panels, 722.9ms\n",
      "Speed: 13.2ms preprocess, 722.9ms inference, 2.7ms postprocess per image at shape (1, 3, 832, 832)\n"
     ]
    },
    {
     "name": "stderr",
     "output_type": "stream",
     "text": [
      "Processing images:  85%|███████████████████████████████████████████████████▋         | 431/509 [04:34<01:00,  1.29it/s]"
     ]
    },
    {
     "name": "stdout",
     "output_type": "stream",
     "text": [
      "\n",
      "0: 832x832 12 solar_panels, 598.9ms\n",
      "Speed: 13.9ms preprocess, 598.9ms inference, 2.7ms postprocess per image at shape (1, 3, 832, 832)\n"
     ]
    },
    {
     "name": "stderr",
     "output_type": "stream",
     "text": [
      "Processing images:  85%|███████████████████████████████████████████████████▊         | 432/509 [04:34<00:56,  1.37it/s]"
     ]
    },
    {
     "name": "stdout",
     "output_type": "stream",
     "text": [
      "\n",
      "0: 832x832 2 solar_panels, 718.1ms\n",
      "Speed: 14.4ms preprocess, 718.1ms inference, 2.6ms postprocess per image at shape (1, 3, 832, 832)\n"
     ]
    },
    {
     "name": "stderr",
     "output_type": "stream",
     "text": [
      "Processing images:  85%|███████████████████████████████████████████████████▉         | 433/509 [04:35<00:56,  1.35it/s]"
     ]
    },
    {
     "name": "stdout",
     "output_type": "stream",
     "text": [
      "\n",
      "0: 832x832 11 solar_panels, 719.0ms\n",
      "Speed: 11.3ms preprocess, 719.0ms inference, 2.6ms postprocess per image at shape (1, 3, 832, 832)\n"
     ]
    },
    {
     "name": "stderr",
     "output_type": "stream",
     "text": [
      "Processing images:  85%|████████████████████████████████████████████████████         | 434/509 [04:36<00:55,  1.34it/s]"
     ]
    },
    {
     "name": "stdout",
     "output_type": "stream",
     "text": [
      "\n",
      "0: 832x832 13 solar_panels, 741.5ms\n",
      "Speed: 14.0ms preprocess, 741.5ms inference, 2.6ms postprocess per image at shape (1, 3, 832, 832)\n"
     ]
    },
    {
     "name": "stderr",
     "output_type": "stream",
     "text": [
      "Processing images:  85%|████████████████████████████████████████████████████▏        | 435/509 [04:37<00:56,  1.32it/s]"
     ]
    },
    {
     "name": "stdout",
     "output_type": "stream",
     "text": [
      "\n",
      "0: 832x832 4 solar_panels, 598.4ms\n",
      "Speed: 13.8ms preprocess, 598.4ms inference, 2.5ms postprocess per image at shape (1, 3, 832, 832)\n"
     ]
    },
    {
     "name": "stderr",
     "output_type": "stream",
     "text": [
      "Processing images:  86%|████████████████████████████████████████████████████▎        | 436/509 [04:37<00:52,  1.38it/s]"
     ]
    },
    {
     "name": "stdout",
     "output_type": "stream",
     "text": [
      "\n",
      "0: 832x832 1 solar_panel, 678.2ms\n",
      "Speed: 14.0ms preprocess, 678.2ms inference, 2.5ms postprocess per image at shape (1, 3, 832, 832)\n"
     ]
    },
    {
     "name": "stderr",
     "output_type": "stream",
     "text": [
      "Processing images:  86%|████████████████████████████████████████████████████▎        | 437/509 [04:38<00:52,  1.38it/s]"
     ]
    },
    {
     "name": "stdout",
     "output_type": "stream",
     "text": [
      "\n",
      "0: 832x832 40 solar_panels, 720.6ms\n",
      "Speed: 13.2ms preprocess, 720.6ms inference, 3.1ms postprocess per image at shape (1, 3, 832, 832)\n"
     ]
    },
    {
     "name": "stderr",
     "output_type": "stream",
     "text": [
      "Processing images:  86%|████████████████████████████████████████████████████▍        | 438/509 [04:39<00:52,  1.36it/s]"
     ]
    },
    {
     "name": "stdout",
     "output_type": "stream",
     "text": [
      "\n",
      "0: 832x832 4 solar_panels, 758.9ms\n",
      "Speed: 11.9ms preprocess, 758.9ms inference, 2.8ms postprocess per image at shape (1, 3, 832, 832)\n"
     ]
    },
    {
     "name": "stderr",
     "output_type": "stream",
     "text": [
      "Processing images:  86%|████████████████████████████████████████████████████▌        | 439/509 [04:40<00:52,  1.32it/s]"
     ]
    },
    {
     "name": "stdout",
     "output_type": "stream",
     "text": [
      "\n",
      "0: 832x832 39 solar_panels, 752.2ms\n",
      "Speed: 12.9ms preprocess, 752.2ms inference, 3.4ms postprocess per image at shape (1, 3, 832, 832)\n"
     ]
    },
    {
     "name": "stderr",
     "output_type": "stream",
     "text": [
      "Processing images:  86%|████████████████████████████████████████████████████▋        | 440/509 [04:40<00:52,  1.30it/s]"
     ]
    },
    {
     "name": "stdout",
     "output_type": "stream",
     "text": [
      "\n",
      "0: 832x832 41 solar_panels, 719.1ms\n",
      "Speed: 13.9ms preprocess, 719.1ms inference, 3.2ms postprocess per image at shape (1, 3, 832, 832)\n"
     ]
    },
    {
     "name": "stderr",
     "output_type": "stream",
     "text": [
      "Processing images:  87%|████████████████████████████████████████████████████▊        | 441/509 [04:41<00:52,  1.30it/s]"
     ]
    },
    {
     "name": "stdout",
     "output_type": "stream",
     "text": [
      "\n",
      "0: 832x832 4 solar_panels, 786.9ms\n",
      "Speed: 13.5ms preprocess, 786.9ms inference, 2.5ms postprocess per image at shape (1, 3, 832, 832)\n"
     ]
    },
    {
     "name": "stderr",
     "output_type": "stream",
     "text": [
      "Processing images:  87%|████████████████████████████████████████████████████▉        | 442/509 [04:42<00:52,  1.27it/s]"
     ]
    },
    {
     "name": "stdout",
     "output_type": "stream",
     "text": [
      "\n",
      "0: 832x832 39 solar_panels, 626.7ms\n",
      "Speed: 13.5ms preprocess, 626.7ms inference, 3.0ms postprocess per image at shape (1, 3, 832, 832)\n"
     ]
    },
    {
     "name": "stderr",
     "output_type": "stream",
     "text": [
      "Processing images:  87%|█████████████████████████████████████████████████████        | 443/509 [04:43<00:49,  1.33it/s]"
     ]
    },
    {
     "name": "stdout",
     "output_type": "stream",
     "text": [
      "\n",
      "0: 832x832 36 solar_panels, 741.5ms\n",
      "Speed: 13.6ms preprocess, 741.5ms inference, 3.1ms postprocess per image at shape (1, 3, 832, 832)\n"
     ]
    },
    {
     "name": "stderr",
     "output_type": "stream",
     "text": [
      "Processing images:  87%|█████████████████████████████████████████████████████▏       | 444/509 [04:43<00:49,  1.32it/s]"
     ]
    },
    {
     "name": "stdout",
     "output_type": "stream",
     "text": [
      "\n",
      "0: 832x832 1 solar_panel, 680.2ms\n",
      "Speed: 12.1ms preprocess, 680.2ms inference, 2.5ms postprocess per image at shape (1, 3, 832, 832)\n"
     ]
    },
    {
     "name": "stderr",
     "output_type": "stream",
     "text": [
      "Processing images:  87%|█████████████████████████████████████████████████████▎       | 445/509 [04:44<00:47,  1.34it/s]"
     ]
    },
    {
     "name": "stdout",
     "output_type": "stream",
     "text": [
      "\n",
      "0: 832x832 34 solar_panels, 641.0ms\n",
      "Speed: 13.1ms preprocess, 641.0ms inference, 3.5ms postprocess per image at shape (1, 3, 832, 832)\n"
     ]
    },
    {
     "name": "stderr",
     "output_type": "stream",
     "text": [
      "Processing images:  88%|█████████████████████████████████████████████████████▍       | 446/509 [04:45<00:45,  1.38it/s]"
     ]
    },
    {
     "name": "stdout",
     "output_type": "stream",
     "text": [
      "\n",
      "0: 832x832 29 solar_panels, 665.3ms\n",
      "Speed: 13.2ms preprocess, 665.3ms inference, 2.9ms postprocess per image at shape (1, 3, 832, 832)\n"
     ]
    },
    {
     "name": "stderr",
     "output_type": "stream",
     "text": [
      "Processing images:  88%|█████████████████████████████████████████████████████▌       | 447/509 [04:46<00:44,  1.38it/s]"
     ]
    },
    {
     "name": "stdout",
     "output_type": "stream",
     "text": [
      "\n",
      "0: 832x832 8 solar_panels, 643.4ms\n",
      "Speed: 13.2ms preprocess, 643.4ms inference, 3.0ms postprocess per image at shape (1, 3, 832, 832)\n"
     ]
    },
    {
     "name": "stderr",
     "output_type": "stream",
     "text": [
      "Processing images:  88%|█████████████████████████████████████████████████████▋       | 448/509 [04:46<00:43,  1.41it/s]"
     ]
    },
    {
     "name": "stdout",
     "output_type": "stream",
     "text": [
      "\n",
      "0: 832x832 1 solar_panel, 410.7ms\n",
      "Speed: 10.7ms preprocess, 410.7ms inference, 2.5ms postprocess per image at shape (1, 3, 832, 832)\n"
     ]
    },
    {
     "name": "stderr",
     "output_type": "stream",
     "text": [
      "Processing images:  88%|█████████████████████████████████████████████████████▊       | 449/509 [04:47<00:37,  1.59it/s]"
     ]
    },
    {
     "name": "stdout",
     "output_type": "stream",
     "text": [
      "\n",
      "0: 832x832 4 solar_panels, 677.7ms\n",
      "Speed: 12.1ms preprocess, 677.7ms inference, 2.6ms postprocess per image at shape (1, 3, 832, 832)\n"
     ]
    },
    {
     "name": "stderr",
     "output_type": "stream",
     "text": [
      "Processing images:  88%|█████████████████████████████████████████████████████▉       | 450/509 [04:47<00:38,  1.52it/s]"
     ]
    },
    {
     "name": "stdout",
     "output_type": "stream",
     "text": [
      "\n",
      "0: 832x832 15 solar_panels, 531.9ms\n",
      "Speed: 13.9ms preprocess, 531.9ms inference, 2.7ms postprocess per image at shape (1, 3, 832, 832)\n"
     ]
    },
    {
     "name": "stderr",
     "output_type": "stream",
     "text": [
      "Processing images:  89%|██████████████████████████████████████████████████████       | 451/509 [04:48<00:36,  1.58it/s]"
     ]
    },
    {
     "name": "stdout",
     "output_type": "stream",
     "text": [
      "\n",
      "0: 832x832 8 solar_panels, 701.6ms\n",
      "Speed: 11.9ms preprocess, 701.6ms inference, 2.6ms postprocess per image at shape (1, 3, 832, 832)\n"
     ]
    },
    {
     "name": "stderr",
     "output_type": "stream",
     "text": [
      "Processing images:  89%|██████████████████████████████████████████████████████▏      | 452/509 [04:49<00:38,  1.50it/s]"
     ]
    },
    {
     "name": "stdout",
     "output_type": "stream",
     "text": [
      "\n",
      "0: 832x832 28 solar_panels, 736.5ms\n",
      "Speed: 13.0ms preprocess, 736.5ms inference, 2.6ms postprocess per image at shape (1, 3, 832, 832)\n"
     ]
    },
    {
     "name": "stderr",
     "output_type": "stream",
     "text": [
      "Processing images:  89%|██████████████████████████████████████████████████████▎      | 453/509 [04:49<00:39,  1.43it/s]"
     ]
    },
    {
     "name": "stdout",
     "output_type": "stream",
     "text": [
      "\n",
      "0: 832x832 19 solar_panels, 752.7ms\n",
      "Speed: 13.8ms preprocess, 752.7ms inference, 3.0ms postprocess per image at shape (1, 3, 832, 832)\n"
     ]
    },
    {
     "name": "stderr",
     "output_type": "stream",
     "text": [
      "Processing images:  89%|██████████████████████████████████████████████████████▍      | 454/509 [04:50<00:40,  1.37it/s]"
     ]
    },
    {
     "name": "stdout",
     "output_type": "stream",
     "text": [
      "\n",
      "0: 832x832 3 solar_panels, 810.5ms\n",
      "Speed: 13.8ms preprocess, 810.5ms inference, 2.6ms postprocess per image at shape (1, 3, 832, 832)\n"
     ]
    },
    {
     "name": "stderr",
     "output_type": "stream",
     "text": [
      "Processing images:  89%|██████████████████████████████████████████████████████▌      | 455/509 [04:51<00:41,  1.30it/s]"
     ]
    },
    {
     "name": "stdout",
     "output_type": "stream",
     "text": [
      "\n",
      "0: 832x832 5 solar_panels, 739.9ms\n",
      "Speed: 12.2ms preprocess, 739.9ms inference, 2.5ms postprocess per image at shape (1, 3, 832, 832)\n"
     ]
    },
    {
     "name": "stderr",
     "output_type": "stream",
     "text": [
      "Processing images:  90%|██████████████████████████████████████████████████████▋      | 456/509 [04:52<00:40,  1.29it/s]"
     ]
    },
    {
     "name": "stdout",
     "output_type": "stream",
     "text": [
      "\n",
      "0: 832x832 2 solar_panels, 739.2ms\n",
      "Speed: 12.1ms preprocess, 739.2ms inference, 2.5ms postprocess per image at shape (1, 3, 832, 832)\n"
     ]
    },
    {
     "name": "stderr",
     "output_type": "stream",
     "text": [
      "Processing images:  90%|██████████████████████████████████████████████████████▊      | 457/509 [04:53<00:40,  1.29it/s]"
     ]
    },
    {
     "name": "stdout",
     "output_type": "stream",
     "text": [
      "\n",
      "0: 832x832 13 solar_panels, 715.2ms\n",
      "Speed: 12.1ms preprocess, 715.2ms inference, 2.6ms postprocess per image at shape (1, 3, 832, 832)\n"
     ]
    },
    {
     "name": "stderr",
     "output_type": "stream",
     "text": [
      "Processing images:  90%|██████████████████████████████████████████████████████▉      | 458/509 [04:53<00:39,  1.30it/s]"
     ]
    },
    {
     "name": "stdout",
     "output_type": "stream",
     "text": [
      "\n",
      "0: 832x832 37 solar_panels, 782.4ms\n",
      "Speed: 13.8ms preprocess, 782.4ms inference, 2.9ms postprocess per image at shape (1, 3, 832, 832)\n"
     ]
    },
    {
     "name": "stderr",
     "output_type": "stream",
     "text": [
      "Processing images:  90%|███████████████████████████████████████████████████████      | 459/509 [04:54<00:39,  1.27it/s]"
     ]
    },
    {
     "name": "stdout",
     "output_type": "stream",
     "text": [
      "\n",
      "0: 832x832 49 solar_panels, 736.0ms\n",
      "Speed: 12.6ms preprocess, 736.0ms inference, 3.2ms postprocess per image at shape (1, 3, 832, 832)\n"
     ]
    },
    {
     "name": "stderr",
     "output_type": "stream",
     "text": [
      "Processing images:  90%|███████████████████████████████████████████████████████▏     | 460/509 [04:55<00:38,  1.27it/s]"
     ]
    },
    {
     "name": "stdout",
     "output_type": "stream",
     "text": [
      "\n",
      "0: 832x832 51 solar_panels, 540.2ms\n",
      "Speed: 12.6ms preprocess, 540.2ms inference, 3.3ms postprocess per image at shape (1, 3, 832, 832)\n"
     ]
    },
    {
     "name": "stderr",
     "output_type": "stream",
     "text": [
      "Processing images:  91%|███████████████████████████████████████████████████████▏     | 461/509 [04:56<00:34,  1.38it/s]"
     ]
    },
    {
     "name": "stdout",
     "output_type": "stream",
     "text": [
      "\n",
      "0: 832x832 48 solar_panels, 313.0ms\n",
      "Speed: 11.2ms preprocess, 313.0ms inference, 2.9ms postprocess per image at shape (1, 3, 832, 832)\n"
     ]
    },
    {
     "name": "stderr",
     "output_type": "stream",
     "text": [
      "Processing images:  91%|███████████████████████████████████████████████████████▎     | 462/509 [04:56<00:28,  1.64it/s]"
     ]
    },
    {
     "name": "stdout",
     "output_type": "stream",
     "text": [
      "\n",
      "0: 832x832 50 solar_panels, 378.8ms\n",
      "Speed: 10.9ms preprocess, 378.8ms inference, 3.5ms postprocess per image at shape (1, 3, 832, 832)\n"
     ]
    },
    {
     "name": "stderr",
     "output_type": "stream",
     "text": [
      "Processing images:  91%|███████████████████████████████████████████████████████▍     | 463/509 [04:56<00:25,  1.80it/s]"
     ]
    },
    {
     "name": "stdout",
     "output_type": "stream",
     "text": [
      "\n",
      "0: 832x832 40 solar_panels, 332.8ms\n",
      "Speed: 11.8ms preprocess, 332.8ms inference, 3.1ms postprocess per image at shape (1, 3, 832, 832)\n"
     ]
    },
    {
     "name": "stderr",
     "output_type": "stream",
     "text": [
      "Processing images:  91%|███████████████████████████████████████████████████████▌     | 464/509 [04:57<00:22,  1.99it/s]"
     ]
    },
    {
     "name": "stdout",
     "output_type": "stream",
     "text": [
      "\n",
      "0: 832x832 49 solar_panels, 366.1ms\n",
      "Speed: 11.4ms preprocess, 366.1ms inference, 3.1ms postprocess per image at shape (1, 3, 832, 832)\n"
     ]
    },
    {
     "name": "stderr",
     "output_type": "stream",
     "text": [
      "Processing images:  91%|███████████████████████████████████████████████████████▋     | 465/509 [04:57<00:20,  2.11it/s]"
     ]
    },
    {
     "name": "stdout",
     "output_type": "stream",
     "text": [
      "\n",
      "0: 832x832 41 solar_panels, 328.9ms\n",
      "Speed: 11.5ms preprocess, 328.9ms inference, 3.0ms postprocess per image at shape (1, 3, 832, 832)\n"
     ]
    },
    {
     "name": "stderr",
     "output_type": "stream",
     "text": [
      "Processing images:  92%|███████████████████████████████████████████████████████▊     | 466/509 [04:58<00:18,  2.26it/s]"
     ]
    },
    {
     "name": "stdout",
     "output_type": "stream",
     "text": [
      "\n",
      "0: 832x832 49 solar_panels, 392.7ms\n",
      "Speed: 8.2ms preprocess, 392.7ms inference, 3.5ms postprocess per image at shape (1, 3, 832, 832)\n"
     ]
    },
    {
     "name": "stderr",
     "output_type": "stream",
     "text": [
      "Processing images:  92%|███████████████████████████████████████████████████████▉     | 467/509 [04:58<00:18,  2.29it/s]"
     ]
    },
    {
     "name": "stdout",
     "output_type": "stream",
     "text": [
      "\n",
      "0: 832x832 48 solar_panels, 543.4ms\n",
      "Speed: 11.4ms preprocess, 543.4ms inference, 3.1ms postprocess per image at shape (1, 3, 832, 832)\n"
     ]
    },
    {
     "name": "stderr",
     "output_type": "stream",
     "text": [
      "Processing images:  92%|████████████████████████████████████████████████████████     | 468/509 [04:59<00:19,  2.07it/s]"
     ]
    },
    {
     "name": "stdout",
     "output_type": "stream",
     "text": [
      "\n",
      "0: 832x832 40 solar_panels, 664.0ms\n",
      "Speed: 10.7ms preprocess, 664.0ms inference, 3.0ms postprocess per image at shape (1, 3, 832, 832)\n"
     ]
    },
    {
     "name": "stderr",
     "output_type": "stream",
     "text": [
      "Processing images:  92%|████████████████████████████████████████████████████████▏    | 469/509 [04:59<00:21,  1.82it/s]"
     ]
    },
    {
     "name": "stdout",
     "output_type": "stream",
     "text": [
      "\n",
      "0: 832x832 50 solar_panels, 402.6ms\n",
      "Speed: 14.1ms preprocess, 402.6ms inference, 3.2ms postprocess per image at shape (1, 3, 832, 832)\n"
     ]
    },
    {
     "name": "stderr",
     "output_type": "stream",
     "text": [
      "Processing images:  92%|████████████████████████████████████████████████████████▎    | 470/509 [05:00<00:20,  1.93it/s]"
     ]
    },
    {
     "name": "stdout",
     "output_type": "stream",
     "text": [
      "\n",
      "0: 832x832 22 solar_panels, 382.1ms\n",
      "Speed: 10.7ms preprocess, 382.1ms inference, 3.1ms postprocess per image at shape (1, 3, 832, 832)\n"
     ]
    },
    {
     "name": "stderr",
     "output_type": "stream",
     "text": [
      "Processing images:  93%|████████████████████████████████████████████████████████▍    | 471/509 [05:00<00:18,  2.06it/s]"
     ]
    },
    {
     "name": "stdout",
     "output_type": "stream",
     "text": [
      "\n",
      "0: 832x832 45 solar_panels, 357.0ms\n",
      "Speed: 10.0ms preprocess, 357.0ms inference, 3.1ms postprocess per image at shape (1, 3, 832, 832)\n"
     ]
    },
    {
     "name": "stderr",
     "output_type": "stream",
     "text": [
      "Processing images:  93%|████████████████████████████████████████████████████████▌    | 472/509 [05:01<00:16,  2.18it/s]"
     ]
    },
    {
     "name": "stdout",
     "output_type": "stream",
     "text": [
      "\n",
      "0: 832x832 10 solar_panels, 650.7ms\n",
      "Speed: 13.2ms preprocess, 650.7ms inference, 2.7ms postprocess per image at shape (1, 3, 832, 832)\n"
     ]
    },
    {
     "name": "stderr",
     "output_type": "stream",
     "text": [
      "Processing images:  93%|████████████████████████████████████████████████████████▋    | 473/509 [05:01<00:19,  1.88it/s]"
     ]
    },
    {
     "name": "stdout",
     "output_type": "stream",
     "text": [
      "\n",
      "0: 832x832 10 solar_panels, 676.2ms\n",
      "Speed: 11.8ms preprocess, 676.2ms inference, 2.6ms postprocess per image at shape (1, 3, 832, 832)\n"
     ]
    },
    {
     "name": "stderr",
     "output_type": "stream",
     "text": [
      "Processing images:  93%|████████████████████████████████████████████████████████▊    | 474/509 [05:02<00:20,  1.70it/s]"
     ]
    },
    {
     "name": "stdout",
     "output_type": "stream",
     "text": [
      "\n",
      "0: 832x832 12 solar_panels, 571.7ms\n",
      "Speed: 14.0ms preprocess, 571.7ms inference, 2.8ms postprocess per image at shape (1, 3, 832, 832)\n"
     ]
    },
    {
     "name": "stderr",
     "output_type": "stream",
     "text": [
      "Processing images:  93%|████████████████████████████████████████████████████████▉    | 475/509 [05:03<00:20,  1.68it/s]"
     ]
    },
    {
     "name": "stdout",
     "output_type": "stream",
     "text": [
      "\n",
      "0: 832x832 6 solar_panels, 705.1ms\n",
      "Speed: 11.6ms preprocess, 705.1ms inference, 2.6ms postprocess per image at shape (1, 3, 832, 832)\n"
     ]
    },
    {
     "name": "stderr",
     "output_type": "stream",
     "text": [
      "Processing images:  94%|█████████████████████████████████████████████████████████    | 476/509 [05:03<00:21,  1.56it/s]"
     ]
    },
    {
     "name": "stdout",
     "output_type": "stream",
     "text": [
      "\n",
      "0: 832x832 8 solar_panels, 659.8ms\n",
      "Speed: 13.2ms preprocess, 659.8ms inference, 2.5ms postprocess per image at shape (1, 3, 832, 832)\n"
     ]
    },
    {
     "name": "stderr",
     "output_type": "stream",
     "text": [
      "Processing images:  94%|█████████████████████████████████████████████████████████▏   | 477/509 [05:04<00:21,  1.52it/s]"
     ]
    },
    {
     "name": "stdout",
     "output_type": "stream",
     "text": [
      "\n",
      "0: 832x832 7 solar_panels, 613.2ms\n",
      "Speed: 14.3ms preprocess, 613.2ms inference, 2.6ms postprocess per image at shape (1, 3, 832, 832)\n"
     ]
    },
    {
     "name": "stderr",
     "output_type": "stream",
     "text": [
      "Processing images:  94%|█████████████████████████████████████████████████████████▎   | 478/509 [05:05<00:20,  1.52it/s]"
     ]
    },
    {
     "name": "stdout",
     "output_type": "stream",
     "text": [
      "\n",
      "0: 832x832 3 solar_panels, 732.6ms\n",
      "Speed: 12.5ms preprocess, 732.6ms inference, 2.6ms postprocess per image at shape (1, 3, 832, 832)\n"
     ]
    },
    {
     "name": "stderr",
     "output_type": "stream",
     "text": [
      "Processing images:  94%|█████████████████████████████████████████████████████████▍   | 479/509 [05:05<00:20,  1.45it/s]"
     ]
    },
    {
     "name": "stdout",
     "output_type": "stream",
     "text": [
      "\n",
      "0: 832x832 4 solar_panels, 704.6ms\n",
      "Speed: 13.2ms preprocess, 704.6ms inference, 2.5ms postprocess per image at shape (1, 3, 832, 832)\n"
     ]
    },
    {
     "name": "stderr",
     "output_type": "stream",
     "text": [
      "Processing images:  94%|█████████████████████████████████████████████████████████▌   | 480/509 [05:06<00:20,  1.41it/s]"
     ]
    },
    {
     "name": "stdout",
     "output_type": "stream",
     "text": [
      "\n",
      "0: 832x832 10 solar_panels, 574.6ms\n",
      "Speed: 13.9ms preprocess, 574.6ms inference, 2.6ms postprocess per image at shape (1, 3, 832, 832)\n"
     ]
    },
    {
     "name": "stderr",
     "output_type": "stream",
     "text": [
      "Processing images:  94%|█████████████████████████████████████████████████████████▋   | 481/509 [05:07<00:19,  1.47it/s]"
     ]
    },
    {
     "name": "stdout",
     "output_type": "stream",
     "text": [
      "\n",
      "0: 832x832 6 solar_panels, 689.5ms\n",
      "Speed: 13.2ms preprocess, 689.5ms inference, 2.6ms postprocess per image at shape (1, 3, 832, 832)\n"
     ]
    },
    {
     "name": "stderr",
     "output_type": "stream",
     "text": [
      "Processing images:  95%|█████████████████████████████████████████████████████████▊   | 482/509 [05:08<00:18,  1.44it/s]"
     ]
    },
    {
     "name": "stdout",
     "output_type": "stream",
     "text": [
      "\n",
      "0: 832x832 10 solar_panels, 686.4ms\n",
      "Speed: 13.4ms preprocess, 686.4ms inference, 2.6ms postprocess per image at shape (1, 3, 832, 832)\n"
     ]
    },
    {
     "name": "stderr",
     "output_type": "stream",
     "text": [
      "Processing images:  95%|█████████████████████████████████████████████████████████▉   | 483/509 [05:08<00:18,  1.42it/s]"
     ]
    },
    {
     "name": "stdout",
     "output_type": "stream",
     "text": [
      "\n",
      "0: 832x832 8 solar_panels, 725.0ms\n",
      "Speed: 10.5ms preprocess, 725.0ms inference, 2.5ms postprocess per image at shape (1, 3, 832, 832)\n"
     ]
    },
    {
     "name": "stderr",
     "output_type": "stream",
     "text": [
      "Processing images:  95%|██████████████████████████████████████████████████████████   | 484/509 [05:09<00:18,  1.38it/s]"
     ]
    },
    {
     "name": "stdout",
     "output_type": "stream",
     "text": [
      "\n",
      "0: 832x832 3 solar_panels, 618.6ms\n",
      "Speed: 12.9ms preprocess, 618.6ms inference, 2.6ms postprocess per image at shape (1, 3, 832, 832)\n"
     ]
    },
    {
     "name": "stderr",
     "output_type": "stream",
     "text": [
      "Processing images:  95%|██████████████████████████████████████████████████████████   | 485/509 [05:10<00:16,  1.42it/s]"
     ]
    },
    {
     "name": "stdout",
     "output_type": "stream",
     "text": [
      "\n",
      "0: 832x832 7 solar_panels, 615.1ms\n",
      "Speed: 13.4ms preprocess, 615.1ms inference, 2.5ms postprocess per image at shape (1, 3, 832, 832)\n"
     ]
    },
    {
     "name": "stderr",
     "output_type": "stream",
     "text": [
      "Processing images:  95%|██████████████████████████████████████████████████████████▏  | 486/509 [05:10<00:15,  1.45it/s]"
     ]
    },
    {
     "name": "stdout",
     "output_type": "stream",
     "text": [
      "\n",
      "0: 832x832 7 solar_panels, 698.0ms\n",
      "Speed: 14.4ms preprocess, 698.0ms inference, 2.7ms postprocess per image at shape (1, 3, 832, 832)\n"
     ]
    },
    {
     "name": "stderr",
     "output_type": "stream",
     "text": [
      "Processing images:  96%|██████████████████████████████████████████████████████████▎  | 487/509 [05:11<00:15,  1.42it/s]"
     ]
    },
    {
     "name": "stdout",
     "output_type": "stream",
     "text": [
      "\n",
      "0: 832x832 6 solar_panels, 696.5ms\n",
      "Speed: 14.3ms preprocess, 696.5ms inference, 2.5ms postprocess per image at shape (1, 3, 832, 832)\n"
     ]
    },
    {
     "name": "stderr",
     "output_type": "stream",
     "text": [
      "Processing images:  96%|██████████████████████████████████████████████████████████▍  | 488/509 [05:12<00:15,  1.40it/s]"
     ]
    },
    {
     "name": "stdout",
     "output_type": "stream",
     "text": [
      "\n",
      "0: 832x832 13 solar_panels, 614.9ms\n",
      "Speed: 10.5ms preprocess, 614.9ms inference, 2.6ms postprocess per image at shape (1, 3, 832, 832)\n"
     ]
    },
    {
     "name": "stderr",
     "output_type": "stream",
     "text": [
      "Processing images:  96%|██████████████████████████████████████████████████████████▌  | 489/509 [05:12<00:13,  1.43it/s]"
     ]
    },
    {
     "name": "stdout",
     "output_type": "stream",
     "text": [
      "\n",
      "0: 832x832 4 solar_panels, 713.5ms\n",
      "Speed: 11.8ms preprocess, 713.5ms inference, 2.6ms postprocess per image at shape (1, 3, 832, 832)\n"
     ]
    },
    {
     "name": "stderr",
     "output_type": "stream",
     "text": [
      "Processing images:  96%|██████████████████████████████████████████████████████████▋  | 490/509 [05:13<00:13,  1.40it/s]"
     ]
    },
    {
     "name": "stdout",
     "output_type": "stream",
     "text": [
      "\n",
      "0: 832x832 4 solar_panels, 741.3ms\n",
      "Speed: 13.7ms preprocess, 741.3ms inference, 2.5ms postprocess per image at shape (1, 3, 832, 832)\n"
     ]
    },
    {
     "name": "stderr",
     "output_type": "stream",
     "text": [
      "Processing images:  96%|██████████████████████████████████████████████████████████▊  | 491/509 [05:14<00:13,  1.36it/s]"
     ]
    },
    {
     "name": "stdout",
     "output_type": "stream",
     "text": [
      "\n",
      "0: 832x832 8 solar_panels, 656.8ms\n",
      "Speed: 13.4ms preprocess, 656.8ms inference, 2.7ms postprocess per image at shape (1, 3, 832, 832)\n"
     ]
    },
    {
     "name": "stderr",
     "output_type": "stream",
     "text": [
      "Processing images:  97%|██████████████████████████████████████████████████████████▉  | 492/509 [05:15<00:12,  1.39it/s]"
     ]
    },
    {
     "name": "stdout",
     "output_type": "stream",
     "text": [
      "\n",
      "0: 832x832 9 solar_panels, 701.1ms\n",
      "Speed: 14.4ms preprocess, 701.1ms inference, 2.6ms postprocess per image at shape (1, 3, 832, 832)\n"
     ]
    },
    {
     "name": "stderr",
     "output_type": "stream",
     "text": [
      "Processing images:  97%|███████████████████████████████████████████████████████████  | 493/509 [05:15<00:11,  1.37it/s]"
     ]
    },
    {
     "name": "stdout",
     "output_type": "stream",
     "text": [
      "\n",
      "0: 832x832 3 solar_panels, 691.3ms\n",
      "Speed: 13.6ms preprocess, 691.3ms inference, 2.6ms postprocess per image at shape (1, 3, 832, 832)\n"
     ]
    },
    {
     "name": "stderr",
     "output_type": "stream",
     "text": [
      "Processing images:  97%|███████████████████████████████████████████████████████████▏ | 494/509 [05:16<00:10,  1.37it/s]"
     ]
    },
    {
     "name": "stdout",
     "output_type": "stream",
     "text": [
      "\n",
      "0: 832x832 8 solar_panels, 603.2ms\n",
      "Speed: 14.0ms preprocess, 603.2ms inference, 2.7ms postprocess per image at shape (1, 3, 832, 832)\n"
     ]
    },
    {
     "name": "stderr",
     "output_type": "stream",
     "text": [
      "Processing images:  97%|███████████████████████████████████████████████████████████▎ | 495/509 [05:17<00:09,  1.42it/s]"
     ]
    },
    {
     "name": "stdout",
     "output_type": "stream",
     "text": [
      "\n",
      "0: 832x832 10 solar_panels, 719.0ms\n",
      "Speed: 13.1ms preprocess, 719.0ms inference, 2.6ms postprocess per image at shape (1, 3, 832, 832)\n"
     ]
    },
    {
     "name": "stderr",
     "output_type": "stream",
     "text": [
      "Processing images:  97%|███████████████████████████████████████████████████████████▍ | 496/509 [05:18<00:09,  1.38it/s]"
     ]
    },
    {
     "name": "stdout",
     "output_type": "stream",
     "text": [
      "\n",
      "0: 832x832 7 solar_panels, 670.5ms\n",
      "Speed: 14.1ms preprocess, 670.5ms inference, 2.6ms postprocess per image at shape (1, 3, 832, 832)\n"
     ]
    },
    {
     "name": "stderr",
     "output_type": "stream",
     "text": [
      "Processing images:  98%|███████████████████████████████████████████████████████████▌ | 497/509 [05:18<00:08,  1.39it/s]"
     ]
    },
    {
     "name": "stdout",
     "output_type": "stream",
     "text": [
      "\n",
      "0: 832x832 13 solar_panels, 595.4ms\n",
      "Speed: 13.7ms preprocess, 595.4ms inference, 3.3ms postprocess per image at shape (1, 3, 832, 832)\n"
     ]
    },
    {
     "name": "stderr",
     "output_type": "stream",
     "text": [
      "Processing images:  98%|███████████████████████████████████████████████████████████▋ | 498/509 [05:19<00:07,  1.44it/s]"
     ]
    },
    {
     "name": "stdout",
     "output_type": "stream",
     "text": [
      "\n",
      "0: 832x832 1 solar_panel, 697.1ms\n",
      "Speed: 13.5ms preprocess, 697.1ms inference, 2.5ms postprocess per image at shape (1, 3, 832, 832)\n"
     ]
    },
    {
     "name": "stderr",
     "output_type": "stream",
     "text": [
      "Processing images:  98%|███████████████████████████████████████████████████████████▊ | 499/509 [05:20<00:07,  1.41it/s]"
     ]
    },
    {
     "name": "stdout",
     "output_type": "stream",
     "text": [
      "\n",
      "0: 832x832 11 solar_panels, 531.3ms\n",
      "Speed: 14.6ms preprocess, 531.3ms inference, 2.6ms postprocess per image at shape (1, 3, 832, 832)\n"
     ]
    },
    {
     "name": "stderr",
     "output_type": "stream",
     "text": [
      "Processing images:  98%|███████████████████████████████████████████████████████████▉ | 500/509 [05:20<00:06,  1.50it/s]"
     ]
    },
    {
     "name": "stdout",
     "output_type": "stream",
     "text": [
      "\n",
      "0: 832x832 10 solar_panels, 554.5ms\n",
      "Speed: 12.5ms preprocess, 554.5ms inference, 1.7ms postprocess per image at shape (1, 3, 832, 832)\n"
     ]
    },
    {
     "name": "stderr",
     "output_type": "stream",
     "text": [
      "Processing images:  98%|████████████████████████████████████████████████████████████ | 501/509 [05:21<00:05,  1.56it/s]"
     ]
    },
    {
     "name": "stdout",
     "output_type": "stream",
     "text": [
      "\n",
      "0: 832x832 2 solar_panels, 697.5ms\n",
      "Speed: 11.3ms preprocess, 697.5ms inference, 2.6ms postprocess per image at shape (1, 3, 832, 832)\n"
     ]
    },
    {
     "name": "stderr",
     "output_type": "stream",
     "text": [
      "Processing images:  99%|████████████████████████████████████████████████████████████▏| 502/509 [05:22<00:04,  1.48it/s]"
     ]
    },
    {
     "name": "stdout",
     "output_type": "stream",
     "text": [
      "\n",
      "0: 832x832 4 solar_panels, 693.1ms\n",
      "Speed: 12.5ms preprocess, 693.1ms inference, 2.6ms postprocess per image at shape (1, 3, 832, 832)\n"
     ]
    },
    {
     "name": "stderr",
     "output_type": "stream",
     "text": [
      "Processing images:  99%|████████████████████████████████████████████████████████████▎| 503/509 [05:22<00:04,  1.44it/s]"
     ]
    },
    {
     "name": "stdout",
     "output_type": "stream",
     "text": [
      "\n",
      "0: 832x832 9 solar_panels, 620.7ms\n",
      "Speed: 11.7ms preprocess, 620.7ms inference, 2.6ms postprocess per image at shape (1, 3, 832, 832)\n"
     ]
    },
    {
     "name": "stderr",
     "output_type": "stream",
     "text": [
      "Processing images:  99%|████████████████████████████████████████████████████████████▍| 504/509 [05:23<00:03,  1.46it/s]"
     ]
    },
    {
     "name": "stdout",
     "output_type": "stream",
     "text": [
      "\n",
      "0: 832x832 10 solar_panels, 697.5ms\n",
      "Speed: 14.0ms preprocess, 697.5ms inference, 2.7ms postprocess per image at shape (1, 3, 832, 832)\n"
     ]
    },
    {
     "name": "stderr",
     "output_type": "stream",
     "text": [
      "Processing images:  99%|████████████████████████████████████████████████████████████▌| 505/509 [05:24<00:02,  1.43it/s]"
     ]
    },
    {
     "name": "stdout",
     "output_type": "stream",
     "text": [
      "\n",
      "0: 832x832 11 solar_panels, 666.2ms\n",
      "Speed: 13.9ms preprocess, 666.2ms inference, 2.7ms postprocess per image at shape (1, 3, 832, 832)\n"
     ]
    },
    {
     "name": "stderr",
     "output_type": "stream",
     "text": [
      "Processing images:  99%|████████████████████████████████████████████████████████████▋| 506/509 [05:24<00:02,  1.42it/s]"
     ]
    },
    {
     "name": "stdout",
     "output_type": "stream",
     "text": [
      "\n",
      "0: 832x832 4 solar_panels, 734.2ms\n",
      "Speed: 15.0ms preprocess, 734.2ms inference, 2.7ms postprocess per image at shape (1, 3, 832, 832)\n"
     ]
    },
    {
     "name": "stderr",
     "output_type": "stream",
     "text": [
      "Processing images: 100%|████████████████████████████████████████████████████████████▊| 507/509 [05:25<00:01,  1.38it/s]"
     ]
    },
    {
     "name": "stdout",
     "output_type": "stream",
     "text": [
      "\n",
      "0: 832x832 14 solar_panels, 548.8ms\n",
      "Speed: 13.7ms preprocess, 548.8ms inference, 2.7ms postprocess per image at shape (1, 3, 832, 832)\n"
     ]
    },
    {
     "name": "stderr",
     "output_type": "stream",
     "text": [
      "Processing images: 100%|████████████████████████████████████████████████████████████▉| 508/509 [05:26<00:00,  1.46it/s]"
     ]
    },
    {
     "name": "stdout",
     "output_type": "stream",
     "text": [
      "\n",
      "0: 832x832 1 solar_panel, 620.4ms\n",
      "Speed: 10.3ms preprocess, 620.4ms inference, 3.1ms postprocess per image at shape (1, 3, 832, 832)\n"
     ]
    },
    {
     "name": "stderr",
     "output_type": "stream",
     "text": [
      "Processing images: 100%|█████████████████████████████████████████████████████████████| 509/509 [05:26<00:00,  1.56it/s]\n"
     ]
    }
   ],
   "source": [
    "image_paths = [os.path.join(test_img_dir, img) for img in os.listdir(test_img_dir) if img.endswith(\".tif\")]\n",
    "\n",
    "gt_detections, pred_detections = [], []\n",
    "\n",
    "for img_path in tqdm(image_paths, desc=\"Processing images\"):\n",
    "    img = cv2.imread(img_path)\n",
    "    img = cv2.cvtColor(img, cv2.COLOR_BGR2RGB)\n",
    "    img_height, img_width, _ = img.shape  # Get image size\n",
    "\n",
    "    # Get ground truth labels\n",
    "    gt_boxes = read_yolo_labels(img_path, test_lbl_dir)\n",
    "    \n",
    "    if len(gt_boxes) > 0:\n",
    "        # Convert YOLO bbox (absolute pixels) to normalized (0-1 range)\n",
    "        gt_bboxes = np.array([\n",
    "            [\n",
    "                box[1],  # Already normalized x1\n",
    "                box[2],  # Already normalized y1\n",
    "                box[3],  # Already normalized x2\n",
    "                box[4]   # Already normalized y2\n",
    "            ] for box in gt_boxes\n",
    "            ])\n",
    "        \n",
    "        gt_classes = np.array([box[0] for box in gt_boxes])\n",
    "        \n",
    "        gt_detections.append(sv.Detections(xyxy=gt_bboxes, class_id=gt_classes))\n",
    "    \n",
    "    # Get YOLO predictions\n",
    "    results = model(img)\n",
    "    pred_boxes = results[0].boxes.xyxy.cpu().numpy()\n",
    "    pred_scores = results[0].boxes.conf.cpu().numpy()\n",
    "    pred_classes = results[0].boxes.cls.cpu().numpy().astype(int)\n",
    "\n",
    "    if len(pred_boxes) > 0:\n",
    "        # Normalize predicted boxes (absolute pixel → 0-1 range)\n",
    "        pred_boxes[:, [0, 2]] /= img_width  # Normalize x1, x2\n",
    "        pred_boxes[:, [1, 3]] /= img_height # Normalize y1, y2\n",
    "\n",
    "        pred_detections.append(sv.Detections(xyxy=pred_boxes, confidence=pred_scores, class_id=pred_classes))\n"
   ]
  },
  {
   "cell_type": "code",
   "execution_count": 128,
   "id": "700d6c18-5005-47cb-89e3-b51370039ba5",
   "metadata": {},
   "outputs": [
    {
     "name": "stdout",
     "output_type": "stream",
     "text": [
      "mAP50 (Supervision): 0.0041\n",
      "mAP50 (YOLO Reported): 0.9730\n"
     ]
    }
   ],
   "source": [
    "metric = sv.MeanAveragePrecision.from_detections(\n",
    "    predictions=pred_detections,\n",
    "    targets=gt_detections\n",
    ")\n",
    "\n",
    "map50_supervision = metric.map50\n",
    "\n",
    "# Compare with YOLO-reported mAP50\n",
    "map50_yolo = 0.973  #Value from YOLO's training output\n",
    "\n",
    "print(f\"mAP50 (Supervision): {map50_supervision:.4f}\")\n",
    "print(f\"mAP50 (YOLO Reported): {map50_yolo:.4f}\")"
   ]
  },
  {
   "cell_type": "code",
   "execution_count": 141,
   "id": "0deceff4-2f5d-452b-971b-2596d1dcce88",
   "metadata": {},
   "outputs": [],
   "source": [
    "#Part 'c -> ii'"
   ]
  },
  {
   "cell_type": "code",
   "execution_count": 129,
   "id": "2cdaafef-a791-4499-b3c0-a2c8ecfc1564",
   "metadata": {},
   "outputs": [],
   "source": [
    "# Define IoU and confidence thresholds\n",
    "iou_thresholds = [0.1, 0.3, 0.5, 0.7, 0.9]\n",
    "conf_thresholds = [0.1, 0.3, 0.5, 0.7, 0.9]\n",
    "\n",
    "# Get unique class IDs from ground truth and predictions\n",
    "all_class_ids = np.unique(\n",
    "    np.concatenate([det.class_id for det in gt_detections if len(det.class_id) > 0] +\n",
    "                   [det.class_id for det in pred_detections if len(det.class_id) > 0])\n",
    ").tolist()\n",
    "\n",
    "# Initialize results dictionary\n",
    "results = []"
   ]
  },
  {
   "cell_type": "code",
   "execution_count": 130,
   "id": "641ff30d-d2f0-4a25-b611-86691c52aeea",
   "metadata": {},
   "outputs": [],
   "source": [
    "# Iterate over IoU and confidence thresholds\n",
    "for iou_thresh in iou_thresholds:\n",
    "    row = {\"IoU Threshold\": iou_thresh}\n",
    "    for conf_thresh in conf_thresholds:\n",
    "        filtered_preds = []\n",
    "\n",
    "        for det in pred_detections:\n",
    "            if len(det.confidence) > 0:\n",
    "                mask = det.confidence >= conf_thresh\n",
    "                filtered_preds.append(\n",
    "                    sv.Detections(\n",
    "                        xyxy=det.xyxy[mask] if mask.any() else np.empty((0, 4)),\n",
    "                        confidence=det.confidence[mask] if mask.any() else np.empty((0,)),\n",
    "                        class_id=det.class_id[mask] if mask.any() else np.empty((0,))\n",
    "                    )\n",
    "                )\n",
    "            else:\n",
    "                filtered_preds.append(sv.Detections(xyxy=np.empty((0, 4)), confidence=np.empty((0,)), class_id=np.empty((0,))))\n",
    "                \n",
    "        if len(gt_detections) == 0 or len(filtered_preds) == 0:\n",
    "            row[f\"Conf {conf_thresh}\"] = \"N/A\"\n",
    "            continue\n",
    "\n",
    "        try:\n",
    "            confusion_matrix = sv.ConfusionMatrix.from_detections(\n",
    "                predictions=filtered_preds,\n",
    "                targets=gt_detections,\n",
    "                iou_threshold=iou_thresh,\n",
    "                classes=all_class_ids\n",
    "            ).matrix\n",
    "\n",
    "            if confusion_matrix.shape[0] < len(all_class_ids):\n",
    "                confusion_matrix = np.pad(confusion_matrix, \n",
    "                                          ((0, len(all_class_ids) - confusion_matrix.shape[0]), \n",
    "                                           (0, len(all_class_ids) - confusion_matrix.shape[1])),\n",
    "                                          mode='constant')\n",
    "\n",
    "            # Compute TP, FP, FN\n",
    "            TP = np.diag(confusion_matrix).sum()\n",
    "            FP = confusion_matrix.sum(axis=0) - np.diag(confusion_matrix)\n",
    "            FN = confusion_matrix.sum(axis=1) - np.diag(confusion_matrix)\n",
    "\n",
    "            # Compute Precision, Recall, and F1-score safely\n",
    "            precision = TP / (TP + FP.sum()) if (TP + FP.sum()) > 0 else 0\n",
    "            recall = TP / (TP + FN.sum()) if (TP + FN.sum()) > 0 else 0\n",
    "            f1_score = 2 * (precision * recall) / (precision + recall) if (precision + recall) > 0 else 0\n",
    "\n",
    "            row[f\"Conf {conf_thresh}\"] = f\"P: {precision:.3f}, R: {recall:.3f}, F1: {f1_score:.3f}\"\n",
    "\n",
    "        except IndexError as e:\n",
    "            row[f\"Conf {conf_thresh}\"] = \"Error\"\n",
    "            print(f\"Skipping IoU {iou_thresh}, Conf {conf_thresh} due to error: {e}\")\n",
    "\n",
    "    results.append(row)"
   ]
  },
  {
   "cell_type": "code",
   "execution_count": 131,
   "id": "426b83b8-712e-44dc-951e-ed4cecc7f180",
   "metadata": {},
   "outputs": [],
   "source": [
    "df = pd.DataFrame(results)"
   ]
  },
  {
   "cell_type": "code",
   "execution_count": 142,
   "id": "9b901a30-6421-4932-88a0-a0cd2dfbe489",
   "metadata": {},
   "outputs": [
    {
     "data": {
      "text/html": [
       "<div>\n",
       "<style scoped>\n",
       "    .dataframe tbody tr th:only-of-type {\n",
       "        vertical-align: middle;\n",
       "    }\n",
       "\n",
       "    .dataframe tbody tr th {\n",
       "        vertical-align: top;\n",
       "    }\n",
       "\n",
       "    .dataframe thead th {\n",
       "        text-align: right;\n",
       "    }\n",
       "</style>\n",
       "<table border=\"1\" class=\"dataframe\">\n",
       "  <thead>\n",
       "    <tr style=\"text-align: right;\">\n",
       "      <th></th>\n",
       "      <th>IoU Threshold</th>\n",
       "      <th>Conf 0.1</th>\n",
       "      <th>Conf 0.3</th>\n",
       "      <th>Conf 0.5</th>\n",
       "      <th>Conf 0.7</th>\n",
       "      <th>Conf 0.9</th>\n",
       "    </tr>\n",
       "  </thead>\n",
       "  <tbody>\n",
       "    <tr>\n",
       "      <th>0</th>\n",
       "      <td>0.1</td>\n",
       "      <td>P: 0.078, R: 0.078, F1: 0.078</td>\n",
       "      <td>P: 0.078, R: 0.078, F1: 0.078</td>\n",
       "      <td>P: 0.080, R: 0.080, F1: 0.080</td>\n",
       "      <td>P: 0.077, R: 0.077, F1: 0.077</td>\n",
       "      <td>P: 0.034, R: 0.034, F1: 0.034</td>\n",
       "    </tr>\n",
       "    <tr>\n",
       "      <th>1</th>\n",
       "      <td>0.3</td>\n",
       "      <td>P: 0.035, R: 0.035, F1: 0.035</td>\n",
       "      <td>P: 0.035, R: 0.035, F1: 0.035</td>\n",
       "      <td>P: 0.035, R: 0.035, F1: 0.035</td>\n",
       "      <td>P: 0.034, R: 0.034, F1: 0.034</td>\n",
       "      <td>P: 0.020, R: 0.020, F1: 0.020</td>\n",
       "    </tr>\n",
       "    <tr>\n",
       "      <th>2</th>\n",
       "      <td>0.5</td>\n",
       "      <td>P: 0.012, R: 0.012, F1: 0.012</td>\n",
       "      <td>P: 0.012, R: 0.012, F1: 0.012</td>\n",
       "      <td>P: 0.011, R: 0.011, F1: 0.011</td>\n",
       "      <td>P: 0.010, R: 0.010, F1: 0.010</td>\n",
       "      <td>P: 0.005, R: 0.005, F1: 0.005</td>\n",
       "    </tr>\n",
       "    <tr>\n",
       "      <th>3</th>\n",
       "      <td>0.7</td>\n",
       "      <td>P: 0.004, R: 0.004, F1: 0.004</td>\n",
       "      <td>P: 0.004, R: 0.004, F1: 0.004</td>\n",
       "      <td>P: 0.004, R: 0.004, F1: 0.004</td>\n",
       "      <td>P: 0.003, R: 0.003, F1: 0.003</td>\n",
       "      <td>P: 0.001, R: 0.001, F1: 0.001</td>\n",
       "    </tr>\n",
       "    <tr>\n",
       "      <th>4</th>\n",
       "      <td>0.9</td>\n",
       "      <td>P: 0.001, R: 0.001, F1: 0.001</td>\n",
       "      <td>P: 0.001, R: 0.001, F1: 0.001</td>\n",
       "      <td>P: 0.001, R: 0.001, F1: 0.001</td>\n",
       "      <td>P: 0.001, R: 0.001, F1: 0.001</td>\n",
       "      <td>P: 0.000, R: 0.000, F1: 0.000</td>\n",
       "    </tr>\n",
       "  </tbody>\n",
       "</table>\n",
       "</div>"
      ],
      "text/plain": [
       "   IoU Threshold                       Conf 0.1  \\\n",
       "0            0.1  P: 0.078, R: 0.078, F1: 0.078   \n",
       "1            0.3  P: 0.035, R: 0.035, F1: 0.035   \n",
       "2            0.5  P: 0.012, R: 0.012, F1: 0.012   \n",
       "3            0.7  P: 0.004, R: 0.004, F1: 0.004   \n",
       "4            0.9  P: 0.001, R: 0.001, F1: 0.001   \n",
       "\n",
       "                        Conf 0.3                       Conf 0.5  \\\n",
       "0  P: 0.078, R: 0.078, F1: 0.078  P: 0.080, R: 0.080, F1: 0.080   \n",
       "1  P: 0.035, R: 0.035, F1: 0.035  P: 0.035, R: 0.035, F1: 0.035   \n",
       "2  P: 0.012, R: 0.012, F1: 0.012  P: 0.011, R: 0.011, F1: 0.011   \n",
       "3  P: 0.004, R: 0.004, F1: 0.004  P: 0.004, R: 0.004, F1: 0.004   \n",
       "4  P: 0.001, R: 0.001, F1: 0.001  P: 0.001, R: 0.001, F1: 0.001   \n",
       "\n",
       "                        Conf 0.7                       Conf 0.9  \n",
       "0  P: 0.077, R: 0.077, F1: 0.077  P: 0.034, R: 0.034, F1: 0.034  \n",
       "1  P: 0.034, R: 0.034, F1: 0.034  P: 0.020, R: 0.020, F1: 0.020  \n",
       "2  P: 0.010, R: 0.010, F1: 0.010  P: 0.005, R: 0.005, F1: 0.005  \n",
       "3  P: 0.003, R: 0.003, F1: 0.003  P: 0.001, R: 0.001, F1: 0.001  \n",
       "4  P: 0.001, R: 0.001, F1: 0.001  P: 0.000, R: 0.000, F1: 0.000  "
      ]
     },
     "execution_count": 142,
     "metadata": {},
     "output_type": "execute_result"
    }
   ],
   "source": [
    "df"
   ]
  },
  {
   "cell_type": "code",
   "execution_count": 143,
   "id": "d4cc8821-4c89-4df3-99a1-efd530797d7d",
   "metadata": {},
   "outputs": [],
   "source": [
    "#End of the assignment."
   ]
  },
  {
   "cell_type": "code",
   "execution_count": 145,
   "id": "158b4beb-172a-49f4-a2f7-c17a40a623cf",
   "metadata": {},
   "outputs": [],
   "source": [
    "#Thank You"
   ]
  },
  {
   "cell_type": "code",
   "execution_count": null,
   "id": "79fd17e6-90e0-4efb-ae6c-2b416eaf4f89",
   "metadata": {},
   "outputs": [],
   "source": []
  }
 ],
 "metadata": {
  "kernelspec": {
   "display_name": "Python 3 (ipykernel)",
   "language": "python",
   "name": "python3"
  },
  "language_info": {
   "codemirror_mode": {
    "name": "ipython",
    "version": 3
   },
   "file_extension": ".py",
   "mimetype": "text/x-python",
   "name": "python",
   "nbconvert_exporter": "python",
   "pygments_lexer": "ipython3",
   "version": "3.11.6"
  }
 },
 "nbformat": 4,
 "nbformat_minor": 5
}
